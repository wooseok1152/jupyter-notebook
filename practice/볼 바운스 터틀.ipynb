{
 "cells": [
  {
   "cell_type": "code",
   "execution_count": null,
   "metadata": {
    "scrolled": true
   },
   "outputs": [
    {
     "name": "stdout",
     "output_type": "stream",
     "text": [
      "102 <class 'int'>\n"
     ]
    }
   ],
   "source": [
    "import turtle\n",
    "import random\n",
    "\n",
    "t = turtle.Turtle()\n",
    "t.shape(\"turtle\")\n",
    "\n",
    "t.penup()\n",
    "t.fd(300)\n",
    "t.left(90)\n",
    "t.fd(300)\n",
    "t.left(90)\n",
    "t.pendown()\n",
    "\n",
    "for i in range(4):\n",
    "    t.fd(600)\n",
    "    t.left(90)\n",
    "    \n",
    "t.penup()\n",
    "t.setposition(0,0)\n",
    "t.pendown()\n",
    "t.right(60)\n",
    "\n",
    "x = random.randint(-300, 300)\n",
    "y = random.randint(-300, 300)\n",
    "\n",
    "a = int(t.towards(x,300))\n",
    "print(a, type(a))\n",
    "b = t.seth(a)\n",
    "distance = t.distance(x,300)\n",
    "t.fd(distance)\n",
    "t.seth(180+(180-a))\n",
    "\n",
    "\n",
    "\n",
    "\n",
    "\n",
    "\n",
    "turtle.mainloop()"
   ]
  },
  {
   "cell_type": "code",
   "execution_count": null,
   "metadata": {},
   "outputs": [],
   "source": []
  }
 ],
 "metadata": {
  "kernelspec": {
   "display_name": "Python 3",
   "language": "python",
   "name": "python3"
  },
  "language_info": {
   "codemirror_mode": {
    "name": "ipython",
    "version": 3
   },
   "file_extension": ".py",
   "mimetype": "text/x-python",
   "name": "python",
   "nbconvert_exporter": "python",
   "pygments_lexer": "ipython3",
   "version": "3.7.1"
  }
 },
 "nbformat": 4,
 "nbformat_minor": 2
}
