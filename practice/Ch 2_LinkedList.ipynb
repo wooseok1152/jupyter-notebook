{
 "cells": [
  {
   "cell_type": "markdown",
   "metadata": {
    "colab_type": "text",
    "id": "5qVV7hzX5pBN"
   },
   "source": [
    "# <font color='blue'><div style=\"text-align: center\">Ch 2. Linked List</font> \n",
    "\n",
    "* 아래 그림 처럼 노드를 연결시킨 자료구조\n",
    "* 자료를 연속적인 메모리 공간에 할당할 필요없이 임의 공간에 자료를 저장하고 링크를 이용해 연결함\n",
    "* 리스트에서 원소를 탐색하기 위해서는 순차탐색을 하여야 함\n",
    "* 배열에서는 삽입/삭제 시 원소 이동이 필요한데 반해 리스트에서는 삽입/삭제가 원활함\n",
    "* 리스트 이름 S에는 사과 노드의 주소가 저장됨\n",
    "* 사과노드는 과일을 저장할 수 있는 장소와 다음 노드의 주소를 저장하는 장소로 구성됨\n",
    "* 마지막 노드의 링크는 null 이 저장됨\n",
    "    \n",
    "<center> ![](https://drive.google.com/uc?id=1hgU-79vThtZWe_0wWB0ZTGHmgmPtE020) </center>\n",
    "        "
   ]
  },
  {
   "cell_type": "code",
   "execution_count": 3,
   "metadata": {
    "colab": {
     "base_uri": "https://localhost:8080/",
     "height": 73
    },
    "colab_type": "code",
    "executionInfo": {
     "elapsed": 748,
     "status": "ok",
     "timestamp": 1551406927589,
     "user": {
      "displayName": "swkim김승환",
      "photoUrl": "",
      "userId": "01255046753553274360"
     },
     "user_tz": -540
    },
    "id": "MHHJYQUT9lt4",
    "outputId": "14540999-48d9-4d3f-b182-ab17b7794980"
   },
   "outputs": [
    {
     "name": "stdout",
     "output_type": "stream",
     "text": [
      "2090615077072\n",
      "사과\n",
      "None\n"
     ]
    }
   ],
   "source": [
    "# Node Class: item으로 value를 가지고 link를 가진다. link가 없을 경우, None을 입력한다.\n",
    "class Node:\n",
    "    def __init__(self, item = None):\n",
    "        self.item = item\n",
    "        self.link = None\n",
    "    item = \"포도\"\n",
    "    link = \"Yes\"\n",
    "a = Node('사과')\n",
    "b = a\n",
    "print(id(b))\n",
    "print(b.item)\n",
    "print(b.link)"
   ]
  },
  {
   "cell_type": "markdown",
   "metadata": {
    "colab_type": "text",
    "id": "a1xWmK0I-Ou0"
   },
   "source": [
    "* Linked List 설계\n",
    " * root: 리스트 루트 노드이고 Linked List는 root 노드의 주소를 가진다.\n",
    "   * root = Node()\n",
    " * append method: item을 주면 item 노드를 Linked List 마지막 노드에 추가하는 메소드\n",
    "   * item으로 newNode를 만들고 root의 item이 None이면 newNode를 root로 지정하고 아니면 리스트의 끝까지 이동한 후, 마지막 노드의 링크에 newNode의 주소를 삽입\n",
    " * insert method: Linked List에 index로 새 노드를 추가하는 메소드로 index=0 이면 root로 추가하고, index 값에 따라 해당 위치에 삽입한다.\n",
    "   * index < 0 or index >= listSize 이면 error 메세지를 출력한다.\n",
    "   * rootNode를 0번째로 보고 index -1 번째 노드의 링크에 newNode를 넣고 newNode의 링크에      index-1 번째 링크에 있던 주소를 넣는다.\n",
    " * find Method: Linked List에서 해당 아이템을 찾고 index를 리턴한다.  없으면 -1을 리턴한다.\n",
    " * delete method: 주어진 값을 이용해 해당 노드를 찾고 지운다.\n",
    "   * curNode = preNode = root로 초기 지정하고 curNode를 움직일 때 마다 preNode는 curNode의 이전 노드로 갱신한다\n",
    "   * del item이 첫번째 노드면 self.root에 del item의 링크를 넣는다.\n",
    "   * del item이 중간노드면preNode 링크에 del item 링크를 넣는다.\n",
    "   *  마지막 노드라면 preNode 링크에 None를 넣는다.\n",
    " \n",
    " * listSize method: Linked List의 item 수를 리턴한다.\n",
    "\n",
    " * print method: Linked List를 print 한다.\n",
    "\n",
    " "
   ]
  },
  {
   "cell_type": "code",
   "execution_count": 0,
   "metadata": {
    "colab": {},
    "colab_type": "code",
    "id": "GOYLyn9TFZYJ"
   },
   "outputs": [],
   "source": [
    "# root 노드 만들기\n",
    "\n",
    "class LinkedList:\n",
    "    def __init__(self):\n",
    "        self.root = Node()\n",
    "\n",
    "fruits = LinkedList()\n"
   ]
  },
  {
   "cell_type": "code",
   "execution_count": 0,
   "metadata": {
    "colab": {
     "base_uri": "https://localhost:8080/",
     "height": 105
    },
    "colab_type": "code",
    "executionInfo": {
     "elapsed": 570,
     "status": "ok",
     "timestamp": 1548987142506,
     "user": {
      "displayName": "swkim김승환",
      "photoUrl": "",
      "userId": "01255046753553274360"
     },
     "user_tz": -540
    },
    "id": "TyuXa_wJITNl",
    "outputId": "28d5afce-7b55-4179-c9c2-33f95084e72b"
   },
   "outputs": [
    {
     "name": "stdout",
     "output_type": "stream",
     "text": [
      "사과\n",
      "사과\n",
      "앵두\n",
      "오렌지\n",
      "포도\n"
     ]
    }
   ],
   "source": [
    "# append 메소드 구현\n",
    "\n",
    "class LinkedList:\n",
    "    def __init__(self):\n",
    "        self.root = Node()\n",
    "\n",
    "    def append(self, item):\n",
    "        newNode = Node(item)\n",
    "        curNode = self.root\n",
    "        if curNode.item == None:\n",
    "            self.root = newNode\n",
    "        else:\n",
    "            while curNode.link != None:\n",
    "                curNode = curNode.link\n",
    "            curNode.link = newNode\n",
    "    \n",
    "    def print(self):\n",
    "        curNode = self.root\n",
    "        print(curNode.item)\n",
    "        while curNode.link != None:\n",
    "            curNode = curNode.link\n",
    "            print(curNode.item)\n",
    "\n",
    "fruits = LinkedList()\n",
    "fruits.append('사과')\n",
    "fruits.print()\n",
    "fruits.append('앵두')\n",
    "fruits.append('오렌지')\n",
    "fruits.append('포도')\n",
    "fruits.print()"
   ]
  },
  {
   "cell_type": "code",
   "execution_count": 0,
   "metadata": {
    "colab": {
     "base_uri": "https://localhost:8080/",
     "height": 105
    },
    "colab_type": "code",
    "executionInfo": {
     "elapsed": 619,
     "status": "ok",
     "timestamp": 1548987144474,
     "user": {
      "displayName": "swkim김승환",
      "photoUrl": "",
      "userId": "01255046753553274360"
     },
     "user_tz": -540
    },
    "id": "ag8MV1HNXaf1",
    "outputId": "55b689ec-be44-44c5-fea2-719d85e06709"
   },
   "outputs": [
    {
     "name": "stdout",
     "output_type": "stream",
     "text": [
      "사과\n",
      "앵두\n",
      "오렌지\n",
      "배\n",
      "포도\n"
     ]
    }
   ],
   "source": [
    "# insert 메소드 구현\n",
    "class LinkedList:\n",
    "    def __init__(self):\n",
    "        self.root = Node()\n",
    "\n",
    "    def append(self, item):\n",
    "        newNode = Node(item)\n",
    "        curNode = self.root\n",
    "        if curNode.item == None:\n",
    "            self.root = newNode\n",
    "        else:\n",
    "            while curNode.link != None:\n",
    "                curNode = curNode.link\n",
    "            curNode.link = newNode\n",
    "    \n",
    "    def print(self):\n",
    "        curNode = self.root\n",
    "        print(curNode.item)\n",
    "        while curNode.link != None:\n",
    "            curNode = curNode.link\n",
    "            print(curNode.item)\n",
    "    \n",
    "    def listSize(self):\n",
    "        curNode = self.root\n",
    "        cnt = 1\n",
    "        while curNode.link != None:\n",
    "            curNode = curNode.link\n",
    "            cnt += 1\n",
    "        return cnt\n",
    "            \n",
    "    def insert(self, idx, item):\n",
    "        n = self.listSize()\n",
    "        if idx < 0 or idx >= n:\n",
    "            print(\"index range error\")\n",
    "        else:\n",
    "            newNode = Node(item)\n",
    "            curNode = self.root\n",
    "            if idx == 0:\n",
    "                _tmp = self.root\n",
    "                self.root = newNode\n",
    "                newNode.link = _tmp\n",
    "            else:\n",
    "                for curIdx in range(idx-1):\n",
    "                    curNode = curNode.link\n",
    "                _tmp = curNode.link\n",
    "                curNode.link = newNode\n",
    "                newNode.link = _tmp\n",
    "\n",
    "fruits = LinkedList()\n",
    "fruits.append('사과')\n",
    "fruits.append('앵두')\n",
    "fruits.append('오렌지')\n",
    "fruits.append('포도')\n",
    "fruits.insert(3,'배')   \n",
    "fruits.print()\n",
    "            \n",
    "            "
   ]
  },
  {
   "cell_type": "code",
   "execution_count": 0,
   "metadata": {
    "colab": {
     "base_uri": "https://localhost:8080/",
     "height": 34
    },
    "colab_type": "code",
    "executionInfo": {
     "elapsed": 956,
     "status": "ok",
     "timestamp": 1548987147205,
     "user": {
      "displayName": "swkim김승환",
      "photoUrl": "",
      "userId": "01255046753553274360"
     },
     "user_tz": -540
    },
    "id": "xtDpn8VznL9k",
    "outputId": "436936a1-3725-464e-b495-96a27da2e75b"
   },
   "outputs": [
    {
     "data": {
      "text/plain": [
       "-1"
      ]
     },
     "execution_count": 6,
     "metadata": {
      "tags": []
     },
     "output_type": "execute_result"
    }
   ],
   "source": [
    "# find 메소드 구현\n",
    "class LinkedList:\n",
    "    def __init__(self):\n",
    "        self.root = Node()\n",
    "\n",
    "    def append(self, item):\n",
    "        newNode = Node(item)\n",
    "        curNode = self.root\n",
    "        if curNode.item == None:\n",
    "            self.root = newNode\n",
    "        else:\n",
    "            while curNode.link != None:\n",
    "                curNode = curNode.link\n",
    "            curNode.link = newNode\n",
    "    \n",
    "    def print(self):\n",
    "        curNode = self.root\n",
    "        print(curNode.item)\n",
    "        while curNode.link != None:\n",
    "            curNode = curNode.link\n",
    "            print(curNode.item)\n",
    "    \n",
    "    def listSize(self):\n",
    "        curNode = self.root\n",
    "        cnt = 1\n",
    "        while curNode.link != None:\n",
    "            curNode = curNode.link\n",
    "            cnt += 1\n",
    "        return cnt\n",
    "            \n",
    "    def insert(self, idx, item):\n",
    "        n = self.listSize()\n",
    "        if idx < 0 or idx >= n:\n",
    "            print(\"index range error\")\n",
    "        else:\n",
    "            newNode = Node(item)\n",
    "            curNode = self.root\n",
    "            if idx == 0:\n",
    "                _tmp = self.root\n",
    "                self.root = newNode\n",
    "                newNode.link = _tmp\n",
    "            else:\n",
    "                for curIdx in range(idx-1):\n",
    "                    curNode = curNode.link\n",
    "                _tmp = curNode.link\n",
    "                curNode.link = newNode\n",
    "                newNode.link = _tmp\n",
    "    \n",
    "    def find(self, item):\n",
    "        find = -1\n",
    "        idx = 0\n",
    "        if self.root.item == item:\n",
    "            find += 1\n",
    "        else:\n",
    "            curNode = self.root\n",
    "            while curNode.link != None:\n",
    "                curNode = curNode.link\n",
    "                idx += 1\n",
    "                if curNode.item == item:\n",
    "                    find = idx\n",
    "                    break\n",
    "        return find\n",
    "        \n",
    "\n",
    "fruits = LinkedList()\n",
    "fruits.append('사과')\n",
    "fruits.append('앵두')\n",
    "fruits.append('오렌지')\n",
    "fruits.append('포도')\n",
    "fruits.insert(3,'배')   \n",
    "fruits.find('배~')"
   ]
  },
  {
   "cell_type": "code",
   "execution_count": 0,
   "metadata": {
    "colab": {
     "base_uri": "https://localhost:8080/",
     "height": 105
    },
    "colab_type": "code",
    "executionInfo": {
     "elapsed": 650,
     "status": "ok",
     "timestamp": 1548987153285,
     "user": {
      "displayName": "swkim김승환",
      "photoUrl": "",
      "userId": "01255046753553274360"
     },
     "user_tz": -540
    },
    "id": "g4z0qUeN5oRz",
    "outputId": "b86687da-b786-4334-b2bd-3fd949eb98df"
   },
   "outputs": [
    {
     "name": "stdout",
     "output_type": "stream",
     "text": [
      "delete failed\n",
      "사과\n",
      "앵두\n",
      "오렌지\n",
      "포도\n"
     ]
    }
   ],
   "source": [
    "# delete 메소드 구현\n",
    "# find method를 이용해 delete 할 item의 인덱스를 구한다.\n",
    "# del item이 첫번째 노드면 self.root에 del item의 링크를 넣는다.\n",
    "# del item이 중간노드면 index-1 번째 링크에 del item 링크를 넣는다.\n",
    "# 마지막 노드라면 index-1 번째 링크에 None를 넣는다.\n",
    "\n",
    "class LinkedList:\n",
    "    def __init__(self):\n",
    "        self.root = Node()\n",
    "\n",
    "    def append(self, item):\n",
    "        newNode = Node(item)\n",
    "        curNode = self.root\n",
    "        if curNode.item == None:\n",
    "            self.root = newNode\n",
    "        else:\n",
    "            while curNode.link != None:\n",
    "                curNode = curNode.link\n",
    "            curNode.link = newNode\n",
    "    \n",
    "    def print(self):\n",
    "        curNode = self.root\n",
    "        print(curNode.item)\n",
    "        while curNode.link != None:\n",
    "            curNode = curNode.link\n",
    "            print(curNode.item)\n",
    "    \n",
    "    def listSize(self):\n",
    "        curNode = self.root\n",
    "        cnt = 1\n",
    "        while curNode.link != None:\n",
    "            curNode = curNode.link\n",
    "            cnt += 1\n",
    "        return cnt\n",
    "            \n",
    "    def insert(self, idx, item):\n",
    "        n = self.listSize()\n",
    "        if idx < 0 or idx >= n:\n",
    "            print(\"index range error\")\n",
    "        else:\n",
    "            newNode = Node(item)\n",
    "            curNode = self.root\n",
    "            if idx == 0:\n",
    "                _tmp = self.root\n",
    "                self.root = newNode\n",
    "                newNode.link = _tmp\n",
    "            else:\n",
    "                for curIdx in range(idx-1):\n",
    "                    curNode = curNode.link\n",
    "                _tmp = curNode.link\n",
    "                curNode.link = newNode\n",
    "                newNode.link = _tmp\n",
    "    \n",
    "    def find(self, item):\n",
    "        find = -1\n",
    "        idx = 0\n",
    "        if self.root.item == item:\n",
    "            find += 1\n",
    "        else:\n",
    "            curNode = self.root\n",
    "            while curNode.link != None:\n",
    "                curNode = curNode.link\n",
    "                idx += 1\n",
    "                if curNode.item == item:\n",
    "                    find = idx\n",
    "                    break\n",
    "        return find\n",
    "    \n",
    "    def delete(self,item):\n",
    "        delYN = False\n",
    "        curNode = self.root\n",
    "        preNode = curNode\n",
    "        if curNode.item == item:\n",
    "            self.root = self.root.link\n",
    "            delYN = True\n",
    "        else:\n",
    "            while curNode.link != None:\n",
    "                preNode = curNode\n",
    "                curNode = curNode.link\n",
    "                if curNode.item == item:\n",
    "                    preNode.link = curNode.link\n",
    "                    delYN = True\n",
    "        if curNode.item == item:\n",
    "            preNode.link = None\n",
    "            delYN = True\n",
    "        if delYN == False:\n",
    "            print(\"delete failed\")\n",
    "\n",
    "\n",
    "        \n",
    "fruits = LinkedList()\n",
    "fruits.append('사과')\n",
    "fruits.append('앵두')\n",
    "fruits.append('오렌지')\n",
    "fruits.append('포도')\n",
    " \n",
    "fruits.delete('포도~')\n",
    "fruits.print()"
   ]
  },
  {
   "cell_type": "markdown",
   "metadata": {
    "colab_type": "text",
    "id": "7W6FFP1RALoS"
   },
   "source": [
    "<font color='red'> <H.W # 1> Linked List class를 위 코드를 보지 말고 스스로 작성해 보세요.</font>"
   ]
  },
  {
   "cell_type": "markdown",
   "metadata": {
    "colab_type": "text",
    "id": "SZAGVu-_Sm6t"
   },
   "source": [
    "#### 리스트 응용문제: 다항식 덧셈\n",
    "\n",
    "* $ p(x) = 4 x^4 + 3x^2 + 3$ , $ q(x) = 3 x^3 + 4x^2 +2x + 1$ 를 더하면 \n",
    "$ p(x) + q(x) = 4x^4 + 3 x^3 + 7 x^2 + 2x + 4 $ 가 된다.\n",
    "* 이 연산을 수행하는 프로그램을 만들어 보자.\n",
    "    * 다항식 p(x) 를 저장하는 자료구조: [[4,4], [3,2], [3,0]]\n",
    "    * add method: 리스트 자료구조에 [coef, k] 형식의 서브 리스트를 추가한다.\n",
    "    * peek method: 0번째 리스트 원소를 리턴한다.\n",
    "    * pop method: 0번째 리스트 원소를 꺼내 리턴한다.\n",
    "    * size method: 리스트의 길이를 리턴한다.\n",
    "    * print method: 다항식 형태를 프린트 한다."
   ]
  },
  {
   "cell_type": "code",
   "execution_count": 0,
   "metadata": {
    "colab": {
     "base_uri": "https://localhost:8080/",
     "height": 52
    },
    "colab_type": "code",
    "executionInfo": {
     "elapsed": 602,
     "status": "ok",
     "timestamp": 1548987177801,
     "user": {
      "displayName": "swkim김승환",
      "photoUrl": "",
      "userId": "01255046753553274360"
     },
     "user_tz": -540
    },
    "id": "dv7b6Q8XT1fd",
    "outputId": "e62c5fb0-982d-4094-896f-d8ee622de1b4"
   },
   "outputs": [
    {
     "name": "stdout",
     "output_type": "stream",
     "text": [
      "4 x^ 4 + 3 x^ 2 + 3 x^ 0 + \n",
      "3 x^ 3 + 4 x^ 2 + 2 x^ 1 + 1 x^ 0 + \n"
     ]
    }
   ],
   "source": [
    "class Poly:\n",
    "    def __init__(self):\n",
    "        self.eq = []\n",
    "    def add(self, coef, k):\n",
    "        self.eq.append([coef, k])\n",
    "    def peek(self):\n",
    "        return self.eq[0]\n",
    "    def pop(self):\n",
    "        return self.eq.pop(0)\n",
    "    def size(self):\n",
    "        return len(self.eq)\n",
    "    def print(self):\n",
    "        for term in self.eq:\n",
    "            print(term[0],'x^',term[1],'+', end=' ')\n",
    "        print()\n",
    "        \n",
    "p = Poly()\n",
    "p.add(4,4)\n",
    "p.add(3,2)\n",
    "p.add(3,0)\n",
    "\n",
    "q = Poly()\n",
    "q.add(3,3)\n",
    "q.add(4,2)\n",
    "q.add(2,1)\n",
    "q.add(1,0)\n",
    "\n",
    "p.print()\n",
    "q.print()\n",
    "\n",
    "# print(p.peek())\n",
    "# print(q.peek())\n",
    "\n",
    "# print(p.pop())\n",
    "# print(q.pop())\n",
    "\n",
    "# p.print()\n",
    "# q.print()"
   ]
  },
  {
   "cell_type": "markdown",
   "metadata": {
    "colab_type": "text",
    "id": "TzG6CHXQXLXI"
   },
   "source": [
    "####  다항식 덧셈 알고리즘\n",
    "\n",
    "* Step 0: 덧셈 결과를 기록할 빈 다항식을 만든다.\n",
    "* Step 1: 두개의 다항식에서 최고 차수를 찾고 최고 차수가 있는 리스트에서 팝하여 결과 다항식에 추가한다. 만약, 최고 차수를 가지는 항이 두개 다항식에 공통으로 존재하면 계수를 합하여 add한다.\n",
    "* Step 2: 한쪽 다항식이 empty 할 때까지 Step 1을 수행한다.\n",
    "* Step 3: 비어 있지 않은 다항식의 항을 결과 다항식에 add 한다."
   ]
  },
  {
   "cell_type": "code",
   "execution_count": 0,
   "metadata": {
    "colab": {
     "base_uri": "https://localhost:8080/",
     "height": 34
    },
    "colab_type": "code",
    "executionInfo": {
     "elapsed": 624,
     "status": "ok",
     "timestamp": 1548987237556,
     "user": {
      "displayName": "swkim김승환",
      "photoUrl": "",
      "userId": "01255046753553274360"
     },
     "user_tz": -540
    },
    "id": "YLonXrWCYWWy",
    "outputId": "bb29826d-4c66-4dd0-847a-66a2936d23a7"
   },
   "outputs": [
    {
     "name": "stdout",
     "output_type": "stream",
     "text": [
      "4 x^ 4 + 3 x^ 3 + 7 x^ 2 + 2 x^ 1 + 4 x^ 0 + \n"
     ]
    }
   ],
   "source": [
    "def polyAdd(a,b):\n",
    "    c = Poly()\n",
    "    while a.size() > 0 and b.size() > 0:\n",
    "        if a.peek()[1] > b.peek()[1]:\n",
    "            _tmp = a.pop()\n",
    "            c.add(_tmp[0], _tmp[1])\n",
    "        elif a.peek()[1] < b.peek()[1]:  \n",
    "            _tmp = b.pop()\n",
    "            c.add(_tmp[0], _tmp[1])\n",
    "        else:\n",
    "            _tmp1 = a.pop()\n",
    "            _tmp2 = b.pop()\n",
    "            c.add(_tmp1[0]+_tmp2[0], _tmp1[1])\n",
    "    \n",
    "    while a.size() > 0:\n",
    "        _tmp = a.pop()\n",
    "        c.add(_tmp[0],_tmp[1])\n",
    "\n",
    "    while b.size() > 0:\n",
    "        _tmp = b.pop()\n",
    "        c.add(_tmp[0],_tmp[1])\n",
    "    \n",
    "    return c\n",
    "\n",
    "c = polyAdd(p, q)\n",
    "c.print()"
   ]
  },
  {
   "cell_type": "markdown",
   "metadata": {
    "colab_type": "text",
    "id": "t11BF9TNoN32"
   },
   "source": [
    "#### 리스트 응용문제: 희소행렬\n",
    "* 희소행렬은 행렬 원소에 0이 많이 포함된 행렬을 말한다.\n",
    "* 희소행렬을 저장할 때, 0도 값이기 때문에 메모리를 차지한다.\n",
    "* Term-Document Matrix가 대표적인 희소행렬이다.\n",
    "\n",
    " <center>![그래프](https://drive.google.com/uc?id=1FnZFSrbvGwieHL4wr6G91hEfZX682XbR)</center>\n",
    " \n",
    "* 희소행렬을 효율적으로 저장하기 위해 아래와 같은 자료구조를 생각할 수 있다.\n",
    " <center>![그래프](https://drive.google.com/uc?id=1ts4fkwXuu_0MiRP-oMCH17Y9eLl79NQp)</center>\n",
    "* 0 번째 행에는 행렬의 차원 m, n, non-zero element 수를 추가한다. #이걸 '헤더'라고 불름\n",
    "\n",
    "* SparseMatrix 자료구조 \n",
    "  * 행렬의 dimension m, n 을 입력받아 희소행렬 리스트를 [[m,n,0]]로 초기 설정한다.\n",
    "  * append method: [i, j, value] 형태의 리스트를 희소행렬 리스트에 추가한다.\n",
    "  * shape method: 희소행렬 dimension을 리턴한다.\n",
    "  * getValue method: i, j 행렬값을 리턴한다.\n",
    "  * print method: 희소행렬을 일반적 행렬 형태로 프린트한다. (0으로 구성된 m,n array를 만들고 i,j 행렬값을 업데이트한다.)"
   ]
  },
  {
   "cell_type": "code",
   "execution_count": 0,
   "metadata": {
    "colab": {
     "base_uri": "https://localhost:8080/",
     "height": 140
    },
    "colab_type": "code",
    "executionInfo": {
     "elapsed": 583,
     "status": "ok",
     "timestamp": 1548987248513,
     "user": {
      "displayName": "swkim김승환",
      "photoUrl": "",
      "userId": "01255046753553274360"
     },
     "user_tz": -540
    },
    "id": "5ibr0jEyqppO",
    "outputId": "0c0b309b-d8a5-4409-8b65-184614f0b577"
   },
   "outputs": [
    {
     "name": "stdout",
     "output_type": "stream",
     "text": [
      "[[1. 0. 0.]\n",
      " [0. 2. 0.]\n",
      " [0. 0. 3.]]\n",
      "[[4. 7. 0.]\n",
      " [0. 0. 2.]\n",
      " [0. 0. 1.]]\n",
      "3\n"
     ]
    }
   ],
   "source": [
    "class SparseMatrix:\n",
    "\n",
    "    def __init__(self, m, n): #n은 해당 위치에 할당되는 값이다.\n",
    "        self.s = [[m, n, 0]]\n",
    "        self.m = m\n",
    "        self.n = n\n",
    "        \n",
    "    def append(self,i,j,val):\n",
    "        if val != 0: \n",
    "            self.s.append([i,j,val])\n",
    "        self.s[0][2] = len(self.s) - 1\n",
    "    \n",
    "    def shape(self):\n",
    "        return (self.m, self.n)\n",
    "    \n",
    "    def getValue(self, i, j):\n",
    "        val = 0\n",
    "        for k in range(1,len(self.s)):\n",
    "            if self.s[k][0] == i and self.s[k][1] == j:\n",
    "                val = self.s[k][2]\n",
    "        return val\n",
    "    \n",
    "    def print(self):\n",
    "        import numpy as np\n",
    "        _tmp = np.zeros((self.m, self.n))\n",
    "        for i in range(1,len(self.s)): \n",
    "            _tmp[self.s[i][0]-1,self.s[i][1]-1] = self.s[i][2] #넘파이로 만들어진 행렬의 좌표체계는 엑셀의 좌표체계랑 동일하다.\n",
    "        print(_tmp)\n",
    "\n",
    "a = SparseMatrix(3,3)\n",
    "b = SparseMatrix(3,3)\n",
    "\n",
    "a.append(1,1,1)\n",
    "a.append(2,2,2)\n",
    "a.append(3,3,3)\n",
    "b.append(1,1,4)\n",
    "b.append(1,2,7)\n",
    "b.append(2,3,2)\n",
    "b.append(3,3,1)\n",
    "\n",
    "a.print()\n",
    "b.print()\n",
    "\n",
    "print(a.getValue(3,3))\n",
    "                \n",
    "        "
   ]
  },
  {
   "cell_type": "markdown",
   "metadata": {
    "colab_type": "text",
    "id": "700XiP_pyaRG"
   },
   "source": [
    "* 희소행렬의 전치행렬 알고리즘 : 희소행렬의 행 [i,j,val] 을 [j, i, val] 로 바꿔 리턴한다.\n",
    "\n",
    "* 두 희소행렬의 덧셈 알고리즘: \n",
    "  * 덧셈 결과를 저장할 빈 희소행렬 c를 만든다.\n",
    "  * 두 희소행렬 a, b의 unique 한 (i,j) 쌍의 집합을 u 라고 하자.\n",
    "  * u에서 원소를 하나씩 꺼내면서 a, b의 해당 위치 값을 구해 더한다.\n",
    "  * 위에서 구한 값이 0이 아니면 c에 추가한다.\n"
   ]
  },
  {
   "cell_type": "code",
   "execution_count": 0,
   "metadata": {
    "colab": {
     "base_uri": "https://localhost:8080/",
     "height": 73
    },
    "colab_type": "code",
    "executionInfo": {
     "elapsed": 587,
     "status": "ok",
     "timestamp": 1547859058096,
     "user": {
      "displayName": "swkim김승환",
      "photoUrl": "",
      "userId": "01255046753553274360"
     },
     "user_tz": -540
    },
    "id": "VNUC6aiq0WY2",
    "outputId": "1ccaec4f-78ec-491f-dd1c-5133d48ae34a"
   },
   "outputs": [
    {
     "name": "stdout",
     "output_type": "stream",
     "text": [
      "[[4. 0. 0.]\n",
      " [7. 0. 0.]\n",
      " [0. 2. 1.]]\n"
     ]
    }
   ],
   "source": [
    "def transpose(a):\n",
    "    t_a = SparseMatrix(a.n,a.m)\n",
    "    \n",
    "    for i in range(len(a.s)):\n",
    "        if i == 0:\n",
    "            t_a.s[0][2] = a.s[0][2]\n",
    "        else:\n",
    "            t_a.append(a.s[i][1],a.s[i][0],a.s[i][2])\n",
    "\n",
    "    return t_a\n",
    "\n",
    "t_b = transpose(b)\n",
    "t_b.print()\n",
    "        "
   ]
  },
  {
   "cell_type": "code",
   "execution_count": 0,
   "metadata": {
    "colab": {
     "base_uri": "https://localhost:8080/",
     "height": 185
    },
    "colab_type": "code",
    "executionInfo": {
     "elapsed": 589,
     "status": "ok",
     "timestamp": 1547859060931,
     "user": {
      "displayName": "swkim김승환",
      "photoUrl": "",
      "userId": "01255046753553274360"
     },
     "user_tz": -540
    },
    "id": "MkATyXa946Xp",
    "outputId": "051a0f03-5076-424c-8ae0-c6950c8202ad"
   },
   "outputs": [
    {
     "name": "stdout",
     "output_type": "stream",
     "text": [
      "[[1. 0. 0.]\n",
      " [0. 2. 0.]\n",
      " [0. 0. 3.]]\n",
      "[[4. 7. 0.]\n",
      " [0. 0. 2.]\n",
      " [0. 0. 1.]]\n",
      "[[5. 7. 0.]\n",
      " [0. 2. 2.]\n",
      " [0. 0. 4.]]\n"
     ]
    }
   ],
   "source": [
    "def add(a, b):\n",
    "    if a.shape() != b.shape():\n",
    "        print(\"두 행렬의 차원이 달라 더할 수 없습니다.\")\n",
    "    else:\n",
    "        c = SparseMatrix(a.shape()[0], a.shape()[1])\n",
    "        u = set()\n",
    "        for i in range(1,len(a.s)):\n",
    "            u.add((a.s[i][0], a.s[i][1]))\n",
    "        for i in range(1,len(b.s)):\n",
    "            u.add((b.s[i][0], b.s[i][1]))\n",
    "        for item in u:\n",
    "            _tmp = a.getValue(item[0], item[1]) + b.getValue(item[0], item[1])\n",
    "            if _tmp != 0:\n",
    "                c.append(item[0], item[1], _tmp) \n",
    "    return c\n",
    "\n",
    "a.print()\n",
    "b.print()\n",
    "c = add(a, b)\n",
    "c.print()"
   ]
  },
  {
   "cell_type": "markdown",
   "metadata": {
    "colab_type": "text",
    "id": "y_QdHjjz_CZ0"
   },
   "source": [
    "<font color='red'>H.W # 2: 두 희소 행렬의 곱셈을 수행하는 함수를 작성하시오. </font>\n",
    "\n",
    "$$ C_{ij} = \\sum_k A_{ik} \\cdot B_{kj} $$\n",
    "\n",
    "1. 두 행렬의 곱셈은 A는 r by c, B는 c by l 과 같이 A의 열의 수와 B의 행수가 같아야 한다.         아니면 null을 리턴한다. 곱셈 결과 C 행렬은 r by l이 된다.\n",
    "2. 희소행렬 곱셈 결과를 저장할 빈 리스트를 생성한다. \n",
    "3.  위의 식 $ C_{ij} $ 를 계산해서 그 값이 0 이 아니면 C 희소행렬에 (i,j, 계산값)을 추가한다.   \n",
    "4. C 희소행렬에  add 한 개수와 결과 dimension을 계산한 후, 헤더를 업데이트 한다.\n",
    "5. C 희소행렬을 반환한다.\n"
   ]
  },
  {
   "cell_type": "markdown",
   "metadata": {
    "colab_type": "text",
    "id": "WNwQDyz8Der9"
   },
   "source": [
    "### Double Linked List\n",
    "\n",
    "* Double Linked List는 아래 그림처럼 링크가 좌, 우에 두개가 존재하는 Linked List다.\n",
    "* Single Linked List는 삭제를 위해서 preNode를 관리해야 하는 불편함이 있는데 Double Linked List는 preNode를 알 수 있는 장점은 있지만 이를 위해 링크를 두 개 관리해야 하는 손실이 있다.\n",
    "\n",
    "<center> ![](https://drive.google.com/uc?id=1STHXAzEkDwb0ailRcZuRNKU_TGYI3RJK) </center>\n",
    "        \n",
    "* Double Linked List 설계\n",
    "\n",
    " * DNode: item과 left, right에 각각 좌, 우 노드의 주소를 저장한다.\n",
    " \n",
    " * root: 리스트 루트 노드이고 Double Linked List는 root 노드의 주소를 가진다.\n",
    "    * root = DNode()\n",
    "    \n",
    "  * append method: item을 주면 item을 가진 새 노드를 Linked List 마지막 노드에 추가하는 메소드\n",
    "   * newNode를 만들고 root의 item이 None이면 newNode를 root로 지정하고 아니면 리스트의 끝까지 이동한 후, 마지막 노드의 right에 newNode의 주소를 삽입하고 newNode의 left에 마지막 노드의 주소를 삽입한다.\n",
    "\n",
    " * insert method: Linked List에 index로 새 노드를 추가하는 메소드로 index=0 이면 root로 추가하고, index 값에 따라 해당 위치에 삽입한다.\n",
    "   * index < 0 or index >= listSize 이면 error 메세지를 출력한다.\n",
    "   * rootNode를 0번째로 보고 index -1 번째 노드 주소를 newNode의 left에 넣고, index번째 노드의 주소를 newNode right에 넣는다.\n",
    "   \n",
    " * find Method: Linked List에서 해당 아이템을 찾고 index를 리턴한다.  없으면 -1을 리턴한다.\n",
    " \n",
    " * delete method: 주어진 값을 이용해 해당 노드를 찾고 지운다.\n",
    "   * del item이 첫번째 노드면 self.root에 self.root.right를 넣고 self.root.left에 None를 넣는다.\n",
    "   * del item이 중간노드면 delNode.left.right에 delNode.right를 삽입한다.\n",
    "   * 마지막 노드라면 마지막 노드 left.right에 None를 삽입한다.\n",
    " \n",
    " * listSize method: Linked List의 item 수를 리턴한다.\n",
    "\n",
    " * print method: Linked List를 print 한다."
   ]
  },
  {
   "cell_type": "code",
   "execution_count": 0,
   "metadata": {
    "colab": {
     "base_uri": "https://localhost:8080/",
     "height": 36
    },
    "colab_type": "code",
    "executionInfo": {
     "elapsed": 699,
     "status": "ok",
     "timestamp": 1547819774882,
     "user": {
      "displayName": "swkim김승환",
      "photoUrl": "",
      "userId": "01255046753553274360"
     },
     "user_tz": -540
    },
    "id": "dZyCsetAPn15",
    "outputId": "80398121-0280-468c-849b-5bfebdfded63"
   },
   "outputs": [
    {
     "name": "stdout",
     "output_type": "stream",
     "text": [
      "139647214791984\n"
     ]
    }
   ],
   "source": [
    "# Node Class: item으로 value를 가지고 right, left를 가진다. link가 없을 경우, None을 입력한다.\n",
    "class DNode:\n",
    "    def __init__(self, item=None):\n",
    "        self.item = item\n",
    "        self.right = None\n",
    "        self.left = None\n",
    "\n",
    "a = DNode('사과')\n",
    "print(id(a))"
   ]
  },
  {
   "cell_type": "markdown",
   "metadata": {
    "colab_type": "text",
    "id": "NGO_d_fLP3CX"
   },
   "source": [
    "H.W # 3: Double Linked List 클래스를 작성하시오."
   ]
  },
  {
   "cell_type": "markdown",
   "metadata": {
    "colab_type": "text",
    "id": "UEaR2ssR0TKL"
   },
   "source": [
    "### Circle Linked List\n",
    "\n",
    "* Circle Linked List는 아래 그림처럼 마지막 노드의 링크에 root 노드의 주소를 삽입한 것이다.\n",
    "* Single Linked List는 항상 root로 부터 순차탐색을 해야 하는데 Circle Linked List는 아무 위치에서나 원형으로 탐색이 가능하다.\n",
    "* 무한반복 mp3, 혹은 사진 슬라이드 쇼 플레이 순서를 만드는 예와 같이 순서가 계속 반복되는 원형 자료구조에 적합하다.\n",
    "\n",
    "<center> ![](https://drive.google.com/uc?id=17AbC2e28EEN8f7RTQUl4uUbgn5ueAeUb) </center>\n",
    "\n",
    "* Circle Linked List 설계\n",
    " * root: 리스트 루트 노드이고 Linked List는 root 노드의 주소를 가진다.   root = Node()\n",
    " * tail : 리스트 마지막 노드이고 tail.link = root 가 된다. 마지막 노드를 관리하는 이유는 루트가 삭제될 경우, tail.link를 갱신해야 하기 때문이다.\n",
    " * current: 리스트 순환을 위해 현재 노드를 관리한다. \n",
    "  \n",
    " * append method: item을 주면 item 노드를 tail 노드 다음에 추가하는 메소드\n",
    "   * newNode를 만들고 root의 item이 None이면 newNode를 root와 tail로 지정하고 newNode 링크에 root 주소를 삽입한다.  아니면 tail 링크에 newNode의 주소를 삽입하고 newNode 링크에는 root 주소를 삽입한다. 이후, newNode를 tail로 갱신한다.\n",
    "\n",
    " * setCurrent method: 리스트에서 item을 가지는 노드를 current 노드로 지정한다.\n",
    " * moveNext method: current 노드를 다음 노드로 이동시킨다.\n",
    "  * insert method: current 노드 다음에 새노드를 삽입한다.\n",
    "   * current 노드 링크에 새 노드를 지정하고 새노드의 링크에 current 노드에 연결되어 있던 링크를 지정하여 연결한다.\n",
    "   * 만약, current가 tail 노드 였다면 새노드를 tail 노드로 재지정한다.\n",
    "\n",
    " * delete method: 주어진 값을 이용해 해당 노드를 찾고 지운다.\n",
    "   * curNode = preNode = root로 초기 지정하고 curNode를 움직일 때 마다 preNode는 curNode의 이전 노드로 갱신한다.\n",
    "   * del item이 첫번째 노드면 root에 del item의 링크를 넣고 tail노드의 링크에 값을 root로 갱신한다. \n",
    "   * del item이 중간노드면 preNode 링크에 del item의 링크를 넣는다.\n",
    "   *  마지막 노드라면 preNode 링크에 del item의 링크를 넣고 tail 노드를 preNode로 갱신한다."
   ]
  },
  {
   "cell_type": "code",
   "execution_count": 0,
   "metadata": {
    "colab": {
     "base_uri": "https://localhost:8080/",
     "height": 474
    },
    "colab_type": "code",
    "executionInfo": {
     "elapsed": 588,
     "status": "ok",
     "timestamp": 1548999241989,
     "user": {
      "displayName": "swkim김승환",
      "photoUrl": "",
      "userId": "01255046753553274360"
     },
     "user_tz": -540
    },
    "id": "OnLJPTLkDvtn",
    "outputId": "7785943f-fcb5-457f-8920-1d0a1fbed95c"
   },
   "outputs": [
    {
     "name": "stdout",
     "output_type": "stream",
     "text": [
      "사과\n",
      "앵두\n",
      "오렌지\n",
      "포도\n",
      "4\n",
      "수박\n",
      "현재 위치는  포도 입니다.\n",
      "현재 위치는  수박 입니다.\n",
      "현재 위치는  사과 입니다.\n",
      "현재 위치는  앵두 입니다.\n",
      "현재 위치는  오렌지 입니다.\n",
      "현재 위치는  포도 입니다.\n",
      "현재 위치는  수박 입니다.\n",
      "현재 위치는  사과 입니다.\n",
      "현재 위치는  앵두 입니다.\n",
      "현재 위치는  오렌지 입니다.\n",
      "현재 위치는  수박 입니다.\n",
      "현재 위치는  사과 입니다.\n",
      "현재 위치는  앵두 입니다.\n",
      "현재 위치는  오렌지 입니다.\n",
      "현재 위치는  수박 입니다.\n",
      "현재 위치는  사과 입니다.\n",
      "현재 위치는  앵두 입니다.\n",
      "현재 위치는  오렌지 입니다.\n",
      "현재 위치는  수박 입니다.\n",
      "현재 위치는  사과 입니다.\n"
     ]
    }
   ],
   "source": [
    "class Node:\n",
    "    def __init__(self, item=None):\n",
    "        self.item = item\n",
    "        self.link = None\n",
    "        \n",
    "class CircleLinkedList:\n",
    "    def __init__(self):\n",
    "        self.root = Node()\n",
    "        self.tail = self.root\n",
    "        self.current = self.root\n",
    "        \n",
    "    def append(self, item):\n",
    "        # 추가할 새노드를 만든다.\n",
    "        newNode = Node(item)\n",
    "        # 루트가 비어 있으면 루트와 테일을 새노드로 지정한다.\n",
    "        if self.root.item == None:\n",
    "            self.root = newNode\n",
    "            self.tail = newNode\n",
    "            newNode.link = self.root\n",
    "        else:\n",
    "        # 루트가 비어 있지 않으면 테일 뒤에 새노드를 추가하고 테일을 업데이트한다.\n",
    "            _tmp = self.tail.link\n",
    "            self.tail.link = newNode\n",
    "            newNode.link = _tmp\n",
    "            self.tail = newNode\n",
    "\n",
    "    # 리스트 안에 모든 노드를 프린트 한다. \n",
    "    def print(self):\n",
    "        curNode = self.root\n",
    "        print(curNode.item)\n",
    "        while curNode.link != self.root:\n",
    "            curNode = curNode.link\n",
    "            print(curNode.item)\n",
    "\n",
    "    # 리스트에 존재하는 노드 수를 구한다.\n",
    "    def listSize(self):\n",
    "        curNode = self.root\n",
    "        cnt = 1\n",
    "        while curNode.link != self.root:\n",
    "            curNode = curNode.link\n",
    "            cnt += 1\n",
    "        return cnt\n",
    "\n",
    "    # 리스트에서 item을 가지는 노드를 current 노드로 지정한다.\n",
    "    def setCurrent(self,item):\n",
    "        curNode = self.root\n",
    "        for i in range(self.listSize()):\n",
    "            if curNode.item == item:\n",
    "                self.current = curNode\n",
    "            else:\n",
    "                curNode = curNode.link\n",
    "\n",
    "    # current 노드를 다음 노드로 바꾼다.\n",
    "    def moveNext(self):\n",
    "        self.current = self.current.link\n",
    "        print(\"현재 위치는 \", self.current.item, \"입니다.\")\n",
    "\n",
    "    # current 다음에 item을 삽입한다.\n",
    "    def insert(self, item):\n",
    "        # 삽입할 새 노드를 만든다.\n",
    "        newNode = Node(item)\n",
    "        # current 노드의 링크에 새 노드를 지정하고 새노드의 링크에 current 노드가 연결되어 있던 링크를 지정하여 연결한다.\n",
    "        _tmp = self.current.link\n",
    "        self.current.link = newNode\n",
    "        newNode.link = _tmp\n",
    "        # 만약, item1이 tail 노드 였다면 새노드를 tail 노드로 재지정한다.\n",
    "        if self.current == self.tail:\n",
    "            self.tail = newNode\n",
    "\n",
    "    # item을 가지는 노드를 삭제한다.\n",
    "    def delete(self, item):\n",
    "        delYN = False\n",
    "        # 루트가 삭제 대상 노드인지 확인한다. 루트를 삭제할 경우, 루트 다음 노드를 루트로 갱신하고 tail 노드의 링크를 갱신된 루트로 재지정한다.\n",
    "        curNode = self.root\n",
    "        if curNode.item == item:\n",
    "            self.root = self.root.link\n",
    "            self.tail.link = self.root\n",
    "            delYN = True\n",
    "        # 루트가 삭제 대상이 아닐 경우, 끝까지 탐색하면서 item이 존재하는 노드를 찾는다.\n",
    "        # 찾았다면 preNode의 링크에 대상노드 링크를 넘겨준다. 만약, 대상 노드가 tail노드라면 tail 노드를 preNode로 변경한다.\n",
    "        else:\n",
    "            while curNode.link != self.root:\n",
    "                preNode = curNode\n",
    "                curNode = curNode.link\n",
    "                if curNode.item == item:\n",
    "                    preNode.link = curNode.link\n",
    "                    if curNode == self.tail:\n",
    "                        self.tail = preNode\n",
    "                    delYN = True\n",
    "        # 삭제를 하지 못했으면 error message를 출력한다.\n",
    "        if delYN == False: print(\"delete failed\")\n",
    "\n",
    "fruits = CircleLinkedList()\n",
    "fruits.append('사과')\n",
    "fruits.append('앵두')\n",
    "fruits.append('오렌지')\n",
    "fruits.append('포도')\n",
    "\n",
    "fruits.print()\n",
    "print(fruits.listSize())\n",
    "fruits.setCurrent(\"포도\")\n",
    "fruits.insert(\"수박\")\n",
    "print(fruits.tail.item)\n",
    "\n",
    "fruits.setCurrent('오렌지')\n",
    "for i in range(10):\n",
    "    fruits.moveNext()\n",
    "\n",
    "fruits.delete('포도')\n",
    "fruits.setCurrent('오렌지')\n",
    "for i in range(10):\n",
    "    fruits.moveNext()"
   ]
  },
  {
   "cell_type": "markdown",
   "metadata": {
    "colab_type": "text",
    "id": "FQ2nVSa05Ezy"
   },
   "source": [
    "H.W # 4: 아래는 이미지 파일을 선택해 보여주는 tkinter 프로그램이다. 이 프로그램을 수정하여 이미지 폴더를 선택하면 그 안의 모든 파일을 순환적으로 보여주는 프로그램으로 바꾸세요."
   ]
  },
  {
   "cell_type": "code",
   "execution_count": 3,
   "metadata": {
    "colab": {},
    "colab_type": "code",
    "id": "aalHgNLOEZ9L"
   },
   "outputs": [
    {
     "name": "stdout",
     "output_type": "stream",
     "text": [
      "<class 'tkinter.Tk'>\n"
     ]
    }
   ],
   "source": [
    "from tkinter import filedialog\n",
    "import tkinter as tk\n",
    "from PIL import ImageTk, Image\n",
    "\n",
    "class Window:\n",
    "    def __init__(self):\n",
    "        self.window=tk.Tk()\n",
    "        self.window.title(\"Image Viewer\")\n",
    "        self.window.geometry(\"640x480\")\n",
    "        self.window.resizable(False, False)\n",
    "\n",
    "        # 메뉴바를 윈도우에 추가한다.\n",
    "        menubar = tk.Menu(self.window)\n",
    "        menu_1 = tk.Menu(menubar, tearoff=0)\n",
    "        menu_1.bind('<<MenuSelect>>')\n",
    "\n",
    "        menu_1.add_command(label=\"Open\", command=self.fileSelect) #Open을 누르면, self.fileselect가 실행된다.\n",
    "        menubar.add_cascade(label=\"File\", menu=menu_1)\n",
    "\n",
    "        self.window.config(menu=menubar)\n",
    "\n",
    "        # 이미지 라벨을 추가한다.\n",
    "        self.imgLabel = tk.Label(self.window, width=400, height=400, relief='solid')\n",
    "        self.imgLabel.pack()\n",
    "\n",
    "        self.window.mainloop() # 해당 소프트웨어의 기능들이 스탠바이 하고 있는 상태이다.\n",
    "\n",
    "    # 메뉴에서 close 가 선택되었을 때 수행한다.\n",
    "    def close(self):\n",
    "        self.window.quit()\n",
    "        self.window.destroy()\n",
    "\n",
    "    # 파일을 선택한다.\n",
    "    def fileSelect(self):\n",
    "        # 초기 디렉토리를 루트로 지정하고 파일을 선택하면 해당 파일명을 selFile에 입력한다.\n",
    "        selFile = filedialog.askopenfilename(initialdir=\"/\", title=\"Select file\", filetypes=((\"image files\", \"*.jpg *.png\"), (\"all files\", \"*.*\")))\n",
    "        print(selFile) # 해당 파일의 주소를 print한다.\n",
    "        self.image = Image.open(selFile)\n",
    "        print(self.image.size[0], self.image.size[1])\n",
    "        # 해당 이미지의 크기를 400, 400으로 resize 한다.\n",
    "        if self.image.size[1] > self.image.size[0]:\n",
    "            hSize = int((400 * self.image.size[0] / self.image.size[1]))\n",
    "            vSize = 400\n",
    "        else:\n",
    "            hSize = 400\n",
    "            vSize = int((400 * self.image.size[1] / self.image.size[0]))\n",
    "\n",
    "            self.image = self.image.resize((hSize,vSize), Image.ANTIALIAS)\n",
    "            self.image = ImageTk.PhotoImage(self.image)\n",
    "            self.imgLabel.config(image = self.image)\n",
    "\n",
    "a = Window()"
   ]
  }
 ],
 "metadata": {
  "colab": {
   "collapsed_sections": [],
   "name": "Ch 2_LinkedList.ipynb",
   "provenance": [],
   "version": "0.3.2"
  },
  "kernelspec": {
   "display_name": "Python 3",
   "language": "python",
   "name": "python3"
  },
  "language_info": {
   "codemirror_mode": {
    "name": "ipython",
    "version": 3
   },
   "file_extension": ".py",
   "mimetype": "text/x-python",
   "name": "python",
   "nbconvert_exporter": "python",
   "pygments_lexer": "ipython3",
   "version": "3.7.1"
  }
 },
 "nbformat": 4,
 "nbformat_minor": 1
}
