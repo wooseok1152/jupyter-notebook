{
 "cells": [
  {
   "cell_type": "code",
   "execution_count": 8,
   "metadata": {},
   "outputs": [
    {
     "name": "stdout",
     "output_type": "stream",
     "text": [
      "122\n",
      "0x7a\n"
     ]
    }
   ],
   "source": [
    "# char의 ascii코드 나타내기(10진수)\n",
    "print(ord(\"z\"))\n",
    "# char의 ascii코드 나타내기(10진수)\n",
    "print(hex(ord(\"z\")))"
   ]
  },
  {
   "cell_type": "code",
   "execution_count": 1,
   "metadata": {},
   "outputs": [
    {
     "data": {
      "text/plain": [
       "'0xb'"
      ]
     },
     "execution_count": 1,
     "metadata": {},
     "output_type": "execute_result"
    }
   ],
   "source": [
    "# hex함수 사용법(16진수로 나타내기)\n",
    "hex(11)"
   ]
  },
  {
   "cell_type": "code",
   "execution_count": null,
   "metadata": {},
   "outputs": [],
   "source": []
  },
  {
   "cell_type": "code",
   "execution_count": 1,
   "metadata": {},
   "outputs": [
    {
     "name": "stdout",
     "output_type": "stream",
     "text": [
      "2145716629904\n",
      "2145716629904\n"
     ]
    }
   ],
   "source": [
    "a = 1686968\n",
    "b = a\n",
    "\n",
    "# a와 b 변수의 주소값이 같다. 즉, '얕은 복사'가 일어난 것이다. 이로써, 파이썬의 모든 변수는 '참조자료형'이라는 것이 증명이된다.\n",
    "print(id(a))\n",
    "print(id(b))\n"
   ]
  },
  {
   "cell_type": "code",
   "execution_count": null,
   "metadata": {},
   "outputs": [],
   "source": []
  },
  {
   "cell_type": "code",
   "execution_count": 8,
   "metadata": {},
   "outputs": [
    {
     "name": "stdout",
     "output_type": "stream",
     "text": [
      "   Customer ID       Customer Name Invoice Number Sale Amount Purchase Date\n",
      "0         1234          John Smith       100-0002  $1,200.00         1/1/14\n",
      "1         2345       Mary Harrison       100-0003  $1,425.00         1/6/14\n",
      "2         3456          Lucy Gomez       100-0004  $1,390.00        1/11/14\n",
      "3         4567        Rupert Jones       100-0005  $1,257.00        1/18/14\n",
      "4         5678       Jenny Walters       100-0006  $1,725.00        1/24/14\n",
      "5         6789  Samantha Donaldson       100-0007  $1,995.00        1/31/14 \n",
      "\n",
      "data_frame1's columns Index(['Customer ID', 'Customer Name', 'Invoice Number', 'Sale Amount',\n",
      "       'Purchase Date'],\n",
      "      dtype='object') \n",
      "\n",
      "   Customer ID   Customer Name Invoice Number Sale Amount Purchase Date\n",
      "0         9876   Daniel Farber       100-0008  $1,115.00         2/2/14\n",
      "1         8765     Laney Stone       100-0009  $1,367.00         2/8/14\n",
      "2         7654    Roger Lipney       100-0010  $2,135.00        2/15/14\n",
      "3         6543   Thomas Haines       100-0011  $1,346.00        2/17/14\n",
      "4         5432     Anushka Vaz       100-0012  $1,560.00        2/21/14\n",
      "5         4321  Harriet Cooper       100-0013  $1,852.00        2/25/14 \n",
      "\n",
      "data_frame2's columns Index(['Customer ID', 'Customer Name', 'Invoice Number', 'Sale Amount',\n",
      "       'Purchase Date'],\n",
      "      dtype='object') \n",
      "\n",
      "   Customer ID       Customer Name Invoice Number Sale Amount Purchase Date\n",
      "0         1234          John Smith       100-0002  $1,200.00         1/1/14\n",
      "1         2345       Mary Harrison       100-0003  $1,425.00         1/6/14\n",
      "2         3456          Lucy Gomez       100-0004  $1,390.00        1/11/14\n",
      "3         4567        Rupert Jones       100-0005  $1,257.00        1/18/14\n",
      "4         5678       Jenny Walters       100-0006  $1,725.00        1/24/14\n",
      "5         6789  Samantha Donaldson       100-0007  $1,995.00        1/31/14\n",
      "0         9876       Daniel Farber       100-0008  $1,115.00         2/2/14\n",
      "1         8765         Laney Stone       100-0009  $1,367.00         2/8/14\n",
      "2         7654        Roger Lipney       100-0010  $2,135.00        2/15/14\n",
      "3         6543       Thomas Haines       100-0011  $1,346.00        2/17/14\n",
      "4         5432         Anushka Vaz       100-0012  $1,560.00        2/21/14\n",
      "5         4321      Harriet Cooper       100-0013  $1,852.00        2/25/14 \n",
      "\n",
      "joinedDataFrame's columns Index(['Customer ID', 'Customer Name', 'Invoice Number', 'Sale Amount',\n",
      "       'Purchase Date'],\n",
      "      dtype='object') \n",
      "\n"
     ]
    }
   ],
   "source": [
    "import pandas as pd\n",
    "\n",
    "input_file1 = r\"C:\\Users\\my\\Desktop\\Documents\\data_Analysis_with_Python\\materials\\sales_january_2014.csv\"\n",
    "input_file2 = r\"C:\\Users\\my\\Desktop\\Documents\\data_Analysis_with_Python\\materials\\sales_fabruary_2014.csv\"\n",
    "\n",
    "data_frame1 = pd.read_csv(input_file1)\n",
    "data_frame2 = pd.read_csv(input_file2)\n",
    "\n",
    "allDataFrames = [data_frame1, data_frame2]\n",
    "\n",
    "print(data_frame1, \"\\n\")\n",
    "print(\"data_frame1's columns\", data_frame1.columns, \"\\n\")\n",
    "\n",
    "print(data_frame2, \"\\n\")\n",
    "print(\"data_frame2's columns\", data_frame2.columns, \"\\n\")\n",
    "\n",
    "joinedDataFrame = pd.concat(allDataFrames, axis=0)\n",
    "\n",
    "print(joinedDataFrame, \"\\n\")\n",
    "print(\"joinedDataFrame's columns\", joinedDataFrame.columns, \"\\n\")\n",
    "\n",
    "\n",
    "\n",
    "\n"
   ]
  },
  {
   "cell_type": "code",
   "execution_count": null,
   "metadata": {},
   "outputs": [],
   "source": []
  },
  {
   "cell_type": "code",
   "execution_count": null,
   "metadata": {},
   "outputs": [],
   "source": []
  },
  {
   "cell_type": "code",
   "execution_count": null,
   "metadata": {},
   "outputs": [],
   "source": []
  },
  {
   "cell_type": "code",
   "execution_count": null,
   "metadata": {},
   "outputs": [],
   "source": []
  },
  {
   "cell_type": "code",
   "execution_count": null,
   "metadata": {},
   "outputs": [],
   "source": []
  },
  {
   "cell_type": "code",
   "execution_count": null,
   "metadata": {},
   "outputs": [],
   "source": []
  },
  {
   "cell_type": "code",
   "execution_count": null,
   "metadata": {},
   "outputs": [],
   "source": []
  },
  {
   "cell_type": "code",
   "execution_count": null,
   "metadata": {},
   "outputs": [],
   "source": []
  },
  {
   "cell_type": "code",
   "execution_count": null,
   "metadata": {},
   "outputs": [],
   "source": []
  },
  {
   "cell_type": "code",
   "execution_count": null,
   "metadata": {},
   "outputs": [],
   "source": []
  },
  {
   "cell_type": "code",
   "execution_count": null,
   "metadata": {},
   "outputs": [],
   "source": []
  },
  {
   "cell_type": "code",
   "execution_count": null,
   "metadata": {},
   "outputs": [],
   "source": []
  },
  {
   "cell_type": "code",
   "execution_count": null,
   "metadata": {},
   "outputs": [],
   "source": []
  },
  {
   "cell_type": "code",
   "execution_count": null,
   "metadata": {},
   "outputs": [],
   "source": []
  },
  {
   "cell_type": "code",
   "execution_count": null,
   "metadata": {},
   "outputs": [],
   "source": []
  },
  {
   "cell_type": "code",
   "execution_count": null,
   "metadata": {},
   "outputs": [],
   "source": []
  },
  {
   "cell_type": "code",
   "execution_count": null,
   "metadata": {},
   "outputs": [],
   "source": []
  },
  {
   "cell_type": "code",
   "execution_count": 1,
   "metadata": {},
   "outputs": [
    {
     "name": "stdout",
     "output_type": "stream",
     "text": [
      "2251382678064\n",
      "2251382678064 \n",
      "\n",
      "45678\n",
      "123456 \n",
      "\n",
      "2251382677936\n",
      "2251382678064\n"
     ]
    }
   ],
   "source": [
    "a = 123456\n",
    "b = a\n",
    "\n",
    "# 두 변수의 id가 같기 때문에, 파이썬은 모든 것이 다 '참조자료형'이라는 것을 알 수 있다. '참조자료형'은 '얕은복사'를 실시한다.\n",
    "print(id(a))\n",
    "print(id(b), \"\\n\")\n",
    "\n",
    "a = 45678\n",
    "\n",
    "print(a)\n",
    "print(b, \"\\n\")\n",
    "\n",
    "print(id(a))\n",
    "print(id(b))"
   ]
  },
  {
   "cell_type": "code",
   "execution_count": 22,
   "metadata": {},
   "outputs": [
    {
     "name": "stdout",
     "output_type": "stream",
     "text": [
      "   Supplier Name Invoice Number  Part Number            Cost Purchase Date\n",
      "0     Supplier X       001-1001         2341        $500.00      1/20/2014\n",
      "1     Supplier X       001-1001         2341        $500.00      1/20/2014\n",
      "2     Supplier X       001-1001         5467        $750.00      1/20/2014\n",
      "3     Supplier X       001-1001         5467        $750.00      1/20/2014\n",
      "4     Sypplier Y        50-9501         7009        $250.00      1/30/2014\n",
      "5     Sypplier Y        50-9501         7009        $250.00      1/30/2014\n",
      "6     Sypplier Y        50-9505         6650        $125.00       2/3/2014\n",
      "7     Sypplier Y        50-9505         6650        $125.00       2/3/2014\n",
      "8     Supplier Z       920-4803         3321        $615.00       2/3/2014\n",
      "9     Supplier Z       920-4804         3321        $615.00      2/10/2014\n",
      "10    Supplier Z       920-4805         3321      $6,015.00      2/17/2014\n",
      "11    Supplier Z       920-4806         3321  $1,006,015.00      2/24/2014 \n",
      " \n",
      " columns is Index(['Supplier Name', 'Invoice Number', 'Part Number', 'Cost',\n",
      "       'Purchase Date'],\n",
      "      dtype='object') \n",
      " index is RangeIndex(start=0, stop=12, step=1) \n",
      "\n",
      "  Supplier Name Invoice Number  Part Number      Cost Purchase Date\n",
      "0    Supplier X       001-1001         2341  $500.00      1/20/2014\n",
      "1    Supplier X       001-1001         2341  $500.00      1/20/2014\n",
      "2    Supplier X       001-1001         5467  $750.00      1/20/2014\n",
      "3    Supplier X       001-1001         5467  $750.00      1/20/2014 \n",
      "\n",
      "  Supplier Name Invoice Number Part Number      Cost Purchase Date\n",
      "0    Supplier X       001-1001        2341  $500.00      1/20/2014\n",
      "1    Supplier X       001-1001        2341  $500.00      1/20/2014\n",
      "2    Supplier X       001-1001        5467  $750.00      1/20/2014\n",
      "3    Supplier X       001-1001        5467  $750.00      1/20/2014\n"
     ]
    }
   ],
   "source": [
    "import pandas as pd\n",
    "\n",
    "input_file = r\"C:\\Users\\my\\Desktop\\Documents\\data_Analysis_with_Python\\materials\\supplier_data.csv\"\n",
    "output_file = r\"C:\\Users\\my\\Desktop\\pandasTest.csv\"\n",
    "\n",
    "inputDataFrame = pd.read_csv(input_file)\n",
    "print(inputDataFrame, \"\\n\", \"\\n\", \"columns is\", inputDataFrame.columns, \"\\n\", \"index is\", inputDataFrame.index, \"\\n\")\n",
    "\n",
    "materialDataFrame = inputDataFrame.loc[:3, :]\n",
    "print(materialDataFrame, \"\\n\")\n",
    "\n",
    "resultDataFrameColunmns = materialDataFrame.columns\n",
    "resultDataFrameBody = materialDataFrame\n",
    "\n",
    "resultDataFrame = pd.DataFrame(columns = resultDataFrameColunmns)\n",
    "resultDataFrame = pd.concat([resultDataFrame, resultDataFrameBody], axis = 0)\n",
    "print(resultDataFrame)"
   ]
  },
  {
   "cell_type": "code",
   "execution_count": null,
   "metadata": {},
   "outputs": [],
   "source": [
    "#queue 자료구조 구현\n",
    "\n",
    "class Node: \n",
    "    \n",
    "    def __init__(self, item, n): # Node 생성자\n",
    "        \n",
    "        self.item = item\n",
    "        self.next = n\n",
    "        \n",
    "def add(item): # 삽입 연산, 뒷 부분에 삽입한다.\n",
    "    \n",
    "    global size\n",
    "    global front\n",
    "    global rear\n",
    "    \n",
    "    new_node = Node(item, None)\n",
    "    \n",
    "    if size == 0:\n",
    "        \n",
    "        front = new_node\n",
    "        \n",
    "    else:\n",
    "        \n",
    "        rear.next = new_node\n",
    "        \n",
    "    rear = new_node\n",
    "    size += 1      \n",
    "    \n",
    "def remove(): # 삭제 연산, 맨 앞에 있는 것을 삭제한다.\n",
    "    \n",
    "    global size\n",
    "    global front\n",
    "    global rear\n",
    "    \n",
    "    if size != 0:\n",
    "        fitem = front.item\n",
    "        front = front.next\n",
    "        size -= 1\n",
    "        if size == 0: \n",
    "            rear = None \n",
    "        return fitem \n",
    "    \n",
    "def print_q(): # 큐 출력\n",
    "    \n",
    "    p = front\n",
    "    print('front: ', end='')\n",
    "    while p:\n",
    "        if p.next != None:\n",
    "            print(p.item, '->   ', end='')\n",
    "        else:\n",
    "            print(p.item, end = '')\n",
    "        p = p.next\n",
    "    print('  : rear') \n",
    "\n",
    "    \n",
    "front = None\n",
    "rear = None\n",
    "size = 0\n",
    "\n",
    "add('apple')       \n",
    "add('orange')        \n",
    "add('cherry')   \n",
    "add('pear')         \n",
    "print('사과, 오렌지, 체리, 배 삽입 후: \\t', end='')\n",
    "\n",
    "print_q()         \n",
    "remove()\n",
    "print('remove한 후:\\t\\t', end='')\n",
    "print_q()\n",
    "\n",
    "remove()\n",
    "print('remove한 후:\\t\\t', end='')\n",
    "print_q()\n",
    "\n",
    "add('grape')\n",
    "print('포도 삽입 후:\\t\\t', end='')\n",
    "print_q()"
   ]
  },
  {
   "cell_type": "code",
   "execution_count": 3,
   "metadata": {},
   "outputs": [
    {
     "name": "stdout",
     "output_type": "stream",
     "text": [
      "1593308867120\n",
      "1593308820656\n"
     ]
    }
   ],
   "source": [
    "a = \"32131312\"\n",
    "print(id(a))\n",
    "a = \"마바사\"\n",
    "print(id(a))"
   ]
  },
  {
   "cell_type": "code",
   "execution_count": 4,
   "metadata": {},
   "outputs": [],
   "source": [
    "class Node:\n",
    "    \n",
    "    def __init__(self, item = None):\n",
    "        \n",
    "        self.item = item\n",
    "        self.link = None\n",
    "        \n",
    "firstNode = Node()"
   ]
  },
  {
   "cell_type": "code",
   "execution_count": 3,
   "metadata": {},
   "outputs": [
    {
     "name": "stdout",
     "output_type": "stream",
     "text": [
      "choi's id : 1782214324576\n",
      "choi hand's id : 140715150717808\n",
      "choi nose;s id : 140715150717776\n",
      "choi foot's id : 140715150717808\n",
      "\n",
      "\n",
      "Kim's id: 1782214295448\n",
      "Kim hand's id: 140715150717808\n",
      "Kim nose's id: 140715150717776\n",
      "Kim foot's id: 140715150717808\n"
     ]
    }
   ],
   "source": [
    "class Person:\n",
    "    \n",
    "    # 클래스 변수\n",
    "    foot = 2\n",
    "    \n",
    "    # 생성자 함수\n",
    "    def __init__(self):\n",
    "        \n",
    "        # 인스턴스 변수\n",
    "        self.hand = 2\n",
    "        self.nose = 1\n",
    "        \n",
    "    \n",
    "        \n",
    "choi = Person()\n",
    "print(\"choi's id :\",id(choi))\n",
    "print(\"choi hand's id :\", id(choi.hand))\n",
    "print(\"choi nose;s id :\", id(choi.nose))\n",
    "print(\"choi foot's id :\", id(choi.foot))\n",
    "print(\"\\n\")\n",
    "kim  = Person()\n",
    "print(\"Kim's id:\", id(kim))\n",
    "print(\"Kim hand's id:\", id(kim.hand))\n",
    "print(\"Kim nose's id:\", id(kim.nose))\n",
    "print(\"Kim foot's id:\", id(kim.foot))"
   ]
  },
  {
   "cell_type": "code",
   "execution_count": 4,
   "metadata": {},
   "outputs": [
    {
     "name": "stdout",
     "output_type": "stream",
     "text": [
      "x's id : 3204251800592\n",
      "parameter id : 3204251800592\n",
      "c's id: 3204251800016\n"
     ]
    }
   ],
   "source": [
    "def change(a):\n",
    "    \n",
    "    print(\"parameter id :\", id(a))\n",
    "    \n",
    "    a = 3232323\n",
    "    \n",
    "    return a\n",
    "\n",
    "x = 123456\n",
    "print(\"x's id :\", id(x))\n",
    "\n",
    "\n",
    "c = change(x)\n",
    "print(\"c's id:\", id(c))"
   ]
  },
  {
   "cell_type": "code",
   "execution_count": 11,
   "metadata": {},
   "outputs": [
    {
     "name": "stdout",
     "output_type": "stream",
     "text": [
      "{'a': ('b', 'c')}\n",
      "{'a': ('b', 'c'), 'b': ['d', 'f']}\n"
     ]
    }
   ],
   "source": [
    "# 딕셔러니 생성하는 방법\n",
    "\n",
    "a = {}\n",
    "a[\"a\"] = \"b\", \"c\"\n",
    "print(a)\n",
    "# print(type(a[\"a\"]))\n",
    "\n",
    "a[\"b\"] = [\"d\", \"f\"]\n",
    "print(a)"
   ]
  },
  {
   "cell_type": "code",
   "execution_count": 1,
   "metadata": {},
   "outputs": [
    {
     "name": "stdout",
     "output_type": "stream",
     "text": [
      "3\n",
      "2\n",
      "1\n"
     ]
    }
   ],
   "source": [
    "for i in range(3, 0, -1):\n",
    "    \n",
    "    print(i)"
   ]
  },
  {
   "cell_type": "code",
   "execution_count": 2,
   "metadata": {},
   "outputs": [
    {
     "name": "stdout",
     "output_type": "stream",
     "text": [
      "empty\n"
     ]
    }
   ],
   "source": [
    "a = []\n",
    "\n",
    "if a :\n",
    "    \n",
    "    print(\"good\")\n",
    "    \n",
    "else :\n",
    "    \n",
    "    print(\"empty\")"
   ]
  },
  {
   "cell_type": "code",
   "execution_count": 3,
   "metadata": {},
   "outputs": [
    {
     "name": "stdout",
     "output_type": "stream",
     "text": [
      "2207214073696\n",
      "2207214073696\n",
      "2207214073696\n"
     ]
    }
   ],
   "source": [
    "a = \"가\"\n",
    "newList = []\n",
    "newList.append(a)\n",
    "print(id(a))\n",
    "print(id(newList[0]))\n",
    "b = newList[0]\n",
    "print(id(b))"
   ]
  },
  {
   "cell_type": "code",
   "execution_count": 1,
   "metadata": {},
   "outputs": [],
   "source": [
    "graph1 = {'A': {'B', 'C'},\n",
    "         'B': {'A', 'D', 'E'},\n",
    "         'C': {'A', 'F'},\n",
    "         'D': {'B'},\n",
    "         'E': {'B', 'F'},\n",
    "         'F': {'C', 'E'}}"
   ]
  },
  {
   "cell_type": "code",
   "execution_count": 3,
   "metadata": {},
   "outputs": [
    {
     "data": {
      "text/plain": [
       "['A', 'B', 'C', 'D', 'E', 'F']"
      ]
     },
     "execution_count": 3,
     "metadata": {},
     "output_type": "execute_result"
    }
   ],
   "source": [
    "list(graph1.keys())"
   ]
  },
  {
   "cell_type": "code",
   "execution_count": 6,
   "metadata": {},
   "outputs": [
    {
     "name": "stdout",
     "output_type": "stream",
     "text": [
      "[1, 3, 4, 5, 6]\n"
     ]
    }
   ],
   "source": [
    "list1 = [4,1,3,6,5]\n",
    "list1.sort()\n",
    "print(list1)\n",
    "\n"
   ]
  },
  {
   "cell_type": "code",
   "execution_count": 20,
   "metadata": {},
   "outputs": [
    {
     "name": "stdout",
     "output_type": "stream",
     "text": [
      "gogo\n"
     ]
    }
   ],
   "source": [
    "# 파이썬의 함수는 객체이다. 그러므로 해당 함수가 특정 변수에 담길 수 있다.\n",
    "def just():\n",
    "    \n",
    "    print(\"gogo\")\n",
    "     \n",
    "a = just\n",
    "a()"
   ]
  },
  {
   "cell_type": "code",
   "execution_count": 2,
   "metadata": {},
   "outputs": [
    {
     "name": "stdout",
     "output_type": "stream",
     "text": [
      "it's gonna call plus_function\n"
     ]
    },
    {
     "data": {
      "text/plain": [
       "3"
      ]
     },
     "execution_count": 2,
     "metadata": {},
     "output_type": "execute_result"
    }
   ],
   "source": [
    "#파이썬은 '함수호출'을 return값으로 받을 수 있다.\n",
    "\n",
    "def plus():\n",
    "    \n",
    "    return 1+2\n",
    "\n",
    "def call_plus_function():\n",
    "    \n",
    "    print(\"it's gonna call plus_function\")\n",
    "    return plus()\n",
    "\n",
    "call_plus_function()"
   ]
  },
  {
   "cell_type": "code",
   "execution_count": 31,
   "metadata": {},
   "outputs": [
    {
     "ename": "NameError",
     "evalue": "name 'a' is not defined",
     "output_type": "error",
     "traceback": [
      "\u001b[1;31m---------------------------------------------------------------------------\u001b[0m",
      "\u001b[1;31mNameError\u001b[0m                                 Traceback (most recent call last)",
      "\u001b[1;32m<ipython-input-31-ba356b58b5c2>\u001b[0m in \u001b[0;36m<module>\u001b[1;34m\u001b[0m\n\u001b[0;32m     15\u001b[0m     \u001b[0msecond\u001b[0m\u001b[1;33m(\u001b[0m\u001b[1;33m)\u001b[0m\u001b[1;33m\u001b[0m\u001b[1;33m\u001b[0m\u001b[0m\n\u001b[0;32m     16\u001b[0m \u001b[1;33m\u001b[0m\u001b[0m\n\u001b[1;32m---> 17\u001b[1;33m \u001b[0mfirst\u001b[0m\u001b[1;33m(\u001b[0m\u001b[1;33m)\u001b[0m\u001b[1;33m\u001b[0m\u001b[1;33m\u001b[0m\u001b[0m\n\u001b[0m",
      "\u001b[1;32m<ipython-input-31-ba356b58b5c2>\u001b[0m in \u001b[0;36mfirst\u001b[1;34m()\u001b[0m\n\u001b[0;32m     13\u001b[0m \u001b[1;31m#         print(a)\u001b[0m\u001b[1;33m\u001b[0m\u001b[1;33m\u001b[0m\u001b[1;33m\u001b[0m\u001b[0m\n\u001b[0;32m     14\u001b[0m \u001b[1;33m\u001b[0m\u001b[0m\n\u001b[1;32m---> 15\u001b[1;33m     \u001b[0msecond\u001b[0m\u001b[1;33m(\u001b[0m\u001b[1;33m)\u001b[0m\u001b[1;33m\u001b[0m\u001b[1;33m\u001b[0m\u001b[0m\n\u001b[0m\u001b[0;32m     16\u001b[0m \u001b[1;33m\u001b[0m\u001b[0m\n\u001b[0;32m     17\u001b[0m \u001b[0mfirst\u001b[0m\u001b[1;33m(\u001b[0m\u001b[1;33m)\u001b[0m\u001b[1;33m\u001b[0m\u001b[1;33m\u001b[0m\u001b[0m\n",
      "\u001b[1;32m<ipython-input-31-ba356b58b5c2>\u001b[0m in \u001b[0;36msecond\u001b[1;34m()\u001b[0m\n\u001b[0;32m      3\u001b[0m \u001b[1;32mdef\u001b[0m \u001b[0msecond\u001b[0m\u001b[1;33m(\u001b[0m\u001b[1;33m)\u001b[0m\u001b[1;33m:\u001b[0m\u001b[1;33m\u001b[0m\u001b[1;33m\u001b[0m\u001b[0m\n\u001b[0;32m      4\u001b[0m \u001b[1;33m\u001b[0m\u001b[0m\n\u001b[1;32m----> 5\u001b[1;33m         \u001b[0mprint\u001b[0m\u001b[1;33m(\u001b[0m\u001b[0ma\u001b[0m\u001b[1;33m)\u001b[0m\u001b[1;33m\u001b[0m\u001b[1;33m\u001b[0m\u001b[0m\n\u001b[0m\u001b[0;32m      6\u001b[0m \u001b[1;33m\u001b[0m\u001b[0m\n\u001b[0;32m      7\u001b[0m \u001b[1;32mdef\u001b[0m \u001b[0mfirst\u001b[0m\u001b[1;33m(\u001b[0m\u001b[1;33m)\u001b[0m\u001b[1;33m:\u001b[0m\u001b[1;33m\u001b[0m\u001b[1;33m\u001b[0m\u001b[0m\n",
      "\u001b[1;31mNameError\u001b[0m: name 'a' is not defined"
     ]
    }
   ],
   "source": [
    "# 같은 선상에서 선언된 함수들은 서로 변수를 공유할 수 없다. \n",
    "\n",
    "def second():\n",
    "        \n",
    "        print(a)\n",
    "        \n",
    "def first():\n",
    "    \n",
    "    a = \"hi\"\n",
    "    \n",
    "#     def second():\n",
    "        \n",
    "#         print(a)\n",
    "        \n",
    "    second()\n",
    "        \n",
    "first()"
   ]
  }
 ],
 "metadata": {
  "kernelspec": {
   "display_name": "Python 3",
   "language": "python",
   "name": "python3"
  },
  "language_info": {
   "codemirror_mode": {
    "name": "ipython",
    "version": 3
   },
   "file_extension": ".py",
   "mimetype": "text/x-python",
   "name": "python",
   "nbconvert_exporter": "python",
   "pygments_lexer": "ipython3",
   "version": "3.7.1"
  }
 },
 "nbformat": 4,
 "nbformat_minor": 2
}
