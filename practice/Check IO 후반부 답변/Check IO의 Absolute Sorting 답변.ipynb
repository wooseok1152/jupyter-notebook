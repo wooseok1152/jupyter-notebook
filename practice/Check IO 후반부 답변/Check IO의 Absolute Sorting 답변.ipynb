{
 "cells": [
  {
   "cell_type": "code",
   "execution_count": 9,
   "metadata": {},
   "outputs": [],
   "source": [
    "def min(x):\n",
    "    min_index = 0\n",
    "    min_absolute_value = abs(x[0])\n",
    "    for i in range(len(x)):\n",
    "        if abs(x[i]) < min_absolute_value:\n",
    "            min_absolute_value = abs(x[i])\n",
    "            min_index = i\n",
    "    return min_index\n",
    "\n",
    "def sort(x):\n",
    "    for i in range(len(x)):\n",
    "        _tmp = x[i:]\n",
    "        min_index_in_tmp = min(_tmp)\n",
    "        x[i], x[min_index_in_tmp + i] = x[min_index_in_tmp + i], x[i]\n",
    "    return x"
   ]
  },
  {
   "cell_type": "code",
   "execution_count": 14,
   "metadata": {},
   "outputs": [
    {
     "data": {
      "text/plain": [
       "[-1, -3, 4, -5, -6, 8, -9]"
      ]
     },
     "execution_count": 14,
     "metadata": {},
     "output_type": "execute_result"
    }
   ],
   "source": [
    "sort([-5, 4 ,-3, -6, -1, 8,-9])"
   ]
  },
  {
   "cell_type": "code",
   "execution_count": 23,
   "metadata": {},
   "outputs": [],
   "source": [
    "def checkio(numbers_array: tuple) -> list:\n",
    "    numbers_array_list = []\n",
    "    for i in range(len(numbers_array)):\n",
    "        numbers_array_list.append(numbers_array[i])\n",
    "    print(numbers_array_list)\n",
    "        \n",
    "    def min(x):\n",
    "        min_index = 0\n",
    "        min_absolute_value = abs(x[0])\n",
    "        for i in range(len(x)):\n",
    "            if abs(x[i]) < min_absolute_value:\n",
    "                min_absolute_value = abs(x[i])\n",
    "                min_index = i\n",
    "        return min_index\n",
    "\n",
    "    def sort(x):\n",
    "        for i in range(len(x)):\n",
    "            _tmp = x[i:]\n",
    "            min_index_in_tmp = min(_tmp)\n",
    "            x[i], x[min_index_in_tmp + i] = x[min_index_in_tmp + i], x[i]\n",
    "        return x\n",
    "    \n",
    "    return sort(numbers_array_list)"
   ]
  },
  {
   "cell_type": "code",
   "execution_count": 24,
   "metadata": {},
   "outputs": [
    {
     "name": "stdout",
     "output_type": "stream",
     "text": [
      "[-1, 5, -3, -2, 8, -7]\n"
     ]
    },
    {
     "data": {
      "text/plain": [
       "[-1, -2, -3, 5, -7, 8]"
      ]
     },
     "execution_count": 24,
     "metadata": {},
     "output_type": "execute_result"
    }
   ],
   "source": [
    "checkio((-1,5,-3,-2,8,-7))"
   ]
  }
 ],
 "metadata": {
  "kernelspec": {
   "display_name": "Python 3",
   "language": "python",
   "name": "python3"
  },
  "language_info": {
   "codemirror_mode": {
    "name": "ipython",
    "version": 3
   },
   "file_extension": ".py",
   "mimetype": "text/x-python",
   "name": "python",
   "nbconvert_exporter": "python",
   "pygments_lexer": "ipython3",
   "version": "3.7.1"
  }
 },
 "nbformat": 4,
 "nbformat_minor": 2
}
