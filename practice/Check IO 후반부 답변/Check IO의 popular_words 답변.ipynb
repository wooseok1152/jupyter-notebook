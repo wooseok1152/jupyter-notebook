{
 "cells": [
  {
   "cell_type": "code",
   "execution_count": 40,
   "metadata": {},
   "outputs": [
    {
     "name": "stdout",
     "output_type": "stream",
     "text": [
      "Example:\n",
      "\n",
      "when i was one\n",
      "i had just begun\n",
      "when i was two\n",
      "i was nearly new\n",
      "\n",
      "word_list is ['when', 'i', 'was', 'one', 'i', 'had', 'just', 'begun', 'when', 'i', 'was', 'two', 'i', 'was', 'nearly', 'new']\n",
      "{'i': 4, 'was': 3, 'three': 0, 'near': 0}\n",
      "{'i': 4, 'was': 3, 'three': 0, 'near': 0}\n",
      "\n",
      "when i was one\n",
      "i had just begun\n",
      "when i was two\n",
      "i was nearly new\n",
      "\n",
      "word_list is ['when', 'i', 'was', 'one', 'i', 'had', 'just', 'begun', 'when', 'i', 'was', 'two', 'i', 'was', 'nearly', 'new']\n",
      "{'i': 4, 'was': 3, 'three': 0, 'near': 0}\n",
      "Coding complete? Click 'Check' to earn cool rewards!\n"
     ]
    }
   ],
   "source": [
    "def popular_words(text: str, words: list) -> dict:\n",
    "    \n",
    "    text = text.lower()\n",
    "    print(text)\n",
    "    words_list = text.split()\n",
    "    print(\"word_list is\", words_list)\n",
    "    \n",
    "    \n",
    "    result = {}\n",
    "    \n",
    "    for i in words:\n",
    "        count = 0\n",
    "        for j in words_list:\n",
    "            if i == j :\n",
    "                count = count + 1\n",
    "            \n",
    "        else :\n",
    "            result[i] = count\n",
    "                \n",
    "    \n",
    "    print(result)\n",
    "    \n",
    "    return result\n",
    "\n",
    "\n",
    "if __name__ == '__main__':\n",
    "    print(\"Example:\")\n",
    "    print(popular_words('''\n",
    "When I was One\n",
    "I had just begun\n",
    "When I was Two\n",
    "I was nearly new\n",
    "''', ['i', 'was', 'three', 'near']))\n",
    "\n",
    "    # These \"asserts\" are used for self-checking and not for an auto-testing\n",
    "    assert popular_words('''\n",
    "When I was One\n",
    "I had just begun\n",
    "When I was Two\n",
    "I was nearly new\n",
    "''', ['i', 'was', 'three', 'near']) == {\n",
    "        'i': 4,\n",
    "        'was': 3,\n",
    "        'three': 0,\n",
    "        'near': 0\n",
    "    }\n",
    "    print(\"Coding complete? Click 'Check' to earn cool rewards!\")"
   ]
  },
  {
   "cell_type": "code",
   "execution_count": 29,
   "metadata": {},
   "outputs": [],
   "source": [
    "def popular_words(text: str, words: list) -> dict:\n",
    "    \n",
    "    text = text.lower()\n",
    "    words_list = text.split(\" \")\n",
    "    print(words_list)\n",
    "    \n",
    "    no_overlap_word_list = list(set(words_list))\n",
    "    print(no_overlap_word_list)\n",
    "    \n",
    "    result = {}\n",
    "    count = 0\n",
    "    \n",
    "    for i in no_overlap_word_list:\n",
    "        for j in  words_list:\n",
    "            if i == j:\n",
    "                count = count + 1\n",
    "        else :\n",
    "            result[i] = count\n",
    "    \n",
    "    print(result)\n",
    "    \n",
    "    return result\n",
    "                \n",
    "        "
   ]
  },
  {
   "cell_type": "code",
   "execution_count": null,
   "metadata": {},
   "outputs": [],
   "source": []
  },
  {
   "cell_type": "code",
   "execution_count": null,
   "metadata": {},
   "outputs": [],
   "source": []
  },
  {
   "cell_type": "code",
   "execution_count": null,
   "metadata": {},
   "outputs": [],
   "source": []
  }
 ],
 "metadata": {
  "kernelspec": {
   "display_name": "Python 3",
   "language": "python",
   "name": "python3"
  },
  "language_info": {
   "codemirror_mode": {
    "name": "ipython",
    "version": 3
   },
   "file_extension": ".py",
   "mimetype": "text/x-python",
   "name": "python",
   "nbconvert_exporter": "python",
   "pygments_lexer": "ipython3",
   "version": "3.7.1"
  }
 },
 "nbformat": 4,
 "nbformat_minor": 2
}
