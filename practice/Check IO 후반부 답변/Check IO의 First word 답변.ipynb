{
 "cells": [
  {
   "cell_type": "code",
   "execution_count": 27,
   "metadata": {},
   "outputs": [
    {
     "name": "stdout",
     "output_type": "stream",
     "text": [
      "Example:\n",
      "Hello\n",
      "Coding complete? Click 'Check' to earn cool rewards!\n"
     ]
    }
   ],
   "source": [
    "def first_word(text: str) -> str:\n",
    "    new_text = text.replace(\".\", \" \")\n",
    "    new_text = new_text.replace(\",\", \" \") # replace 메소드는 어떤 문자를 다른 문자로 대체시키는 역할을 지니고 있고, 이 메소도는 두 개의 인자값을 받는다.\n",
    "    new_text = new_text.strip(\" \") # strip은 \"~을 떼어내다\"라는 뜻을 지니고 있으며, 해당 메소드는 한 개의 인자값을 받는다.\n",
    "    result = new_text.split(\" \")\n",
    "    return result[0]\n",
    "   \n",
    "\n",
    "\n",
    "if __name__ == '__main__':\n",
    "    print(\"Example:\")\n",
    "    print(first_word(\"Hello world\"))\n",
    "    \n",
    "    # These \"asserts\" are used for self-checking and not for an auto-testing\n",
    "    assert first_word(\"Hello world\") == \"Hello\"\n",
    "    assert first_word(\" a word \") == \"a\"\n",
    "    assert first_word(\"don't touch it\") == \"don't\"\n",
    "    assert first_word(\"greetings, friends\") == \"greetings\"\n",
    "    assert first_word(\"... and so on ...\") == \"and\"\n",
    "    assert first_word(\"hi\") == \"hi\"\n",
    "    assert first_word(\"Hello.World\") == \"Hello\"\n",
    "    print(\"Coding complete? Click 'Check' to earn cool rewards!\")"
   ]
  }
 ],
 "metadata": {
  "kernelspec": {
   "display_name": "Python 3",
   "language": "python",
   "name": "python3"
  },
  "language_info": {
   "codemirror_mode": {
    "name": "ipython",
    "version": 3
   },
   "file_extension": ".py",
   "mimetype": "text/x-python",
   "name": "python",
   "nbconvert_exporter": "python",
   "pygments_lexer": "ipython3",
   "version": "3.7.1"
  }
 },
 "nbformat": 4,
 "nbformat_minor": 2
}
