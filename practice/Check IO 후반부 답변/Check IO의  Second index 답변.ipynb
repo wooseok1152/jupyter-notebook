{
 "cells": [
  {
   "cell_type": "code",
   "execution_count": 12,
   "metadata": {},
   "outputs": [
    {
     "name": "stdout",
     "output_type": "stream",
     "text": [
      "Example:\n",
      "[0, 3]\n",
      "3\n",
      "[0, 3]\n",
      "[7, 12]\n",
      "[]\n",
      "[2]\n",
      "[2, 5]\n",
      "You are awesome! All tests are done! Go Check it!\n"
     ]
    }
   ],
   "source": [
    "def second_index(text: str, symbol: str) -> [int, None]:\n",
    "    list_for_same_letter_index = []\n",
    "    for i in range(len(text)):\n",
    "        if text[i] == symbol:\n",
    "            list_for_same_letter_index.append(i)\n",
    "    print(list_for_same_letter_index)\n",
    "    if len(list_for_same_letter_index) < 2:\n",
    "        return None\n",
    "    elif len(list_for_same_letter_index) >= 2:\n",
    "        return list_for_same_letter_index[1]\n",
    "\n",
    "\n",
    "if __name__ == '__main__':\n",
    "    print('Example:')\n",
    "    print(second_index(\"sims\", \"s\"))\n",
    "\n",
    "    # These \"asserts\" are used for self-checking and not for an auto-testing\n",
    "    assert second_index(\"sims\", \"s\") == 3, \"First\"\n",
    "    assert second_index(\"find the river\", \"e\") == 12, \"Second\"\n",
    "    assert second_index(\"hi\", \" \") is None, \"Third\"\n",
    "    assert second_index(\"hi mayor\", \" \") is None, \"Fourth\"\n",
    "    assert second_index(\"hi mr Mayor\", \" \") == 5, \"Fifth\"\n",
    "    print('You are awesome! All tests are done! Go Check it!')\n"
   ]
  },
  {
   "cell_type": "code",
   "execution_count": 9,
   "metadata": {},
   "outputs": [],
   "source": [
    "def second_index(text: str, symbol: str) -> [int, None]:\n",
    "    list_for_same_letter_index = []\n",
    "    for i in range(len(text)):\n",
    "        if text[i] == symbol:\n",
    "            list_for_same_letter_index.append(i)\n",
    "    print(list_for_same_letter_index)\n"
   ]
  },
  {
   "cell_type": "code",
   "execution_count": 10,
   "metadata": {},
   "outputs": [
    {
     "name": "stdout",
     "output_type": "stream",
     "text": [
      "[0]\n"
     ]
    }
   ],
   "source": [
    "second_index(\"sim\", \"s\")"
   ]
  },
  {
   "cell_type": "code",
   "execution_count": null,
   "metadata": {},
   "outputs": [],
   "source": []
  }
 ],
 "metadata": {
  "kernelspec": {
   "display_name": "Python 3",
   "language": "python",
   "name": "python3"
  },
  "language_info": {
   "codemirror_mode": {
    "name": "ipython",
    "version": 3
   },
   "file_extension": ".py",
   "mimetype": "text/x-python",
   "name": "python",
   "nbconvert_exporter": "python",
   "pygments_lexer": "ipython3",
   "version": "3.7.1"
  }
 },
 "nbformat": 4,
 "nbformat_minor": 2
}
