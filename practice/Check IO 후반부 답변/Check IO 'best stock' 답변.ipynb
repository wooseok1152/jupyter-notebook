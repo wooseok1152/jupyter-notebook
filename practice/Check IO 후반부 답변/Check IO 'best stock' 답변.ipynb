{
 "cells": [
  {
   "cell_type": "code",
   "execution_count": 5,
   "metadata": {},
   "outputs": [
    {
     "name": "stdout",
     "output_type": "stream",
     "text": [
      "Example:\n",
      "ATX\n",
      "Coding complete? Click 'Check' to earn cool rewards!\n"
     ]
    }
   ],
   "source": [
    "def best_stock(data):\n",
    "    change_to_list = list(data) # tuple class type의 객체에 list 함수를 사용하면, tuple 내에 존재했던 키들이 요소로 존재하는 리스트가 형성된다.\n",
    "    max_stock_name = change_to_list[0]\n",
    "    for i in range(len(change_to_list)):\n",
    "        if data[max_stock_name] < data[change_to_list[i]]:\n",
    "            max_stock_name = change_to_list[i]\n",
    "    return max_stock_name\n",
    "\n",
    "\n",
    "if __name__ == '__main__':\n",
    "    print(\"Example:\")\n",
    "    print(best_stock({\n",
    "        'CAC': 10.0,\n",
    "        'ATX': 390.2,\n",
    "        'WIG': 1.2\n",
    "    }))\n",
    "\n",
    "    # These \"asserts\" are used for self-checking and not for an auto-testing\n",
    "    assert best_stock({\n",
    "        'CAC': 10.0,\n",
    "        'ATX': 390.2,\n",
    "        'WIG': 1.2\n",
    "    }) == 'ATX', \"First\"\n",
    "    assert best_stock({\n",
    "        'CAC': 91.1,\n",
    "        'ATX': 1.01,\n",
    "        'TASI': 120.9\n",
    "    }) == 'TASI', \"Second\"\n",
    "    print(\"Coding complete? Click 'Check' to earn cool rewards!\")\n"
   ]
  }
 ],
 "metadata": {
  "kernelspec": {
   "display_name": "Python 3",
   "language": "python",
   "name": "python3"
  },
  "language_info": {
   "codemirror_mode": {
    "name": "ipython",
    "version": 3
   },
   "file_extension": ".py",
   "mimetype": "text/x-python",
   "name": "python",
   "nbconvert_exporter": "python",
   "pygments_lexer": "ipython3",
   "version": "3.7.1"
  }
 },
 "nbformat": 4,
 "nbformat_minor": 2
}
