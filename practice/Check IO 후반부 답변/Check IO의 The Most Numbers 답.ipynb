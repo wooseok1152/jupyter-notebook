{
 "cells": [
  {
   "cell_type": "code",
   "execution_count": 18,
   "metadata": {},
   "outputs": [
    {
     "name": "stdout",
     "output_type": "stream",
     "text": [
      "Example:\n",
      "2\n",
      "Coding complete? Click 'Check' to review your tests and earn cool rewards!\n"
     ]
    }
   ],
   "source": [
    "def checkio(*args): # 매개변수 앞에 * 붙으면 인자의 갯수를 모르더라도, 해당 인자를 받아올 수 있다.\n",
    "    if bool(args) == True:\n",
    "        tuple_to_list = []\n",
    "        for i in range(len(args)):\n",
    "            tuple_to_list.append(args[i])\n",
    "\n",
    "        def min(x):\n",
    "            min_value = tuple_to_list[0]\n",
    "            for i in range(len(tuple_to_list)):\n",
    "                if tuple_to_list[i] < min_value:\n",
    "                    min_value = tuple_to_list[i]\n",
    "            return min_value\n",
    "\n",
    "        def max(x):\n",
    "            max_value = tuple_to_list[0]\n",
    "            for i in range(len(tuple_to_list)):\n",
    "                if tuple_to_list[i] > max_value:\n",
    "                    max_value = tuple_to_list[i]\n",
    "            return max_value\n",
    "\n",
    "        return max(args) - min(args) \n",
    "    \n",
    "    elif bool(args) == False :\n",
    "        return 0\n",
    "\n",
    "\n",
    "#These \"asserts\" using only for self-checking and not necessary for auto-testing\n",
    "if __name__ == '__main__':\n",
    "    def almost_equal(checked, correct, significant_digits):\n",
    "        precision = 0.1 ** significant_digits\n",
    "        return correct - precision < checked < correct + precision\n",
    "        \n",
    "    print('Example:')\n",
    "    print(checkio(1, 2, 3))\n",
    "    \n",
    "    assert almost_equal(checkio(1, 2, 3), 2, 3), \"3-1=2\"\n",
    "    assert almost_equal(checkio(5, -5), 10, 3), \"5-(-5)=10\"\n",
    "    assert almost_equal(checkio(10.2, -2.2, 0, 1.1, 0.5), 12.4, 3), \"10.2-(-2.2)=12.4\"\n",
    "    assert almost_equal(checkio(), 0, 3), \"Empty\"\n",
    "    print(\"Coding complete? Click 'Check' to review your tests and earn cool rewards!\")\n"
   ]
  },
  {
   "cell_type": "code",
   "execution_count": null,
   "metadata": {},
   "outputs": [],
   "source": [
    "tuple_to_list = []\n",
    "for i in range(len(args)):\n",
    "    tuple_to_list.append(args[i])\n",
    "\n",
    "def min(x):\n",
    "    min_value = tuple_to_list[0]\n",
    "    for i in range(len(tuple_to_list)):\n",
    "        if tuple_to_list[i] < min_value:\n",
    "            min_value = tuple_to_list[i]\n",
    "    return min_value\n",
    "\n",
    "def max(x):\n",
    "    max_value = tuple_to_list[0]\n",
    "    for i in range(len(tuple_to_list)):\n",
    "        if tuple_to_list[i] > max_value:\n",
    "            max_value = tuple_to_list[i]\n",
    "    return max_value\n",
    "\n",
    "\n",
    "\n",
    "    "
   ]
  },
  {
   "cell_type": "code",
   "execution_count": 2,
   "metadata": {},
   "outputs": [],
   "source": [
    "i = 1, 2, 3"
   ]
  },
  {
   "cell_type": "code",
   "execution_count": 3,
   "metadata": {},
   "outputs": [
    {
     "data": {
      "text/plain": [
       "(1, 2, 3)"
      ]
     },
     "execution_count": 3,
     "metadata": {},
     "output_type": "execute_result"
    }
   ],
   "source": [
    "i"
   ]
  },
  {
   "cell_type": "code",
   "execution_count": 4,
   "metadata": {},
   "outputs": [
    {
     "data": {
      "text/plain": [
       "tuple"
      ]
     },
     "execution_count": 4,
     "metadata": {},
     "output_type": "execute_result"
    }
   ],
   "source": [
    "type(i)"
   ]
  },
  {
   "cell_type": "code",
   "execution_count": 5,
   "metadata": {},
   "outputs": [
    {
     "data": {
      "text/plain": [
       "3"
      ]
     },
     "execution_count": 5,
     "metadata": {},
     "output_type": "execute_result"
    }
   ],
   "source": [
    "len(i)"
   ]
  },
  {
   "cell_type": "code",
   "execution_count": 12,
   "metadata": {},
   "outputs": [
    {
     "data": {
      "text/plain": [
       "True"
      ]
     },
     "execution_count": 12,
     "metadata": {},
     "output_type": "execute_result"
    }
   ],
   "source": [
    "bool(i)"
   ]
  },
  {
   "cell_type": "code",
   "execution_count": 13,
   "metadata": {},
   "outputs": [],
   "source": [
    "a = None"
   ]
  },
  {
   "cell_type": "code",
   "execution_count": 14,
   "metadata": {},
   "outputs": [
    {
     "data": {
      "text/plain": [
       "False"
      ]
     },
     "execution_count": 14,
     "metadata": {},
     "output_type": "execute_result"
    }
   ],
   "source": [
    "bool(a)"
   ]
  },
  {
   "cell_type": "code",
   "execution_count": 15,
   "metadata": {},
   "outputs": [],
   "source": [
    "a = [1,2,3]"
   ]
  },
  {
   "cell_type": "code",
   "execution_count": 16,
   "metadata": {},
   "outputs": [
    {
     "data": {
      "text/plain": [
       "True"
      ]
     },
     "execution_count": 16,
     "metadata": {},
     "output_type": "execute_result"
    }
   ],
   "source": [
    "bool(a)"
   ]
  },
  {
   "cell_type": "code",
   "execution_count": null,
   "metadata": {},
   "outputs": [],
   "source": []
  }
 ],
 "metadata": {
  "kernelspec": {
   "display_name": "Python 3",
   "language": "python",
   "name": "python3"
  },
  "language_info": {
   "codemirror_mode": {
    "name": "ipython",
    "version": 3
   },
   "file_extension": ".py",
   "mimetype": "text/x-python",
   "name": "python",
   "nbconvert_exporter": "python",
   "pygments_lexer": "ipython3",
   "version": "3.7.1"
  }
 },
 "nbformat": 4,
 "nbformat_minor": 2
}
