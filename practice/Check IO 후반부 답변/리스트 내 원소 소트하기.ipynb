{
 "cells": [
  {
   "cell_type": "code",
   "execution_count": 59,
   "metadata": {},
   "outputs": [],
   "source": [
    "def min(x):\n",
    "    min_idx = 0\n",
    "    min = x[0]\n",
    "    for i in range(1, len(x)):\n",
    "        if min > x[i]:\n",
    "            min = x[i]\n",
    "            min_idx = i\n",
    "    return min_idx\n",
    "\n",
    "def sort(x):\n",
    "    for i in range(len(x)):\n",
    "        _tmp = x[i:]\n",
    "        minindx_in_tmp = min(_tmp)\n",
    "        x[i], x[minindx_in_tmp + i] = x[minindx_in_tmp + i], x[i]\n",
    "    return x\n"
   ]
  },
  {
   "cell_type": "code",
   "execution_count": 61,
   "metadata": {},
   "outputs": [
    {
     "data": {
      "text/plain": [
       "[1, 3, 4, 5, 6, 7, 8]"
      ]
     },
     "execution_count": 61,
     "metadata": {},
     "output_type": "execute_result"
    }
   ],
   "source": [
    "sort([1,5,6,7,3,4,8])"
   ]
  },
  {
   "cell_type": "code",
   "execution_count": 62,
   "metadata": {},
   "outputs": [
    {
     "data": {
      "text/plain": [
       "['가', '나', '다']"
      ]
     },
     "execution_count": 62,
     "metadata": {},
     "output_type": "execute_result"
    }
   ],
   "source": [
    "sort([\"가\", \"다\", \"나\"])"
   ]
  },
  {
   "cell_type": "code",
   "execution_count": 63,
   "metadata": {},
   "outputs": [
    {
     "data": {
      "text/plain": [
       "['A', 'B', 'C', 'D', 'I', 'L', 'M']"
      ]
     },
     "execution_count": 63,
     "metadata": {},
     "output_type": "execute_result"
    }
   ],
   "source": [
    "sort([\"D\", \"B\", \"A\", \"C\", \"I\", \"M\", \"L\"])"
   ]
  }
 ],
 "metadata": {
  "kernelspec": {
   "display_name": "Python 3",
   "language": "python",
   "name": "python3"
  },
  "language_info": {
   "codemirror_mode": {
    "name": "ipython",
    "version": 3
   },
   "file_extension": ".py",
   "mimetype": "text/x-python",
   "name": "python",
   "nbconvert_exporter": "python",
   "pygments_lexer": "ipython3",
   "version": "3.7.1"
  }
 },
 "nbformat": 4,
 "nbformat_minor": 2
}
