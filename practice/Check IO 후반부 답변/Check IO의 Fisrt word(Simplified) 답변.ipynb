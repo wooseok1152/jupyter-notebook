{
 "cells": [
  {
   "cell_type": "code",
   "execution_count": 9,
   "metadata": {},
   "outputs": [
    {
     "name": "stdout",
     "output_type": "stream",
     "text": [
      "Example:\n",
      "Hello\n",
      "Coding complete? Click 'Check' to earn cool rewards!\n"
     ]
    }
   ],
   "source": [
    "def first_word(text: str) -> str:\n",
    "    split_string = text.split(\" \")\n",
    "    first_word = split_string[0]\n",
    "    return first_word\n",
    "    # your code here\n",
    "\n",
    "\n",
    "if __name__ == '__main__':\n",
    "    print(\"Example:\")\n",
    "    print(first_word(\"Hello world\"))\n",
    "    \n",
    "    # These \"asserts\" are used for self-checking and not for an auto-testing\n",
    "    assert first_word(\"Hello world\") == \"Hello\"\n",
    "    assert first_word(\"a word\") == \"a\"\n",
    "    assert first_word(\"hi\") == \"hi\"\n",
    "    print(\"Coding complete? Click 'Check' to earn cool rewards!\")"
   ]
  },
  {
   "cell_type": "code",
   "execution_count": 1,
   "metadata": {},
   "outputs": [],
   "source": [
    "a = \"Hello Word\""
   ]
  },
  {
   "cell_type": "code",
   "execution_count": 5,
   "metadata": {},
   "outputs": [],
   "source": [
    "split_string = a.split(\" \")"
   ]
  },
  {
   "cell_type": "code",
   "execution_count": 6,
   "metadata": {},
   "outputs": [
    {
     "data": {
      "text/plain": [
       "'Hello'"
      ]
     },
     "execution_count": 6,
     "metadata": {},
     "output_type": "execute_result"
    }
   ],
   "source": [
    "split_string[0]"
   ]
  }
 ],
 "metadata": {
  "kernelspec": {
   "display_name": "Python 3",
   "language": "python",
   "name": "python3"
  },
  "language_info": {
   "codemirror_mode": {
    "name": "ipython",
    "version": 3
   },
   "file_extension": ".py",
   "mimetype": "text/x-python",
   "name": "python",
   "nbconvert_exporter": "python",
   "pygments_lexer": "ipython3",
   "version": "3.7.1"
  }
 },
 "nbformat": 4,
 "nbformat_minor": 2
}
