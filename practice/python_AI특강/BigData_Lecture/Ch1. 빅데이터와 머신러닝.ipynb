{
 "cells": [
  {
   "cell_type": "markdown",
   "metadata": {
    "colab_type": "text",
    "id": "eMGatuO1VO03"
   },
   "source": [
    "# <font color='blue'><div style=\"text-align: center\">Ch 1.빅데이터와 머신러닝</font> \n",
    "\n",
    "## 1-1.빅데이터 기술의 필요성\n",
    "    \n",
    "* 우리는 이미 상당량의 디지털 데이터를 발생시키는 주체이고 이용하는 주체이다.\n",
    "* 이른바, 빅데이터 세상에 살고 있다. 이러한 생활 밀착형 서비스에는 데이터가 필요하다.\n",
    "![bigdata](https://drive.google.com/uc?id=1I9V8yLX64NxzhFOvBKZn8f45fLQ5wl4C)\n",
    "   \n",
    "* 데이터는 데이터베이스 라는 거대 컴퓨터에 저장된다.\n",
    "* 구글, 네이버, 유튜브의 자료가 저장된 곳을 상상해보자. <br>\n",
    "\n",
    "    ![bigdata1](https://drive.google.com/uc?id=1c5mo2U3HBwTdDjotXgrkU8c1cReu3pPq)\n",
    "<br>\n",
    "* 데이터가 커지면 비용도 증가한다. <br>\n",
    "![bigdata2](https://drive.google.com/uc?id=1XYAOXv7822k3kTYF6Jt-ggo8Eeb1P77Q)    \n",
    "\n",
    "* 컴퓨터 입장에서는 데이터가 커져도 기술적으로 달라질 것이 없으나 ...\n",
    "* 데이터 사이즈가 기술적, 물리적으로 단일 컴퓨터, 단일 데이터베이스로 \n",
    "   처리하는데 무리가 되는 크기의 데이터가 있다면 ... 혹은 비용 이슈가 있다면 ...\n",
    "   예: 구글, 네이버 검색 정보, 유튜브의 보유 동영상, 페이스 북 보유 자료, 센서 로그 등\n",
    "* 대용량 컴퓨터로 처리하는 것이 비용 면에서 효율적이 아님\n",
    "\n",
    "* 이에 대한 해결책으로 ... 분산 처리 Computing 방법론 탄생\n",
    "* 빅데이터 시대 초반에는 분산처리를 통해 막대한 량의 정보를 처리하여 부가가치를 창출하고자 함\n",
    "* 현재는 이러한 내용보다는 빅데이터와 머신러닝의 조합에서 부가가치를 창출하는 쪽으로 발전함\n",
    "* 엄청난 비용을 감당하기 위해 분산처리 방법론 탄생\n",
    "    \n",
    "## 1-2.정형 데이터와 비정형 데이터\n",
    "* 일반적으로 데이터라고 하면 엑셀형식의 사각형 자료를 말함\n",
    "   예: 학생 개인별  과목 성적표\n",
    "* 비정형 데이터는 행과 열이 일정하지 않은 숫자나 문자자료 혹은 그림이나 소리, 동영상과 같이 숫자나 문자로 표현했을 때,\n",
    "   의미 파악이 어려운 자료\n",
    "* static Data: 개체의 속성에 해당하는 데이터로 시간에 따라 바뀌지 않는 데이터를 말함(저장이 용이함)\n",
    "  예: 성별, 연령, 지역, 제조사, 생산일 등   \n",
    "* Dynamic Data:  개체의 상태에 해당하는 데이터로 시간에 따라 바뀌는 데이터를 말함(일반적으로 저장하지 않음)\n",
    "  예: 현 위치, 댓글, 지금하고 있는 말, 지금 클릭한 페이지 등    \n",
    "* Dynamic Data를 저장하기 시작한 것이 빅데이터의 시작임\n",
    "* Dynamic Data를 이용한 성공사례가 나타나고 있음    \n",
    "![bigdata3](https://drive.google.com/uc?id=1KhRwf60tMaH2-e482a-lkfObmSLn-tvB)    \n",
    "\n",
    "* 성공사례로는 자율주행, 구글번역, 스팸분류기, 공정불량제어, CT 이미지 판독 등 수많은 사례가 나옴\n",
    "* 이러한 성공 사례는 빅데이터를 재료로 머신러닝을 사용하는 것임\n",
    "* 그래서 우리는 빅데이터를 다루는 기술과 머신러닝을 공부해야하는 것임\n",
    "\n"
   ]
  },
  {
   "cell_type": "code",
   "execution_count": 0,
   "metadata": {
    "colab": {},
    "colab_type": "code",
    "id": "Mfp0o3FvjISf"
   },
   "outputs": [],
   "source": []
  }
 ],
 "metadata": {
  "colab": {
   "collapsed_sections": [],
   "name": "Ch1. 빅데이터와 머신러닝.ipynb",
   "provenance": []
  },
  "kernelspec": {
   "display_name": "Python 3",
   "language": "python",
   "name": "python3"
  },
  "language_info": {
   "codemirror_mode": {
    "name": "ipython",
    "version": 3
   },
   "file_extension": ".py",
   "mimetype": "text/x-python",
   "name": "python",
   "nbconvert_exporter": "python",
   "pygments_lexer": "ipython3",
   "version": "3.7.1"
  }
 },
 "nbformat": 4,
 "nbformat_minor": 1
}
