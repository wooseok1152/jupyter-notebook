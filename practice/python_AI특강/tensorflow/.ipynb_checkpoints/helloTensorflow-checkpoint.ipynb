{
 "cells": [
  {
   "cell_type": "code",
   "execution_count": 1,
   "metadata": {
    "colab": {
     "base_uri": "https://localhost:8080/",
     "height": 53
    },
    "colab_type": "code",
    "executionInfo": {
     "elapsed": 2049,
     "status": "ok",
     "timestamp": 1558003170252,
     "user": {
      "displayName": "swkim김승환",
      "photoUrl": "",
      "userId": "01255046753553274360"
     },
     "user_tz": -540
    },
    "id": "mexswW6BDLlu",
    "outputId": "e9dafd07-c4ef-4668-e2ea-d6c2751c2ee3"
   },
   "outputs": [
    {
     "name": "stdout",
     "output_type": "stream",
     "text": [
      "Tensor(\"Const:0\", shape=(), dtype=string)\n",
      "b'Hello Tensorflow~'\n"
     ]
    }
   ],
   "source": [
    "# hello.ipynb\n",
    "import tensorflow as tf\n",
    "hello=tf.constant(\"Hello Tensorflow~\")\n",
    "print (hello)\n",
    "sess=tf.Session()\n",
    "result=sess.run(hello)\n",
    "print (result)"
   ]
  },
  {
   "cell_type": "code",
   "execution_count": 0,
   "metadata": {
    "colab": {
     "base_uri": "https://localhost:8080/",
     "height": 35
    },
    "colab_type": "code",
    "executionInfo": {
     "elapsed": 849,
     "status": "ok",
     "timestamp": 1541676307234,
     "user": {
      "displayName": "swkim김승환",
      "photoUrl": "",
      "userId": "01255046753553274360"
     },
     "user_tz": -540
    },
    "id": "jiusL7LSDZTk",
    "outputId": "d696e63d-e203-4781-e299-d111b33cebf7"
   },
   "outputs": [
    {
     "name": "stdout",
     "output_type": "stream",
     "text": [
      "3\n"
     ]
    }
   ],
   "source": [
    "# TFConstant.ipynb\n",
    "import tensorflow as tf\n",
    "a=tf.constant(1)\n",
    "b=tf.constant(2)\n",
    "c=a+b\n",
    "sess=tf.Session()\n",
    "result=sess.run(c)\n",
    "print (result)"
   ]
  },
  {
   "cell_type": "code",
   "execution_count": 0,
   "metadata": {
    "colab": {
     "base_uri": "https://localhost:8080/",
     "height": 35
    },
    "colab_type": "code",
    "executionInfo": {
     "elapsed": 547,
     "status": "ok",
     "timestamp": 1541676316445,
     "user": {
      "displayName": "swkim김승환",
      "photoUrl": "",
      "userId": "01255046753553274360"
     },
     "user_tz": -540
    },
    "id": "ZBNbXZWaEYIu",
    "outputId": "c32114d2-1b39-46ef-875e-4a27b1c03ace"
   },
   "outputs": [
    {
     "name": "stdout",
     "output_type": "stream",
     "text": [
      "[11 22]\n"
     ]
    }
   ],
   "source": [
    "# TFVariable. ipynb\n",
    "import tensorflow as tf\n",
    "a=tf.Variable([10, 20])\n",
    "b=tf.Variable([1,2])\n",
    "c=a+b\n",
    "init=tf.global_variables_initializer() # variable 초기화\n",
    "sess=tf.Session()\n",
    "sess.run(init)\n",
    "print (sess.run(c))"
   ]
  },
  {
   "cell_type": "code",
   "execution_count": 0,
   "metadata": {
    "colab": {
     "base_uri": "https://localhost:8080/",
     "height": 35
    },
    "colab_type": "code",
    "executionInfo": {
     "elapsed": 588,
     "status": "ok",
     "timestamp": 1541676329108,
     "user": {
      "displayName": "swkim김승환",
      "photoUrl": "",
      "userId": "01255046753553274360"
     },
     "user_tz": -540
    },
    "id": "kzZR1u3OEbS6",
    "outputId": "5bc8843c-02e1-4f17-a4bf-dc26721f0862"
   },
   "outputs": [
    {
     "name": "stdout",
     "output_type": "stream",
     "text": [
      "9.0\n"
     ]
    }
   ],
   "source": [
    "# TFPlaceholder. ipynb\n",
    "import tensorflow as tf\n",
    "a = tf.placeholder(\"float\")\n",
    "b = tf.placeholder(\"float\")\n",
    "y = tf.multiply(a, b)\n",
    "sess = tf.Session()\n",
    "print (sess.run(y, feed_dict={a: 3, b: 3}))"
   ]
  },
  {
   "cell_type": "code",
   "execution_count": 0,
   "metadata": {
    "colab": {},
    "colab_type": "code",
    "id": "CL-XfffwEeYb"
   },
   "outputs": [],
   "source": []
  }
 ],
 "metadata": {
  "colab": {
   "name": "helloTensorflow.ipynb",
   "provenance": [],
   "version": "0.3.2"
  },
  "kernelspec": {
   "display_name": "Python 3",
   "language": "python",
   "name": "python3"
  },
  "language_info": {
   "codemirror_mode": {
    "name": "ipython",
    "version": 3
   },
   "file_extension": ".py",
   "mimetype": "text/x-python",
   "name": "python",
   "nbconvert_exporter": "python",
   "pygments_lexer": "ipython3",
   "version": "3.7.1"
  }
 },
 "nbformat": 4,
 "nbformat_minor": 1
}
