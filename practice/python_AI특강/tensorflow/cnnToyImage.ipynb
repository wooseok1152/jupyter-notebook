{
 "cells": [
  {
   "cell_type": "code",
   "execution_count": 0,
   "metadata": {
    "colab": {
     "base_uri": "https://localhost:8080/",
     "height": 368
    },
    "colab_type": "code",
    "executionInfo": {
     "elapsed": 713,
     "status": "ok",
     "timestamp": 1534291510775,
     "user": {
      "displayName": "김승환",
      "photoUrl": "//lh3.googleusercontent.com/-bIwSv0Nfj9E/AAAAAAAAAAI/AAAAAAAAAH0/Zj1PLbJCjmQ/s50-c-k-no/photo.jpg",
      "userId": "100312159433143570925"
     },
     "user_tz": -540
    },
    "id": "JWY5xoqbEzYK",
    "outputId": "ec2bc0ec-7166-4c39-9aec-65af4e478c8d"
   },
   "outputs": [
    {
     "name": "stdout",
     "output_type": "stream",
     "text": [
      "(1, 3, 3, 1)\n"
     ]
    },
    {
     "data": {
      "image/png": "[encoded data removed]",
      "text/plain": [
       "<matplotlib.figure.Figure at 0x7f6b8a4d2790>"
      ]
     },
     "metadata": {
      "tags": []
     },
     "output_type": "display_data"
    }
   ],
   "source": [
    "import os\n",
    "os.environ['TF_CPP_MIN_LOG_LEVEL'] = '2'\n",
    "import tensorflow as tf\n",
    "import numpy as np\n",
    "import matplotlib.pyplot as plt\n",
    "\n",
    "sess=tf.InteractiveSession()\n",
    "\n",
    "image=np.array([[[[1],[2],[3]],\n",
    "                 [[4],[5],[6]],\n",
    "                 [[7],[8],[9]]]], dtype=np.float32)\n",
    "\n",
    "print (image.shape)\n",
    "plt.grid(False)\n",
    "plt.imshow(image.reshape(3,3), cmap='Greys')\n",
    "plt.show()"
   ]
  },
  {
   "cell_type": "code",
   "execution_count": 0,
   "metadata": {
    "colab": {
     "base_uri": "https://localhost:8080/",
     "height": 122
    },
    "colab_type": "code",
    "executionInfo": {
     "elapsed": 604,
     "status": "ok",
     "timestamp": 1534291515066,
     "user": {
      "displayName": "김승환",
      "photoUrl": "//lh3.googleusercontent.com/-bIwSv0Nfj9E/AAAAAAAAAAI/AAAAAAAAAH0/Zj1PLbJCjmQ/s50-c-k-no/photo.jpg",
      "userId": "100312159433143570925"
     },
     "user_tz": -540
    },
    "id": "KQclJeTkzVid",
    "outputId": "2a96631b-b41d-4d0c-f236-4ebfb27d2efb"
   },
   "outputs": [
    {
     "name": "stdout",
     "output_type": "stream",
     "text": [
      "('weight.shape', TensorShape([Dimension(2), Dimension(2), Dimension(1), Dimension(1)]))\n",
      "('conv2d_img.shape', array([[[[12.],\n",
      "         [16.]],\n",
      "\n",
      "        [[24.],\n",
      "         [28.]]]], dtype=float32))\n"
     ]
    }
   ],
   "source": [
    "weight=tf.constant([[[[1.]],[[1.]]],\n",
    "                    [[[1.]],[[1.]]]])\n",
    "print (\"weight.shape\", weight.shape)\n",
    "conv2d=tf.nn.conv2d(image, weight, strides=[1,1,1,1], padding='VALID')\n",
    "conv2d_img=conv2d.eval()\n",
    "print (\"conv2d_img.shape\",conv2d_img )"
   ]
  },
  {
   "cell_type": "code",
   "execution_count": 0,
   "metadata": {
    "colab": {
     "base_uri": "https://localhost:8080/",
     "height": 209
    },
    "colab_type": "code",
    "executionInfo": {
     "elapsed": 597,
     "status": "ok",
     "timestamp": 1534291542883,
     "user": {
      "displayName": "김승환",
      "photoUrl": "//lh3.googleusercontent.com/-bIwSv0Nfj9E/AAAAAAAAAAI/AAAAAAAAAH0/Zj1PLbJCjmQ/s50-c-k-no/photo.jpg",
      "userId": "100312159433143570925"
     },
     "user_tz": -540
    },
    "id": "3Q7qvPH67YgN",
    "outputId": "26f706aa-3304-4972-ed15-eb786846c344"
   },
   "outputs": [
    {
     "name": "stdout",
     "output_type": "stream",
     "text": [
      "('conv2d_img.shape', array([[[[12.],\n",
      "         [16.],\n",
      "         [ 9.]],\n",
      "\n",
      "        [[24.],\n",
      "         [28.],\n",
      "         [15.]],\n",
      "\n",
      "        [[15.],\n",
      "         [17.],\n",
      "         [ 9.]]]], dtype=float32))\n"
     ]
    }
   ],
   "source": [
    "conv2d = tf.nn.conv2d(image, weight, strides=[1,1,1,1], padding='SAME')\n",
    "conv2d = tf.nn.relu(conv2d)\n",
    "conv2d_img=conv2d.eval()\n",
    "print (\"conv2d_img.shape\",conv2d_img )"
   ]
  },
  {
   "cell_type": "code",
   "execution_count": 0,
   "metadata": {
    "colab": {
     "base_uri": "https://localhost:8080/",
     "height": 139
    },
    "colab_type": "code",
    "executionInfo": {
     "elapsed": 716,
     "status": "ok",
     "timestamp": 1534291608238,
     "user": {
      "displayName": "김승환",
      "photoUrl": "//lh3.googleusercontent.com/-bIwSv0Nfj9E/AAAAAAAAAAI/AAAAAAAAAH0/Zj1PLbJCjmQ/s50-c-k-no/photo.jpg",
      "userId": "100312159433143570925"
     },
     "user_tz": -540
    },
    "id": "tGvsYKup5_Ao",
    "outputId": "99cbf0e1-bce5-473c-d804-b25c36edca8a"
   },
   "outputs": [
    {
     "name": "stdout",
     "output_type": "stream",
     "text": [
      "(1, 3, 3, 3)\n",
      "('weight.shape', TensorShape([Dimension(2), Dimension(2), Dimension(3), Dimension(1)]))\n",
      "('conv2d_img.shape', array([[[[36.],\n",
      "         [48.]],\n",
      "\n",
      "        [[72.],\n",
      "         [84.]]]], dtype=float32))\n"
     ]
    }
   ],
   "source": [
    "image=np.array([[[[1,1,1],[2,2,2],[3,3,3]],\n",
    "                 [[4,4,4],[5,5,5],[6,6,6]],\n",
    "                 [[7,7,7],[8,8,8],[9,9,9]]]], dtype=np.float32)\n",
    "print (image.shape)\n",
    "weight=tf.constant([[[[1.],[1.],[1.]],[[1.],[1.],[1.]]],\n",
    "                    [[[1.],[1.],[1.]],[[1.],[1.],[1.]]]])\n",
    "print (\"weight.shape\", weight.shape)\n",
    "\n",
    "conv2d=tf.nn.conv2d(image, weight, strides=[1,1,1,1], padding='VALID')\n",
    "conv2d_img=conv2d.eval()\n",
    "print (\"conv2d_img.shape\", conv2d_img )\n"
   ]
  },
  {
   "cell_type": "code",
   "execution_count": 0,
   "metadata": {
    "colab": {
     "base_uri": "https://localhost:8080/",
     "height": 52
    },
    "colab_type": "code",
    "executionInfo": {
     "elapsed": 624,
     "status": "ok",
     "timestamp": 1534291990303,
     "user": {
      "displayName": "김승환",
      "photoUrl": "//lh3.googleusercontent.com/-bIwSv0Nfj9E/AAAAAAAAAAI/AAAAAAAAAH0/Zj1PLbJCjmQ/s50-c-k-no/photo.jpg",
      "userId": "100312159433143570925"
     },
     "user_tz": -540
    },
    "id": "5I3PgSNczxeH",
    "outputId": "f8dfa187-35e1-4059-d5ff-5da4227a2e1c"
   },
   "outputs": [
    {
     "name": "stdout",
     "output_type": "stream",
     "text": [
      "('weight.shape', TensorShape([Dimension(2), Dimension(2), Dimension(1), Dimension(3)]))\n",
      "('conv2d_img.shape', (1, 3, 3, 3))\n"
     ]
    }
   ],
   "source": [
    "image=np.array([[[[1],[2],[3]],\n",
    "                 [[4],[5],[6]],\n",
    "                 [[7],[8],[9]]]], dtype=np.float32)\n",
    "\n",
    "weight=tf.constant([[[[1.,10., -1.]],[[1.,10., -1.]]],\n",
    "                    [[[1.,10., -1.]],[[1.,10., -1.]]]])\n",
    "print (\"weight.shape\", weight.shape)\n",
    "conv2d=tf.nn.conv2d(image, weight, strides=[1,1,1,1], padding='SAME')\n",
    "conv2d_img=conv2d.eval()\n",
    "print (\"conv2d_img.shape\",conv2d_img.shape )"
   ]
  },
  {
   "cell_type": "code",
   "execution_count": 0,
   "metadata": {
    "colab": {
     "base_uri": "https://localhost:8080/",
     "height": 672
    },
    "colab_type": "code",
    "executionInfo": {
     "elapsed": 1059,
     "status": "ok",
     "timestamp": 1534291996498,
     "user": {
      "displayName": "김승환",
      "photoUrl": "//lh3.googleusercontent.com/-bIwSv0Nfj9E/AAAAAAAAAAI/AAAAAAAAAH0/Zj1PLbJCjmQ/s50-c-k-no/photo.jpg",
      "userId": "100312159433143570925"
     },
     "user_tz": -540
    },
    "id": "j5GbJPP2zyR3",
    "outputId": "7fec4c10-4cd2-44c5-af06-446bd2e47e21"
   },
   "outputs": [
    {
     "name": "stdout",
     "output_type": "stream",
     "text": [
      "[[12. 16.  9.]\n",
      " [24. 28. 15.]\n",
      " [15. 17.  9.]]\n"
     ]
    },
    {
     "data": {
      "image/png": "[encoded data removed]",
      "text/plain": [
       "<matplotlib.figure.Figure at 0x7f6b9a4b72d0>"
      ]
     },
     "metadata": {
      "tags": []
     },
     "output_type": "display_data"
    },
    {
     "name": "stdout",
     "output_type": "stream",
     "text": [
      "[[120. 160.  90.]\n",
      " [240. 280. 150.]\n",
      " [150. 170.  90.]]\n"
     ]
    },
    {
     "data": {
      "image/png": "[encoded data removed]",
      "text/plain": [
       "<matplotlib.figure.Figure at 0x7f6b89f33050>"
      ]
     },
     "metadata": {
      "tags": []
     },
     "output_type": "display_data"
    },
    {
     "name": "stdout",
     "output_type": "stream",
     "text": [
      "[[-12. -16.  -9.]\n",
      " [-24. -28. -15.]\n",
      " [-15. -17.  -9.]]\n"
     ]
    },
    {
     "data": {
      "image/png": "[encoded data removed]",
      "text/plain": [
       "<matplotlib.figure.Figure at 0x7f6b89d86910>"
      ]
     },
     "metadata": {
      "tags": []
     },
     "output_type": "display_data"
    }
   ],
   "source": [
    "# plotting Code\n",
    "conv2d_img=np.swapaxes(conv2d_img, 0,3)\n",
    "for i, one_img in enumerate(conv2d_img):\n",
    "    print (one_img.reshape(3,3))\n",
    "    plt.subplot(1,3,i+1), plt.grid(False), plt.imshow(one_img.reshape(3,3), cmap='gray')\n",
    "    plt.show()"
   ]
  },
  {
   "cell_type": "code",
   "execution_count": 0,
   "metadata": {
    "colab": {},
    "colab_type": "code",
    "id": "Imec2FCi18Q2"
   },
   "outputs": [],
   "source": []
  }
 ],
 "metadata": {
  "colab": {
   "collapsed_sections": [],
   "name": "cnnToyImage.ipynb",
   "provenance": [],
   "version": "0.3.2"
  },
  "kernelspec": {
   "display_name": "Python 3",
   "language": "python",
   "name": "python3"
  },
  "language_info": {
   "codemirror_mode": {
    "name": "ipython",
    "version": 3
   },
   "file_extension": ".py",
   "mimetype": "text/x-python",
   "name": "python",
   "nbconvert_exporter": "python",
   "pygments_lexer": "ipython3",
   "version": "3.7.1"
  }
 },
 "nbformat": 4,
 "nbformat_minor": 1
}
