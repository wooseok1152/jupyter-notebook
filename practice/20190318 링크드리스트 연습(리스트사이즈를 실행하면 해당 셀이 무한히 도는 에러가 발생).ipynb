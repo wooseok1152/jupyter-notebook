{
 "cells": [
  {
   "cell_type": "code",
   "execution_count": 3,
   "metadata": {},
   "outputs": [],
   "source": [
    "class Person:\n",
    "    age = 21\n",
    "    weight = 65\n",
    "    \n",
    "choi = Person()"
   ]
  },
  {
   "cell_type": "code",
   "execution_count": 4,
   "metadata": {},
   "outputs": [
    {
     "data": {
      "text/plain": [
       "21"
      ]
     },
     "execution_count": 4,
     "metadata": {},
     "output_type": "execute_result"
    }
   ],
   "source": [
    "choi.age"
   ]
  },
  {
   "cell_type": "code",
   "execution_count": 5,
   "metadata": {},
   "outputs": [
    {
     "data": {
      "text/plain": [
       "65"
      ]
     },
     "execution_count": 5,
     "metadata": {},
     "output_type": "execute_result"
    }
   ],
   "source": [
    "choi.weight"
   ]
  },
  {
   "cell_type": "code",
   "execution_count": null,
   "metadata": {},
   "outputs": [],
   "source": []
  },
  {
   "cell_type": "code",
   "execution_count": null,
   "metadata": {},
   "outputs": [],
   "source": []
  },
  {
   "cell_type": "code",
   "execution_count": null,
   "metadata": {},
   "outputs": [],
   "source": []
  },
  {
   "cell_type": "code",
   "execution_count": null,
   "metadata": {},
   "outputs": [],
   "source": []
  },
  {
   "cell_type": "code",
   "execution_count": 1,
   "metadata": {},
   "outputs": [],
   "source": [
    "class Node:\n",
    "    def __init__(self, item = None):\n",
    "        self.item = item\n",
    "        self.link = None\n",
    "\n",
    "class Linked_List:\n",
    "    def __init__(self):\n",
    "        self.root = Node()\n",
    "    \n",
    "    def append(self, item):\n",
    "        curnode = self.root\n",
    "        newnode = Node(item)\n",
    "        if curnode.item == None:\n",
    "            self.root = newnode\n",
    "        else:\n",
    "            curnode.link = newnode\n",
    "            while curnode.link != None:\n",
    "                curnode = curnode.link \n",
    "    \n",
    "    def print(self):\n",
    "        curnode = self.root\n",
    "        print(curnode.item)\n",
    "        while curnode.link != None:\n",
    "            curnode = curnode.link\n",
    "            print(curnode.item)\n",
    "            \n",
    "    def listsize(self):\n",
    "        curnode = self.root\n",
    "        cnt = 1\n",
    "        while curnode.link != None:\n",
    "            curnode = curnode.link\n",
    "            cnt += 1\n",
    "        return cnt"
   ]
  },
  {
   "cell_type": "code",
   "execution_count": 4,
   "metadata": {
    "scrolled": true
   },
   "outputs": [
    {
     "name": "stdout",
     "output_type": "stream",
     "text": [
      "사과\n",
      "배\n"
     ]
    },
    {
     "data": {
      "text/plain": [
       "2"
      ]
     },
     "execution_count": 4,
     "metadata": {},
     "output_type": "execute_result"
    }
   ],
   "source": [
    "fruits = Linked_List()\n",
    "fruits.append(\"사과\")\n",
    "fruits.append(\"배\")\n",
    "fruits.print()\n",
    "fruits.listsize()"
   ]
  },
  {
   "cell_type": "code",
   "execution_count": null,
   "metadata": {},
   "outputs": [],
   "source": []
  }
 ],
 "metadata": {
  "kernelspec": {
   "display_name": "Python 3",
   "language": "python",
   "name": "python3"
  },
  "language_info": {
   "codemirror_mode": {
    "name": "ipython",
    "version": 3
   },
   "file_extension": ".py",
   "mimetype": "text/x-python",
   "name": "python",
   "nbconvert_exporter": "python",
   "pygments_lexer": "ipython3",
   "version": "3.7.1"
  }
 },
 "nbformat": 4,
 "nbformat_minor": 2
}
