{
 "cells": [
  {
   "cell_type": "code",
   "execution_count": 28,
   "metadata": {},
   "outputs": [
    {
     "name": "stdout",
     "output_type": "stream",
     "text": [
      "01 그린 북 9.60\n",
      "02 가버나움 9.59\n",
      "03 베일리 어게인 9.52\n",
      "04 주전장 9.52\n",
      "05 포드 V 페라리 9.51\n",
      "06 아일라 9.49\n",
      "07 원더 9.49\n",
      "08 당갈 9.47\n",
      "09 쇼생크 탈출 9.44\n",
      "010 터미네이터 2:오리지널 9.43\n",
      "11 보헤미안 랩소디 9.42\n",
      "12 덕구 9.41\n",
      "13 나 홀로 집에 9.41\n",
      "14 월-E 9.41\n",
      "15 살인의 추억 9.40\n",
      "16 빽 투 더 퓨쳐 9.40\n",
      "17 인생은 아름다워 9.39\n",
      "18 매트릭스 9.39\n",
      "19 라이언 일병 구하기 9.39\n",
      "20 사운드 오브 뮤직 9.39\n",
      "21 헬프 9.39\n",
      "22 포레스트 검프 9.39\n",
      "23 안녕 베일리 9.39\n",
      "24 글래디에이터 9.39\n",
      "25 위대한 쇼맨 9.38\n",
      "26 센과 치히로의 행방불명 9.38\n",
      "27 토이 스토리 3 9.38\n",
      "28 어벤져스: 엔드게임 9.38\n",
      "29 클래식 9.38\n",
      "30 알라딘 9.38\n",
      "31 헌터 킬러 9.37\n",
      "32 죽은 시인의 사회 9.37\n",
      "33 아이 캔 스피크 9.37\n",
      "34 레옹 9.37\n",
      "35 동주 9.37\n",
      "36 반지의 제왕: 왕의 귀환 9.37\n",
      "37 타이타닉 9.36\n",
      "38 캐스트 어웨이 9.36\n",
      "39 여인의 향기 9.36\n",
      "40 집으로... 9.36\n",
      "41 굿바이 마이 프랜드 9.35\n",
      "42 서유기 2 - 선리기연 9.35\n",
      "43 주토피아 9.35\n",
      "44 두 교황 9.35\n",
      "45 굿 윌 헌팅 9.35\n",
      "46 클레멘타인 9.35\n",
      "47 히든 피겨스 9.35\n",
      "48 세 얼간이 9.35\n",
      "49 쉰들러 리스트 9.34\n",
      "50 울지마 톤즈 9.34\n"
     ]
    }
   ],
   "source": [
    "import requests\n",
    "from bs4 import BeautifulSoup\n",
    "from pymongo import MongoClient           # pymongo를 임포트 하기(패키지 인스톨 먼저 해야겠죠?)\n",
    "client = MongoClient('localhost', 27017)  # mongoDB는 27017 포트로 돌아갑니다.\n",
    "db = client.dbsparta                      # 'dbsparta'라는 이름의 db를 만듭니다.\n",
    "\n",
    "# URL을 읽어서 HTML를 받아오고,\n",
    "headers = {'User-Agent' : 'Mozilla/5.0 (Windows NT 10.0; Win64; x64)AppleWebKit/537.36 (KHTML, like Gecko) Chrome/73.0.3683.86 Safari/537.36'}\n",
    "data = requests.get('https://movie.naver.com/movie/sdb/rank/rmovie.nhn?sel=pnt&date=20200303',headers=headers)\n",
    "\n",
    "# HTML을 BeautifulSoup이라는 라이브러리를 활용해 검색하기 용이한 상태로 만듦\n",
    "soup = BeautifulSoup(data.text, 'html.parser')\n",
    "\n",
    "# select를 이용해서, tr 태그들을 불러오기\n",
    "movies = soup.select('#old_content > table > tbody > tr')\n",
    "\n",
    "# movies (tr들) 의 반복문을 돌리기\n",
    "for movie in movies:\n",
    "    # movie 안에 a 가 있으면,\n",
    "    a_tag = movie.select_one('td.title > div > a')\n",
    "    if a_tag is not None:\n",
    "        rank = movie.select_one('td.ac > img')['alt'] # img 태그의 alt 속성값을 가져오기\n",
    "        title = a_tag.text                                      # a 태그 사이의 텍스트를 가져오기\n",
    "        star = movie.select_one('td.point').text                # td 태그 사이의 텍스트를 가져오기\n",
    "        print(rank,title,star)"
   ]
  },
  {
   "cell_type": "code",
   "execution_count": 35,
   "metadata": {},
   "outputs": [],
   "source": [
    "import requests\n",
    "from bs4 import BeautifulSoup\n",
    "from pymongo import MongoClient\n",
    "\n",
    "client = MongoClient('localhost', 8080)  # mongoDB는 8080 포트로 돌아갑니다.\n"
   ]
  }
 ],
 "metadata": {
  "kernelspec": {
   "display_name": "Python 3",
   "language": "python",
   "name": "python3"
  },
  "language_info": {
   "codemirror_mode": {
    "name": "ipython",
    "version": 3
   },
   "file_extension": ".py",
   "mimetype": "text/x-python",
   "name": "python",
   "nbconvert_exporter": "python",
   "pygments_lexer": "ipython3",
   "version": "3.7.1"
  }
 },
 "nbformat": 4,
 "nbformat_minor": 2
}
