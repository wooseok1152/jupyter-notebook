{
  "nbformat": 4,
  "nbformat_minor": 0,
  "metadata": {
    "colab": {
      "name": "Untitled0.ipynb",
      "version": "0.3.2",
      "provenance": [],
      "collapsed_sections": []
    },
    "kernelspec": {
      "name": "python3",
      "display_name": "Python 3"
    }
  },
  "cells": [
    {
      "cell_type": "code",
      "metadata": {
        "id": "35bMi8ZQt9dB",
        "colab_type": "code",
        "colab": {}
      },
      "source": [
        "#class nCrRe:\n",
        "#    def __init__(self):\n",
        "#        return\n",
        "\n",
        "#    def caculation(self, n, r):\n",
        "#        if n >= r:\n",
        "#            if n == 1:\n",
        "#                return 1\n",
        "#            if r == 1:\n",
        "#                return n\n",
        "#            elif r > 1:\n",
        "#                return n * self.caculation(n-1, r-1)/r\n",
        "#        else:\n",
        "#            return 0\n",
        "\n",
        "\n",
        "class nCr:\n",
        "    def __init__(self):        \n",
        "        return\n",
        "        \n",
        "    def fac(self, n):\n",
        "        fact = 1\n",
        "        for i in range(1, n+1):\n",
        "            fact *= i\n",
        "        return fact\n",
        "    def compute(self, n,r):\n",
        "        return self.fac(n)/(self.fac(r)*self.fac(n-r))      \n",
        "      "
      ],
      "execution_count": 0,
      "outputs": []
    },
    {
      "cell_type": "code",
      "metadata": {
        "id": "aihugenGv4HP",
        "colab_type": "code",
        "outputId": "568634af-3a83-4c58-d1ad-c5183c5fec85",
        "colab": {
          "base_uri": "https://localhost:8080/",
          "height": 34
        }
      },
      "source": [
        "a = nCr() # 우리가 결혼해서 애를 낳았어,이름을 안 지으면 'instance'. 이름을 지으면(출생신고를 하면) '객체'\n",
        "          # nCr은 instance, a는 객체\n",
        "b = a.compute(10,1)\n",
        "print(b)"
      ],
      "execution_count": 0,
      "outputs": [
        {
          "output_type": "stream",
          "text": [
            "10.0\n"
          ],
          "name": "stdout"
        }
      ]
    },
    {
      "cell_type": "code",
      "metadata": {
        "id": "QFPUyNtOzdgM",
        "colab_type": "code",
        "outputId": "4ca27d1e-e93c-4b07-94b5-4f56a363d719",
        "colab": {
          "base_uri": "https://localhost:8080/",
          "height": 35
        }
      },
      "source": [
        "x =1\n",
        "def test1():\n",
        "    global x #글로벌스타싸이    \n",
        "    \n",
        "    \n",
        "    \n",
        "    \n",
        "    x = 2\n",
        "\n",
        "def test2():\n",
        "    y = 3\n",
        "    print(x)\n",
        "\n",
        "test1()\n",
        "test2"
      ],
      "execution_count": 0,
      "outputs": [
        {
          "output_type": "stream",
          "text": [
            "2\n"
          ],
          "name": "stdout"
        }
      ]
    },
    {
      "cell_type": "code",
      "metadata": {
        "id": "UhdFKSkgmUFq",
        "colab_type": "code",
        "outputId": "a3220eda-8d27-4ce0-f652-cfe59ded176b",
        "colab": {
          "base_uri": "https://localhost:8080/",
          "height": 52
        }
      },
      "source": [
        "class Sort:\n",
        "    def __init__(self, a, direction):\n",
        "        self.x = a\n",
        "        self.direction = direction\n",
        "        \n",
        "    def exchange(self,i,j):\n",
        "        changeYN = 0\n",
        "        if self.direction == 'a':\n",
        "            if self.x[i] > self.x[j]:\n",
        "                self.x[i], self.x[j] = self.x[j], self.x[i]\n",
        "                changeYN = 1\n",
        "        elif self.direction == 'd':\n",
        "            if self.x[i] < self.x[j]:\n",
        "                self.x[i], self.x[j] = self.x[j], self.x[i]\n",
        "                changeYN = 1\n",
        "        return changeYN\n",
        "    \n",
        "    def execute(self):\n",
        "        while True:\n",
        "            sum = 0\n",
        "            for i in range(len(self.x)-1):\n",
        "                changeYN = self.exchange(i,i+1)\n",
        "                sum += changeYN\n",
        "            if sum == 0:\n",
        "                break\n",
        "        return self.x\n",
        "    \n",
        "x = [1,7,2,3,9,4]\n",
        "\n",
        "s = Sort(x[:],'a')\n",
        "print(s.execute())\n",
        "print(x)"
      ],
      "execution_count": 0,
      "outputs": [
        {
          "output_type": "stream",
          "text": [
            "[1, 2, 3, 4, 7, 9]\n",
            "[1, 7, 2, 3, 9, 4]\n"
          ],
          "name": "stdout"
        }
      ]
    },
    {
      "cell_type": "code",
      "metadata": {
        "id": "x93ofhFyrr-B",
        "colab_type": "code",
        "outputId": "2183b3b4-051f-4759-e6b2-c7512be89a32",
        "colab": {
          "base_uri": "https://localhost:8080/",
          "height": 53
        }
      },
      "source": [
        "class Car:\n",
        "    def __init__(self, no, color, model):\n",
        "        self.no = no\n",
        "        self.color = color\n",
        "        self.model = model\n",
        "        self.speed = 0\n",
        "        \n",
        "    def speedUp(self, v):\n",
        "        self.speed = self.speed + v\n",
        "    def speedDown(self, v):\n",
        "        self.speed = self.speed - v\n",
        "        if self.speed < 0:\n",
        "            self.speed = 0\n",
        "\n",
        "a = Car('1바1234', 'blue', 'sonata')\n",
        "b = Car('1가3788', 'white', 'Genesis')\n",
        "print(b.no)\n",
        "a.speedUp(10)\n",
        "print(a.speed)"
      ],
      "execution_count": 0,
      "outputs": [
        {
          "output_type": "stream",
          "text": [
            "1가3788\n",
            "10\n"
          ],
          "name": "stdout"
        }
      ]
    },
    {
      "cell_type": "code",
      "metadata": {
        "id": "l7yAa0q_vOEn",
        "colab_type": "code",
        "colab": {}
      },
      "source": [
        ""
      ],
      "execution_count": 0,
      "outputs": []
    }
  ]
}