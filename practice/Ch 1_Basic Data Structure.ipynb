{
 "cells": [
  {
   "cell_type": "markdown",
   "metadata": {
    "colab_type": "text",
    "id": "QYQSdNS7Tssf"
   },
   "source": [
    "# <font color='blue'><div style=\"text-align: center\">Ch 1. 자료구조 소개</font> \n",
    "\n",
    "* 자료구조는 데이터를 정돈하여 저장한 구성체를 말한다.\n",
    "* 데이터를 효과적으로 저장, 탐색, 삭제, 삽입 등 연산을 효율적으로 수행할 수 있는 구조\n",
    "* 데이터를 이용한 연산을 효율적으로 수행할 수 있는 구조\n"
   ]
  },
  {
   "cell_type": "code",
   "execution_count": 1,
   "metadata": {
    "colab": {
     "base_uri": "https://localhost:8080/",
     "height": 53
    },
    "colab_type": "code",
    "executionInfo": {
     "elapsed": 856,
     "status": "ok",
     "timestamp": 1551692426455,
     "user": {
      "displayName": "swkim김승환",
      "photoUrl": "",
      "userId": "01255046753553274360"
     },
     "user_tz": -540
    },
    "id": "BtAjN3VLUPDL",
    "outputId": "4beff64c-b0f0-4e2a-8cc4-b2082ded0540"
   },
   "outputs": [
    {
     "name": "stdout",
     "output_type": "stream",
     "text": [
      "6\n",
      "6\n"
     ]
    }
   ],
   "source": [
    "# 두 개의 프로그램은 같은 결과를 내지만, 아래 프로그램이 더 효율적이다. 즉, 더 효율적인 자료구조를 가진다.\n",
    "a1 = 1\n",
    "a2 = 2\n",
    "a3 = 3\n",
    "\n",
    "a = a1 + a2 + a3\n",
    "print(a)\n",
    "\n",
    "a = [1,2,3]\n",
    "sum = 0\n",
    "for val in a:\n",
    "    sum += val\n",
    "print(sum)"
   ]
  },
  {
   "cell_type": "markdown",
   "metadata": {
    "colab_type": "text",
    "id": "zMv1FYrtUckS"
   },
   "source": [
    "### 기초적인 자료구조\n",
    "\n",
    "* integer: 정수를 저장하는 자료구조로 8비트에 저장한다면 아래와 같은 구조로 저장한다.\n",
    "\n",
    "<center><img src = \"https://user-images.githubusercontent.com/48342100/54009224-59029580-41ad-11e9-9b97-9857661407ed.png\" width = \"600\" height = \"600\" </center>\n",
    "\n",
    "* 일반적으로 C, 자바에서는 32비트에 정수를 저장한다.(즉, 나타낼 수 있는 정수의 한계가 있다.)\n",
    "* 파이썬에서는 정수의 범위 제한이 없다. 아래의 예제는 파이썬 정수 중 가장 큰 수에 1을 더해 출력하는 것이다. 문제 없이 잘된다. 왜 일까?\n",
    "* 파이썬에서는 기본적으로 32비트에 정수를 저장하고 long 타입은 64비트에 저장한다.\n",
    "* int --> long 은 자동으로 넘어가고  64 비트에 저장할 수 있는 값보다 큰 값이 저장될 경우에도 자동으로 big integer로 넘어간다.\n",
    "* big integer란 Symbolic 연산으로 직접 클래스를 구현하여 정수 연산을 수행하는 것을 말한다.\n",
    "* 아래는 자바에서 16비트 Integer에서 32768이 -32768로 저장되는 것으로 보여준 예이다.\n",
    "\n",
    "<center> ![](https://drive.google.com/uc?id=1ojIRe9z3zEUYH4_0e0kGb4t_IpN21YM1) </center>\n",
    "\n",
    "\n"
   ]
  },
  {
   "cell_type": "code",
   "execution_count": 1,
   "metadata": {
    "colab": {
     "base_uri": "https://localhost:8080/",
     "height": 53
    },
    "colab_type": "code",
    "executionInfo": {
     "elapsed": 735,
     "status": "ok",
     "timestamp": 1551692893920,
     "user": {
      "displayName": "swkim김승환",
      "photoUrl": "",
      "userId": "01255046753553274360"
     },
     "user_tz": -540
    },
    "id": "Tx731A7365GR",
    "outputId": "81e815c2-80e9-45af-c1ff-4cf2d96a58eb"
   },
   "outputs": [
    {
     "name": "stdout",
     "output_type": "stream",
     "text": [
      "9223372036854775807\n",
      "9223372036854775808 <class 'int'>\n"
     ]
    }
   ],
   "source": [
    "# 파이썬에서 정수의 최대값을 구해보자.\n",
    "# 정수 최대값에 1을 더했는데 자바처럼 음수로 변하지 않는다. 왜일까?\n",
    "import sys\n",
    "print(sys.maxsize)\n",
    "print(sys.maxsize+1, type(sys.maxsize+1))"
   ]
  },
  {
   "cell_type": "code",
   "execution_count": 3,
   "metadata": {
    "colab": {
     "base_uri": "https://localhost:8080/",
     "height": 35
    },
    "colab_type": "code",
    "executionInfo": {
     "elapsed": 885,
     "status": "ok",
     "timestamp": 1551693217021,
     "user": {
      "displayName": "swkim김승환",
      "photoUrl": "",
      "userId": "01255046753553274360"
     },
     "user_tz": -540
    },
    "id": "YKK1WSrOHyWs",
    "outputId": "bab04e4f-ef26-44a7-dd13-ffa415f66699"
   },
   "outputs": [
    {
     "data": {
      "text/plain": [
       "127"
      ]
     },
     "execution_count": 3,
     "metadata": {
      "tags": []
     },
     "output_type": "execute_result"
    }
   ],
   "source": [
    "2**7 - 1"
   ]
  },
  {
   "cell_type": "code",
   "execution_count": 0,
   "metadata": {
    "colab": {
     "base_uri": "https://localhost:8080/",
     "height": 36
    },
    "colab_type": "code",
    "executionInfo": {
     "elapsed": 617,
     "status": "ok",
     "timestamp": 1551404637902,
     "user": {
      "displayName": "swkim김승환",
      "photoUrl": "",
      "userId": "01255046753553274360"
     },
     "user_tz": -540
    },
    "id": "H4E9FR1l7BZF",
    "outputId": "1d4967c7-3afa-4a4b-aed6-e39f26d603db"
   },
   "outputs": [
    {
     "name": "stdout",
     "output_type": "stream",
     "text": [
      "63.0\n"
     ]
    }
   ],
   "source": [
    "# 파이썬에서 정수는 기본적으로 64비트에 저장한다. 메모리 풍풍~~~\n",
    "import math\n",
    "print(math.log2(sys.maxsize+1))"
   ]
  },
  {
   "cell_type": "code",
   "execution_count": 0,
   "metadata": {
    "colab": {},
    "colab_type": "code",
    "id": "InlD8sg5-0M2"
   },
   "outputs": [],
   "source": []
  },
  {
   "cell_type": "code",
   "execution_count": 0,
   "metadata": {
    "colab": {
     "base_uri": "https://localhost:8080/",
     "height": 36
    },
    "colab_type": "code",
    "executionInfo": {
     "elapsed": 658,
     "status": "ok",
     "timestamp": 1551405593515,
     "user": {
      "displayName": "swkim김승환",
      "photoUrl": "",
      "userId": "01255046753553274360"
     },
     "user_tz": -540
    },
    "id": "g0tXWMMP-qZj",
    "outputId": "61a9a1b7-a0d1-4dab-cb64-f0c2c5fd3205"
   },
   "outputs": [
    {
     "data": {
      "text/plain": [
       "93326215443944152681699238856266700490715968264381621468592963895217599993229915608941463976156518286253697920827223758251185210916864000000000000000000000000"
      ]
     },
     "execution_count": 7,
     "metadata": {
      "tags": []
     },
     "output_type": "execute_result"
    }
   ],
   "source": [
    "# 100! 도 쉽게 계산할 수 있다. 지금까지 이런 랭귀지는 없었다~~~ 어떻게 가능할까?\n",
    "def factorial(n):\n",
    "    if n <= 1:\n",
    "        return 1\n",
    "    else:\n",
    "        return n * factorial(n-1)\n",
    "factorial(100)"
   ]
  },
  {
   "cell_type": "code",
   "execution_count": 0,
   "metadata": {
    "colab": {
     "base_uri": "https://localhost:8080/",
     "height": 36
    },
    "colab_type": "code",
    "executionInfo": {
     "elapsed": 602,
     "status": "ok",
     "timestamp": 1551405040375,
     "user": {
      "displayName": "swkim김승환",
      "photoUrl": "",
      "userId": "01255046753553274360"
     },
     "user_tz": -540
    },
    "id": "P0ZEAjra8OR7",
    "outputId": "114cff3f-20c2-49de-fbf8-9ac7788dafa5"
   },
   "outputs": [
    {
     "name": "stdout",
     "output_type": "stream",
     "text": [
      "[1, 0, 1, 0, 1]\n"
     ]
    }
   ],
   "source": [
    "# 십진수를 이진수로 바꾸는 프로그램\n",
    "dec = 21\n",
    "bin=[]\n",
    "while True:\n",
    "    fraction = dec % 2\n",
    "    bin.append(fraction)\n",
    "    dec=dec//2\n",
    "    if dec < 1: break\n",
    "\n",
    "bin.reverse()\n",
    "print (bin)"
   ]
  },
  {
   "cell_type": "markdown",
   "metadata": {
    "colab_type": "text",
    "id": "r1zKkmVb9tqY"
   },
   "source": [
    "<font color='red'> <H.W # 0>  이진수를 10진수로 바꾸는 프로그램을 작성하시오.</font>"
   ]
  },
  {
   "cell_type": "markdown",
   "metadata": {
    "colab_type": "text",
    "id": "xtL3ffJJ6bqR"
   },
   "source": [
    "* charcter : 문자 하나를 저장하는 자료구조로 영문은 1 바이트, 한글은 2바이트에 저장가능함\n",
    " * 파이썬에서는 문자하나를 저장하는 자료구조를 제공하지 않음\n",
    " * 파이썬은 unicode 시스템에 의한 문자를 기본적으로 제공함\n",
    " * 유니코드는 전세계 모든 언어에 겹치지 않는 코드를 할당(=매핑)한 코드\n",
    " * utf-8: UTF8은 유니코드 기반의 가변 길이 문자 인코딩 방식으로 8비트 단위로 1바이트에서 4바이트까지 가변적으로 문자를 표현함\n",
    "\n",
    "\n",
    "<center> ![](https://drive.google.com/uc?id=11zbVNHc-IcOrrwWpYcQZw-Hhgtuh1gsP) </center>\n"
   ]
  },
  {
   "cell_type": "code",
   "execution_count": 0,
   "metadata": {
    "colab": {
     "base_uri": "https://localhost:8080/",
     "height": 75
    },
    "colab_type": "code",
    "executionInfo": {
     "elapsed": 616,
     "status": "ok",
     "timestamp": 1547738132671,
     "user": {
      "displayName": "swkim김승환",
      "photoUrl": "",
      "userId": "01255046753553274360"
     },
     "user_tz": -540
    },
    "id": "np8yF5zyYFi5",
    "outputId": "43d09b4c-263f-47e1-acb3-04dba86f9eaa"
   },
   "outputs": [
    {
     "name": "stdout",
     "output_type": "stream",
     "text": [
      "0 : \u0000,1 : \u0001,2 : \u0002,3 : \u0003,4 : \u0004,5 : \u0005,6 : \u0006,7 : \u0007,8 : \b,9 : \t,10 : \n",
      ",11 : \u000b",
      ",12 : \f",
      ",13 : \r",
      ",14 : \u000e,15 : \u000f,16 : \u0010,17 : \u0011,18 : \u0012,19 : \u0013,20 : \u0014,21 : \u0015,22 : \u0016,23 : \u0017,24 : \u0018,25 : \u0019,26 : \u001a,27 : \u001b,28 : \u001c",
      ",29 : \u001d",
      ",30 : \u001e",
      ",31 : \u001f,32 :  ,33 : !,34 : \",35 : #,36 : $,37 : %,38 : &,39 : ',40 : (,41 : ),42 : *,43 : +,44 : ,,45 : -,46 : .,47 : /,48 : 0,49 : 1,50 : 2,51 : 3,52 : 4,53 : 5,54 : 6,55 : 7,56 : 8,57 : 9,58 : :,59 : ;,60 : <,61 : =,62 : >,63 : ?,64 : @,65 : A,66 : B,67 : C,68 : D,69 : E,70 : F,71 : G,72 : H,73 : I,74 : J,75 : K,76 : L,77 : M,78 : N,79 : O,80 : P,81 : Q,82 : R,83 : S,84 : T,85 : U,86 : V,87 : W,88 : X,89 : Y,90 : Z,91 : [,92 : \\,93 : ],94 : ^,95 : _,96 : `,97 : a,98 : b,99 : c,100 : d,101 : e,102 : f,103 : g,104 : h,105 : i,106 : j,107 : k,108 : l,109 : m,110 : n,111 : o,112 : p,113 : q,114 : r,115 : s,116 : t,117 : u,118 : v,119 : w,120 : x,121 : y,122 : z,123 : {,124 : |,125 : },126 : ~,127 : ,"
     ]
    }
   ],
   "source": [
    "for i in range(128):\n",
    "    print (i, \":\", chr(i), end=',')"
   ]
  },
  {
   "cell_type": "code",
   "execution_count": 0,
   "metadata": {
    "colab": {
     "base_uri": "https://localhost:8080/",
     "height": 55
    },
    "colab_type": "code",
    "executionInfo": {
     "elapsed": 589,
     "status": "ok",
     "timestamp": 1547738343616,
     "user": {
      "displayName": "swkim김승환",
      "photoUrl": "",
      "userId": "01255046753553274360"
     },
     "user_tz": -540
    },
    "id": "mBzPi1iiYP0w",
    "outputId": "fb567a8b-19c1-4833-c927-21aa1fdb48de"
   },
   "outputs": [
    {
     "name": "stdout",
     "output_type": "stream",
     "text": [
      "44032\n",
      "가\n"
     ]
    }
   ],
   "source": [
    "a = u'가'\n",
    "print(ord(a))\n",
    "print(chr(44032))"
   ]
  },
  {
   "cell_type": "markdown",
   "metadata": {
    "colab_type": "text",
    "id": "2MWZ6A_0Yk7f"
   },
   "source": [
    "* String: character의 연결모음(예: \"자료구조\", 'data structure')\n",
    " * character를 연결한 구조로 저장한다.\n"
   ]
  },
  {
   "cell_type": "code",
   "execution_count": 0,
   "metadata": {
    "colab": {
     "base_uri": "https://localhost:8080/",
     "height": 36
    },
    "colab_type": "code",
    "executionInfo": {
     "elapsed": 615,
     "status": "ok",
     "timestamp": 1547738574603,
     "user": {
      "displayName": "swkim김승환",
      "photoUrl": "",
      "userId": "01255046753553274360"
     },
     "user_tz": -540
    },
    "id": "hHzxPDmcZ7Da",
    "outputId": "880b6947-e325-4722-e91e-4394f103e959"
   },
   "outputs": [
    {
     "name": "stdout",
     "output_type": "stream",
     "text": [
      "자 자료 조\n"
     ]
    }
   ],
   "source": [
    "a = \"자료구조\"\n",
    "print(a[0], a[:2], a[-1])"
   ]
  },
  {
   "cell_type": "markdown",
   "metadata": {
    "colab_type": "text",
    "id": "9H0p4OQrhMLJ"
   },
   "source": [
    "* float: 소수점이 존재하는 숫자를 저장하는 자료구조다.\n",
    "* 실수를 소수부와 지수부로 구분하여 따로 저장한다.\n",
    "* 일반적으로 float와 double로 구분하는데 이는 각각 32비트, 64비트에 저장하는 것을 의미\n",
    "\n",
    "<center><img src=\"https://drive.google.com/uc?id=1Tlq8Ysj6mjw99N-k9turL75YhwBiN6Sp\" width=\"400\" height=\"150\"></center>\n",
    "\n",
    "* float는 integer에 비해 복잡한 자료구조이므로 integer로 처리할 수 있는 것을 float로 처리 하는 것은 비효율적이다.\n"
   ]
  },
  {
   "cell_type": "markdown",
   "metadata": {
    "colab_type": "text",
    "id": "kBsBUutehggO"
   },
   "source": [
    "* Boolean: \n",
    " * True or False 를 나타내는 자료구조로 1비트에 0 혹은 1을 넣으면 된다.\n",
    " * 하지만, 최소단위가 1 바이트 이므로 8 bit에 저장한다.\n",
    " * False는 전체 비트를 0으로 표시하고, True는 하나 이상의 비트를 1로 표시한다."
   ]
  },
  {
   "cell_type": "code",
   "execution_count": 0,
   "metadata": {
    "colab": {
     "base_uri": "https://localhost:8080/",
     "height": 36
    },
    "colab_type": "code",
    "executionInfo": {
     "elapsed": 624,
     "status": "ok",
     "timestamp": 1547780521500,
     "user": {
      "displayName": "swkim김승환",
      "photoUrl": "",
      "userId": "01255046753553274360"
     },
     "user_tz": -540
    },
    "id": "yNlEMFw754QD",
    "outputId": "37b07163-09ec-48cf-d49b-1bf84aea673a"
   },
   "outputs": [
    {
     "name": "stdout",
     "output_type": "stream",
     "text": [
      "True False 1\n"
     ]
    }
   ],
   "source": [
    "a = True\n",
    "b = False\n",
    "print(a,b, a+b)\n"
   ]
  },
  {
   "cell_type": "markdown",
   "metadata": {
    "colab_type": "text",
    "id": "H99qPdP458ch"
   },
   "source": [
    "#### 파이썬의 자료 구조\n",
    "* 파이썬에서 모든 것은 객체다.\n",
    " * x = 500 이라고 하면 내부적으로는 두개의 동적 메모리가 생성된다.\n",
    " * x에는 아래 그림처럼 500이 저장된 객체의 주소가 저장된다.\n",
    " * 객체에는 데이터 타입이 int 라는 정보와 값이500이라는 것이 저장된다.\n",
    " * 이러한 작동이 동적으로 일어나므로 형선언을 할 필요가 없는 것이다.\n",
    " * 만약, 다른 변수 y = 500 이 실행되면 새로 객체를 생성하는 것이 아니고 이미 생성된 객체의 주소를 assign 한다.\n",
    " \n",
    "<center><img src=\"https://drive.google.com/uc?id=1qtS1ZB-xx8SnuRYWaxo9YKMgxQxEB4T0\" width=\"200\" height=\"70\"></center>\n"
   ]
  },
  {
   "cell_type": "code",
   "execution_count": 4,
   "metadata": {
    "colab": {
     "base_uri": "https://localhost:8080/",
     "height": 55
    },
    "colab_type": "code",
    "executionInfo": {
     "elapsed": 695,
     "status": "ok",
     "timestamp": 1551697628430,
     "user": {
      "displayName": "swkim김승환",
      "photoUrl": "",
      "userId": "01255046753553274360"
     },
     "user_tz": -540
    },
    "id": "mk5-nord72-0",
    "outputId": "bedfbd27-c1a0-4f4d-8d05-4ec6e8289319"
   },
   "outputs": [
    {
     "name": "stdout",
     "output_type": "stream",
     "text": [
      "139879361602736\n",
      "<class 'int'>\n"
     ]
    }
   ],
   "source": [
    "a = 500\n",
    "print(id(a))\n",
    "print(type(a))"
   ]
  },
  {
   "cell_type": "code",
   "execution_count": 6,
   "metadata": {
    "colab": {
     "base_uri": "https://localhost:8080/",
     "height": 36
    },
    "colab_type": "code",
    "executionInfo": {
     "elapsed": 790,
     "status": "ok",
     "timestamp": 1551697789557,
     "user": {
      "displayName": "swkim김승환",
      "photoUrl": "",
      "userId": "01255046753553274360"
     },
     "user_tz": -540
    },
    "id": "gsl1A_vX76RS",
    "outputId": "016ad3e6-8b2b-4755-a68d-42abeedeef9b"
   },
   "outputs": [
    {
     "name": "stdout",
     "output_type": "stream",
     "text": [
      "139879361210504 139879361210504\n"
     ]
    }
   ],
   "source": [
    "a = [1,2,3,4]\n",
    "b = a\n",
    "print(id(a), id(b))"
   ]
  },
  {
   "cell_type": "code",
   "execution_count": 7,
   "metadata": {
    "colab": {
     "base_uri": "https://localhost:8080/",
     "height": 36
    },
    "colab_type": "code",
    "executionInfo": {
     "elapsed": 481,
     "status": "ok",
     "timestamp": 1551697790634,
     "user": {
      "displayName": "swkim김승환",
      "photoUrl": "",
      "userId": "01255046753553274360"
     },
     "user_tz": -540
    },
    "id": "lUHJyKUSVEbz",
    "outputId": "519e3b92-1064-466a-9a32-033b299a9203"
   },
   "outputs": [
    {
     "name": "stdout",
     "output_type": "stream",
     "text": [
      "139879361210632\n"
     ]
    }
   ],
   "source": [
    "c = a[:]\n",
    "print(id(c))"
   ]
  },
  {
   "cell_type": "markdown",
   "metadata": {
    "colab_type": "text",
    "id": "rHpKpa5HVIQe"
   },
   "source": [
    "* list: 파이썬 리스트는 동적배열개념으로 구현되어 있다. <br>\n",
    " 아래 그림의 좌측 (a)가 일반적인 배열의 저장방식이다.  <br> \n",
    "  C나 자바 등의 언어에서는 (a)와 같은 형식을 사용한다. <br>\n",
    " 반면, 파이썬의 리스트는 (b) 와 같은 형태로 저장하기 떄문에 많은 메모리를 사용하는 단점이 있지만, 서로 다른 형도 넣을 수 있고, 앞, 뒤에 추가 삭제가 쉽다. <br>하지만, 중간 데이터의 삽입, 삭제를 위해서는 데이터를 이동해야 하는 문제점을 가지고 있다. 그러므로, 중간에 데이터를 추가하거나 삭제가 많은 연산에는 연결 리스트를 사용하는 것이 효율적이다.\n",
    " \n",
    " <center><img src=\" https://drive.google.com/uc?id=1zHcxnNjuWM8PAlPWsiDuqBA_RHC8iITr\" width=\"400\" height=\"150\"></center>\n"
   ]
  },
  {
   "cell_type": "code",
   "execution_count": 0,
   "metadata": {
    "colab": {
     "base_uri": "https://localhost:8080/",
     "height": 34
    },
    "colab_type": "code",
    "executionInfo": {
     "elapsed": 782,
     "status": "ok",
     "timestamp": 1549088786970,
     "user": {
      "displayName": "swkim김승환",
      "photoUrl": "",
      "userId": "01255046753553274360"
     },
     "user_tz": -540
    },
    "id": "Wzlg8ff84s3p",
    "outputId": "1cada5a3-bb14-4b9a-826f-1b00e733493e"
   },
   "outputs": [
    {
     "data": {
      "text/plain": [
       "[1, 'a']"
      ]
     },
     "execution_count": 1,
     "metadata": {
      "tags": []
     },
     "output_type": "execute_result"
    }
   ],
   "source": [
    "a = [1,'a']\n",
    "a"
   ]
  },
  {
   "cell_type": "markdown",
   "metadata": {
    "colab_type": "text",
    "id": "YfpZzXh9BtE2"
   },
   "source": [
    "#### ADT(Abstract Data Type)\n",
    "\n",
    "* 기초적인 자료구조 외 연결 리스트(linked list), queue, stack, Tree, Graph 등은 기본적으로 제공하지 않으므로 직접 만들어 사용하거나 오픈소스로 제공되는 외부 라이브러리를 사용한다.\n",
    "* 자료구조에서는 이러한 자료구조를 직접 만들어보고 응용해보는 공부를 할 것이다.\n",
    "* 자료구조의 개략적 설계도가 ADT 다.\n",
    "* ADT를 구체화하면 자료구조가 완성되는 것이다.\n",
    "* 자료구조를 사용하여 문제를 해결하는 것이 알고리즘이다.\n",
    "\n",
    "<center> ![](https://drive.google.com/uc?id=1Xo9UClleNPCh0qKfFM7yjyde1Lo7hFUR) </center>\n",
    "\n"
   ]
  },
  {
   "cell_type": "code",
   "execution_count": 9,
   "metadata": {
    "colab": {
     "base_uri": "https://localhost:8080/",
     "height": 36
    },
    "colab_type": "code",
    "executionInfo": {
     "elapsed": 710,
     "status": "ok",
     "timestamp": 1551698981893,
     "user": {
      "displayName": "swkim김승환",
      "photoUrl": "",
      "userId": "01255046753553274360"
     },
     "user_tz": -540
    },
    "id": "ToObSp19dgLq",
    "outputId": "04d014ec-6be4-488a-d793-b45acd8e3d23"
   },
   "outputs": [
    {
     "name": "stdout",
     "output_type": "stream",
     "text": [
      "10910752 10910752\n"
     ]
    }
   ],
   "source": []
  },
  {
   "cell_type": "code",
   "execution_count": 0,
   "metadata": {
    "colab": {},
    "colab_type": "code",
    "id": "UW95CvH4d0hR"
   },
   "outputs": [],
   "source": []
  }
 ],
 "metadata": {
  "colab": {
   "collapsed_sections": [],
   "name": "Ch 1_Basic Data Structure.ipynb",
   "provenance": [],
   "version": "0.3.2"
  },
  "kernelspec": {
   "display_name": "Python 3",
   "language": "python",
   "name": "python3"
  },
  "language_info": {
   "codemirror_mode": {
    "name": "ipython",
    "version": 3
   },
   "file_extension": ".py",
   "mimetype": "text/x-python",
   "name": "python",
   "nbconvert_exporter": "python",
   "pygments_lexer": "ipython3",
   "version": "3.7.1"
  }
 },
 "nbformat": 4,
 "nbformat_minor": 1
}
