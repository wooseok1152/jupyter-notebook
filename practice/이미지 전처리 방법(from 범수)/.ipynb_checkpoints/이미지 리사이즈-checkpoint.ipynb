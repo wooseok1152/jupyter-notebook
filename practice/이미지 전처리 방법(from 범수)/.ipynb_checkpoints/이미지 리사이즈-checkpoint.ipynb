{
 "cells": [
  {
   "cell_type": "code",
   "execution_count": null,
   "metadata": {},
   "outputs": [],
   "source": [
    "#이미지 리사이즈 후 저장\n",
    "import os\n",
    "from PIL import Image\n",
    "\n",
    "valiDir_1 = os.listdir(\"C:/Users/Administrator/Desktop/프로젝트/learning/validation/1\")\n",
    "valiDir_2 = os.listdir(\"C:/Users/Administrator/Desktop/프로젝트/learning/validation/2\")\n",
    "trainDir_1 = os.listdir(\"C:/Users/Administrator/Desktop/프로젝트/learning/train/1\")\n",
    "trainDir_2 = os.listdir(\"C:/Users/Administrator/Desktop/프로젝트/learning/train/2\")\n",
    "\n",
    "for i in valiDir_1:\n",
    "    image = Image.open(\"./learning/validation/1/\"+i)\n",
    "    rep = i.replace(\".jpg\",\".png\")\n",
    "    resize = image.resize((512,512))\n",
    "    resize.save(\"./resize/validation/1/\"+rep)\n",
    "    \n",
    "for i in valiDir_2:\n",
    "    image = Image.open(\"./learning/validation/2/\"+i)\n",
    "    rep = i.replace(\".jpg\",\".png\")\n",
    "    resize = image.resize((512,512))\n",
    "    resize.save(\"./resize/validation/2/\"+rep)\n",
    "\n",
    "for i in trainDir_1:\n",
    "    image = Image.open(\"./learning/train/1/\"+i)\n",
    "    rep = i.replace(\".jpg\",\".png\")\n",
    "    resize = image.resize((512,512))\n",
    "    resize.save(\"./resize/train/1/\"+rep)\n",
    "    \n",
    "for i in trainDir_2:\n",
    "    image = Image.open(\"./learning/train/2/\"+i)\n",
    "    rep = i.replace(\".jpg\",\".png\")\n",
    "    resize = image.resize((512,512))\n",
    "    resize.save(\"./resize/train/2/\"+rep)"
   ]
  }
 ],
 "metadata": {
  "kernelspec": {
   "display_name": "Python 3",
   "language": "python",
   "name": "python3"
  },
  "language_info": {
   "codemirror_mode": {
    "name": "ipython",
    "version": 3
   },
   "file_extension": ".py",
   "mimetype": "text/x-python",
   "name": "python",
   "nbconvert_exporter": "python",
   "pygments_lexer": "ipython3",
   "version": "3.7.1"
  }
 },
 "nbformat": 4,
 "nbformat_minor": 4
}
