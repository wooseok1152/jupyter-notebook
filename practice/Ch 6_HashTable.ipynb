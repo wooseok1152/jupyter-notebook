{
 "cells": [
  {
   "cell_type": "markdown",
   "metadata": {
    "colab_type": "text",
    "id": "oUONBbY2pbch"
   },
   "source": [
    "# <font color='blue'><div style=\"text-align: center\">Ch 6. Hash Table</font> \n",
    "* 이진탐색트리에서 최대성능은 O(log n) 이었다.\n",
    "* 만약, 데이터의 키를 1차원 배열의 인덱스를 사용하면 O(1)도 가능하다.\n",
    "* 이는 공간으로 시간을 사는 개념이다.\n",
    "    \n",
    "   <center><img src=\" https://drive.google.com/uc?id=1byyWoFLaZlzIq94XJIriGPNrnc4hJzGY\" width=\"500\" height=\"300\" ></center>\n",
    "* 문제는 배열의 공백이 많아 메모리 낭비가 심하다.\n",
    "* 다른 방법으로 키를 직접 쓰지 말고,  키를 특정함수(예: 나머지 함수)에 넣고 결과를 인덱스로 사용해 공백을 줄이는 방법을 사용할 수 있다.\n",
    "    \n",
    "   <center><img src=\" https://drive.google.com/uc?id=1-o4yddRBgxUs6lyuu4hO7gZDPJ8PX84l\" width=\"500\" height=\"300\" ></center>\n",
    "\n",
    "* 이 경우, 메모리 낭비는 줄일 수 있지만, 서로 다른 키들이 동일한 해시값을 가질 때 충돌문제가 발생한다. \n",
    "* 가장 이상적인 해시함수는 키들을 균등하게(Uniformly) 해시테이블의 인덱스로 변환하는 함수다.\n",
    "* 널리 사용되는 해시함수는 나눗셈(Division) 함수다.\n",
    "나눗셈 함수는 키를 M으로 나눈 뒤, 그 나머지를 해시값으로 사용한다.\n",
    "* h(key) = key % M이고, 따라서 해시테이블의 인덱스는 0에서 M-1이 됨 \n",
    "* M은 일반적으로 key 개수의 3배 정도이며 소수(prime number)를 사용한다.\n",
    "    \n",
    "#### 충돌 처리\n",
    "* 충돌이 일어날 경우, 처리하는 방법으로 개방주소방식과 폐쇄 주소방식이 있다.\n",
    "* 개방 주소방식과 폐쇄 주소방식의 차이는 충돌이 일어날 경우, 충돌지점에서 다른 주소까지 개방해서 원소를 삽입할 수 있는 경우가 개방주소방식이고, 폐쇄주소방식은 충돌이 일어난 주소에서 문제를 해결하는 방식이다.\n",
    "\n",
    "##### 개방주소방식\n",
    "    \n",
    "* 개방주소방식은 충돌이 일어난 위치 다음 인덱스로 이동하면서 처음나오는 빈 주소에 저장하는 방식이다.\n",
    "* 메모리의 크기가 M개이므로 (h(key)+j) % M으로 위치를 이동한다. 즉, M번째까지 가면 다시 0번째가 됨을 의미한다.\n",
    "\n",
    "* x = [25, 37, 18, 55, 22, 35, 50, 63]을 해시 테이블에 저장해보자.\n",
    "   * Linear Probing: 충돌시, 해당 인덱스에서 빈곳을 찾아 순차적으로 이동하다가 빈곳이 나오면 입력한다. ((h(key)+j) % M)\n",
    "   * Quad Probing: 충돌시, 해당 인덱스에서 빈곳을 찾을 때, 순차적으로 이동하는 것이 아니고 점프간격을 제곱으로 이동하여 삽입여부를 결정한다.  ((h(key)+j**2) % M)\n",
    "   * Random Probing:  충돌시, 해당 인덱스에서 빈곳을 찾을 때, 그 다음 위치를 랜덤하게 이동하여 삽입 여부를 결정한다.  단, 탐색을 위해서는 난수의 seed를 지정해야 한다. ((h(key)+randInt) % M)\n",
    "   * Linear Probing의 경우, 인덱스가 한쪽으로 뭉치는 현상이 발생하는데 이를 방지하고자 Quad, Random 등의 방법을 사용한다. \n",
    "   * Quad Probing의 경우에는 다른쪽에서 뭉침현상이 나타나고 Random Probing은 무작위 위치에서 뭉침현상이 발생한다.\n",
    "\n",
    "* Linear Probing 설명\n",
    "   \n",
    "    <center><img src=\" https://drive.google.com/uc?id=1tS5WyNbaFSDuJ4c_AOsO1KfKlGo9yh5E\" width=\"500\" height=\"300\" ></center>    \n",
    "    \n",
    "    \n",
    "* 아래 코드는  Linear Probing 을 구현한 것이다.\n"
   ]
  },
  {
   "cell_type": "code",
   "execution_count": 0,
   "metadata": {
    "colab": {
     "base_uri": "https://localhost:8080/",
     "height": 279
    },
    "colab_type": "code",
    "executionInfo": {
     "elapsed": 643,
     "status": "ok",
     "timestamp": 1550415586259,
     "user": {
      "displayName": "swkim김승환",
      "photoUrl": "",
      "userId": "01255046753553274360"
     },
     "user_tz": -540
    },
    "id": "wkVQBMpBf05k",
    "outputId": "d857ff05-0675-4985-aa13-5acea2f50527"
   },
   "outputs": [
    {
     "name": "stdout",
     "output_type": "stream",
     "text": [
      "25 a25\n",
      "37 a37\n",
      "18 a18\n",
      "55 a55\n",
      "22 a22\n",
      "35 a35\n",
      "50 a50\n",
      "63 a63\n",
      "95 a95\n",
      "32 a32\n",
      "1 a1\n",
      "13 a13\n",
      "17 a17\n",
      "Hash Full~~~\n"
     ]
    }
   ],
   "source": [
    "x = [25, 37, 18, 55, 22, 35, 50, 63, 95, 32, 1, 13, 17]\n",
    "\n",
    "class Hash_Linear:\n",
    "    def __init__(self,m):\n",
    "        self.m = m\n",
    "        self.h = [None] * m\n",
    "\n",
    "    def insert(self, key, item):\n",
    "        if self.is_full() == True:\n",
    "            print(\"Hash Full~~~\")\n",
    "        else:\n",
    "            idx = key % self.m\n",
    "            if self.h[idx] == None:\n",
    "                self.h[idx] = [key,item]\n",
    "            else:\n",
    "                for j in range(1, self.m+1):\n",
    "                    nextIdx = (idx + j) % self.m\n",
    "                    if self.h[nextIdx] == None:\n",
    "                        self.h[nextIdx] = [key,item]\n",
    "                        break\n",
    "\n",
    "    def is_full(self):\n",
    "        if None in self.h:\n",
    "            return False\n",
    "        else:\n",
    "            return True\n",
    "\n",
    "    def get(self, key):\n",
    "        idx = key % self.m\n",
    "        if self.h[idx][0] == key:\n",
    "            return self.h[idx][1]\n",
    "        else:\n",
    "            j = 1\n",
    "            while True:\n",
    "                nextIdx = (idx + j) % self.m\n",
    "                if self.h[nextIdx][0] == key:\n",
    "                    return self.h[nextIdx][1]\n",
    "                else:\n",
    "                    j += 1\n",
    "\n",
    "h = Hash_Linear(13)\n",
    "for val in x:\n",
    "    h.insert(val, 'a'+str(val))\n",
    "\n",
    "for val in x:\n",
    "    print(val, h.get(val))\n",
    "h.insert(98, 'a'+str(98))\n",
    "\n",
    "\n",
    "        "
   ]
  },
  {
   "cell_type": "markdown",
   "metadata": {
    "colab_type": "text",
    "id": "FAqYJAEmKCSh"
   },
   "source": [
    "* 아래는 적절한 M 값을 구하는 알고리즘이다. 해시테이블의 사용률이 2/3 정도가 바람직하다고 알려져 있다. 그러므로 M은 키의 수의 3배가 적당하다.\n",
    "* 그러므로 M은 키의 3배 정도로 하고 소수를 선택한다.\n",
    "* 소수를 쓰는 이유는 k % M의 결과값이 M이 소수일 때, 인덱스가 나올 확률이 uniform하기 때문이다. 아래와 같이 간단한 실험을 해보자. "
   ]
  },
  {
   "cell_type": "code",
   "execution_count": 0,
   "metadata": {
    "colab": {
     "base_uri": "https://localhost:8080/",
     "height": 55
    },
    "colab_type": "code",
    "executionInfo": {
     "elapsed": 763,
     "status": "ok",
     "timestamp": 1550533032360,
     "user": {
      "displayName": "swkim김승환",
      "photoUrl": "",
      "userId": "01255046753553274360"
     },
     "user_tz": -540
    },
    "id": "9lJwaqsnTIGk",
    "outputId": "28b5169b-7991-4b7e-85e5-b5a5c7617b45"
   },
   "outputs": [
    {
     "name": "stdout",
     "output_type": "stream",
     "text": [
      "[5, 2, 6, 3, 0, 4, 1, 5]\n",
      "[5, 1, 5, 1, 5, 1, 5, 1]\n"
     ]
    }
   ],
   "source": [
    "M1 = 7         # 소수인 경우, 다양하게 인덱스가 나온다.\n",
    "M2 = 8         # 짝수인 경우, 짝수만 나오고 홀수인 경우에는 홀수만 나온다.\n",
    "res1 = []\n",
    "res2 = []\n",
    "#x = [4, 8, 12, 16, 20, 24, 28, 32]\n",
    "x = [5, 9, 13, 17, 21, 25, 29, 33]\n",
    "for i in x:\n",
    "    res1.append(i % M1)\n",
    "    res2.append(i % M2)\n",
    "print(res1)\n",
    "print(res2)"
   ]
  },
  {
   "cell_type": "code",
   "execution_count": 0,
   "metadata": {
    "colab": {
     "base_uri": "https://localhost:8080/",
     "height": 36
    },
    "colab_type": "code",
    "executionInfo": {
     "elapsed": 645,
     "status": "ok",
     "timestamp": 1550502261277,
     "user": {
      "displayName": "swkim김승환",
      "photoUrl": "",
      "userId": "01255046753553274360"
     },
     "user_tz": -540
    },
    "id": "3Oy5nzR0FmCe",
    "outputId": "faec37d5-0dab-4821-fdc4-1ab7b2a207b4"
   },
   "outputs": [
    {
     "name": "stdout",
     "output_type": "stream",
     "text": [
      "37\n"
     ]
    }
   ],
   "source": [
    "def getPrime(n):\n",
    "    import numpy as np\n",
    "    is_prime = np.array(list(range(n+1)))\n",
    "    N_max = int(np.sqrt(len(is_prime) - 1)) # looping 2 to sqrt(n) \n",
    "\n",
    "    for j in range(2, N_max + 1):\n",
    "        is_prime[2*j::j] = 0\n",
    "    is_prime = np.setdiff1d(is_prime,np.array([0,1])) # is_prime - [0,1]\n",
    "    return is_prime[-1]\n",
    "\n",
    "def getM(n):\n",
    "    m1 = 3 * n\n",
    "    m2 = getPrime(m1)\n",
    "    return m2\n",
    "\n",
    "print(getM(13))"
   ]
  },
  {
   "cell_type": "markdown",
   "metadata": {
    "colab_type": "text",
    "id": "xlxvwc77dEaW"
   },
   "source": [
    "* 에라토스테네스의 체 알고리즘 \n",
    "<center><img src=\" https://drive.google.com/uc?id=15gH9j7yKoUcCwGooSZnZvW5B6N7qVdKa\" width=\"500\" height=\"300\" ></center>\n"
   ]
  },
  {
   "cell_type": "markdown",
   "metadata": {
    "colab_type": "text",
    "id": "QVmjCNhn-GC7"
   },
   "source": [
    "* 이중 해시테이블은 두개의 해시함수를 사용한다. 첫번째 해시는 인덱스를 찾는데 사용하고 두번째 해시는 충돌시, 다음 인덱스를 만드는데 사용한다.\n",
    "* h(key), d(key)는 모두 key로 부터 인덱스를 만들어 내는 해시함수다.\n",
    "* 충돌이 일어날 경우, 아래의 식으로 다음 위치를 찾는다.\n",
    "$$ (h(key) + j*d(key)) \\% M, j = 0,1,2, \\cdots $$\n",
    "\n",
    "* Radom Probing은 같은 seed를 이용해 다음 위치를 지정하지만, Double Hashing은 다음 위치를 지정할 때 key를 seed로 사용하므로 뭉침현상이 일어나지 않는다.\n",
    "* 일반적으로 h(key) = key % M, d(key) = C - (key % C) 로 계산하며 C는 보통 테이블 크기인 M보다 약간 작은 소수이다. \n",
    "\n",
    "<center><img src=\" https://drive.google.com/uc?id=142rcrUHRJHDIV8n7kDK18Mbc2Rpimch0\" width=\"500\" height=\"300\" ></center>   \n",
    "\n"
   ]
  },
  {
   "cell_type": "code",
   "execution_count": 0,
   "metadata": {
    "colab": {
     "base_uri": "https://localhost:8080/",
     "height": 75
    },
    "colab_type": "code",
    "executionInfo": {
     "elapsed": 802,
     "status": "ok",
     "timestamp": 1550556709224,
     "user": {
      "displayName": "swkim김승환",
      "photoUrl": "",
      "userId": "01255046753553274360"
     },
     "user_tz": -540
    },
    "id": "EnIrKWutcQXz",
    "outputId": "f27e5ddf-05dd-43eb-b57f-1635fd417b96"
   },
   "outputs": [
    {
     "name": "stdout",
     "output_type": "stream",
     "text": [
      "23 19 [None, None, [25, 'a25'], None, [50, 'a50'], None, None, None, None, [55, 'a55'], None, None, [35, 'a35'], None, [37, 'a37'], None, None, [63, 'a63'], [18, 'a18'], None, None, None, [22, 'a22']]\n",
      "a22\n"
     ]
    }
   ],
   "source": [
    "x = [25, 37, 18, 55, 22, 35, 50, 63]\n",
    "\n",
    "class DoubleHash:\n",
    "    def __init__(self,k):\n",
    "        # 데이터 수의 3배를 기준으로 소수 2개를 찾아 리스트로 리턴한다.\n",
    "        _tmp = self._getPrime(3 * k)\n",
    "        self.m = _tmp[0]\n",
    "        self.c = _tmp[1]\n",
    "        self.h = [None] * self.m\n",
    "\n",
    "    def _getPrime(self, n):\n",
    "        # 1~n 사이의 소수를 구하고 가장 큰 두 개의 소수를 리턴한다.\n",
    "        import numpy as np\n",
    "        is_prime = np.array(list(range(n+1)))\n",
    "        N_max = int(np.sqrt(len(is_prime) - 1)) # looping 2 to sqrt(n)\n",
    "\n",
    "        for j in range(2, N_max + 1):\n",
    "            is_prime[2*j::j] = 0\n",
    "        is_prime = np.setdiff1d(is_prime,np.array([0,1])) # is_prime - [0,1]\n",
    "        return is_prime[-1], is_prime[-2]\n",
    "\n",
    "    def insert(self, key, item):\n",
    "        if self.is_full() == True:\n",
    "            print(\"Hash Full~~~\")\n",
    "        else:\n",
    "            idx = key % self.m\n",
    "            if self.h[idx] == None:\n",
    "                self.h[idx] = [key,item]\n",
    "            else:\n",
    "                j = 1\n",
    "                while True:\n",
    "                    nextIdx = (idx + j * (self.c - (key % self.c))) % self.m\n",
    "                    if self.h[nextIdx] == None:\n",
    "                        self.h[nextIdx] = [key,item]\n",
    "                        break\n",
    "                    j += 1\n",
    "\n",
    "    def is_full(self):\n",
    "        if None in self.h:\n",
    "            return False\n",
    "        else:\n",
    "            return True\n",
    "\n",
    "    def get(self, key):\n",
    "        idx = key % self.m\n",
    "        if self.h[idx][0] == key:\n",
    "            return self.h[idx][1]\n",
    "        else:\n",
    "            j = 1\n",
    "            while True:\n",
    "                nextIdx = (idx + j * (self.c - (key % self.c))) % self.m\n",
    "                if self.h[nextIdx][0] == key:\n",
    "                    return self.h[nextIdx][1]\n",
    "                else:\n",
    "                    j += 1\n",
    "\n",
    "\n",
    "h = DoubleHash(len(x))\n",
    "\n",
    "for val in x:\n",
    "    h.insert(val, 'a'+str(val))\n",
    "\n",
    "print(h.m, h.c, h.h)\n",
    "print(h.get(22))\n",
    "\n"
   ]
  },
  {
   "cell_type": "markdown",
   "metadata": {
    "colab_type": "text",
    "id": "s69niAfC_7RM"
   },
   "source": [
    "##### 폐쇄주소방식\n",
    "\n",
    "* 충돌이 일어날 경우, 다른 메모리에 저장하는 것이 아니고 그 메모리 안에서 해결하는 방법이다.\n",
    "* 대표적 해결방법으로 Chaining을 사용한다.\n",
    "* 체이닝은 아래 그림처럼 메모리에 Linked List 객체를 삽입해서 중복될 경우, 리스트를 순차탐색하는 방법을 사용한다.\n",
    "<center><img src=\" https://drive.google.com/uc?id=1Lh4MwcN804EIyFS_qelzdjUK9mLfmegx\" width=\"500\" height=\"300\" ></center>  \n"
   ]
  },
  {
   "cell_type": "code",
   "execution_count": 0,
   "metadata": {
    "colab": {
     "base_uri": "https://localhost:8080/",
     "height": 55
    },
    "colab_type": "code",
    "executionInfo": {
     "elapsed": 856,
     "status": "ok",
     "timestamp": 1550590594865,
     "user": {
      "displayName": "swkim김승환",
      "photoUrl": "",
      "userId": "01255046753553274360"
     },
     "user_tz": -540
    },
    "id": "MkodnswGN8uv",
    "outputId": "d4a65757-6032-4cea-e97e-40c704458182"
   },
   "outputs": [
    {
     "name": "stdout",
     "output_type": "stream",
     "text": [
      "64 충돌\n",
      "a64\n"
     ]
    }
   ],
   "source": [
    "class Node:\n",
    "    def __init__(self, key=None, value=None):\n",
    "        self.key = key\n",
    "        self.value = value\n",
    "        self.link = None\n",
    "\n",
    "# LinkedList Class: Linked List에 노드를 추가(append)하고 노드를 찾는(get) 메소드가 있다.\n",
    "class LinkedList:\n",
    "    def __init__(self):\n",
    "        self.root = Node()\n",
    "    # 리스트 마지막에 노드를 삽입한다.\n",
    "    def append(self, key, value):\n",
    "        # 추가할 새 노드를 만든다.\n",
    "        newNode = Node(key, value)\n",
    "        # 현위치를 루트로 지정하고 노드를 추가한다.\n",
    "        curNode = self.root\n",
    "        cnt = 0\n",
    "        # 현 위치가 비어 있으면 현 위치에 삽입\n",
    "        if curNode.key == None:\n",
    "            self.root = newNode\n",
    "        # 현 위치가 비어 있지 않으면 다음 노드로 옮기는 작업을 마지막 노드가 나타날 때 까지 반복한다.\n",
    "        # 마지막 노드를 만나면 마지막 노드 다음에 새 노드를 삽입한다.\n",
    "        else:\n",
    "            while curNode.link != None:\n",
    "                cnt += 1\n",
    "                curNode = curNode.link\n",
    "            curNode.link = newNode\n",
    "        return cnt\n",
    "\n",
    "    def get(self, key):\n",
    "        curNode = self.root\n",
    "        if curNode.key == key:\n",
    "            return curNode.value\n",
    "        else:\n",
    "            while curNode.link != None:\n",
    "                curNode = curNode.link\n",
    "                if curNode.key == key:\n",
    "                    return curNode.value\n",
    "            return None\n",
    "\n",
    "\n",
    "class ChainHash:\n",
    "    def __init__(self, k):\n",
    "        # 데이터 수의 3배를 기준으로 소수 리턴한다.\n",
    "        self.m = self._getPrime(3 * k)\n",
    "        self.h = [None] * self.m\n",
    "\n",
    "    def _getPrime(self, n):\n",
    "        # 1~n 사이의 소수를 구하고 가장 큰 두 개의 소수를 리턴한다.\n",
    "        import numpy as np\n",
    "        is_prime = np.array(list(range(n+1)))\n",
    "        N_max = int(np.sqrt(len(is_prime) - 1)) # looping 2 to sqrt(n)\n",
    "\n",
    "        for j in range(2, N_max + 1):\n",
    "            is_prime[2*j::j] = 0\n",
    "        is_prime = np.setdiff1d(is_prime,np.array([0,1])) # is_prime - [0,1]\n",
    "        return is_prime[-1]\n",
    "\n",
    "    def insert(self, key, item):\n",
    "        if self.is_full() == True:\n",
    "            print(\"Hash Full~~~\")\n",
    "        else:\n",
    "            idx = key % self.m\n",
    "            # 구한 주소가 비어 있으면 해당 주소에 빈 리스트를 만들고 새노드를 추가한다.\n",
    "            if self.h[idx] == None:\n",
    "                self.h[idx] = LinkedList()\n",
    "                self.h[idx].append(key, item)\n",
    "            else:\n",
    "            # 구한 주소가 비어 있지 않으면 해당 주소 리스트 루트부터 끝으로 이동하여 마지막 노드 링크에 새 노드를 추가한다.\n",
    "                print(key, \"충돌\")\n",
    "                curNode = self.h[idx].root\n",
    "                while curNode.link != None:\n",
    "                    curNode = curNode.link\n",
    "                curNode.link = Node(key, item)\n",
    "\n",
    "    def get(self, key):\n",
    "        idx = key % self.m\n",
    "        xList = self.h[idx]\n",
    "\n",
    "        return xList.get(key)\n",
    "\n",
    "\n",
    "    def is_full(self):\n",
    "        if None in self.h:\n",
    "            return False\n",
    "        else:\n",
    "            return True\n",
    "\n",
    "\n",
    "x = [25, 37, 18, 55, 22, 35, 50, 63]\n",
    "\n",
    "h = ChainHash(len(x))\n",
    "\n",
    "for val in x:\n",
    "    h.insert(val, 'a'+str(val))\n",
    "\n",
    "y = [26, 38, 19, 56, 23, 36, 51, 64]\n",
    "for val in y:\n",
    "    h.insert(val, 'a'+str(val))\n",
    "\n",
    "print(h.get(64))\n"
   ]
  },
  {
   "cell_type": "markdown",
   "metadata": {
    "colab_type": "text",
    "id": "WhDqM8h6XZWN"
   },
   "source": [
    "* Two-way Chaining\n",
    "  * 일반적으로 Chaining 방법과 동일한데, 충돌이 일어날 경우, 해시함수를 하나 더 만들어 인덱스를 구하고 두개의 인덱스 중 리스트의 길이가 짧은 쪽으로 삽입한다.\n",
    "  * 꺼낼 때에는 두 해시함수의 인덱스에 대해 각각 탐색하여 리턴한다.\n",
    "  "
   ]
  },
  {
   "cell_type": "code",
   "execution_count": 0,
   "metadata": {
    "colab": {},
    "colab_type": "code",
    "id": "ACTwI-aGahs6"
   },
   "outputs": [],
   "source": []
  }
 ],
 "metadata": {
  "colab": {
   "collapsed_sections": [],
   "name": "Ch 6_HashTable.ipynb",
   "provenance": [],
   "version": "0.3.2"
  },
  "kernelspec": {
   "display_name": "Python 3",
   "language": "python",
   "name": "python3"
  },
  "language_info": {
   "codemirror_mode": {
    "name": "ipython",
    "version": 3
   },
   "file_extension": ".py",
   "mimetype": "text/x-python",
   "name": "python",
   "nbconvert_exporter": "python",
   "pygments_lexer": "ipython3",
   "version": "3.7.1"
  }
 },
 "nbformat": 4,
 "nbformat_minor": 1
}
