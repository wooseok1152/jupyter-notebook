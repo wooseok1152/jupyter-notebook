{
 "cells": [
  {
   "cell_type": "markdown",
   "metadata": {
    "colab_type": "text",
    "id": "UQ17N0sPCqdm"
   },
   "source": [
    "# <font color='blue'><div style=\"text-align: center\">Ch 4. Tree</font> \n",
    "\n",
    "* 트리는 아래와 같은 자료구조다.\n",
    "    \n",
    "    <center> ![](https://drive.google.com/uc?id=1tbdDji0KIkkrcw_Tr-1L9qOU_vKn-5AT) </center>\n",
    "\n",
    "* 이진트리는 트리 중에 자식노드를 최대 두개인 트리를 말한다.\n",
    "    * 자식이 없는 노드를 단말노드라고 한다.\n",
    "    * 자식이 하나만 있을 수도 있다. 나머지 하나는 공백노드다.\n",
    "    * 노드가 n개이면 간선은 n-1 개이다.\n",
    "    * 높이가 h인 노드의 수 최소값은 h+1이고 최대값은 $ 2^{h+1} - 1 $이다.\n",
    "     \n",
    "    <center> ![](https://drive.google.com/uc?id=1Przq9g0NvvpuGZGFTLthuhYJQ1HiKefO) </center>\n",
    "\n",
    "* 높이가 h인 이진트리에서 최대노드를 가지는 트리를 포화이진트리라고 한다.\n",
    "    <center> ![](https://drive.google.com/uc?id=1uGarIvVGqKkcUIL88wuRTcaD0SI5rq0i) </center>\n",
    "\n",
    "* 포화이진트리에서아래 그림처럼 마지막 노드 몇 개가 빠진 트리를 완전이진트리라고 한다.\n",
    "    \n",
    "    <center> ![](https://drive.google.com/uc?id=1G-TLVCajF1itdaWI-ScNpNu1o4PtVVLC) </center>\n",
    "\n",
    "* 편향이진트리는 아래와 같이 한쪽으로만 자식노드가 존재하는 트리를 말한다. 이 경우는 결국 리스트와 같은 구조이기 때문에 트리의 장점을 살릴 수 없으므로 리스트로 구현하는 것이 더 효과적이다.\n",
    "    \n",
    "    <center> ![](https://drive.google.com/uc?id=1kearY04V20SNFQWY3r0Ytfo--xZYYXVm) </center>\n",
    "\n",
    "* 리스트를 이용한 이진트리의 ADT\n",
    "    * 완전 이진트리는 순차구조이므로 배열 형태로 구현할 수 있다. 단, 루트의 인덱스는 1로 시작한다.\n",
    "      * t = [None]\n",
    "    * append method: 마지막 위치에서 item을 삽입한다.\n",
    "    * getChild method: item 을 찾고 이 위치 인덱스 k에 대해 t[2k], t[2k+1]이 좌, 우 자식값을 리턴한다. \n",
    "    * getParent method: item을 찾고 해당 인덱스 k에 대해 k//2 위치값이 부모값이다. \n",
    "    \n",
    "    <center> ![](https://drive.google.com/uc?id=1vtv2mHIKMXhQxypmvo7UEWnI3JHfLlq1) </center>\n",
    "\n",
    "    "
   ]
  },
  {
   "cell_type": "code",
   "execution_count": 0,
   "metadata": {
    "colab": {},
    "colab_type": "code",
    "id": "YsbcjWVlOeA0"
   },
   "outputs": [],
   "source": [
    "class BinaryTree:\n",
    "    \n",
    "    def __init__(self):\n",
    "        \n",
    "        # Tree 자료구조는 list또는 node를 활용한 linked list로 구현할 수 있다 여기선 list를 활용하였다. Tree내 노드는 index 1부터 시작한다.\n",
    "        self.t = [None]\n",
    "        \n",
    "    def append(self, item):\n",
    "        \n",
    "        self.t.append(item)\n",
    "    \n",
    "    def size(self):\n",
    "        \n",
    "        return len(self.t) - 1\n",
    "    \n",
    "    def getChild(self, item):\n",
    "        \n",
    "        if item in self.t:\n",
    "            \n",
    "            k = self.t.index(item)\n",
    "            lidx = 2 * k\n",
    "            ridx = 2 * k + 1\n",
    "            if lidx <= self.size():\n",
    "                \n",
    "                lnode = self.t[lidx]\n",
    "                \n",
    "            else:\n",
    "                \n",
    "                lnode = None\n",
    "                \n",
    "            if ridx <= self.size():\n",
    "                \n",
    "                rnode = self.t[ridx]\n",
    "                \n",
    "            else:\n",
    "                \n",
    "                rnode = None    \n",
    "                \n",
    "            return lnode, rnode\n",
    "        \n",
    "        else:\n",
    "            \n",
    "            print('item not found~')\n",
    "    \n",
    "    def getParent(self, item):\n",
    "        \n",
    "        if item in self.t:\n",
    "            \n",
    "            k = self.t.index(item)\n",
    "            pidx = k // 2\n",
    "            if pidx > 0:\n",
    "                \n",
    "                return self.t[pidx]\n",
    "            \n",
    "            else:\n",
    "                \n",
    "                return None\n",
    "        else:\n",
    "            \n",
    "            print('item not found~')\n",
    "\n",
    "t = BinaryTree()\n",
    "for i in range(10):\n",
    "    t.append(chr(65+i)) # 대문자 'A부터 J까지'를 바이너리트리에 넣는 것임."
   ]
  },
  {
   "cell_type": "code",
   "execution_count": 0,
   "metadata": {
    "colab": {
     "base_uri": "https://localhost:8080/",
     "height": 52
    },
    "colab_type": "code",
    "executionInfo": {
     "elapsed": 842,
     "status": "ok",
     "timestamp": 1548999948607,
     "user": {
      "displayName": "swkim김승환",
      "photoUrl": "",
      "userId": "01255046753553274360"
     },
     "user_tz": -540
    },
    "id": "7wHq5jzwIQCG",
    "outputId": "2e7fc899-9085-403c-e4ff-61ce3635eecc"
   },
   "outputs": [
    {
     "name": "stdout",
     "output_type": "stream",
     "text": [
      "('F', 'G')\n",
      "('J', None)\n"
     ]
    }
   ],
   "source": [
    "print(t.getChild('C'))\n",
    "print(t.getChild('E'))"
   ]
  },
  {
   "cell_type": "code",
   "execution_count": 0,
   "metadata": {
    "colab": {
     "base_uri": "https://localhost:8080/",
     "height": 70
    },
    "colab_type": "code",
    "executionInfo": {
     "elapsed": 580,
     "status": "ok",
     "timestamp": 1548860462208,
     "user": {
      "displayName": "swkim김승환",
      "photoUrl": "",
      "userId": "01255046753553274360"
     },
     "user_tz": -540
    },
    "id": "MJIYcHLmIW4J",
    "outputId": "8c341685-e34a-4525-9fa9-0b05c33c207e"
   },
   "outputs": [
    {
     "name": "stdout",
     "output_type": "stream",
     "text": [
      "C\n",
      "item not found~\n",
      "None\n"
     ]
    }
   ],
   "source": [
    "print(t.getParent('G'))\n",
    "print(t.getParent('N'))"
   ]
  },
  {
   "cell_type": "markdown",
   "metadata": {
    "colab_type": "text",
    "id": "WEuch45ZIpRq"
   },
   "source": [
    "<font color='red'> <H.W # 8> 아래 트리를 구현하고 단말 노드 질병 간의 거리를 계산하는 메소드를 구현하시오.\n",
    "                대장염과 대장암의 거리는 1/3 이고, 대장염과 위궤양의 거리는 3/2, 대장염과 독감의 거리는 3/3 이다.</font>\n",
    "\n",
    "                \n",
    "<center> ![](https://drive.google.com/uc?id=14Y5yfehCM5U7zj4OM2F8N55IK0xoGC9S) </center>\n"
   ]
  },
  {
   "cell_type": "markdown",
   "metadata": {
    "colab_type": "text",
    "id": "0gEJLLqSTSsA"
   },
   "source": [
    "#### 연결 리스트를 이용한 이진트리\n",
    "\n",
    "* 위에서 구현한 리스트를 이용한 이진트리는 편향트리와 같이 중간이 비어있는 구조에는 적합치 않다.\n",
    "* 이러한 단점을 극복하기 위해 연결 리스트를 이용해 구현해보자.\n",
    "\n",
    "<center> ![](https://drive.google.com/uc?id=1qcjP_VxfLO3dpZLmCcxZUYwLNt0ApmTf) </center>\n",
    "\n",
    "* 순회 알고리즘\n",
    " * preOrder Algorithm <br>\n",
    "   Step 1: 방문 <br>\n",
    "   Step 2: 좌측 자식노드에서 재귀 <br>\n",
    "   Step 3: 우측 자식노드에서 재귀\n",
    "\n",
    "<center> ![](https://drive.google.com/uc?id=1SKryd5l_rTsDPD362n5310pl2qtz2uDe) </center>\n",
    "\n",
    " * inOrder Algorithm <br>\n",
    "   \n",
    "   Step 1: 좌측 자식노드에서 재귀 <br>\n",
    "   Step 2: 방문 <br>\n",
    "   Step 3: 우측 자식노드에서 재귀\n",
    "   \n",
    "<center> ![](https://drive.google.com/uc?id=1qQoZ2cCnHpvoI6xH5kOHuFgfmFI_e3g4) </center>\n",
    "   \n",
    " * postOrder Algorithm <br>\n",
    "   \n",
    "   Step 1: 좌측 자식노드에서 재귀 <br>\n",
    "   Step 2: 우측 자식노드에서 재귀 <br>\n",
    "   Step 3: 방문 \n",
    "   \n",
    "<center> ![](https://drive.google.com/uc?id=1glMGvtZT31BXOpKthE54ApMKYdBgFIDu) </center>\n",
    "   \n",
    "\n",
    " "
   ]
  },
  {
   "cell_type": "code",
   "execution_count": 0,
   "metadata": {
    "colab": {
     "base_uri": "https://localhost:8080/",
     "height": 73
    },
    "colab_type": "code",
    "executionInfo": {
     "elapsed": 640,
     "status": "ok",
     "timestamp": 1549845388072,
     "user": {
      "displayName": "swkim김승환",
      "photoUrl": "",
      "userId": "01255046753553274360"
     },
     "user_tz": -540
    },
    "id": "awGUPAS7UH9w",
    "outputId": "db17c3f9-663e-48cd-c973-01ac8abb3798"
   },
   "outputs": [
    {
     "name": "stdout",
     "output_type": "stream",
     "text": [
      "A   B   D   H   E   I   J   C   F   G   K   \n",
      "H   D   B   I   E   J   A   F   C   G   K   \n",
      "H   D   I   J   E   B   F   K   G   C   A   "
     ]
    }
   ],
   "source": [
    "class BNode:\n",
    "    def __init__(self, item):\n",
    "        self.item=item\n",
    "        self.left = None\n",
    "        self.right = None\n",
    "    def setLeft(self, node):\n",
    "        self.left = node\n",
    "    def setRight(self, node):\n",
    "        self.right = node   \n",
    "\n",
    "class BinaryTree:\n",
    "    def __init__(self,root):\n",
    "        self.root = root\n",
    "    \n",
    "    def preOrder(self, n):\n",
    "        print(n.item,' ', end=' ')\n",
    "        if n.left: self.preOrder(n.left)\n",
    "        if n.right: self.preOrder(n.right)\n",
    "    \n",
    "    def inOrder(self, n):\n",
    "        if n.left: self.inOrder(n.left)\n",
    "        print(n.item,' ', end=' ')\n",
    "        if n.right: self.inOrder(n.right)\n",
    "\n",
    "    def postOrder(self, n):\n",
    "        if n.left: self.postOrder(n.left)\n",
    "        if n.right: self.postOrder(n.right)    \n",
    "        print(n.item,' ', end=' ')\n",
    "        \n",
    "a = BNode('A')\n",
    "b = BNode('B')\n",
    "c = BNode('C')\n",
    "d = BNode('D')\n",
    "e = BNode('E')\n",
    "f = BNode('F')\n",
    "g = BNode('G')\n",
    "h = BNode('H')\n",
    "i = BNode('I')\n",
    "j = BNode('J')\n",
    "k = BNode('K')\n",
    "\n",
    "a.setLeft(b)\n",
    "a.setRight(c)\n",
    "b.setLeft(d)\n",
    "b.setRight(e)\n",
    "c.setLeft(f)\n",
    "c.setRight(g)\n",
    "d.setLeft(h)\n",
    "e.setLeft(i)\n",
    "e.setRight(j)\n",
    "g.setRight(k)\n",
    "\n",
    "t = BinaryTree(a)\n",
    "t.preOrder(a)\n",
    "print()\n",
    "t.inOrder(a)\n",
    "print()\n",
    "t.postOrder(a)\n"
   ]
  },
  {
   "cell_type": "markdown",
   "metadata": {
    "colab_type": "text",
    "id": "SjD_I9G0oTVd"
   },
   "source": [
    "아래는 트리의 높이를 구하는 메소드를 추가한 결과다."
   ]
  },
  {
   "cell_type": "code",
   "execution_count": 0,
   "metadata": {
    "colab": {
     "base_uri": "https://localhost:8080/",
     "height": 73
    },
    "colab_type": "code",
    "executionInfo": {
     "elapsed": 596,
     "status": "ok",
     "timestamp": 1549845398892,
     "user": {
      "displayName": "swkim김승환",
      "photoUrl": "",
      "userId": "01255046753553274360"
     },
     "user_tz": -540
    },
    "id": "1OGnAemcnwiP",
    "outputId": "3cc2e143-d5c6-4e78-bff8-310cadd89b00"
   },
   "outputs": [
    {
     "name": "stdout",
     "output_type": "stream",
     "text": [
      "A   B   D   H   E   I   J   C   F   G   K   \n",
      "H   D   B   I   E   J   A   F   C   G   K   \n",
      "H   D   I   J   E   B   F   K   G   C   A   4\n"
     ]
    }
   ],
   "source": [
    "class BinaryTree:\n",
    "    def __init__(self,root):\n",
    "        self.root = root\n",
    "    \n",
    "    def preOrder(self, n):\n",
    "        print(n.item,' ', end=' ')\n",
    "        if n.left: self.preOrder(n.left)\n",
    "        if n.right: self.preOrder(n.right)\n",
    "    \n",
    "    def inOrder(self, n):\n",
    "        if n.left: self.inOrder(n.left)\n",
    "        print(n.item,' ', end=' ')\n",
    "        if n.right: self.inOrder(n.right)\n",
    "\n",
    "    def postOrder(self, n):\n",
    "        if n.left: self.postOrder(n.left)\n",
    "        if n.right: self.postOrder(n.right)    \n",
    "        print(n.item,' ', end=' ')\n",
    "    \n",
    "    def height(self, n):\n",
    "        # 특정 노드에서 왼쪽으로 끝까지 가보고, 오른쪽으로 끝까지 가보고 ...\n",
    "        if n is None:\n",
    "            return 0\n",
    "        else:\n",
    "            # Compute the height of each subtree\n",
    "            lheight = self.height(n.left)\n",
    "            rheight = self.height(n.right)\n",
    "            # 각 노드별로 끝이 됐을 때, 리턴값을 프린트한다.\n",
    "            #print(n.item, lheight+1, rheight+1)\n",
    "            # Use the larger one\n",
    "            # 루트 노드가 맨 마지막에 리턴된다.\n",
    "            if lheight > rheight:\n",
    "                return lheight + 1\n",
    "            else:\n",
    "                return rheight + 1\n",
    "            \n",
    "a = BNode('A')\n",
    "b = BNode('B')\n",
    "c = BNode('C')\n",
    "d = BNode('D')\n",
    "e = BNode('E')\n",
    "f = BNode('F')\n",
    "g = BNode('G')\n",
    "h = BNode('H')\n",
    "i = BNode('I')\n",
    "j = BNode('J')\n",
    "k = BNode('K')\n",
    "\n",
    "a.setLeft(b)\n",
    "a.setRight(c)\n",
    "b.setLeft(d)\n",
    "b.setRight(e)\n",
    "c.setLeft(f)\n",
    "c.setRight(g)\n",
    "d.setLeft(h)\n",
    "e.setLeft(i)\n",
    "e.setRight(j)\n",
    "g.setRight(k)\n",
    "\n",
    "t = BinaryTree(a)\n",
    "t.preOrder(a)\n",
    "print()\n",
    "t.inOrder(a)\n",
    "print()\n",
    "t.postOrder(a)\n",
    "print(t.height(t.root))\n",
    "    "
   ]
  },
  {
   "cell_type": "markdown",
   "metadata": {
    "colab_type": "text",
    "id": "ONQ9fBlMsLCu"
   },
   "source": [
    "아래는 트리에서 레벨 순서에 따라 순회하는 코드를 추가한 결과다."
   ]
  },
  {
   "cell_type": "code",
   "execution_count": 0,
   "metadata": {
    "colab": {
     "base_uri": "https://localhost:8080/",
     "height": 131
    },
    "colab_type": "code",
    "executionInfo": {
     "elapsed": 603,
     "status": "ok",
     "timestamp": 1549845412961,
     "user": {
      "displayName": "swkim김승환",
      "photoUrl": "",
      "userId": "01255046753553274360"
     },
     "user_tz": -540
    },
    "id": "jGENEcLoo26u",
    "outputId": "432cc81e-cf34-4d57-92ff-bf5ae34c73c1"
   },
   "outputs": [
    {
     "name": "stdout",
     "output_type": "stream",
     "text": [
      "A   B   D   H   E   I   J   C   F   G   K   \n",
      "H   D   B   I   E   J   A   F   C   G   K   \n",
      "H   D   I   J   E   B   F   K   G   C   A   \n",
      "('B', 'D', 'E') ('C', 'F', 'G') \n",
      "('A', 'B', 'C') ('B', 'D', 'E') ('C', 'F', 'G') ('D', 'H', 'None') ('E', 'I', 'J') ('F', 'None', 'None') ('G', 'None', 'K') ('H', 'None', 'None') ('I', 'None', 'None') ('J', 'None', 'None') ('K', 'None', 'None') "
     ]
    }
   ],
   "source": [
    "class BinaryTree:\n",
    "    def __init__(self,root):\n",
    "        self.root = root\n",
    "    \n",
    "    def preOrder(self, n):\n",
    "        print(n.item,' ', end=' ')\n",
    "        if n.left: self.preOrder(n.left)\n",
    "        if n.right: self.preOrder(n.right)\n",
    "    \n",
    "    def inOrder(self, n):\n",
    "        if n.left: self.inOrder(n.left)\n",
    "        print(n.item,' ', end=' ')\n",
    "        if n.right: self.inOrder(n.right)\n",
    "\n",
    "    def postOrder(self, n):\n",
    "        if n.left: self.postOrder(n.left)\n",
    "        if n.right: self.postOrder(n.right)    \n",
    "        print(n.item,' ', end=' ')\n",
    "    \n",
    "    def height(self, n):\n",
    "        # 특정 노드에서 왼쪽으로 끝까지 가보고, 오른쪽으로 끝까지 가보고 ...\n",
    "        if n is None:\n",
    "            return 0\n",
    "        else:\n",
    "            # Compute the height of each subtree\n",
    "            lheight = self.height(n.left)\n",
    "            rheight = self.height(n.right)\n",
    "            # 각 노드별로 끝이 됐을 때, 리턴값을 프린트한다.\n",
    "            #print(n.item, lheight+1, rheight+1)\n",
    "            # Use the larger one\n",
    "            # 루트 노드가 맨 마지막에 리턴된다.\n",
    "            if lheight > rheight:\n",
    "                return lheight + 1\n",
    "            else:\n",
    "                return rheight + 1\n",
    "\n",
    "    # Function to print level order traversal of tree\n",
    "    def levelOrder(self, node):\n",
    "        # 루트노드의 높이를 구한다음 높이가 1부터 h까지 순차적으로 노드를 구한다.\n",
    "        h = self.height(node)\n",
    "        for i in range(1, h + 1):\n",
    "            self._levelOrder(node, i)\n",
    "\n",
    "    # 특정 노드의 레벨에 해당하는 노드를 프린트한다.\n",
    "    # 예: 루트에서 레벨 2를 프린트한다면 레벨을 한 단계 낮춰 루트 좌우로 이동한다.\n",
    "    # 이후, 레벨 1이 되므로 루트의 좌, 우 노드가 프린트 된다.\n",
    "    # 루트에서 레벨 3을 프린트 한다면 레벨을 한단계 낮춘 상태 즉 루트 바로 밑을 루트로 보고 재귀적으로 레벨 2를 수행하는 것이다.\n",
    "\n",
    "    def _levelOrder(self, node, level):\n",
    "        if node is None:\n",
    "            return\n",
    "        # 특정 노드의 level == 1일 때, 특정 노드 값을 인쇄한다.\n",
    "        if level == 1:\n",
    "            if node.left == None and node.right == None:\n",
    "                print((node.item, \"None\", \"None\"),end=\" \")\n",
    "            elif node.left == None and node.right != None:\n",
    "                print((node.item, \"None\", node.right.item),end=\" \")\n",
    "            elif node.left != None and node.right == None:\n",
    "                print((node.item, node.left.item, \"None\"), end=\" \")\n",
    "            else:\n",
    "                print((node.item, node.left.item, node.right.item), end=\" \")\n",
    "        # level > 1 이면 특정 노드의 좌, 우측으로 이동해서 레벨을 다운시켜 진행한다.\n",
    "        elif level > 1:\n",
    "            self._levelOrder(node.left, level - 1)\n",
    "            self._levelOrder(node.right, level - 1)     \n",
    "            \n",
    "            \n",
    "a = BNode('A')\n",
    "b = BNode('B')\n",
    "c = BNode('C')\n",
    "d = BNode('D')\n",
    "e = BNode('E')\n",
    "f = BNode('F')\n",
    "g = BNode('G')\n",
    "h = BNode('H')\n",
    "i = BNode('I')\n",
    "j = BNode('J')\n",
    "k = BNode('K')\n",
    "\n",
    "a.setLeft(b)\n",
    "a.setRight(c)\n",
    "b.setLeft(d)\n",
    "b.setRight(e)\n",
    "c.setLeft(f)\n",
    "c.setRight(g)\n",
    "d.setLeft(h)\n",
    "e.setLeft(i)\n",
    "e.setRight(j)\n",
    "g.setRight(k)\n",
    "\n",
    "t = BinaryTree(a)\n",
    "t.preOrder(a)\n",
    "print()\n",
    "t.inOrder(a)\n",
    "print()\n",
    "t.postOrder(a)\n",
    "print()\n",
    "t._levelOrder(t.root, 2)\n",
    "print()\n",
    "t.levelOrder(t.root)   "
   ]
  },
  {
   "cell_type": "markdown",
   "metadata": {
    "colab_type": "text",
    "id": "fviwByzkSZRF"
   },
   "source": [
    "#### Binary Heap\n",
    "\n",
    "* 완전이진트리 구조이고 부모노드는 자식노드보다 크거나 같다.(Max Heap)\n",
    "* 반대로 부모노드가 자식노드 보다 작거나 같은 완전 이진트리를 최소 힙(Mininum Heap)이라고 한다.\n",
    "\n",
    "<center> ![]( https://drive.google.com/uc?id=1XV2SrlJC4JUtYLxm6kKXEEPsNRTik9sk) </center>\n",
    "\n",
    "* 리스트를 이용하여 구현 가능하다.\n",
    "* 리스트의 0번째는 None으로 하고 1번째 부터 추가한다.\n",
    "* push 연산은  item을 마지막 위치에 삽입하고마지막 위치부터 루트까지 힙구조를 맞추는 자리바꿈을 실시한다.\n",
    "* pop연산은 item에 저장하고 최대값이 더 이상 힙에 필요 없으므로 마지막 노드와 위치를 바꾼 다음 마지막 노드를 지워 힙 크기를 줄인다.\n",
    "*  heapify 연산은 부모노드를 루트부터 끝까지 탐색하면서 힙구조에 맞지 않을 경우 자리 바꿈을 실시한다.\n",
    "\n",
    "* MaxHeap의 ADT\n",
    "  * 초기상태: x=[None]\n",
    "  * push method: item을 리스트 마지막에 추가한다. 마지막 위치에 추가된 아이템이 MaxHeap 성질을 만족하지 않으면 부모노드와 자리바꿈을 실시하는 과정을 루트까지 반복한다.\n",
    "  \n",
    "  * pop method: x[1]을 keep하고 x[1]과 리스트 마지막 아이템 자리를 바꾼다. 이후, 리스트에서 마지막 아이템을 제외하고 heapify 한다.\n",
    "  \n",
    "  * exchange method: i,j 인덱스로 부터 x[i] < x[j] 이면 자리를 바꿔 x[i] >  x[j] 가 되도록 한다.\n",
    "  \n",
    "  * child method: 부모 인덱스로 부터 좌, 우 자식 인덱스를 리턴한다. 단, 자식 인덱스가 리스트 바깥이면 None을 리턴한다.\n",
    "  * heapify method: 루트 노트부터 모든 노드를 돌면서 좌, 우 자식노드와 비교하여 자리바꿈을 실시한다.\n",
    "  "
   ]
  },
  {
   "cell_type": "code",
   "execution_count": 0,
   "metadata": {
    "colab": {
     "base_uri": "https://localhost:8080/",
     "height": 175
    },
    "colab_type": "code",
    "executionInfo": {
     "elapsed": 619,
     "status": "ok",
     "timestamp": 1549009309240,
     "user": {
      "displayName": "swkim김승환",
      "photoUrl": "",
      "userId": "01255046753553274360"
     },
     "user_tz": -540
    },
    "id": "kHg62tA5Ufsv",
    "outputId": "ce131656-f9b5-4460-de69-c29f4ef6dd18"
   },
   "outputs": [
    {
     "name": "stdout",
     "output_type": "stream",
     "text": [
      "[None, 8, 7, 6, 4, 3, 2, 5, 1]\n",
      "8\n",
      "7\n",
      "6\n",
      "5\n",
      "4\n",
      "3\n",
      "2\n",
      "1\n"
     ]
    }
   ],
   "source": [
    "class maxHeap:\n",
    "    def __init__(self):\n",
    "        self.x = [None]\n",
    "        \n",
    "    def exchange(self,i,j):\n",
    "        # x[i] > x[j] 가 되도록 자리를 바꾼다.\n",
    "        if self.x[i] < self.x[j]:\n",
    "            self.x[i],self.x[j] =  self.x[j],self.x[i]\n",
    "        \n",
    "    def push(self, item):\n",
    "        self.x.append(item)\n",
    "        cIndex = len(self.x) - 1\n",
    "        pIndex = cIndex // 2\n",
    "        while pIndex >= 1:\n",
    "            self.exchange(pIndex, cIndex)\n",
    "            cIndex = pIndex\n",
    "            pIndex = cIndex // 2\n",
    "   \n",
    "    def pop(self):\n",
    "        item = self.x[1]\n",
    "        n = len(self.x) - 1\n",
    "        self.x[1], self.x[n] = self.x[n], self.x[1]\n",
    "        self.x = self.x[:-1]\n",
    "        self.heapify()\n",
    "        return item\n",
    "    \n",
    "    def child(self, pIndex):\n",
    "        n = len(self.x)\n",
    "        leftIndex = pIndex * 2\n",
    "        rightIndex = pIndex * 2 + 1\n",
    "        if rightIndex <= n-1: # 해당 트리에 자식(왼쪽과 오른쪽)과 부모가 다 들어있다는 의미이다.\n",
    "            return leftIndex, rightIndex\n",
    "        elif leftIndex == n-1:\n",
    "            return leftIndex, None\n",
    "        else:\n",
    "            return None, None\n",
    "        \n",
    "    def heapify(self):\n",
    "        pIndex = 1\n",
    "        lastIndex = len(self.x) - 1\n",
    "        while pIndex < len(self.x):\n",
    "            left, right = self.child(pIndex)\n",
    "            if left != None and right == None :\n",
    "                self.exchange(pIndex, left)\n",
    "            elif left != None and right != None:\n",
    "                if self.x[left] < self.x[right]:\n",
    "                    self.exchange(pIndex, right)\n",
    "                else:\n",
    "                    self.exchange(pIndex, left)\n",
    "            pIndex += 1\n",
    "            \n",
    "    def print(self):\n",
    "        print(self.x)\n",
    "\n",
    "h = maxHeap()\n",
    "for i in range(1,9):\n",
    "    h.push(i)\n",
    "h.print()\n",
    "\n",
    "for i in range(8):\n",
    "    print(h.pop())"
   ]
  },
  {
   "cell_type": "markdown",
   "metadata": {
    "colab_type": "text",
    "id": "niivNuW9K-F6"
   },
   "source": [
    "<font color='red'> <H.W # 9> 싸다싸 쇼핑몰에서는 마우스 재고를 항상 10개 보유하고 있다. <br> 마우스는 최저가 마우스만 팔린다고 가정하고 하나가 팔리면 곧 바로 하나가 재고가 보충된다.  여기서, 마우스 가격은 평균 만원, 표준편차 천원인 정규분포를 따른다고 가정하고 과정을 모의실험 하시오.</font>\n"
   ]
  },
  {
   "cell_type": "markdown",
   "metadata": {
    "colab_type": "text",
    "id": "Lv9dYfypT5bN"
   },
   "source": []
  },
  {
   "cell_type": "code",
   "execution_count": 0,
   "metadata": {
    "colab": {},
    "colab_type": "code",
    "id": "GaitWPaAXk9G"
   },
   "outputs": [],
   "source": []
  }
 ],
 "metadata": {
  "colab": {
   "collapsed_sections": [],
   "name": "Ch 4_ Tree.ipynb",
   "provenance": [],
   "version": "0.3.2"
  },
  "kernelspec": {
   "display_name": "Python 3",
   "language": "python",
   "name": "python3"
  },
  "language_info": {
   "codemirror_mode": {
    "name": "ipython",
    "version": 3
   },
   "file_extension": ".py",
   "mimetype": "text/x-python",
   "name": "python",
   "nbconvert_exporter": "python",
   "pygments_lexer": "ipython3",
   "version": "3.7.1"
  }
 },
 "nbformat": 4,
 "nbformat_minor": 1
}
