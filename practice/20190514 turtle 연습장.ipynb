{
 "cells": [
  {
   "cell_type": "code",
   "execution_count": 1,
   "metadata": {
    "scrolled": true
   },
   "outputs": [],
   "source": [
    "import turtle\n",
    "t = turtle.Turtle()\n",
    "t.shape(\"turtle\")\n",
    "\n",
    "n=6\n",
    "for i in range(n):\n",
    "    t.fd(100)\n",
    "    t.left(360/n)\n",
    "    \n",
    "\n",
    "\n",
    "turtle.mainloop()"
   ]
  },
  {
   "cell_type": "code",
   "execution_count": null,
   "metadata": {},
   "outputs": [],
   "source": [
    "import turtle\n",
    "import random\n",
    "\n",
    "class Ball:\n",
    "    def __init__(self, size):\n",
    "        # 공의 위치\n",
    "        self.size = size\n",
    "        self.turtle = turtle.Turtle()\n",
    "        self.turtle.shape(\"circle\")\n",
    "        self.turtle.resizemode(\"user\")\n",
    "        self.turtle.shapesize(size)\n",
    "    # 메소드 정의\n",
    "    def move(self, x, y):\n",
    "        self.turtle.penup()\n",
    "        self.turtle.goto(x, y)\n",
    "        self.x = x\n",
    "        self.y = y\n",
    "\n",
    "    def change_color(self):\n",
    "        R = random.random()\n",
    "        B = random.random()\n",
    "        G = random.random()\n",
    "        self.turtle.color(R, G, B)\n",
    "\n",
    "ballList = []\n",
    "for i in range(10):\n",
    "    ball = Ball(2)\n",
    "    ball.change_color()\n",
    "    x = random.randrange(-300, 300)\n",
    "    y = random.randrange(-300, 300)\n",
    "    ball.move(x, y)\n",
    "    ballList.append(ball)\n",
    "\n",
    "for ball in ballList:\n",
    "    print(ball.x, ball.y)\n",
    "\n",
    "turtle.mainloop()"
   ]
  },
  {
   "cell_type": "code",
   "execution_count": 1,
   "metadata": {},
   "outputs": [],
   "source": [
    "import turtle\n",
    "\n",
    "turtle.setup(width = 1000, height = 1000)\n",
    "\n",
    "t = turtle.Turtle()\n",
    "t.shape(\"turtle\")\n",
    "\n",
    "n=6\n",
    "for i in range(n):\n",
    "    t.fd(100)\n",
    "    t.left(360/n)\n",
    "    \n",
    "\n",
    "\n",
    "turtle.mainloop()\n",
    "\n",
    "\n"
   ]
  },
  {
   "cell_type": "code",
   "execution_count": 1,
   "metadata": {},
   "outputs": [
    {
     "name": "stdout",
     "output_type": "stream",
     "text": [
      "180.0\n"
     ]
    }
   ],
   "source": [
    "import turtle\n",
    "import random\n",
    "\n",
    "t = turtle.Turtle()\n",
    "t.shape(\"turtle\")\n",
    "\n",
    "t.penup()\n",
    "t.fd(300)\n",
    "t.left(90)\n",
    "t.fd(300)\n",
    "t.left(90)\n",
    "t.pendown()\n",
    "\n",
    "for i in range(4):\n",
    "    t.fd(600)\n",
    "    t.left(90)\n",
    "    \n",
    "t.penup()\n",
    "t.setposition(0,0)\n",
    "t.setposition(random.randint(-300,300),300)\n",
    "print(t.heading())\n",
    "\n",
    "turtle.mainloop()\n",
    "\n",
    "\n",
    "\n"
   ]
  },
  {
   "cell_type": "code",
   "execution_count": 24,
   "metadata": {},
   "outputs": [
    {
     "data": {
      "text/plain": [
       "9"
      ]
     },
     "execution_count": 24,
     "metadata": {},
     "output_type": "execute_result"
    }
   ],
   "source": [
    "import random\n",
    "\n",
    "random.randint(-1,10)"
   ]
  },
  {
   "cell_type": "code",
   "execution_count": null,
   "metadata": {},
   "outputs": [],
   "source": []
  }
 ],
 "metadata": {
  "kernelspec": {
   "display_name": "Python 3",
   "language": "python",
   "name": "python3"
  },
  "language_info": {
   "codemirror_mode": {
    "name": "ipython",
    "version": 3
   },
   "file_extension": ".py",
   "mimetype": "text/x-python",
   "name": "python",
   "nbconvert_exporter": "python",
   "pygments_lexer": "ipython3",
   "version": "3.7.1"
  }
 },
 "nbformat": 4,
 "nbformat_minor": 2
}
