{
 "cells": [
  {
   "cell_type": "code",
   "execution_count": null,
   "metadata": {},
   "outputs": [],
   "source": [
    "class Queue:\n",
    "    def __init__(self):\n",
    "        self.q = []\n",
    "        \n",
    "    def enQueue(self, item):\n",
    "        self.q.append(item)\n",
    "        \n",
    "    def deQueue(self):\n",
    "        if self.isEmpty() == False: \n",
    "            return self.q.pop(0)\n",
    "    \n",
    "    def size(self):\n",
    "        return len(self.q)\n",
    "    \n",
    "    def isEmpty(self):\n",
    "        if len(self.q) > 0:\n",
    "            return False\n",
    "        else:\n",
    "            return True\n",
    "        \n",
    "    def peek(self):\n",
    "        if self.isEmpty() == False: \n",
    "            return self.q[0]\n",
    "    \n",
    "    def delete(self, item):\n",
    "        if item in self.q: \n",
    "            self.q.remove(item)\n",
    "        else:\n",
    "            print(\"해당 아이템이 존재하지 않습니다.\")\n",
    "\n",
    "\n"
   ]
  }
 ],
 "metadata": {
  "kernelspec": {
   "display_name": "Python 3",
   "language": "python",
   "name": "python3"
  },
  "language_info": {
   "codemirror_mode": {
    "name": "ipython",
    "version": 3
   },
   "file_extension": ".py",
   "mimetype": "text/x-python",
   "name": "python",
   "nbconvert_exporter": "python",
   "pygments_lexer": "ipython3",
   "version": "3.7.1"
  }
 },
 "nbformat": 4,
 "nbformat_minor": 2
}
