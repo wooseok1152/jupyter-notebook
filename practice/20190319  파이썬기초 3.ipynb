{
 "cells": [
  {
   "cell_type": "code",
   "execution_count": 6,
   "metadata": {},
   "outputs": [
    {
     "name": "stdout",
     "output_type": "stream",
     "text": [
      "연필을 구입할 갯수를 입력하시오. 5\n",
      "펜을 구입할 갯수를 입력하시오. 5\n",
      "13500.0원 입니다.\n"
     ]
    }
   ],
   "source": [
    "pencil_price = 1000\n",
    "pen_price = 2000\n",
    "\n",
    "\n",
    "\n",
    "pencil_count = int(input(\"연필을 구입할 갯수를 입력하시오. \"))\n",
    "pen_count = int(input(\"펜을 구입할 갯수를 입력하시오. \"))\n",
    "\n",
    "\n",
    "\n",
    "total_price = pencil_price * pencil_count + pen_price * pen_count\n",
    "\n",
    "\n",
    "\n",
    "if total_price > 10000:\n",
    "    print(str(total_price - total_price * 0.1) + \"원 입니다.\")\n",
    "else:\n",
    "    print(str(total_price) + \"원 입니다.\")\n",
    "    "
   ]
  },
  {
   "cell_type": "code",
   "execution_count": null,
   "metadata": {},
   "outputs": [],
   "source": [
    "# print(\"지불 금액은 %d 입니다.\" %price) 이것은 ''%자리에 십진수 형태의 price를 대입하라'라는 뜻이다."
   ]
  },
  {
   "cell_type": "code",
   "execution_count": 9,
   "metadata": {},
   "outputs": [
    {
     "name": "stdout",
     "output_type": "stream",
     "text": [
      "영어 단어 '미래'를 영어로 적으시오. Tomorrow\n",
      "맞았습니다.\n"
     ]
    }
   ],
   "source": [
    "word = \"tomorrow\"\n",
    "answer = input(\"영어 단어 '미래'를 영어로 적으시오. \")\n",
    "\n",
    "if answer.lower() == word:\n",
    "    print(\"맞았습니다.\")\n",
    "else:\n",
    "    print(\"틀렸습니다.\")"
   ]
  },
  {
   "cell_type": "code",
   "execution_count": 230,
   "metadata": {},
   "outputs": [
    {
     "name": "stdout",
     "output_type": "stream",
     "text": [
      "앞\n",
      "앞\n",
      "중국집 요리\n"
     ]
    }
   ],
   "source": [
    "import random\n",
    "\n",
    "\n",
    "coin = [\"앞\", \"뒤\"]\n",
    "print(random.choice(coin))\n",
    "print(random_coin)\n",
    "if random.choice(coin) == \"앞\":\n",
    "    print(\"중국집 요리\")\n",
    "    \n",
    "elif random.choice(coin) == \"뒤\":\n",
    "    print(\"서양식 요리\")"
   ]
  },
  {
   "cell_type": "code",
   "execution_count": 238,
   "metadata": {},
   "outputs": [
    {
     "name": "stdout",
     "output_type": "stream",
     "text": [
      "이 사람은 탑승을 할 수 있습니다.\n"
     ]
    }
   ],
   "source": [
    "gildong_height = 160\n",
    "gildong_weight = 45\n",
    "\n",
    "\n",
    "\n",
    "if (gildong_height >= 155) or (gildong_weight >= 50):\n",
    "    print(\"이 사람은 탑승을 할 수 있습니다.\")\n",
    "else :\n",
    "    print(\"탑승을 할 수 없습니다.\")"
   ]
  },
  {
   "cell_type": "code",
   "execution_count": 239,
   "metadata": {},
   "outputs": [],
   "source": [
    "# if math >= 90:        \n",
    "#     if eng >= 80:\n",
    "#         print(\"합격\")\n",
    "# 해당 코드의 뜻은 수학이 90점 이상이고 영어가 80점 이상이면 '합격'을 프린트한다."
   ]
  },
  {
   "cell_type": "code",
   "execution_count": null,
   "metadata": {},
   "outputs": [],
   "source": []
  },
  {
   "cell_type": "code",
   "execution_count": null,
   "metadata": {},
   "outputs": [],
   "source": []
  },
  {
   "cell_type": "code",
   "execution_count": 240,
   "metadata": {},
   "outputs": [
    {
     "name": "stdout",
     "output_type": "stream",
     "text": [
      "B\n"
     ]
    }
   ],
   "source": [
    "math = 87\n",
    "\n",
    "if math >= 90:\n",
    "    grade = \"A\"\n",
    "elif math >= 80:\n",
    "    grade = \"B\"\n",
    "elif math >= 70:\n",
    "    grade = \"C\"\n",
    "else:\n",
    "    grade  = \"D\"\n",
    "\n",
    "print(grade)"
   ]
  },
  {
   "cell_type": "code",
   "execution_count": 2,
   "metadata": {},
   "outputs": [
    {
     "name": "stdout",
     "output_type": "stream",
     "text": [
      "당신의 수학점수는? 20\n",
      "당신의 영어점수는? 10\n",
      "불합격입니다.\n"
     ]
    }
   ],
   "source": [
    "math_score = int(input(\"당신의 수학점수는? \"))\n",
    "eng_score = int(input(\"당신의 영어점수는? \"))\n",
    "\n",
    "total_score = math_score + eng_score\n",
    "\n",
    "if total_score > 110:\n",
    "    print(\"합격입니다.\")\n",
    "elif total_score < 40:\n",
    "    print(\"불합격입니다.\")"
   ]
  }
 ],
 "metadata": {
  "kernelspec": {
   "display_name": "Python 3",
   "language": "python",
   "name": "python3"
  },
  "language_info": {
   "codemirror_mode": {
    "name": "ipython",
    "version": 3
   },
   "file_extension": ".py",
   "mimetype": "text/x-python",
   "name": "python",
   "nbconvert_exporter": "python",
   "pygments_lexer": "ipython3",
   "version": "3.7.1"
  }
 },
 "nbformat": 4,
 "nbformat_minor": 2
}
