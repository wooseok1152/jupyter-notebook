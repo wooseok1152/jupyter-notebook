{
 "cells": [
  {
   "cell_type": "code",
   "execution_count": 98,
   "metadata": {},
   "outputs": [
    {
     "data": {
      "text/plain": [
       "5"
      ]
     },
     "execution_count": 98,
     "metadata": {},
     "output_type": "execute_result"
    }
   ],
   "source": [
    "# 1부터 9까지 임의의 정수 반환\n",
    "np.random.randint(1, 10)"
   ]
  },
  {
   "cell_type": "code",
   "execution_count": 99,
   "metadata": {},
   "outputs": [
    {
     "data": {
      "text/plain": [
       "array([6, 3, 7, 3, 4, 4, 8, 7, 6, 2, 3, 6, 8, 9, 1, 2, 5, 4, 9, 4, 7, 8,\n",
       "       8, 3, 5, 3, 9, 6, 8, 9, 3, 6, 7, 7, 8, 6, 2, 2, 8, 3, 8, 1, 9, 9,\n",
       "       1, 8, 2, 6, 4, 2, 1, 3, 7, 5, 4, 1, 4, 8, 3, 1, 5, 1, 9, 9, 6, 9,\n",
       "       9, 2, 2, 5, 2, 9, 7, 7, 4, 6, 2, 3, 3, 5, 7, 8, 8, 3, 4, 7, 4, 7,\n",
       "       9, 6, 2, 1, 6, 6, 7, 3, 4, 6, 9, 3])"
      ]
     },
     "execution_count": 99,
     "metadata": {},
     "output_type": "execute_result"
    }
   ],
   "source": [
    "# 1부터 9까지 임의의 정수를 100개 가진 numpy array반환\n",
    "np.random.randint(1, 10, 100)"
   ]
  }
 ],
 "metadata": {
  "kernelspec": {
   "display_name": "Python 3",
   "language": "python",
   "name": "python3"
  },
  "language_info": {
   "codemirror_mode": {
    "name": "ipython",
    "version": 3
   },
   "file_extension": ".py",
   "mimetype": "text/x-python",
   "name": "python",
   "nbconvert_exporter": "python",
   "pygments_lexer": "ipython3",
   "version": "3.7.1"
  }
 },
 "nbformat": 4,
 "nbformat_minor": 2
}
