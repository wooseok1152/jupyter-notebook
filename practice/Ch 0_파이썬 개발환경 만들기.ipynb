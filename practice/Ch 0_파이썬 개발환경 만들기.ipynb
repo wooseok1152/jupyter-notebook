{
 "cells": [
  {
   "cell_type": "markdown",
   "metadata": {
    "colab_type": "text",
    "id": "xJ4RqiG5fuXk"
   },
   "source": [
    "# <font color='blue'><div style=\"text-align: center\">Ch 0. 파이썬 개발환경 만들기</font> \n",
    "\n",
    "* 파이썬 인터프리터를 컴퓨터 설치하는 방법은 두가지가 있다.\n",
    "  * https://www.python.org/ 에서 파이썬 2 혹은 파이썬 3를 다운로드 해서 파이썬 IDE를 사용하는 방법\n",
    "  * 파이썬 IDE에 추가로 numpy, pandas, matplotlib 등 유용한 패키지를 포함하는 anaconda 파이썬을 사용하는 방법 https://www.anaconda.com/\n",
    " \n",
    "* 로컬 컴퓨터에 설치하지 않고 사용하는 방법\n",
    "    * 구글 colab: 구글 드라이브에서 구글 colab를 설치하면 주피터노트북 환경에서 파이썬을 사용할 수 있다. 단, 구글 아이디로 구글 드라이브를 사용할 수 있어야 한다.\n",
    " \n",
    "* IDE(Integrated Development Environment): 프로그램을 개발할 수 있는 환경을 말한다.\n",
    "  * 두가지 환경을 주로 사용한다.\n",
    "  * 주피터노트북 환경: 간단한 개발 혹은 프로그램 공유 목적\n",
    "  * pyCharm 등의 IDE를 추가설치(https://www.jetbrains.com/pycharm/) : 전문적 개발환경\n",
    "    \n"
   ]
  },
  {
   "cell_type": "markdown",
   "metadata": {
    "colab_type": "text",
    "id": "QHot9_JOjPkQ"
   },
   "source": [
    "<font color='red'> <H.W # 0>  자신의 컴퓨터에 아나콘다와 파이참을 설치해보세요</font>"
   ]
  },
  {
   "cell_type": "code",
   "execution_count": 2,
   "metadata": {
    "colab": {
     "base_uri": "https://localhost:8080/",
     "height": 36
    },
    "colab_type": "code",
    "executionInfo": {
     "elapsed": 603,
     "status": "ok",
     "timestamp": 1551415366055,
     "user": {
      "displayName": "swkim김승환",
      "photoUrl": "",
      "userId": "01255046753553274360"
     },
     "user_tz": -540
    },
    "id": "A_KkgMLLj3HV",
    "outputId": "5b9e4a8f-159e-4aa1-d78a-5cf58acf7c8b"
   },
   "outputs": [
    {
     "data": {
      "text/plain": [
       "3"
      ]
     },
     "execution_count": 2,
     "metadata": {
      "tags": []
     },
     "output_type": "execute_result"
    }
   ],
   "source": [
    "1+2"
   ]
  }
 ],
 "metadata": {
  "colab": {
   "collapsed_sections": [],
   "name": "Ch 0_파이썬 개발환경 만들기.ipynb",
   "provenance": [],
   "version": "0.3.2"
  },
  "kernelspec": {
   "display_name": "Python 3",
   "name": "python3"
  }
 },
 "nbformat": 4,
 "nbformat_minor": 0
}
