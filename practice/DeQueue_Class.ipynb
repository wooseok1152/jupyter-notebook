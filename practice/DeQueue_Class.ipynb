{
 "cells": [
  {
   "cell_type": "code",
   "execution_count": null,
   "metadata": {},
   "outputs": [],
   "source": [
    "class Dequeue:\n",
    "    def __init__(self):\n",
    "        self.dq = []\n",
    "        \n",
    "    def insertFirst(self, item):\n",
    "        self.dq.insert(0, item)\n",
    "        \n",
    "    def insertLast(self, item):\n",
    "        self.dq.append(item)\n",
    "        \n",
    "    def isEmpty(self):\n",
    "        if len(self.dq) > 0:\n",
    "            return False\n",
    "        else:\n",
    "            return True\n",
    "        \n",
    "    def popFirst(self):\n",
    "        _tmp = self.dq[0]\n",
    "        self.dq = self.dq[1:]\n",
    "        return _tmp\n",
    "    \n",
    "    def popLast(self):\n",
    "        _tmp = self.dq[-1]\n",
    "        self.dq = self.dq[:-1]\n",
    "        return _tmp\n",
    "    \n",
    "    def peekFirst(self):\n",
    "        return self.dq[0]\n",
    "    \n",
    "    def peekLast(self):\n",
    "        return self.dq[-1]    \n",
    "    \n",
    "    def print(self):\n",
    "        print(self.dq)"
   ]
  }
 ],
 "metadata": {
  "kernelspec": {
   "display_name": "Python 3",
   "language": "python",
   "name": "python3"
  },
  "language_info": {
   "codemirror_mode": {
    "name": "ipython",
    "version": 3
   },
   "file_extension": ".py",
   "mimetype": "text/x-python",
   "name": "python",
   "nbconvert_exporter": "python",
   "pygments_lexer": "ipython3",
   "version": "3.7.1"
  }
 },
 "nbformat": 4,
 "nbformat_minor": 2
}
