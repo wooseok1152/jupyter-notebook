{
 "cells": [
  {
   "cell_type": "markdown",
   "metadata": {},
   "source": []
  },
  {
   "cell_type": "code",
   "execution_count": 13,
   "metadata": {},
   "outputs": [
    {
     "name": "stdout",
     "output_type": "stream",
     "text": [
      "사과 None\n"
     ]
    }
   ],
   "source": [
    "#클래스 이름은 대문자로 시작하자\n",
    "class Node:\n",
    "    def __init__(self, item = None):\n",
    "        self.item = item\n",
    "        self.link = None\n",
    "        \n",
    "a = Node('사과')\n",
    "print(a.item, a.link)\n",
    "    "
   ]
  },
  {
   "cell_type": "code",
   "execution_count": 32,
   "metadata": {},
   "outputs": [],
   "source": [
    "class Linked_list:\n",
    "    # None, None인 한 칸 만들어짐\n",
    "    def __init__(self):\n",
    "        self.root = Node()\n",
    "    \n",
    "    #추가하는 함수\n",
    "    def append(self, item = None):\n",
    "        # new_node에 item, None인 한 칸이 저장됨\n",
    "        new_node = Node(item)\n",
    "        # root 칸의 itm이 None이면 root칸에 new_node를 넣음\n",
    "        if self.root.item == None:\n",
    "            self.root = new_node\n",
    "        # root칸이 비어있지 않으면 끝을 찾을 때까지 가야함. curNode에 root를 주고 그 link값이 None이 아닐 때까지 curNode.link를 타고 감\n",
    "        # 끝에 도달하면 curNode.link에 new_node를 넣음... 새로 만든 new_node의 주소값을 넣는 것.\n",
    "        else:\n",
    "            curNode = self.root\n",
    "            while curNode.link != None:\n",
    "                curNode = curNode.link\n",
    "            curNode.link = new_node\n",
    "    def remove(self, item):\n",
    "        curNode = self.root\n",
    "        preNode = self.root\n",
    "        if self.root.item == item:\n",
    "            self.root = self.root.link\n",
    "        else :\n",
    "            while curNode != None:\n",
    "                if curNode.item == item:\n",
    "                    preNode.link = curNode.link\n",
    "                preNdoe = curNode\n",
    "                curNode = curNode.link\n",
    "\n",
    "    #출력하는 함수\n",
    "    def print(self):\n",
    "        curNode = self.root\n",
    "        #root의 item 값을 출력\n",
    "        print(curNode.item)\n",
    "        #끝에 도달할 때까지 link를 타고 움직이며 item값을 각각 출력함.\n",
    "        while curNode.link != None:\n",
    "            curNode = curNode.link\n",
    "            print(curNode.item)\n",
    "\n"
   ]
  },
  {
   "cell_type": "code",
   "execution_count": 37,
   "metadata": {},
   "outputs": [
    {
     "name": "stdout",
     "output_type": "stream",
     "text": [
      "사과\n",
      "앵두\n",
      "배\n",
      "포도\n"
     ]
    }
   ],
   "source": [
    "fruits = Linked_list()\n",
    "fruits.append('사과')\n",
    "fruits.append('앵두')\n",
    "fruits.append('배')\n",
    "fruits.append('포도')\n",
    "fruits.print()"
   ]
  },
  {
   "cell_type": "code",
   "execution_count": 38,
   "metadata": {},
   "outputs": [],
   "source": [
    "fruits.remove('배')"
   ]
  },
  {
   "cell_type": "code",
   "execution_count": 39,
   "metadata": {},
   "outputs": [
    {
     "name": "stdout",
     "output_type": "stream",
     "text": [
      "사과\n",
      "포도\n"
     ]
    }
   ],
   "source": [
    "fruits.print()"
   ]
  },
  {
   "cell_type": "code",
   "execution_count": null,
   "metadata": {},
   "outputs": [],
   "source": []
  }
 ],
 "metadata": {
  "kernelspec": {
   "display_name": "Python 3",
   "language": "python",
   "name": "python3"
  },
  "language_info": {
   "codemirror_mode": {
    "name": "ipython",
    "version": 3
   },
   "file_extension": ".py",
   "mimetype": "text/x-python",
   "name": "python",
   "nbconvert_exporter": "python",
   "pygments_lexer": "ipython3",
   "version": "3.7.1"
  }
 },
 "nbformat": 4,
 "nbformat_minor": 2
}
