{
 "cells": [
  {
   "cell_type": "code",
   "execution_count": 144,
   "metadata": {},
   "outputs": [],
   "source": [
    "# Node Class: item으로 value를 가지고 right, left를 가진다. link가 없을 경우, None을 입력한다.\n",
    "class DNode:\n",
    "    def __init__(self, item = None):\n",
    "        self.item = item\n",
    "        self.right = None\n",
    "        self.left = None\n",
    "\n",
    "class Double_linked_list:\n",
    "    def __init__(self):\n",
    "        self.root = DNode()\n",
    "        \n",
    "    def append(self, item):\n",
    "        curNode = self.root\n",
    "        newNode = DNode(item)\n",
    "        while curNode != None:\n",
    "            if curNode.item == None:\n",
    "                self.root = newNode\n",
    "                break\n",
    "            elif curNode.right == None:\n",
    "                curNode.right = newNode\n",
    "                newNode.left = curNode\n",
    "                break\n",
    "            else:\n",
    "                curNode = curNode.right\n",
    "                \n",
    "    def insert(self, index, item):\n",
    "        newNode = DNode(item)\n",
    "        curNode = self.root\n",
    "        if index == 0:\n",
    "            if self.root.item == None:\n",
    "                self.root = newNode\n",
    "            else:\n",
    "                self.root = newNode\n",
    "                newNode.right = curNode\n",
    "        elif index < 0 or index >= self.listSize():\n",
    "            print('error')\n",
    "        else:\n",
    "            for i in range(index-1):\n",
    "                curNode = curNode.right\n",
    "            _tmp = curNode.right\n",
    "            curNode.right = newNode\n",
    "            newNode.left = curNode\n",
    "            newNode.right = _tmp\n",
    "            newNode.right.left = newNode\n",
    "            \n",
    "    def find(self, item):\n",
    "        curNode = self.root\n",
    "        index = 0\n",
    "        while curNode != None:\n",
    "            if curNode.item == item:\n",
    "                return index\n",
    "            else:\n",
    "                curNode = curNode.right\n",
    "                index += 1\n",
    "        if curNode == None:\n",
    "            index = -1\n",
    "            return index\n",
    "        \n",
    "    def delete(self, item):\n",
    "        curNode = self.root\n",
    "        index = self.find(item)\n",
    "        if index == -1:\n",
    "            print(\"삭제할 아이템이 없습니다.\")\n",
    "        elif index == 0:\n",
    "            self.root = curNode.right\n",
    "        elif index+1 == self.listSize():\n",
    "            while curNode.right != None:\n",
    "                curNode = curNode.right\n",
    "            curNode.left.right = None\n",
    "        else:\n",
    "            for i in range(index):\n",
    "                curNode = curNode.right\n",
    "            curNode.left.right = curNode.right\n",
    "            curNode.right.left = curNode.left\n",
    "                \n",
    "    def listSize(self):\n",
    "        curNode = self.root\n",
    "        size = 0\n",
    "        while curNode != None:\n",
    "            if curNode.item == None:\n",
    "                return size\n",
    "            else:\n",
    "                curNode = curNode.right\n",
    "                size += 1\n",
    "        return size\n",
    "\n",
    "    def print(self):\n",
    "        curNode = self.root\n",
    "        while curNode != None:\n",
    "            print(curNode.item)\n",
    "            curNode = curNode.right"
   ]
  },
  {
   "cell_type": "code",
   "execution_count": 145,
   "metadata": {
    "scrolled": false
   },
   "outputs": [
    {
     "name": "stdout",
     "output_type": "stream",
     "text": [
      "고양이\n",
      "돼지\n",
      "소\n",
      "2\n",
      "고양이\n",
      "소\n"
     ]
    },
    {
     "data": {
      "text/plain": [
       "2"
      ]
     },
     "execution_count": 145,
     "metadata": {},
     "output_type": "execute_result"
    }
   ],
   "source": [
    "a = Double_linked_list()\n",
    "\n",
    "a.append('고양이')\n",
    "a.append('소')\n",
    "a.insert(1,'돼지')\n",
    "a.print()\n",
    "print(a.find('소'))\n",
    "\n",
    "a.delete('돼지')\n",
    "\n",
    "a.print()\n",
    "\n",
    "a.listSize()\n"
   ]
  }
 ],
 "metadata": {
  "kernelspec": {
   "display_name": "Python 3",
   "language": "python",
   "name": "python3"
  },
  "language_info": {
   "codemirror_mode": {
    "name": "ipython",
    "version": 3
   },
   "file_extension": ".py",
   "mimetype": "text/x-python",
   "name": "python",
   "nbconvert_exporter": "python",
   "pygments_lexer": "ipython3",
   "version": "3.7.1"
  }
 },
 "nbformat": 4,
 "nbformat_minor": 2
}
