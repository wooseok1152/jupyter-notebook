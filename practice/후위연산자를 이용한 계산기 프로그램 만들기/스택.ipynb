{
 "cells": [
  {
   "cell_type": "code",
   "execution_count": 8,
   "metadata": {},
   "outputs": [],
   "source": [
    "class Stack:\n",
    "    def __init__(self):\n",
    "        self.stack = []\n",
    "        \n",
    "    def isEmpty(self):\n",
    "        if len(self.stack) <= 0:\n",
    "            return True;\n",
    "        else:\n",
    "            return False;\n",
    "    \n",
    "    def push(self, item):\n",
    "        self.stack.append(item)\n",
    "    \n",
    "    def pop(self):\n",
    "        if self.isEmpty() == False:\n",
    "            _tmp = self.stack[-1]\n",
    "            del self.stack[-1]\n",
    "            return _tmp\n",
    "        else:\n",
    "            return None\n",
    "    \n",
    "    def delete(self):\n",
    "        if self.isEmpty() == False:\n",
    "            del sefl.stack[-1]\n",
    "        else:\n",
    "            return None\n",
    "    \n",
    "    def peek(self):\n",
    "        if self.isEmpty() == False:\n",
    "            return self.stack[-1]\n",
    "    \n",
    "    def size(self):\n",
    "        return len(self.stack)\n",
    "    \n",
    "    def print(self):\n",
    "        print(self.stack)"
   ]
  },
  {
   "cell_type": "code",
   "execution_count": 11,
   "metadata": {
    "scrolled": true
   },
   "outputs": [
    {
     "data": {
      "text/plain": [
       "'gfedcba'"
      ]
     },
     "execution_count": 11,
     "metadata": {},
     "output_type": "execute_result"
    }
   ],
   "source": [
    "def reverse(string):\n",
    "    stack = Stack()\n",
    "    _string = \"\"\n",
    "    for i in range(len(string)):\n",
    "        stack.push(string[i])\n",
    "    for i in range(len(string)):\n",
    "        _string += stack.pop()\n",
    "    return _string\n",
    "\n",
    "a = 'abcdefg'\n",
    "reverse(a)"
   ]
  },
  {
   "cell_type": "code",
   "execution_count": 15,
   "metadata": {},
   "outputs": [
    {
     "data": {
      "text/plain": [
       "True"
      ]
     },
     "execution_count": 15,
     "metadata": {},
     "output_type": "execute_result"
    }
   ],
   "source": [
    "def eqBraketCheck(f):\n",
    "    s = Stack()\n",
    "    for i in range(len(f)):\n",
    "        if f[i] == '(':\n",
    "            s.push(f[i])\n",
    "        elif f[i] == ')':\n",
    "            if s.pop() == None:\n",
    "                return False\n",
    "    if s.isEmpty() == True:\n",
    "        return True\n",
    "    else:\n",
    "        return False\n",
    "    \n",
    "f = ''\n",
    "eqBraketCheck(f)"
   ]
  },
  {
   "cell_type": "code",
   "execution_count": null,
   "metadata": {},
   "outputs": [],
   "source": [
    "s = Stack()\n",
    "s.push('a')\n",
    "s.push('b')\n",
    "s.push('c')\n",
    "print(s.pop())\n",
    "s.pop()\n",
    "s.pop()\n",
    "s.print()\n",
    "print(s.isEmpty())\n",
    "s.size()"
   ]
  }
 ],
 "metadata": {
  "kernelspec": {
   "display_name": "Python 3",
   "language": "python",
   "name": "python3"
  },
  "language_info": {
   "codemirror_mode": {
    "name": "ipython",
    "version": 3
   },
   "file_extension": ".py",
   "mimetype": "text/x-python",
   "name": "python",
   "nbconvert_exporter": "python",
   "pygments_lexer": "ipython3",
   "version": "3.7.1"
  }
 },
 "nbformat": 4,
 "nbformat_minor": 2
}
