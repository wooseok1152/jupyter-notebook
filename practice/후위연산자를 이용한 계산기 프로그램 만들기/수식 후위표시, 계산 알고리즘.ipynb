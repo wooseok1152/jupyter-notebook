{
 "cells": [
  {
   "cell_type": "code",
   "execution_count": 13,
   "metadata": {},
   "outputs": [
    {
     "name": "stdout",
     "output_type": "stream",
     "text": [
      "['(', '2', '+', '3', ')', '*', '(', '1', '+', '1', '-', '2', '+', '2', ')']\n",
      "['2', '3', '+', '1', '1', '+', '2', '-', '2', '+', '*']\n",
      "10.0\n",
      "10.0\n"
     ]
    }
   ],
   "source": [
    "from myDir import Stack\n",
    "\n",
    "def isOper(item):\n",
    "    if item == '+' or item == '-' or item == '/' or item == '*':\n",
    "        return True\n",
    "    else:\n",
    "        return False\n",
    "    \n",
    "def isNum(s):\n",
    "    try:\n",
    "        float(s)\n",
    "        return True\n",
    "    except ValueError:\n",
    "        return False\n",
    "\n",
    "def algo(eq):\n",
    "    \n",
    "    s = Stack.Stack()\n",
    "\n",
    "    eqList = eq.split()\n",
    "    print(eqList)\n",
    "    \n",
    "    postEq = []\n",
    "    \n",
    "    for item in eqList:\n",
    "        if item == '(':\n",
    "            s.push(item)\n",
    "        elif item == ')':\n",
    "            while True:\n",
    "                _tmp = s.pop()\n",
    "                if _tmp != '(':\n",
    "                    postEq.append(_tmp)\n",
    "                else:\n",
    "                    break\n",
    "        elif (item == '+') or (item == '-'):\n",
    "            while isOper(s.peek()) == True:\n",
    "                postEq.append(s.pop())\n",
    "            s.push(item)\n",
    "        elif (item == '*') or (item == '/'):\n",
    "            while (s.peek() == '*') or  (s.peek() == '/'):\n",
    "                postEq.append(s.pop())\n",
    "            s.push(item)\n",
    "        elif isNum(item) == True:\n",
    "            postEq.append(item)\n",
    "    while s.isEmpty() != True:\n",
    "        postEq.append(s.pop())\n",
    "    \n",
    "    print(postEq)\n",
    "    return postEq\n",
    "\n",
    "\n",
    "def calc_algo(algo):\n",
    "    \n",
    "    s = Stack.Stack()\n",
    "    for item in algo:\n",
    "        if isOper(item) == False:\n",
    "            s.push(item)\n",
    "        else:\n",
    "            num2 = float(s.pop())\n",
    "            num1 = float(s.pop())\n",
    "            if item == '+':\n",
    "                s.push(num1 + num2)\n",
    "            elif item == '*':\n",
    "                s.push(num1 * num2)\n",
    "            elif item == '-':\n",
    "                s.push(num1 - num2)\n",
    "            elif item == '/':\n",
    "                s.push(num1 / num2)\n",
    "    print(s.peek())\n",
    "    return s.pop()\n",
    "\n",
    "a = algo(\"( 2 + 3 ) * ( 1 + 1 - 2 + 2 )\")\n",
    "print(calc_algo(a))"
   ]
  }
 ],
 "metadata": {
  "kernelspec": {
   "display_name": "Python 3",
   "language": "python",
   "name": "python3"
  },
  "language_info": {
   "codemirror_mode": {
    "name": "ipython",
    "version": 3
   },
   "file_extension": ".py",
   "mimetype": "text/x-python",
   "name": "python",
   "nbconvert_exporter": "python",
   "pygments_lexer": "ipython3",
   "version": "3.7.1"
  }
 },
 "nbformat": 4,
 "nbformat_minor": 2
}
