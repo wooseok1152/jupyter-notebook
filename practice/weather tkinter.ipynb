{
 "cells": [
  {
   "cell_type": "code",
   "execution_count": null,
   "metadata": {},
   "outputs": [],
   "source": [
    "import tkinter\n",
    "\n",
    "def selected(event):\n",
    "    w = event.widget\n",
    "    index = int(w.curselection()[0])\n",
    "    value = w.get(index)\n",
    "    print('You selected item %d: %s' % (index, value))\n",
    "\n",
    "window=tkinter.Tk()\n",
    "window.geometry(\"640x480\")\n",
    "window.resizable(False, False)\n",
    "\n",
    "listbox = tkinter.Listbox(window, selectmode='extended', height=0)\n",
    "listbox.insert(0, \"1번\")\n",
    "listbox.insert(1, \"2번\")\n",
    "listbox.insert(2, \"3번\")\n",
    "listbox.insert(3, \"4번\")\n",
    "\n",
    "listbox.bind(\"<<ListboxSelect>>\", selected)\n",
    "listbox.pack()\n",
    "\n",
    "window.mainloop()"
   ]
  }
 ],
 "metadata": {
  "kernelspec": {
   "display_name": "Python 3",
   "language": "python",
   "name": "python3"
  },
  "language_info": {
   "codemirror_mode": {
    "name": "ipython",
    "version": 3
   },
   "file_extension": ".py",
   "mimetype": "text/x-python",
   "name": "python",
   "nbconvert_exporter": "python",
   "pygments_lexer": "ipython3",
   "version": "3.7.1"
  }
 },
 "nbformat": 4,
 "nbformat_minor": 2
}
