{
 "cells": [
  {
   "cell_type": "code",
   "execution_count": 1,
   "metadata": {},
   "outputs": [],
   "source": [
    "import bs4"
   ]
  },
  {
   "cell_type": "code",
   "execution_count": 2,
   "metadata": {},
   "outputs": [],
   "source": [
    "import requests"
   ]
  },
  {
   "cell_type": "code",
   "execution_count": 3,
   "metadata": {},
   "outputs": [],
   "source": [
    "url = \"https://search.daum.net/search?w=news&sort=recency&cluster=n&DA=STC&s=NS&a=STCF&dc=STC&pg=1&r=1&rc=1&at=more&sd=&ed=&period=\""
   ]
  },
  {
   "cell_type": "code",
   "execution_count": 4,
   "metadata": {},
   "outputs": [],
   "source": [
    "search = \"미세먼지\""
   ]
  },
  {
   "cell_type": "code",
   "execution_count": 5,
   "metadata": {},
   "outputs": [],
   "source": [
    "page = \"1\""
   ]
  },
  {
   "cell_type": "code",
   "execution_count": 6,
   "metadata": {},
   "outputs": [],
   "source": [
    "real_url = url+\"&q=\"+search+\"&p=\"+page"
   ]
  },
  {
   "cell_type": "code",
   "execution_count": 7,
   "metadata": {},
   "outputs": [
    {
     "name": "stdout",
     "output_type": "stream",
     "text": [
      "https://search.daum.net/search?w=news&sort=recency&cluster=n&DA=STC&s=NS&a=STCF&dc=STC&pg=1&r=1&rc=1&at=more&sd=&ed=&period=&q=미세먼지&p=1\n"
     ]
    }
   ],
   "source": [
    "print(real_url)"
   ]
  },
  {
   "cell_type": "code",
   "execution_count": 28,
   "metadata": {},
   "outputs": [],
   "source": [
    "import bs4\n",
    "import requests\n",
    "import xlsxwriter\n",
    "\n",
    "search = \"미세먼지\"\n",
    "page = 5\n",
    "path = \"C:\\\\Users\\\\my\\\\Desktop\\\\news\"+search+ \".xlsx\"\n",
    "wb=xlsxwriter.Workbook(path)\n",
    "ws=wb.add_worksheet(\"뉴스\")\n",
    "ws.write(0,0,\"제목\")\n",
    "ws.write(0,1,\"링크\")\n",
    "ws.write(0,2,\"내용\")\n",
    "\n",
    "i=1\n",
    "for num in range(1, page+1):\n",
    "    url = \"https://search.daum.net/search?w=news&sort=recency&cluster=n&DA=STC&s=NS&a=STCF&dc=STC&pg=1&r=1&rc=1&at=more&sd=&ed=&period=\"\n",
    "    real_url = url+\"&q=\"+search+\"&p=\"+str(num)\n",
    "    news = requests.get(real_url)\n",
    "    bs_news=bs4.BeautifulSoup(news.text)\n",
    "    div_list = bs_news.find_all(\"div\", class_ =\"cont_inner\")\n",
    "    for div in div_list:\n",
    "        ws.write(i,0,div.find('a').text)\n",
    "        ws.write(i,1,div.find('a')['href'])\n",
    "        ws.write(i,2,div.find('p').text)\n",
    "        i=i+1\n",
    "wb.close()\n",
    "        #print(div.find('a').text)\n",
    "        \n",
    "        #print(div.find('a')['href'])\n",
    "        #print(div.find('p').text)\n",
    "        \n",
    "        #print('*'*60)"
   ]
  },
  {
   "cell_type": "code",
   "execution_count": 21,
   "metadata": {},
   "outputs": [
    {
     "name": "stdout",
     "output_type": "stream",
     "text": [
      "충북도교육청, 지난해 민원 중 ‘스쿨 미투’ 1위\n",
      "https://cp.news.search.daum.net/p/75654592\n",
      "가 635건으로 전체 민원의 28.6%로 가장 많았다. 이어 교직원 인사 280건(12.6%), 미세먼지 190건(8.5%), 학교설립 159건(7.1%), 학사운영 159건(7.1%) 순이었다. 학교 폭력...\n",
      "************************************************************\n",
      "전주시, 미세먼지 저감·회피공간 만든다\n",
      "https://cp.news.search.daum.net/p/75654535\n",
      "[뉴스웨이 강기운 기자] 연일 미세먼지 농도가 기준치를 초과하면서 시민들의 불안감이 고조되는 가운데, 전주시가 주요 버스승강장을 미세먼지로부터 안전한 쉼터로 만든다...\n",
      "************************************************************\n",
      "‘삼한사미’로 실내 활동만?...반려동물 산책, 겨울철에도 필수!\n",
      "https://cp.news.search.daum.net/p/75654497\n",
      "[올치올치] 3일은 추위, 4일은 미세먼지가 기승을 부린다는 신조어 ‘삼한사미’가 생길 정도로 강추위와 미세먼지로 가득 찬 겨울이다. 뿌연 하늘이 맑아질 참이면 추위가...\n",
      "************************************************************\n",
      "[날씨]30일 중부 등 전국 초미세먼지 '나쁨' 예보 많아\n",
      "http://v.media.daum.net/v/20190129201702706?f=o\n",
      "[아시아경제 김혜원 기자] 30일 중부 지역을 중심으로 초미세먼지(PM2.5) 농도가 '나쁨' 수준을 보일 전망이다. 이날 미세먼지 농도는 수도권·강원 영서·대전·세종·충북...\n",
      "************************************************************\n",
      "[미리보는 이데일리신문]경기부양 급했나, 토목사업에 '베팅'\n",
      "http://v.media.daum.net/v/20190129201659705?f=o\n",
      "만에 최저치 -천호동 ‘집창촌’헐고 40층 주상복합 짓는다 △27면 사회 -일상된 미세먼지, 툭하면 人災사고…국민들 불안감 안고 산다 -‘민족 대이동’ 설 연휴 앞두고...\n",
      "************************************************************\n",
      "[내일 날씨] 전국 구름 많고 제주도 '비'..미세먼지 '한때 나쁨'\n",
      "http://v.media.daum.net/v/20190129201444664?f=o\n",
      "다시 건조해지겠다. 국내·외에서 발생하고 유입되는 대기오염물질의 영향으로 미세먼지 농도는 중부지방이 오전 '한때 나쁨', 오후 '나쁨' 단계가 예상된다. 전북과 광주...\n",
      "************************************************************\n",
      "곡성군, 브릭 사이언스파크 체험활동\n",
      "https://cp.news.search.daum.net/p/75654509\n",
      "아이들에게 큰 인기를 끌었다.행사를 후원한 박기성 대표는 “동절기에는 추위와 미세먼지로 야외활동이 제한적인데 실내 체험행사를 진행할 수 있어서 다행이다”며“체험...\n",
      "************************************************************\n",
      "곡성군, 생활밀착형 SOC 공모사업 적극 대응\n",
      "https://cp.news.search.daum.net/p/75654510\n",
      "체육 등 편의시설, 지역 관광 인프라, 스마트 영농, 도시재생, 복지시설 기능보강, 미세먼지 대응, 신재생에너지 보급, 농어촌 생활여건 개선 노후 산업단지 재생 및 스타트...\n",
      "************************************************************\n",
      "전남도-시군, 미세먼지․기후변화 대응 협업 강화\n",
      "https://cp.news.search.daum.net/p/75654511\n",
      "전라남도가 22개 시군과 깨끗한 전남 실현을 위해 미세먼지․기후변화 및 생활환경 분야에 적극 협력키로 했다. 전라남도는 29일 순천만 국가정원 내 국제습지센터 회의실...\n",
      "************************************************************\n",
      "[날씨] 내일 중부지역 초미세먼지 '나쁨'..영남권도 오전에 탁해\n",
      "http://v.media.daum.net/v/20190129200011326?f=o\n",
      "또 미세먼지 [연합뉴스 자료사진] (서울=연합뉴스) 성서호 기자 = 30일은 중부 지역을 중심으로 초미세먼지(PM2.5) 농도가 높을 것으로 보인다. 이날 미세먼지 농도는...\n",
      "************************************************************\n"
     ]
    }
   ],
   "source": []
  },
  {
   "cell_type": "code",
   "execution_count": 11,
   "metadata": {},
   "outputs": [],
   "source": [
    "bs_news=bs4.BeautifulSoup(news.text)"
   ]
  },
  {
   "cell_type": "code",
   "execution_count": 12,
   "metadata": {},
   "outputs": [],
   "source": [
    "div_list = bs_news.find_all(\"div\", class_ =\"cont_inner\")"
   ]
  },
  {
   "cell_type": "code",
   "execution_count": 14,
   "metadata": {},
   "outputs": [
    {
     "data": {
      "text/plain": [
       "\"다시 건조해지겠다. 국내·외에서 발생하고 유입되는 대기오염물질의 영향으로 미세먼지 농도는 중부지방이 오전 '한때 나쁨', 오후 '나쁨' 단계가 예상된다. 전북과 광주...\""
      ]
     },
     "execution_count": 14,
     "metadata": {},
     "output_type": "execute_result"
    }
   ],
   "source": [
    "div_list[0].find('a').text\n",
    "div_list[0].find('p').text"
   ]
  },
  {
   "cell_type": "code",
   "execution_count": 16,
   "metadata": {},
   "outputs": [
    {
     "data": {
      "text/plain": [
       "'http://v.media.daum.net/v/20190129201444664?f=o'"
      ]
     },
     "execution_count": 16,
     "metadata": {},
     "output_type": "execute_result"
    }
   ],
   "source": [
    "div_list[0].find('a')['href']"
   ]
  },
  {
   "cell_type": "code",
   "execution_count": 19,
   "metadata": {},
   "outputs": [
    {
     "name": "stdout",
     "output_type": "stream",
     "text": [
      "[내일 날씨] 전국 구름 많고 제주도 '비'..미세먼지 '한때 나쁨'\n",
      "http://v.media.daum.net/v/20190129201444664?f=o\n",
      "다시 건조해지겠다. 국내·외에서 발생하고 유입되는 대기오염물질의 영향으로 미세먼지 농도는 중부지방이 오전 '한때 나쁨', 오후 '나쁨' 단계가 예상된다. 전북과 광주...\n",
      "************************************************************\n",
      "[날씨] 내일 중부지역 초미세먼지 '나쁨'..영남권도 오전에 탁해\n",
      "http://v.media.daum.net/v/20190129200011326?f=o\n",
      "또 미세먼지 [연합뉴스 자료사진] (서울=연합뉴스) 성서호 기자 = 30일은 중부 지역을 중심으로 초미세먼지(PM2.5) 농도가 높을 것으로 보인다. 이날 미세먼지 농도는...\n",
      "************************************************************\n",
      "“지속가능한 에너지산업 위해 가격 시스템 개선해야”\n",
      "https://cp.news.search.daum.net/p/75653895\n",
      "대비한 수송용 에너지 정책에선 전기차 역시 배터리 생산 과정에서 온실가스나 미세먼지 생성물질이 많이 배출되는 만큼 저공해차 판단 기준을 재정립하기 위한 연구가 진행...\n",
      "************************************************************\n",
      "충북도교육청 민원 1위 ‘스쿨미투’…28.6% 차지\n",
      "https://cp.news.search.daum.net/p/75654154\n",
      "작년 국민신문고 2224건 접수…교직원 인사·미세먼지 뒤이어[충청투데이 임용우 기자] 지난해 충북도교육청에 접수된 민원 중 ‘스쿨미투’가 최다 민원을 기록했다. 29일...\n",
      "************************************************************\n",
      "아산시 미세먼지 차단숲과 도시숲 조성 추진\n",
      "https://cp.news.search.daum.net/p/75654227\n",
      "미세먼지 차단숲과 도시숲 조성사업'을 추진한다. 시는 산업단지 내에서 발생되는 미세먼지 등을 선제적으로 차단하기 위해 총 사업비 20억원(국비 10억, 도비 2억, 시비8억...\n",
      "************************************************************\n",
      "여야 갈등 악화일로..2월에도 국회는 개점휴업?\n",
      "http://v.media.daum.net/v/20190129195703239?f=o\n",
      "홍영표 / 더불어민주당 원내대표 : 지난해 처리하지 못한 유치원 3법, 미세먼지와 카풀 대책 등 지금 당장 국회가 논의해야할 중요한 민생 현안이 많습니다. 또 공수처 설치...\n",
      "************************************************************\n",
      "[전남｜전라남도청] 전남도-시군, 미세먼지·기후변화 대응 협업 강화\n",
      "https://cp.news.search.daum.net/p/75653810\n",
      "[창업일보 = 손우영 기자] 전라남도가 22개 시군과 깨끗한 전남 실현을 위해 미세먼지기후변화 및 생활환경 분야에 적극 협력키로 했다.전라남도는 29일 순천만 국가정원 내...\n",
      "************************************************************\n",
      "포항시, 쾌적한 시민 환경권 확보·친환경생태도시 본격 조성\n",
      "https://cp.news.search.daum.net/p/75653970\n",
      "속도감 있는 체감 환경 개선에 역량을 집중하겠다”고 밝혔다. 우선 시는 올해 ‘미세먼지 저감 및 관리에 관한 특별법’ 시행을 계기로 쾌적한 도시환경 구축을 목표로...\n",
      "************************************************************\n",
      "인천도 노후 경유차 2만 대 없애는데 부산은 고작 1500대…\n",
      "https://cp.news.search.daum.net/p/75653694\n",
      "부산시가 미세먼지 유발 요인으로 지목되고 있는 배출가스 5등급 경유차 조기 폐차 목표를 올해 1500대로 잡고 사업비 30억 원 이상을 쏟아부을 예정이지만, 수도권에 견줘...\n",
      "************************************************************\n",
      "대유위니아, 2019년형 공기청정기 출시\n",
      "https://cp.news.search.daum.net/p/75653893\n",
      "유해가스 등도 프리 필터와 카본 탈취 필터를 통해 없애준다. 집진 필터를 통해 초미세먼지를 99.99% 걸러주고 공기 중 유해물질도 ‘플라스마 에어 케어’를 거쳐 분해한...\n",
      "************************************************************\n"
     ]
    }
   ],
   "source": [
    "for div in div_list:\n",
    "    print(div.find('a').text)\n",
    "    print(div.find('a')['href'])\n",
    "    print(div.find('p').text)\n",
    "    print('*'*60)"
   ]
  },
  {
   "cell_type": "code",
   "execution_count": null,
   "metadata": {},
   "outputs": [],
   "source": [
    "import select"
   ]
  }
 ],
 "metadata": {
  "kernelspec": {
   "display_name": "Python 3",
   "language": "python",
   "name": "python3"
  },
  "language_info": {
   "codemirror_mode": {
    "name": "ipython",
    "version": 3
   },
   "file_extension": ".py",
   "mimetype": "text/x-python",
   "name": "python",
   "nbconvert_exporter": "python",
   "pygments_lexer": "ipython3",
   "version": "3.7.1"
  }
 },
 "nbformat": 4,
 "nbformat_minor": 2
}
