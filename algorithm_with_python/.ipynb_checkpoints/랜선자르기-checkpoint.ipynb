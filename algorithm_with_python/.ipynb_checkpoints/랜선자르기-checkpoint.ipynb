{
 "cells": [
  {
   "cell_type": "code",
   "execution_count": 33,
   "metadata": {},
   "outputs": [
    {
     "name": "stdout",
     "output_type": "stream",
     "text": [
      "10695848\n",
      "0.06001400947570801\n"
     ]
    }
   ],
   "source": [
    "import sys\n",
    "import time\n",
    "\n",
    "start = time.time()\n",
    "sys.stdin = open(r\"C:\\Users\\my\\Desktop\\Documents\\파이썬 알고리즘 문제풀이(코딩테스트 대비)\\섹션 4\\2. 랜선자르기\\in5.txt\", \"r\")\n",
    "lines = sys.stdin.readlines()\n",
    "input_list = []\n",
    "for i in range(len(lines)):\n",
    "    \n",
    "    if i == 0:\n",
    "        \n",
    "        first_element = lines[i].rstrip(\"\\n\")\n",
    "        k, target_count = first_element.split()\n",
    "        k = int(k)\n",
    "        target_count = int(target_count)\n",
    "    \n",
    "    else :\n",
    "    \n",
    "        element = int(lines[i].rstrip(\"\\n\"))\n",
    "        input_list.append(element)\n",
    "\n",
    "# print(input_list)\n",
    "def cut_LAN_line():\n",
    "    \n",
    "    left_value = 1\n",
    "    right_value = max(input_list)\n",
    "    mid_value = (left_value + right_value)//2\n",
    "    \n",
    "    len_list = []\n",
    "    \n",
    "    while True:\n",
    "            \n",
    "        count_sum = 0\n",
    "        for i in input_list:\n",
    "            \n",
    "            count_sum = count_sum + (i//mid_value)\n",
    "        \n",
    "        if count_sum < target_count:\n",
    "            \n",
    "            right_value = mid_value - 1\n",
    "            mid_value = (left_value+right_value)//2\n",
    "            \n",
    "        elif count_sum >= target_count:\n",
    "            \n",
    "            len_list.append(mid_value)\n",
    "            left_value = mid_value + 1\n",
    "            mid_value = (left_value+right_value)//2\n",
    "            \n",
    "        if left_value > right_value : \n",
    "            \n",
    "            break\n",
    "            \n",
    "    print(len_list[-1])\n",
    "    print(time.time()-start)\n",
    "\n",
    "cut_LAN_line()"
   ]
  },
  {
   "cell_type": "code",
   "execution_count": null,
   "metadata": {},
   "outputs": [],
   "source": []
  }
 ],
 "metadata": {
  "kernelspec": {
   "display_name": "Python 3",
   "language": "python",
   "name": "python3"
  },
  "language_info": {
   "codemirror_mode": {
    "name": "ipython",
    "version": 3
   },
   "file_extension": ".py",
   "mimetype": "text/x-python",
   "name": "python",
   "nbconvert_exporter": "python",
   "pygments_lexer": "ipython3",
   "version": "3.7.1"
  }
 },
 "nbformat": 4,
 "nbformat_minor": 2
}
