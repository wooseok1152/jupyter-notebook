{
 "cells": [
  {
   "cell_type": "code",
   "execution_count": 12,
   "metadata": {},
   "outputs": [],
   "source": [
    "class Sort:\n",
    "    def min(self, x):\n",
    "        min_idx = 0\n",
    "        min = x[0]\n",
    "        for i in range(1, len(x)):\n",
    "            if min > x[i]:\n",
    "                min = x[i]\n",
    "                min_idx = i\n",
    "        return min_idx\n",
    "\n",
    "    def sort(self, x, letter):\n",
    "        if letter == \"a\":\n",
    "            for i in range(len(x)):\n",
    "                _tmp = x[i:]\n",
    "                minindx_in_tmp = self.min(_tmp)\n",
    "                x[i], x[minindx_in_tmp + i] = x[minindx_in_tmp + i], x[i]\n",
    "            return x\n",
    "        \n",
    "        elif letter == \"d\":\n",
    "            for i in range(len(x)):\n",
    "                _tmp = x[i:]\n",
    "                minindx_in_tmp = self.min(_tmp)\n",
    "                x[i], x[minindx_in_tmp + i] = x[minindx_in_tmp + i], x[i]\n",
    "            return list(reversed(x))\n",
    "                \n",
    "        else :\n",
    "            print(\"fail\")\n",
    "    \n"
   ]
  },
  {
   "cell_type": "code",
   "execution_count": 13,
   "metadata": {},
   "outputs": [],
   "source": [
    "a = Sort()"
   ]
  },
  {
   "cell_type": "code",
   "execution_count": 14,
   "metadata": {},
   "outputs": [
    {
     "data": {
      "text/plain": [
       "[1, 2, 4, 5, 6]"
      ]
     },
     "execution_count": 14,
     "metadata": {},
     "output_type": "execute_result"
    }
   ],
   "source": [
    "a.sort([1,4,5,6,2],\"a\")"
   ]
  },
  {
   "cell_type": "code",
   "execution_count": 16,
   "metadata": {},
   "outputs": [
    {
     "data": {
      "text/plain": [
       "[3, 2, 1]"
      ]
     },
     "execution_count": 16,
     "metadata": {},
     "output_type": "execute_result"
    }
   ],
   "source": [
    "a.sort([1,2,3],\"d\")"
   ]
  },
  {
   "cell_type": "code",
   "execution_count": null,
   "metadata": {},
   "outputs": [],
   "source": []
  }
 ],
 "metadata": {
  "kernelspec": {
   "display_name": "Python 3",
   "language": "python",
   "name": "python3"
  },
  "language_info": {
   "codemirror_mode": {
    "name": "ipython",
    "version": 3
   },
   "file_extension": ".py",
   "mimetype": "text/x-python",
   "name": "python",
   "nbconvert_exporter": "python",
   "pygments_lexer": "ipython3",
   "version": "3.7.1"
  }
 },
 "nbformat": 4,
 "nbformat_minor": 2
}
