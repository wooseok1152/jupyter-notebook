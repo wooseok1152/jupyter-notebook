{
 "cells": [
  {
   "cell_type": "code",
   "execution_count": 44,
   "metadata": {},
   "outputs": [],
   "source": [
    "class Stack:\n",
    "    def __init__(self):\n",
    "        self.s = []\n",
    "        \n",
    "    def push(self, item):\n",
    "        self.s.append(item)\n",
    "        \n",
    "    def isEmpty(self):\n",
    "        if len(self.s) > 0:\n",
    "            return False\n",
    "        else:\n",
    "            return True    \n",
    "    def pop(self):\n",
    "        if self.isEmpty() == False: \n",
    "            return self.s.pop(-1)\n",
    "        else:\n",
    "            return None\n",
    "        \n",
    "    def peek(self): # 스택에서 제일 top에 위치한 원소를 반환하는 연산\n",
    "        if self.isEmpty() == False: \n",
    "            return self.s[-1]\n",
    "        else:\n",
    "            return None\n",
    "        \n",
    "    def size(self):\n",
    "        return len(self.s)\n",
    "    \n",
    "    def print(self):\n",
    "        print(self.s)"
   ]
  },
  {
   "cell_type": "code",
   "execution_count": 45,
   "metadata": {},
   "outputs": [],
   "source": [
    "def isOper(item): # 함수명이 is로 시작하는 함수는 return으로 False 또는 True를 받음\n",
    "    \n",
    "    if item == '+' or item == '-' or item == '*' or item == '/':\n",
    "        return True\n",
    "    else:\n",
    "        return False\n"
   ]
  },
  {
   "cell_type": "code",
   "execution_count": 46,
   "metadata": {},
   "outputs": [],
   "source": [
    "def isNum(s):\n",
    "    try :\n",
    "        float(s)\n",
    "        return True\n",
    "    except:\n",
    "        print(\"Value Error\")\n",
    "        return False"
   ]
  },
  {
   "cell_type": "code",
   "execution_count": 47,
   "metadata": {},
   "outputs": [],
   "source": [
    "class calculator:\n",
    "    def __init__(self, infix_notation):\n",
    "        self.infix_notation_list = infix_notation.split()\n",
    "        self.s = Stack()\n",
    "        self.postEq = []\n",
    "        \n",
    "    def isOper(self, item):\n",
    "        if item == '+' or item == '-' or item == '/' or item == '*':\n",
    "            return True\n",
    "        else:\n",
    "            return False\n",
    "\n",
    "    def isNum(self, s):\n",
    "        try:\n",
    "            float(s)\n",
    "            return True\n",
    "        except ValueError:\n",
    "            return False\n",
    "        \n",
    "    def make_postfix_notation(self):\n",
    "        for item in self.infix_notation_list:\n",
    "            if item == '(':\n",
    "                self.s.push(item)\n",
    "            elif item == ')':\n",
    "                while True:\n",
    "                    _tmp = self.s.pop()\n",
    "                    if _tmp != '(':\n",
    "                        self.postEq.append(_tmp)\n",
    "                    else:\n",
    "                        break\n",
    "            elif (item == '+') or (item == '-'):\n",
    "                while isOper(self.s.peek()) == True:\n",
    "                        self.postEq.append(self.s.pop())\n",
    "                self.s.push(item)\n",
    "            elif (item == '*') or (item == '/'):\n",
    "                while self.s.peek() == '*' or self.s.peek() == '/':\n",
    "                        self.postEq.append(self.s.pop())\n",
    "                self.s.push(item)\n",
    "            elif isNum(item) == True:\n",
    "                self.postEq.append(item)\n",
    "\n",
    "        while self.s.isEmpty() != True:\n",
    "            self.postEq.append(self.s.pop())\n",
    "        \n",
    "    def do_calculate_postfix_notation(self): # , algo\n",
    "\n",
    "        self.f = Stack()\n",
    "        for item in self.postEq: # in algo\n",
    "            if self.isOper(item) == False:\n",
    "                self.f.push(item)\n",
    "            else:\n",
    "                num2 = float(self.f.pop())\n",
    "                num1 = float(self.f.pop())\n",
    "                if item == '+':\n",
    "                    self.f.push(num1 + num2)\n",
    "                elif item == '*':\n",
    "                    self.f.push(num1 * num2)\n",
    "                elif item == '-':\n",
    "                    self.f.push(num1 - num2)\n",
    "                elif item == '/':\n",
    "                    self.f.push(num1 / num2)\n",
    "        print(self.f.peek())\n",
    "        return self.f.pop()\n",
    "    "
   ]
  },
  {
   "cell_type": "code",
   "execution_count": 48,
   "metadata": {},
   "outputs": [],
   "source": [
    "a = calculator(\"( 12.3 + 6 ) * 3 / 6\")"
   ]
  },
  {
   "cell_type": "code",
   "execution_count": 49,
   "metadata": {},
   "outputs": [
    {
     "data": {
      "text/plain": [
       "['(', '12.3', '+', '6', ')', '*', '3', '/', '6']"
      ]
     },
     "execution_count": 49,
     "metadata": {},
     "output_type": "execute_result"
    }
   ],
   "source": [
    "a.infix_notation_list"
   ]
  },
  {
   "cell_type": "code",
   "execution_count": 50,
   "metadata": {},
   "outputs": [],
   "source": [
    "a.make_postfix_notation()"
   ]
  },
  {
   "cell_type": "code",
   "execution_count": 51,
   "metadata": {},
   "outputs": [
    {
     "data": {
      "text/plain": [
       "['12.3', '6', '+', '3', '*', '6', '/']"
      ]
     },
     "execution_count": 51,
     "metadata": {},
     "output_type": "execute_result"
    }
   ],
   "source": [
    "a.postEq"
   ]
  },
  {
   "cell_type": "code",
   "execution_count": 52,
   "metadata": {},
   "outputs": [
    {
     "name": "stdout",
     "output_type": "stream",
     "text": [
      "9.15\n"
     ]
    },
    {
     "data": {
      "text/plain": [
       "9.15"
      ]
     },
     "execution_count": 52,
     "metadata": {},
     "output_type": "execute_result"
    }
   ],
   "source": [
    "a.do_calculate_postfix_notation()"
   ]
  },
  {
   "cell_type": "code",
   "execution_count": null,
   "metadata": {},
   "outputs": [],
   "source": []
  }
 ],
 "metadata": {
  "kernelspec": {
   "display_name": "Python 3",
   "language": "python",
   "name": "python3"
  },
  "language_info": {
   "codemirror_mode": {
    "name": "ipython",
    "version": 3
   },
   "file_extension": ".py",
   "mimetype": "text/x-python",
   "name": "python",
   "nbconvert_exporter": "python",
   "pygments_lexer": "ipython3",
   "version": "3.7.1"
  }
 },
 "nbformat": 4,
 "nbformat_minor": 2
}
