{
 "cells": [
  {
   "cell_type": "code",
   "execution_count": 1,
   "metadata": {},
   "outputs": [],
   "source": [
    "import os, shutil\n",
    "\n",
    "original_dataset_dir = r\"C:\\Users\\user\\Github\\jupyter-notebook\\케라스 창시자에게 배우는 딥러닝\\cat_dog_train\\train\"\n",
    "\n",
    "base_dir = r\"C:\\Users\\user\\Github\\jupyter-notebook\\케라스 창시자에게 배우는 딥러닝\\cats_and_dogs_small\"\n",
    "# os.mkdir(base_dir)\n",
    "\n",
    "train_dir = os.path.join(base_dir, \"train\")\n",
    "# os.mkdir(train_dir)\n",
    "validation_dir = os.path.join(base_dir, \"validation\")\n",
    "# os.mkdir(validation_dir)\n",
    "test_dir = os.path.join(base_dir, \"test\")\n",
    "# os.mkdir(test_dir)\n",
    "\n",
    "train_cats_dir = os.path.join(train_dir, \"cats\")\n",
    "# os.mkdir(train_cats_dir)\n",
    "\n",
    "train_dogs_dir = os.path.join(train_dir, \"dogs\")\n",
    "# os.mkdir(train_dogs_dir)\n",
    "\n",
    "validation_cats_dir = os.path.join(validation_dir, \"cats\")\n",
    "# os.mkdir(validation_cats_dir)\n",
    "\n",
    "validation_dogs_dir = os.path.join(validation_dir, \"dogs\")\n",
    "# os.mkdir(validation_dogs_dir)\n",
    "\n",
    "test_cats_dir = os.path.join(test_dir, \"cats\")\n",
    "# os.mkdir(test_cats_dir)\n",
    "\n",
    "test_dogs_dir = os.path.join(test_dir, \"dogs\")\n",
    "# os.mkdir(test_dogs_dir)\n",
    "\n",
    "# fnames = [\"cat.{}.jpg\".format(i) for i in range(1000)]\n",
    "# for fname in fnames:\n",
    "    \n",
    "#     src = os.path.join(original_dataset_dir, fname)\n",
    "#     dst = os.path.join(train_cats_dir, fname)\n",
    "#     shutil.copyfile(src, dst)\n",
    "    \n",
    "# fnames = [\"cat.{}.jpg\".format(i) for i in range(1000, 1500)]\n",
    "# for fname in fnames :\n",
    "    \n",
    "#     src = os.path.join(original_dataset_dir, fname)\n",
    "#     dst = os.path.join(validation_cats_dir, fname)\n",
    "#     shutil.copyfile(src, dst)\n",
    "    \n",
    "# fnames = [\"cat.{}.jpg\".format(i) for i in range(1500, 2000)]\n",
    "# for fname in fnames :\n",
    "    \n",
    "#     src = os.path.join(original_dataset_dir, fname)\n",
    "#     dst = os.path.join(test_cats_dir, fname)\n",
    "#     shutil.copyfile(src, dst)\n",
    "    \n",
    "# fnames = [\"dog.{}.jpg\".format(i) for i in range(1000)]\n",
    "# for fname in fnames :\n",
    "    \n",
    "#     src = os.path.join(original_dataset_dir, fname)\n",
    "#     dst = os.path.join(train_dogs_dir, fname)\n",
    "#     shutil.copyfile(src, dst)\n",
    "    \n",
    "# fnames = [\"dog.{}.jpg\".format(i) for i in range(1000, 1500)]\n",
    "# for fname in fnames :\n",
    "    \n",
    "#     src = os.path.join(original_dataset_dir, fname)\n",
    "#     dst = os.path.join(validation_dogs_dir, fname)\n",
    "#     shutil.copyfile(src, dst)\n",
    "    \n",
    "# fnames = [\"dog.{}.jpg\".format(i) for i in range(1500, 2000)]\n",
    "# for fname in fnames :\n",
    "    \n",
    "#     src = os.path.join(original_dataset_dir, fname)\n",
    "#     dst = os.path.join(test_dogs_dir, fname)\n",
    "#     shutil.copyfile(src, dst)"
   ]
  },
  {
   "cell_type": "code",
   "execution_count": 2,
   "metadata": {},
   "outputs": [
    {
     "name": "stdout",
     "output_type": "stream",
     "text": [
      "훈련용 고양이 이미지 전체 개수 : 1000\n",
      "훈련용 강아지 이미지 전체 개수 : 1000\n",
      "검증용 고양이 이미지 전체 개수 : 500\n",
      "검증용 강아지 이미지 전체 개수 : 500\n",
      "테스트용 고양이 이미지 전체 개수 : 500\n",
      "테스트용 강아지 이미지 전체 개수 : 500\n"
     ]
    }
   ],
   "source": [
    "print(\"훈련용 고양이 이미지 전체 개수 :\", len(os.listdir(train_cats_dir)))\n",
    "print(\"훈련용 강아지 이미지 전체 개수 :\", len(os.listdir(train_dogs_dir)))\n",
    "print(\"검증용 고양이 이미지 전체 개수 :\", len(os.listdir(validation_cats_dir)))\n",
    "print(\"검증용 강아지 이미지 전체 개수 :\", len(os.listdir(validation_dogs_dir)))\n",
    "print(\"테스트용 고양이 이미지 전체 개수 :\", len(os.listdir(test_cats_dir)))\n",
    "print(\"테스트용 강아지 이미지 전체 개수 :\", len(os.listdir(test_dogs_dir)))"
   ]
  },
  {
   "cell_type": "code",
   "execution_count": 3,
   "metadata": {},
   "outputs": [
    {
     "name": "stdout",
     "output_type": "stream",
     "text": [
      "Model: \"sequential\"\n",
      "_________________________________________________________________\n",
      "Layer (type)                 Output Shape              Param #   \n",
      "=================================================================\n",
      "conv2d (Conv2D)              (None, 148, 148, 32)      896       \n",
      "_________________________________________________________________\n",
      "max_pooling2d (MaxPooling2D) (None, 74, 74, 32)        0         \n",
      "_________________________________________________________________\n",
      "conv2d_1 (Conv2D)            (None, 72, 72, 64)        18496     \n",
      "_________________________________________________________________\n",
      "max_pooling2d_1 (MaxPooling2 (None, 36, 36, 64)        0         \n",
      "_________________________________________________________________\n",
      "conv2d_2 (Conv2D)            (None, 34, 34, 128)       73856     \n",
      "_________________________________________________________________\n",
      "max_pooling2d_2 (MaxPooling2 (None, 17, 17, 128)       0         \n",
      "_________________________________________________________________\n",
      "conv2d_3 (Conv2D)            (None, 15, 15, 128)       147584    \n",
      "_________________________________________________________________\n",
      "max_pooling2d_3 (MaxPooling2 (None, 7, 7, 128)         0         \n",
      "_________________________________________________________________\n",
      "flatten (Flatten)            (None, 6272)              0         \n",
      "_________________________________________________________________\n",
      "dense (Dense)                (None, 512)               3211776   \n",
      "_________________________________________________________________\n",
      "dense_1 (Dense)              (None, 1)                 513       \n",
      "=================================================================\n",
      "Total params: 3,453,121\n",
      "Trainable params: 3,453,121\n",
      "Non-trainable params: 0\n",
      "_________________________________________________________________\n"
     ]
    }
   ],
   "source": [
    "# CNN 모델 선언\n",
    "from tensorflow.keras import layers\n",
    "from tensorflow.keras import models\n",
    "\n",
    "model = models.Sequential()\n",
    "model.add(layers.Conv2D(32, (3, 3), activation = \"relu\", input_shape = (150, 150, 3)))\n",
    "model.add(layers.MaxPooling2D((2,2)))\n",
    "model.add(layers.Conv2D(64, (3, 3), activation = \"relu\"))\n",
    "model.add(layers.MaxPooling2D((2,2)))\n",
    "model.add(layers.Conv2D(128, (3, 3), activation = \"relu\"))\n",
    "model.add(layers.MaxPooling2D((2,2)))\n",
    "model.add(layers.Conv2D(128, (3, 3), activation = \"relu\"))\n",
    "model.add(layers.MaxPooling2D((2,2)))\n",
    "model.add(layers.Flatten())\n",
    "model.add(layers.Dense(512, activation = \"relu\"))\n",
    "model.add(layers.Dense(1, activation = \"sigmoid\"))\n",
    "\n",
    "model.summary()"
   ]
  },
  {
   "cell_type": "code",
   "execution_count": 4,
   "metadata": {},
   "outputs": [],
   "source": [
    "# model의 cost function과 optimizer 설정\n",
    "from tensorflow.keras import optimizers\n",
    "\n",
    "model.compile(loss = \"binary_crossentropy\", optimizer=optimizers.RMSprop(lr = 1e-4), metrics = [\"accuracy\"])"
   ]
  },
  {
   "cell_type": "code",
   "execution_count": 5,
   "metadata": {},
   "outputs": [
    {
     "name": "stdout",
     "output_type": "stream",
     "text": [
      "Found 2000 images belonging to 2 classes.\n",
      "Found 1000 images belonging to 2 classes.\n"
     ]
    }
   ],
   "source": [
    "# ImageDataGenerator 생성\n",
    "from tensorflow.keras.preprocessing.image import ImageDataGenerator\n",
    "\n",
    "train_datagen = ImageDataGenerator(rescale = 1./255)\n",
    "test_datagen = ImageDataGenerator(rescale = 1./255)\n",
    "\n",
    "train_generator = train_datagen.flow_from_directory(train_dir, target_size = (150, 150), batch_size = 20, class_mode = \"binary\")\n",
    "validation_generator = test_datagen.flow_from_directory(validation_dir, target_size=(150, 150), batch_size = 20, class_mode = \"binary\")"
   ]
  },
  {
   "cell_type": "code",
   "execution_count": 6,
   "metadata": {},
   "outputs": [
    {
     "name": "stdout",
     "output_type": "stream",
     "text": [
      "WARNING:tensorflow:From <ipython-input-6-43a82226ca35>:1: Model.fit_generator (from tensorflow.python.keras.engine.training) is deprecated and will be removed in a future version.\n",
      "Instructions for updating:\n",
      "Please use Model.fit, which supports generators.\n",
      "Epoch 1/30\n",
      "100/100 [==============================] - 8s 81ms/step - loss: 0.6884 - accuracy: 0.5395 - val_loss: 0.6711 - val_accuracy: 0.6120\n",
      "Epoch 2/30\n",
      "100/100 [==============================] - 7s 70ms/step - loss: 0.6596 - accuracy: 0.6150 - val_loss: 0.6480 - val_accuracy: 0.6350\n",
      "Epoch 3/30\n",
      "100/100 [==============================] - 7s 71ms/step - loss: 0.6171 - accuracy: 0.6655 - val_loss: 0.6495 - val_accuracy: 0.6020\n",
      "Epoch 4/30\n",
      "100/100 [==============================] - 7s 68ms/step - loss: 0.5805 - accuracy: 0.6910 - val_loss: 0.6328 - val_accuracy: 0.6500\n",
      "Epoch 5/30\n",
      "100/100 [==============================] - 7s 68ms/step - loss: 0.5452 - accuracy: 0.7315 - val_loss: 0.5978 - val_accuracy: 0.6860\n",
      "Epoch 6/30\n",
      "100/100 [==============================] - 7s 69ms/step - loss: 0.5181 - accuracy: 0.7470 - val_loss: 0.5805 - val_accuracy: 0.6880\n",
      "Epoch 7/30\n",
      "100/100 [==============================] - 7s 69ms/step - loss: 0.4840 - accuracy: 0.7610 - val_loss: 0.5843 - val_accuracy: 0.6800\n",
      "Epoch 8/30\n",
      "100/100 [==============================] - 7s 69ms/step - loss: 0.4554 - accuracy: 0.7925 - val_loss: 0.6377 - val_accuracy: 0.6710\n",
      "Epoch 9/30\n",
      "100/100 [==============================] - 7s 69ms/step - loss: 0.4313 - accuracy: 0.7960 - val_loss: 0.5883 - val_accuracy: 0.7010\n",
      "Epoch 10/30\n",
      "100/100 [==============================] - 7s 68ms/step - loss: 0.4041 - accuracy: 0.8090 - val_loss: 0.6139 - val_accuracy: 0.6980\n",
      "Epoch 11/30\n",
      "100/100 [==============================] - 7s 72ms/step - loss: 0.3813 - accuracy: 0.8285 - val_loss: 0.5877 - val_accuracy: 0.7010\n",
      "Epoch 12/30\n",
      "100/100 [==============================] - 7s 69ms/step - loss: 0.3514 - accuracy: 0.8605 - val_loss: 0.5955 - val_accuracy: 0.6990\n",
      "Epoch 13/30\n",
      "100/100 [==============================] - 7s 72ms/step - loss: 0.3184 - accuracy: 0.8655 - val_loss: 0.6210 - val_accuracy: 0.7170\n",
      "Epoch 14/30\n",
      "100/100 [==============================] - 7s 72ms/step - loss: 0.2990 - accuracy: 0.8805 - val_loss: 0.6211 - val_accuracy: 0.7180\n",
      "Epoch 15/30\n",
      "100/100 [==============================] - 7s 69ms/step - loss: 0.2779 - accuracy: 0.8880 - val_loss: 0.6481 - val_accuracy: 0.6900\n",
      "Epoch 16/30\n",
      "100/100 [==============================] - 7s 72ms/step - loss: 0.2521 - accuracy: 0.9005 - val_loss: 0.6469 - val_accuracy: 0.7180\n",
      "Epoch 17/30\n",
      "100/100 [==============================] - 7s 69ms/step - loss: 0.2328 - accuracy: 0.9070 - val_loss: 0.6137 - val_accuracy: 0.7220\n",
      "Epoch 18/30\n",
      "100/100 [==============================] - 7s 69ms/step - loss: 0.2019 - accuracy: 0.9245 - val_loss: 0.6693 - val_accuracy: 0.7310\n",
      "Epoch 19/30\n",
      "100/100 [==============================] - 7s 68ms/step - loss: 0.1846 - accuracy: 0.9315 - val_loss: 0.7123 - val_accuracy: 0.6920\n",
      "Epoch 20/30\n",
      "100/100 [==============================] - 7s 69ms/step - loss: 0.1626 - accuracy: 0.9390 - val_loss: 0.6691 - val_accuracy: 0.7220\n",
      "Epoch 21/30\n",
      "100/100 [==============================] - 7s 70ms/step - loss: 0.1453 - accuracy: 0.9505 - val_loss: 0.7302 - val_accuracy: 0.7070\n",
      "Epoch 22/30\n",
      "100/100 [==============================] - 7s 70ms/step - loss: 0.1264 - accuracy: 0.9590 - val_loss: 0.7646 - val_accuracy: 0.7290\n",
      "Epoch 23/30\n",
      "100/100 [==============================] - 7s 69ms/step - loss: 0.1101 - accuracy: 0.9645 - val_loss: 0.8276 - val_accuracy: 0.7010\n",
      "Epoch 24/30\n",
      "100/100 [==============================] - 7s 69ms/step - loss: 0.0888 - accuracy: 0.9740 - val_loss: 0.8454 - val_accuracy: 0.7050\n",
      "Epoch 25/30\n",
      "100/100 [==============================] - 7s 69ms/step - loss: 0.0809 - accuracy: 0.9790 - val_loss: 0.8769 - val_accuracy: 0.7250\n",
      "Epoch 26/30\n",
      "100/100 [==============================] - 7s 69ms/step - loss: 0.0692 - accuracy: 0.9780 - val_loss: 0.9298 - val_accuracy: 0.7140\n",
      "Epoch 27/30\n",
      "100/100 [==============================] - 7s 69ms/step - loss: 0.0603 - accuracy: 0.9835 - val_loss: 0.9534 - val_accuracy: 0.7050\n",
      "Epoch 28/30\n",
      "100/100 [==============================] - 7s 69ms/step - loss: 0.0479 - accuracy: 0.9870 - val_loss: 1.1959 - val_accuracy: 0.7170\n",
      "Epoch 29/30\n",
      "100/100 [==============================] - 7s 71ms/step - loss: 0.0431 - accuracy: 0.9895 - val_loss: 1.3178 - val_accuracy: 0.6800\n",
      "Epoch 30/30\n",
      "100/100 [==============================] - 7s 69ms/step - loss: 0.0366 - accuracy: 0.9920 - val_loss: 1.1022 - val_accuracy: 0.7150\n"
     ]
    }
   ],
   "source": [
    "# model 학습 실시\n",
    "history = model.fit_generator(train_generator, steps_per_epoch=100, epochs=30, validation_data=validation_generator, validation_steps=50)"
   ]
  },
  {
   "cell_type": "code",
   "execution_count": 7,
   "metadata": {},
   "outputs": [],
   "source": [
    "# 모델 저장\n",
    "model.save(\"cats_and_dogs_small_1.h5\")"
   ]
  },
  {
   "cell_type": "code",
   "execution_count": 18,
   "metadata": {},
   "outputs": [
    {
     "data": {
      "image/png": "[encoded data removed]",
      "text/plain": [
       "<Figure size 432x288 with 1 Axes>"
      ]
     },
     "metadata": {
      "needs_background": "light"
     },
     "output_type": "display_data"
    }
   ],
   "source": [
    "# plot with accuracy\n",
    "%matplotlib inline\n",
    "\n",
    "accuracy = history.history[\"accuracy\"]\n",
    "val_accuracy = history.history[\"val_accuracy\"]\n",
    "\n",
    "epochs = range(1, len(accuracy) + 1)\n",
    "\n",
    "plt.plot(epochs, accuracy, \"bo\", label = \"Training accuracy\")\n",
    "plt.plot(epochs, val_accuracy, \"b\", label = \"Validation accuracy\")\n",
    "plt.legend()\n",
    "plt.show()"
   ]
  },
  {
   "cell_type": "code",
   "execution_count": 20,
   "metadata": {},
   "outputs": [
    {
     "data": {
      "image/png": "[encoded data removed]",
      "text/plain": [
       "<Figure size 432x288 with 1 Axes>"
      ]
     },
     "metadata": {
      "needs_background": "light"
     },
     "output_type": "display_data"
    }
   ],
   "source": [
    "# plot with loss\n",
    "\n",
    "loss = history.history[\"loss\"]\n",
    "val_loss = history.history[\"val_loss\"]\n",
    "\n",
    "epochs = range(1, len(accuracy) + 1)\n",
    "\n",
    "plt.plot(epochs, loss, \"bo\", label = \"Training loss\")\n",
    "plt.plot(epochs, val_loss, \"b\", label = \"Validation loss\")\n",
    "plt.legend()\n",
    "plt.show()\n",
    "\n"
   ]
  },
  {
   "cell_type": "code",
   "execution_count": 21,
   "metadata": {},
   "outputs": [],
   "source": [
    "# ImageDataGenerator를 사용하여 데이터 증식 설정\n",
    "datagen = ImageDataGenerator(rotation_range=20, width_shift_range=0.1, height_shift_range=0.1, shear_range=0.1, zoom_range=0.1, horizontal_flip=True, fill_mode=\"nearest\")"
   ]
  },
  {
   "cell_type": "code",
   "execution_count": null,
   "metadata": {},
   "outputs": [],
   "source": [
    "# Dropout을 추가하여 CNN 모델 재선언\n",
    "from tensorflow.keras import layers\n",
    "from tensorflow.keras import models\n",
    "\n",
    "model = models.Sequential()\n",
    "model.add(layers.Conv2D(32, (3, 3), activation = \"relu\", input_shape = (150, 150, 3)))\n",
    "model.add(layers.MaxPooling2D((2,2)))\n",
    "model.add(layers.Conv2D(64, (3, 3), activation = \"relu\"))\n",
    "model.add(layers.MaxPooling2D((2,2)))\n",
    "model.add(layers.Conv2D(128, (3, 3), activation = \"relu\"))\n",
    "model.add(layers.MaxPooling2D((2,2)))\n",
    "model.add(layers.Conv2D(128, (3, 3), activation = \"relu\"))\n",
    "model.add(layers.MaxPooling2D((2,2)))\n",
    "model.add(layers.Flatten())\n",
    "model.add(layers.Dense(512, activation = \"relu\"))\n",
    "model.add(layers.Dense(1, activation = \"sigmoid\"))\n",
    "\n",
    "model.summary()"
   ]
  },
  {
   "cell_type": "code",
   "execution_count": null,
   "metadata": {},
   "outputs": [],
   "source": []
  },
  {
   "cell_type": "code",
   "execution_count": null,
   "metadata": {},
   "outputs": [],
   "source": []
  },
  {
   "cell_type": "code",
   "execution_count": 55,
   "metadata": {},
   "outputs": [
    {
     "name": "stdout",
     "output_type": "stream",
     "text": [
      "Found 9 images belonging to 2 classes.\n"
     ]
    }
   ],
   "source": [
    "# batch size와 steps per epoch 설정에 의한 증식 사진 개수 실험\n",
    "from tensorflow.keras.preprocessing.image import ImageDataGenerator\n",
    "\n",
    "datagen = ImageDataGenerator(rescale=1./255, shear_range=0.2, zoom_range=0.2, horizontal_flip=True)\n",
    "\n",
    "i = 0\n",
    "\n",
    "for batch in datagen.flow_from_directory(directory=r\"C:\\Users\\user\\Desktop\\generator_test\", class_mode=\"binary\", target_size=(150, 150), batch_size=3, save_to_dir=r\"C:\\Users\\user\\Desktop\\agumented\", save_prefix=\"hi\"):\n",
    "    \n",
    "    i = i+1\n",
    "    if i == 6 : \n",
    "        \n",
    "        break"
   ]
  },
  {
   "cell_type": "code",
   "execution_count": null,
   "metadata": {},
   "outputs": [],
   "source": []
  }
 ],
 "metadata": {
  "kernelspec": {
   "display_name": "Python 3",
   "language": "python",
   "name": "python3"
  },
  "language_info": {
   "codemirror_mode": {
    "name": "ipython",
    "version": 3
   },
   "file_extension": ".py",
   "mimetype": "text/x-python",
   "name": "python",
   "nbconvert_exporter": "python",
   "pygments_lexer": "ipython3",
   "version": "3.7.1"
  }
 },
 "nbformat": 4,
 "nbformat_minor": 2
}
