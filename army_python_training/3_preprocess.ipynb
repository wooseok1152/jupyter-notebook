{
 "cells": [
  {
   "cell_type": "markdown",
   "metadata": {},
   "source": [
    "# <font color='blue'><div style=\"text-align: center\">Data Exploring , Pre-processing</font>\n",
    "    \n",
    "* Exploring은 Data 분석의 첫단계로 데이터를 훓어보는 과정이다.\n",
    "* 분석은 데이터가 재료이므로 데이터가 잘못되어 있거나, 해석이 안되는 부분이 있다면 분석 결과를 바로 이해할 수 없기 때문에\n",
    "  exploring 과정에서 데이터를 검사하고 이해하는 과정은 필수다.\n",
    "* 일반적으로 데이터는 사이즈가 크기 때문에 메모리에 올려 작업하는 것을 지양해야 한다. \n",
    "* 이를 위해 Oracle, MySQL 등 데이터베이스에 데이터를 저장하고 SQL을 통해 필요한 부분만 가져와 사용하는 것이 좋다.\n",
    "* 여러분 회사에는 이미 이런 시스템이 갖춰져 있으므로 쉽게 구현할 수 있다."
   ]
  },
  {
   "cell_type": "code",
   "execution_count": 1,
   "metadata": {},
   "outputs": [],
   "source": [
    "# 아래는 CSV 파일을 data frame으로 읽는 예제임\n",
    "\n",
    "import pandas as pd\n",
    "import matplotlib.pyplot as plt\n",
    "import numpy as np\n",
    "\n",
    "dirName = 'D:/NaverCloud/Lecture/통계교육원/파이썬통계/data/'\n",
    "cust = pd.read_csv(dirName + 'Demo.csv',encoding = 'utf8', header=None)\n",
    "cust.columns = ['id','sex', 'age']"
   ]
  },
  {
   "cell_type": "code",
   "execution_count": 2,
   "metadata": {},
   "outputs": [
    {
     "data": {
      "text/html": [
       "<div>\n",
       "<style scoped>\n",
       "    .dataframe tbody tr th:only-of-type {\n",
       "        vertical-align: middle;\n",
       "    }\n",
       "\n",
       "    .dataframe tbody tr th {\n",
       "        vertical-align: top;\n",
       "    }\n",
       "\n",
       "    .dataframe thead th {\n",
       "        text-align: right;\n",
       "    }\n",
       "</style>\n",
       "<table border=\"1\" class=\"dataframe\">\n",
       "  <thead>\n",
       "    <tr style=\"text-align: right;\">\n",
       "      <th></th>\n",
       "      <th>id</th>\n",
       "      <th>sex</th>\n",
       "      <th>age</th>\n",
       "    </tr>\n",
       "  </thead>\n",
       "  <tbody>\n",
       "    <tr>\n",
       "      <th>0</th>\n",
       "      <td>a47d27ef46aaf9d211e331a25cbabae71f1b62a1cb4bfe...</td>\n",
       "      <td>2</td>\n",
       "      <td>29</td>\n",
       "    </tr>\n",
       "    <tr>\n",
       "      <th>1</th>\n",
       "      <td>b33f989c5e129d6180bfaf19ad57d5bada37334c27af26...</td>\n",
       "      <td>1</td>\n",
       "      <td>23</td>\n",
       "    </tr>\n",
       "    <tr>\n",
       "      <th>2</th>\n",
       "      <td>4547a8c4d5212482506c5cbb1d3dcf364657803588e5ed...</td>\n",
       "      <td>2</td>\n",
       "      <td>53</td>\n",
       "    </tr>\n",
       "    <tr>\n",
       "      <th>3</th>\n",
       "      <td>0d897fd33b2dab36a401a95feb1bc3ab5252408bba7dfd...</td>\n",
       "      <td>1</td>\n",
       "      <td>47</td>\n",
       "    </tr>\n",
       "    <tr>\n",
       "      <th>4</th>\n",
       "      <td>da9e2820fd551f123f8c778ede371da02b806b8e1b0a90...</td>\n",
       "      <td>1</td>\n",
       "      <td>32</td>\n",
       "    </tr>\n",
       "  </tbody>\n",
       "</table>\n",
       "</div>"
      ],
      "text/plain": [
       "                                                  id  sex  age\n",
       "0  a47d27ef46aaf9d211e331a25cbabae71f1b62a1cb4bfe...    2   29\n",
       "1  b33f989c5e129d6180bfaf19ad57d5bada37334c27af26...    1   23\n",
       "2  4547a8c4d5212482506c5cbb1d3dcf364657803588e5ed...    2   53\n",
       "3  0d897fd33b2dab36a401a95feb1bc3ab5252408bba7dfd...    1   47\n",
       "4  da9e2820fd551f123f8c778ede371da02b806b8e1b0a90...    1   32"
      ]
     },
     "execution_count": 2,
     "metadata": {},
     "output_type": "execute_result"
    }
   ],
   "source": [
    "cust.head() # 일반적으로 데이터프레임은 크기 때문에 앞부분만 출력해보자."
   ]
  },
  {
   "cell_type": "code",
   "execution_count": null,
   "metadata": {},
   "outputs": [],
   "source": [
    "# id는 암호화된 식별자이고, sex는 성별(1:남자, 2:여자), age는 나이다.\n",
    "# 먼저 성별, 나이에 이상값이 없는지 알아보자.\n",
    "cust['sex'].value_counts()"
   ]
  },
  {
   "cell_type": "code",
   "execution_count": null,
   "metadata": {},
   "outputs": [],
   "source": [
    "# 성별에 0 이 있다. 이 경우, 0은 무엇을 의미하는 알아봐야 한다. 만약, 고객의 성별을 알 수 없는 경우라면 Missing Value로 처리한다.\n",
    "cust.loc[cust['sex'] == 0, 'sex'] = np.nan"
   ]
  },
  {
   "cell_type": "code",
   "execution_count": null,
   "metadata": {},
   "outputs": [],
   "source": [
    "cust['sex'].value_counts().plot('bar')"
   ]
  },
  {
   "cell_type": "code",
   "execution_count": null,
   "metadata": {},
   "outputs": [],
   "source": [
    "# 너무 평범하다~ 좀 더 색다른 그림은 없을까?\n",
    "# 다르긴 한데 아직도 평범, 이것이 나의 한계다. 엑셀로 가서 수정하는 것이 편할 듯 ...\n",
    "\n",
    "cust['sex'].value_counts().plot('barh')"
   ]
  },
  {
   "cell_type": "code",
   "execution_count": null,
   "metadata": {},
   "outputs": [],
   "source": [
    "# 성별 차이를 집중적으로 알아보자.\n",
    "# 그러기 위해서 데이터프레임을 ...\n",
    "\n",
    "groupby_sex = cust.groupby('sex') # pandas object\n",
    "\n",
    "print(groupby_sex.mean())\n",
    "print(groupby_sex.describe())\n"
   ]
  },
  {
   "cell_type": "code",
   "execution_count": null,
   "metadata": {},
   "outputs": [],
   "source": [
    "# 이런 ... 나이에 0 살이 있다!!\n",
    "# 나이도 검사해보자.\n",
    "cust['age'].min(), cust['age'].max()"
   ]
  },
  {
   "cell_type": "code",
   "execution_count": null,
   "metadata": {},
   "outputs": [],
   "source": [
    "cust['age'].hist(bins = 15) #horizontal Histogram"
   ]
  },
  {
   "cell_type": "code",
   "execution_count": null,
   "metadata": {},
   "outputs": [],
   "source": [
    "cust.loc[cust['age'] < 18, 'age'] = np.nan\n",
    "cust['age'].min(), cust['age'].max()"
   ]
  },
  {
   "cell_type": "code",
   "execution_count": null,
   "metadata": {},
   "outputs": [],
   "source": [
    "# 나이를 나이대로 변환해보자.\n",
    "\n",
    "cust.loc[(cust['age'] >= 18) & (cust['age'] < 25), 'ageGrp'] = '2025'\n",
    "cust.loc[(cust['age'] >= 25) & (cust['age'] < 35), 'ageGrp'] = '2535'\n",
    "cust.loc[(cust['age'] >= 35) & (cust['age'] < 45), 'ageGrp'] = '3545'\n",
    "cust.loc[(cust['age'] >= 45) & (cust['age'] < 55), 'ageGrp'] = '4555'\n",
    "cust.loc[(cust['age'] >= 55) & (cust['age'] < 65), 'ageGrp'] = '5565'\n",
    "cust.loc[(cust['age'] >= 65), 'ageGrp'] = '65+'"
   ]
  },
  {
   "cell_type": "code",
   "execution_count": null,
   "metadata": {},
   "outputs": [],
   "source": [
    "cust.head()"
   ]
  },
  {
   "cell_type": "code",
   "execution_count": null,
   "metadata": {},
   "outputs": [],
   "source": [
    "# 성별과 나이대의 표를 만들어 보자.\n",
    "\n",
    "pd.crosstab(cust.sex, cust.ageGrp, margins=True)"
   ]
  },
  {
   "cell_type": "code",
   "execution_count": null,
   "metadata": {},
   "outputs": [],
   "source": [
    "# 통게청 인구통계를 보니 65+ 구간의 비율이 21%다. 이 자료의 노인고객수는 0.7% 다 왜 그럴까? 이것이 분석의 시작이다."
   ]
  },
  {
   "cell_type": "code",
   "execution_count": null,
   "metadata": {},
   "outputs": [],
   "source": [
    "dirName = 'D:/KBCard/data/'\n",
    "tr = pd.read_csv(dirName + 'Tr.csv',encoding = 'utf8', header=None)\n",
    "tr.columns = ['id','shop', 'place', 'day', 'time','price']\n",
    "tr['price'] = tr['price'] * 10"
   ]
  },
  {
   "cell_type": "code",
   "execution_count": null,
   "metadata": {},
   "outputs": [],
   "source": [
    "tr.head()"
   ]
  },
  {
   "cell_type": "code",
   "execution_count": null,
   "metadata": {},
   "outputs": [],
   "source": [
    "# tr 데이터는 고객ID, 판매점, 지역, 날짜(1-182 까지 약 6개월), time(0~24시), price는 거래금액이다.\n",
    "tr['month'] = tr['day'] // 30 + 1"
   ]
  },
  {
   "cell_type": "code",
   "execution_count": null,
   "metadata": {},
   "outputs": [],
   "source": [
    "# 7개월분은 자료가 일부만 있으므로 잘라버리자.\n",
    "tr['month'].value_counts()"
   ]
  },
  {
   "cell_type": "code",
   "execution_count": null,
   "metadata": {},
   "outputs": [],
   "source": [
    "tr = tr[tr.month != 7]\n",
    "tr['month'].value_counts()"
   ]
  },
  {
   "cell_type": "code",
   "execution_count": null,
   "metadata": {},
   "outputs": [],
   "source": [
    "# 거래액의 분포를 보자.\n",
    "tr.boxplot(column=['price'])"
   ]
  },
  {
   "cell_type": "code",
   "execution_count": null,
   "metadata": {},
   "outputs": [],
   "source": [
    "# 위 그래프로 분포를 알아보기 힘들다. 좌측으로 너무 치우쳐 있기 때문이다.\n",
    "tr['log_price'] = np.log(tr['price'])"
   ]
  },
  {
   "cell_type": "code",
   "execution_count": null,
   "metadata": {},
   "outputs": [],
   "source": [
    "# 중앙값이 10정도다. 그런데 로그를 취한 값이니 해석이 안된다.\n",
    "# x = exp(10) = 22,000 원 정도다\n",
    "# 거래액의 분포는 일반적으로 좌측으로 치우친 비대칭 분포다.\n",
    "\n",
    "tr.boxplot(column=['log_price'])"
   ]
  },
  {
   "cell_type": "code",
   "execution_count": null,
   "metadata": {},
   "outputs": [],
   "source": [
    "# 월별 거래액의 합은 얼마일까?\n",
    "tr['price'].sum()"
   ]
  },
  {
   "cell_type": "code",
   "execution_count": null,
   "metadata": {},
   "outputs": [],
   "source": [
    "# 4월이 Peak 고 1~3월, 5,6월은 매출이 작다~ 왜 일까?\n",
    "# 겨울철의 매출을 올릴 수 있는 방법은 없을까?\n",
    "# 5월은 선물을 하는 달인데 왜 4월보다 작을까?\n",
    "\n",
    "groupby_month = tr.groupby('month')\n",
    "groupby_month.sum()"
   ]
  },
  {
   "cell_type": "code",
   "execution_count": null,
   "metadata": {},
   "outputs": [],
   "source": [
    "# 매출이 많은 거래는 무엇일까? (노래방 사장님과 마트 PB 새우깡)\n",
    "tr['price'].describe()"
   ]
  },
  {
   "cell_type": "code",
   "execution_count": null,
   "metadata": {},
   "outputs": [],
   "source": [
    "# 시간을 시간대로 변환해보자.\n",
    "\n",
    "tr.loc[(tr['time'] <=  6) , 'timeGrp'] = 'time0006'\n",
    "tr.loc[(tr['time'] > 6) & (tr['time'] <= 12), 'timeGrp'] = 'time0612'\n",
    "tr.loc[(tr['time'] > 12) & (tr['time'] <= 18), 'timeGrp'] = 'time1218'\n",
    "tr.loc[(tr['time'] > 18) & (tr['time'] <= 24), 'timeGrp'] = 'time1824'"
   ]
  },
  {
   "cell_type": "code",
   "execution_count": null,
   "metadata": {},
   "outputs": [],
   "source": [
    "tr.boxplot(column=['log_price'],by='timeGrp')"
   ]
  },
  {
   "cell_type": "code",
   "execution_count": null,
   "metadata": {},
   "outputs": [],
   "source": [
    "tr['price'].groupby(tr['timeGrp']).mean()"
   ]
  },
  {
   "cell_type": "code",
   "execution_count": null,
   "metadata": {},
   "outputs": [],
   "source": [
    "# 난 한 SQL 한다~~~\n",
    "\n",
    "import pandas as pd\n",
    "import pandasql as ps\n",
    "print(ps.sqldf(\"select count(*) from tr\"))"
   ]
  },
  {
   "cell_type": "markdown",
   "metadata": {},
   "source": [
    "### * 총 거래건수는 얼마인가?\n",
    "### * 월별 거래건수는 얼마인가?\n",
    "### * shop별 거래건수는 얼마인가?"
   ]
  },
  {
   "cell_type": "code",
   "execution_count": null,
   "metadata": {},
   "outputs": [],
   "source": [
    "import pandas as pd\n",
    "import pandasql as ps\n",
    "\n",
    "print(ps.sqldf(\"select count(*) from tr\"))\n",
    "cntMonth = ps.sqldf(\"select month, count(*) as cnt from tr group by month\")\n",
    "cntShop = ps.sqldf(\"select shop, count(*) as cnt from tr group by shop\")"
   ]
  },
  {
   "cell_type": "code",
   "execution_count": null,
   "metadata": {},
   "outputs": [],
   "source": [
    "cntMonth"
   ]
  },
  {
   "cell_type": "code",
   "execution_count": null,
   "metadata": {},
   "outputs": [],
   "source": [
    "cntMonth.plot(kind='bar',x='month',y='cnt')"
   ]
  },
  {
   "cell_type": "code",
   "execution_count": null,
   "metadata": {},
   "outputs": [],
   "source": [
    "cntMonth.plot(kind='line', x='month',y='cnt')"
   ]
  },
  {
   "cell_type": "code",
   "execution_count": null,
   "metadata": {},
   "outputs": [],
   "source": [
    "cntShop.plot(kind='bar',x='shop',y='cnt')"
   ]
  },
  {
   "cell_type": "markdown",
   "metadata": {},
   "source": [
    "### * shop 별 평균 단가와 총 거래 금액은 얼마인가?"
   ]
  },
  {
   "cell_type": "code",
   "execution_count": null,
   "metadata": {},
   "outputs": [],
   "source": [
    "queryResult = ps.sqldf(\"select shop, avg(price) as avgPrice, count(*) as trCnt, sum(price) as salesAmt from tr group by shop\")\n",
    "type(queryResult)\n",
    "queryResult"
   ]
  },
  {
   "cell_type": "code",
   "execution_count": null,
   "metadata": {},
   "outputs": [],
   "source": [
    "queryResult.plot(kind='scatter',x='avgPrice',y='trCnt')"
   ]
  },
  {
   "cell_type": "code",
   "execution_count": null,
   "metadata": {},
   "outputs": [],
   "source": [
    "query = \"select b.sex, sum(a.price) as sum from tr a left outer join cust b on a.id = b.id group by b.sex\"\n",
    "queryResult = ps.sqldf(query)\n",
    "queryResult"
   ]
  },
  {
   "cell_type": "code",
   "execution_count": null,
   "metadata": {},
   "outputs": [],
   "source": [
    "queryResult = queryResult.drop(0)"
   ]
  },
  {
   "cell_type": "code",
   "execution_count": null,
   "metadata": {},
   "outputs": [],
   "source": [
    "queryResult.plot(kind='bar',x='sex',y='sum')"
   ]
  },
  {
   "cell_type": "markdown",
   "metadata": {},
   "source": [
    "### <font color='blue'> <div style=\"text-align: center\">End of Chapter </font>  "
   ]
  }
 ],
 "metadata": {
  "kernelspec": {
   "display_name": "Python 3",
   "language": "python",
   "name": "python3"
  },
  "language_info": {
   "codemirror_mode": {
    "name": "ipython",
    "version": 3
   },
   "file_extension": ".py",
   "mimetype": "text/x-python",
   "name": "python",
   "nbconvert_exporter": "python",
   "pygments_lexer": "ipython3",
   "version": "3.7.3"
  }
 },
 "nbformat": 4,
 "nbformat_minor": 2
}
