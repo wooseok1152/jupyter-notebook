{
 "cells": [
  {
   "cell_type": "markdown",
   "metadata": {
    "colab_type": "text",
    "id": "jbGegfEsmOR4"
   },
   "source": [
    "# <font color='blue'><div style=\"text-align: center\">Numpy: 행렬 연산</font>"
   ]
  },
  {
   "cell_type": "markdown",
   "metadata": {},
   "source": [
    "### <font color='blue'> 행렬 </font>  \n",
    "* 파이썬에서 리스트는 일차원 배열로 볼 수 있다.\n",
    "* 물론, 리스트도 2차원 배열을 표현할 수 있지만, 리스트 원소 단위 연산은 안하는 것이 효율적이다.\n",
    "* 넘파이는 파이썬에서 배열을 수학의 행렬로 표현하고 이를 통해 연산을 쉽게 빠르게 수행할 수 있도록 도와주는 모듈이다.\n",
    "* 선형대수학의 모든 연산이 함수로 가능하다.(예: 역행렬)\n",
    "* 넘파이는 import numpy 명령으로 임포트해야 한다.(아나콘다에 이미 설치되어 있음)\n",
    "\n",
    "![maxtrix](https://drive.google.com/uc?id=1ZbJaz87VyaNjJPSHb4Ke-WaAfUpTMmH4)"
   ]
  },
  {
   "cell_type": "code",
   "execution_count": null,
   "metadata": {
    "colab": {
     "base_uri": "https://localhost:8080/",
     "height": 34
    },
    "colab_type": "code",
    "executionInfo": {
     "elapsed": 505,
     "status": "ok",
     "timestamp": 1538176753250,
     "user": {
      "displayName": "swkim김승환",
      "photoUrl": "",
      "userId": "01255046753553274360"
     },
     "user_tz": -540
    },
    "id": "O5_xH_QAmOR5",
    "outputId": "25ac5fa7-19f1-46d0-9bf7-9beb9a685de2"
   },
   "outputs": [],
   "source": [
    "import numpy as np\n",
    "a = np.array([0, 1, 2, 3])\n",
    "a"
   ]
  },
  {
   "cell_type": "markdown",
   "metadata": {
    "colab_type": "text",
    "id": "7DVN5T6PmOR9"
   },
   "source": [
    "### <font color='blue'> 넘파이가 왜 필요한지? </font>  "
   ]
  },
  {
   "cell_type": "code",
   "execution_count": null,
   "metadata": {
    "colab": {
     "base_uri": "https://localhost:8080/",
     "height": 34
    },
    "colab_type": "code",
    "executionInfo": {
     "elapsed": 1039,
     "status": "ok",
     "timestamp": 1536911229541,
     "user": {
      "displayName": "swkim김승환",
      "photoUrl": "https://lh3.googleusercontent.com/a/default-user=s128",
      "userId": "115402777621836123714"
     },
     "user_tz": -540
    },
    "id": "TJHFJphomOR9",
    "outputId": "e6eefa2d-e9a5-4d4f-8bf5-3215ac908435"
   },
   "outputs": [],
   "source": [
    "import time\n",
    "sTime = time.time()\n",
    "L = range(1000000)\n",
    "b = [i**2 for i in L]\n",
    "eTime = time.time()\n",
    "print(eTime - sTime)"
   ]
  },
  {
   "cell_type": "code",
   "execution_count": null,
   "metadata": {
    "colab": {
     "base_uri": "https://localhost:8080/",
     "height": 34
    },
    "colab_type": "code",
    "executionInfo": {
     "elapsed": 744,
     "status": "ok",
     "timestamp": 1536911287158,
     "user": {
      "displayName": "swkim김승환",
      "photoUrl": "https://lh3.googleusercontent.com/a/default-user=s128",
      "userId": "115402777621836123714"
     },
     "user_tz": -540
    },
    "id": "ShxyaltSmOSA",
    "outputId": "412f0573-6f0a-4505-ed0d-cf7589cc94eb"
   },
   "outputs": [],
   "source": [
    "import numpy as np\n",
    "sTime = time.time()\n",
    "c = np.arange(1000000)\n",
    "d = c**2\n",
    "eTime = time.time()\n",
    "# 파이썬은 인터프리터 언어이기 때문에 for, while 문에 취약함\n",
    "# 넘파이는 행렬연산을 파이썬 언어로 수행하는 것이 아니고, C로 컴파일된 모듈을 이용하기 때문에 빠름\n",
    "print(eTime - sTime) "
   ]
  },
  {
   "cell_type": "code",
   "execution_count": null,
   "metadata": {},
   "outputs": [],
   "source": [
    "x = [1,2,3,4,5]\n",
    "\n",
    "for i in range(len(x)):\n",
    "    x[i] *= 10\n",
    "x"
   ]
  },
  {
   "cell_type": "code",
   "execution_count": null,
   "metadata": {},
   "outputs": [],
   "source": [
    "import numpy as np\n",
    "x = [1,2,3,4,5]\n",
    "\n",
    "x = np.array(x) * 10\n",
    "x.tolist()"
   ]
  },
  {
   "cell_type": "code",
   "execution_count": null,
   "metadata": {},
   "outputs": [],
   "source": [
    "x = [1,2,3,4,5]\n",
    "\n",
    "summ = 0\n",
    "for val in x:\n",
    "    summ += val*val\n",
    "summ"
   ]
  },
  {
   "cell_type": "code",
   "execution_count": null,
   "metadata": {},
   "outputs": [],
   "source": [
    "X = np.array(x)\n",
    "np.dot(X.T, X)"
   ]
  },
  {
   "cell_type": "markdown",
   "metadata": {
    "colab_type": "text",
    "id": "UQyp7WjZmOSC"
   },
   "source": [
    "### <font color='blue'> Dimension & shape </font>  "
   ]
  },
  {
   "cell_type": "code",
   "execution_count": null,
   "metadata": {
    "colab": {
     "base_uri": "https://localhost:8080/",
     "height": 35
    },
    "colab_type": "code",
    "executionInfo": {
     "elapsed": 591,
     "status": "ok",
     "timestamp": 1536246465515,
     "user": {
      "displayName": "swkim김승환",
      "photoUrl": "https://lh3.googleusercontent.com/a/default-user=s128",
      "userId": "115402777621836123714"
     },
     "user_tz": -540
    },
    "id": "Dtu-qoF1mOSD",
    "outputId": "cfbdfd8f-dbee-4572-b66c-152041629050"
   },
   "outputs": [],
   "source": [
    "a = np.array([0, 1, 2, 3])\n",
    "a.ndim"
   ]
  },
  {
   "cell_type": "code",
   "execution_count": null,
   "metadata": {
    "colab": {},
    "colab_type": "code",
    "id": "-cnid77DmOSF",
    "outputId": "f5ebb8db-e9f2-466c-c1a0-6bd2e84c8d15"
   },
   "outputs": [],
   "source": [
    "a.shape   # a 는 벡터임"
   ]
  },
  {
   "cell_type": "code",
   "execution_count": null,
   "metadata": {
    "colab": {
     "base_uri": "https://localhost:8080/",
     "height": 35
    },
    "colab_type": "code",
    "executionInfo": {
     "elapsed": 594,
     "status": "ok",
     "timestamp": 1536246470469,
     "user": {
      "displayName": "swkim김승환",
      "photoUrl": "https://lh3.googleusercontent.com/a/default-user=s128",
      "userId": "115402777621836123714"
     },
     "user_tz": -540
    },
    "id": "VsB-mV7FmOSH",
    "outputId": "404f17eb-bfea-4808-eb80-8a7ddab80ec9"
   },
   "outputs": [],
   "source": [
    "len(a)"
   ]
  },
  {
   "cell_type": "code",
   "execution_count": null,
   "metadata": {
    "colab": {
     "base_uri": "https://localhost:8080/",
     "height": 35
    },
    "colab_type": "code",
    "executionInfo": {
     "elapsed": 550,
     "status": "ok",
     "timestamp": 1536246472546,
     "user": {
      "displayName": "swkim김승환",
      "photoUrl": "https://lh3.googleusercontent.com/a/default-user=s128",
      "userId": "115402777621836123714"
     },
     "user_tz": -540
    },
    "id": "mCuLzfLctz3F",
    "outputId": "f9df7075-f31e-483d-8f8e-2c569ccf706b"
   },
   "outputs": [],
   "source": [
    "a1 = np.array([[0],[1],[2],[3]])\n",
    "a1.shape  # a1은 4*1 행렬"
   ]
  },
  {
   "cell_type": "code",
   "execution_count": null,
   "metadata": {
    "colab": {
     "base_uri": "https://localhost:8080/",
     "height": 90
    },
    "colab_type": "code",
    "executionInfo": {
     "elapsed": 545,
     "status": "ok",
     "timestamp": 1536246474463,
     "user": {
      "displayName": "swkim김승환",
      "photoUrl": "https://lh3.googleusercontent.com/a/default-user=s128",
      "userId": "115402777621836123714"
     },
     "user_tz": -540
    },
    "id": "DV94XYeyt1pY",
    "outputId": "6c5c880f-2bed-4762-f6e0-cc3c1ab1d2b0"
   },
   "outputs": [],
   "source": [
    "a2 = a.reshape(4,1) # 4 by 1 matrix\n",
    "a2"
   ]
  },
  {
   "cell_type": "code",
   "execution_count": null,
   "metadata": {
    "colab": {},
    "colab_type": "code",
    "id": "rjEwokoMmOSM"
   },
   "outputs": [],
   "source": [
    "b = np.array([[0, 1, 2], [3, 4, 5]]) # 2 x 3 array"
   ]
  },
  {
   "cell_type": "code",
   "execution_count": null,
   "metadata": {
    "colab": {
     "base_uri": "https://localhost:8080/",
     "height": 35
    },
    "colab_type": "code",
    "executionInfo": {
     "elapsed": 547,
     "status": "ok",
     "timestamp": 1536246481554,
     "user": {
      "displayName": "swkim김승환",
      "photoUrl": "https://lh3.googleusercontent.com/a/default-user=s128",
      "userId": "115402777621836123714"
     },
     "user_tz": -540
    },
    "id": "g3sjJJ13mOSP",
    "outputId": "2490cd54-a29f-4b87-c1c8-1e4338caa2a9"
   },
   "outputs": [],
   "source": [
    "b.ndim"
   ]
  },
  {
   "cell_type": "code",
   "execution_count": null,
   "metadata": {
    "colab": {
     "base_uri": "https://localhost:8080/",
     "height": 35
    },
    "colab_type": "code",
    "executionInfo": {
     "elapsed": 611,
     "status": "ok",
     "timestamp": 1536246488730,
     "user": {
      "displayName": "swkim김승환",
      "photoUrl": "https://lh3.googleusercontent.com/a/default-user=s128",
      "userId": "115402777621836123714"
     },
     "user_tz": -540
    },
    "id": "73rqiQukmOSS",
    "outputId": "87eac481-406c-4556-8c61-e122b072440e"
   },
   "outputs": [],
   "source": [
    "b.shape"
   ]
  },
  {
   "cell_type": "code",
   "execution_count": null,
   "metadata": {
    "colab": {
     "base_uri": "https://localhost:8080/",
     "height": 35
    },
    "colab_type": "code",
    "executionInfo": {
     "elapsed": 542,
     "status": "ok",
     "timestamp": 1536246490325,
     "user": {
      "displayName": "swkim김승환",
      "photoUrl": "https://lh3.googleusercontent.com/a/default-user=s128",
      "userId": "115402777621836123714"
     },
     "user_tz": -540
    },
    "id": "tw4nn5sZmOST",
    "outputId": "cb6847b3-c804-4232-df00-4c76cc04128f"
   },
   "outputs": [],
   "source": [
    "np.arange(1,9,2) # start, end, step"
   ]
  },
  {
   "cell_type": "code",
   "execution_count": null,
   "metadata": {
    "colab": {},
    "colab_type": "code",
    "id": "8AxzAOfKmOSW"
   },
   "outputs": [],
   "source": [
    "c = np.linspace(0, 1, 6) # start, end, num-points"
   ]
  },
  {
   "cell_type": "code",
   "execution_count": null,
   "metadata": {
    "colab": {
     "base_uri": "https://localhost:8080/",
     "height": 35
    },
    "colab_type": "code",
    "executionInfo": {
     "elapsed": 772,
     "status": "ok",
     "timestamp": 1536246497594,
     "user": {
      "displayName": "swkim김승환",
      "photoUrl": "https://lh3.googleusercontent.com/a/default-user=s128",
      "userId": "115402777621836123714"
     },
     "user_tz": -540
    },
    "id": "7RtyOanwmOSY",
    "outputId": "95bfea4e-0909-46c4-b7a1-0c578293c60c"
   },
   "outputs": [],
   "source": [
    "c"
   ]
  },
  {
   "cell_type": "code",
   "execution_count": null,
   "metadata": {
    "colab": {
     "base_uri": "https://localhost:8080/",
     "height": 72
    },
    "colab_type": "code",
    "executionInfo": {
     "elapsed": 785,
     "status": "ok",
     "timestamp": 1536246506514,
     "user": {
      "displayName": "swkim김승환",
      "photoUrl": "https://lh3.googleusercontent.com/a/default-user=s128",
      "userId": "115402777621836123714"
     },
     "user_tz": -540
    },
    "id": "TFXkloCUmOSZ",
    "outputId": "985e10f8-f483-4297-9421-d6cb864063d5"
   },
   "outputs": [],
   "source": [
    "a = np.ones((3, 3)) # reminder: (3, 3) is a tuple\n",
    "a"
   ]
  },
  {
   "cell_type": "code",
   "execution_count": null,
   "metadata": {
    "colab": {
     "base_uri": "https://localhost:8080/",
     "height": 54
    },
    "colab_type": "code",
    "executionInfo": {
     "elapsed": 531,
     "status": "ok",
     "timestamp": 1536246509229,
     "user": {
      "displayName": "swkim김승환",
      "photoUrl": "https://lh3.googleusercontent.com/a/default-user=s128",
      "userId": "115402777621836123714"
     },
     "user_tz": -540
    },
    "id": "KgIi46tcmOSd",
    "outputId": "1fb4e9e4-6783-4ac6-ccad-e8953c4bb151"
   },
   "outputs": [],
   "source": [
    "b = np.zeros((2, 2))\n",
    "b"
   ]
  },
  {
   "cell_type": "code",
   "execution_count": null,
   "metadata": {
    "colab": {
     "base_uri": "https://localhost:8080/",
     "height": 72
    },
    "colab_type": "code",
    "executionInfo": {
     "elapsed": 545,
     "status": "ok",
     "timestamp": 1536246511498,
     "user": {
      "displayName": "swkim김승환",
      "photoUrl": "https://lh3.googleusercontent.com/a/default-user=s128",
      "userId": "115402777621836123714"
     },
     "user_tz": -540
    },
    "id": "c2p7KFW4mOSe",
    "outputId": "9fb6d829-38ee-4dfa-e643-3293020f9a60"
   },
   "outputs": [],
   "source": [
    "c = np.eye(3)\n",
    "c"
   ]
  },
  {
   "cell_type": "code",
   "execution_count": null,
   "metadata": {
    "colab": {
     "base_uri": "https://localhost:8080/",
     "height": 90
    },
    "colab_type": "code",
    "executionInfo": {
     "elapsed": 572,
     "status": "ok",
     "timestamp": 1536246513864,
     "user": {
      "displayName": "swkim김승환",
      "photoUrl": "https://lh3.googleusercontent.com/a/default-user=s128",
      "userId": "115402777621836123714"
     },
     "user_tz": -540
    },
    "id": "NcDe0lvpmOSg",
    "outputId": "190ba925-7061-430d-ddf8-02d41d536963"
   },
   "outputs": [],
   "source": [
    "d = np.diag(np.array([1, 2, 3, 4]))\n",
    "d"
   ]
  },
  {
   "cell_type": "code",
   "execution_count": 1,
   "metadata": {},
   "outputs": [
    {
     "name": "stdout",
     "output_type": "stream",
     "text": [
      "34.11380272216507\n"
     ]
    }
   ],
   "source": [
    "import csv\n",
    "dirName = 'D:/NaverCloud/Lecture/통계교육원/파이썬통계/data/'\n",
    "\n",
    "ages = []\n",
    "f = open(dirName+'Demo.csv', 'r')\n",
    "for line in csv.reader(f):\n",
    "    ages.append(int(line[2]))\n",
    "\n",
    "print(sum(ages) / len(ages))"
   ]
  },
  {
   "cell_type": "code",
   "execution_count": 2,
   "metadata": {},
   "outputs": [
    {
     "name": "stdout",
     "output_type": "stream",
     "text": [
      "34.11380272216507\n",
      "10.842840978247304\n"
     ]
    }
   ],
   "source": [
    "import csv\n",
    "import numpy as np\n",
    "\n",
    "dirName = 'D:/NaverCloud/Lecture/통계교육원/파이썬통계/data/'\n",
    "\n",
    "ages = []\n",
    "f = open(dirName+'Demo.csv', 'r')\n",
    "for line in csv.reader(f):\n",
    "    ages.append(int(line[2]))\n",
    "\n",
    "print(np.mean(ages))\n",
    "print(np.std(ages))"
   ]
  },
  {
   "cell_type": "code",
   "execution_count": null,
   "metadata": {},
   "outputs": [],
   "source": [
    "bins = np.arange(20,90, 5)  # 도수분포구간\n",
    "hist, bins = np.histogram(ages, bins)\n",
    "print(bins, hist)"
   ]
  },
  {
   "cell_type": "code",
   "execution_count": null,
   "metadata": {},
   "outputs": [],
   "source": [
    "import matplotlib.pyplot as plt\n",
    "plt.hist(ages, bins='auto')\n",
    "plt.show()"
   ]
  },
  {
   "cell_type": "markdown",
   "metadata": {
    "colab_type": "text",
    "id": "L8ipGFoLmOS4"
   },
   "source": [
    "### <font color='blue'> Basic Data types </font>  "
   ]
  },
  {
   "cell_type": "code",
   "execution_count": null,
   "metadata": {
    "colab": {
     "base_uri": "https://localhost:8080/",
     "height": 35
    },
    "colab_type": "code",
    "executionInfo": {
     "elapsed": 587,
     "status": "ok",
     "timestamp": 1536246635741,
     "user": {
      "displayName": "swkim김승환",
      "photoUrl": "https://lh3.googleusercontent.com/a/default-user=s128",
      "userId": "115402777621836123714"
     },
     "user_tz": -540
    },
    "id": "K0LkwMcdmOS4",
    "outputId": "e11452e2-8fe0-473e-9c55-cc395d63b7b6"
   },
   "outputs": [],
   "source": [
    "a = np.array([1, 2, 3])\n",
    "a.dtype"
   ]
  },
  {
   "cell_type": "code",
   "execution_count": null,
   "metadata": {
    "colab": {
     "base_uri": "https://localhost:8080/",
     "height": 35
    },
    "colab_type": "code",
    "executionInfo": {
     "elapsed": 588,
     "status": "ok",
     "timestamp": 1536246637380,
     "user": {
      "displayName": "swkim김승환",
      "photoUrl": "https://lh3.googleusercontent.com/a/default-user=s128",
      "userId": "115402777621836123714"
     },
     "user_tz": -540
    },
    "id": "I6G0567JmOS7",
    "outputId": "f2895bbf-1bef-4545-cc55-15cb3a83eff6"
   },
   "outputs": [],
   "source": [
    "b = np.array([1., 2., 3.])\n",
    "b.dtype"
   ]
  },
  {
   "cell_type": "code",
   "execution_count": null,
   "metadata": {
    "colab": {
     "base_uri": "https://localhost:8080/",
     "height": 35
    },
    "colab_type": "code",
    "executionInfo": {
     "elapsed": 533,
     "status": "ok",
     "timestamp": 1536246653345,
     "user": {
      "displayName": "swkim김승환",
      "photoUrl": "https://lh3.googleusercontent.com/a/default-user=s128",
      "userId": "115402777621836123714"
     },
     "user_tz": -540
    },
    "id": "_VCnJDFNmOS8",
    "outputId": "b920b310-fe08-4d86-a1ed-4a320f7f6e20"
   },
   "outputs": [],
   "source": [
    "f = np.array(['Bonjour', 'Hello', 'Hallo'])\n",
    "f.dtype # unicode type"
   ]
  },
  {
   "cell_type": "markdown",
   "metadata": {
    "colab_type": "text",
    "id": "aUNBkA09mOS_"
   },
   "source": [
    "### <font color='blue'> Indexing and slicing </font>  "
   ]
  },
  {
   "cell_type": "code",
   "execution_count": null,
   "metadata": {
    "colab": {
     "base_uri": "https://localhost:8080/",
     "height": 35
    },
    "colab_type": "code",
    "executionInfo": {
     "elapsed": 583,
     "status": "ok",
     "timestamp": 1536246735982,
     "user": {
      "displayName": "swkim김승환",
      "photoUrl": "https://lh3.googleusercontent.com/a/default-user=s128",
      "userId": "115402777621836123714"
     },
     "user_tz": -540
    },
    "id": "vsvRChKlmOS_",
    "outputId": "a238c98f-d28e-4904-fbed-f4195724c431"
   },
   "outputs": [],
   "source": [
    "a = np.arange(10)\n",
    "a"
   ]
  },
  {
   "cell_type": "code",
   "execution_count": null,
   "metadata": {
    "colab": {
     "base_uri": "https://localhost:8080/",
     "height": 35
    },
    "colab_type": "code",
    "executionInfo": {
     "elapsed": 542,
     "status": "ok",
     "timestamp": 1536246739107,
     "user": {
      "displayName": "swkim김승환",
      "photoUrl": "https://lh3.googleusercontent.com/a/default-user=s128",
      "userId": "115402777621836123714"
     },
     "user_tz": -540
    },
    "id": "mOWdFeBAmOTB",
    "outputId": "a0ec90d2-8641-40ab-ea1c-6b8b630cb9df"
   },
   "outputs": [],
   "source": [
    "a[0,], a[2], a[-1]"
   ]
  },
  {
   "cell_type": "code",
   "execution_count": null,
   "metadata": {
    "colab": {
     "base_uri": "https://localhost:8080/",
     "height": 35
    },
    "colab_type": "code",
    "executionInfo": {
     "elapsed": 551,
     "status": "ok",
     "timestamp": 1536246742401,
     "user": {
      "displayName": "swkim김승환",
      "photoUrl": "https://lh3.googleusercontent.com/a/default-user=s128",
      "userId": "115402777621836123714"
     },
     "user_tz": -540
    },
    "id": "3rW_UcaYmOTD",
    "outputId": "76d3f138-0d50-49e6-f55d-a5ac118b06d9"
   },
   "outputs": [],
   "source": [
    "a[::-1] # Reverse order"
   ]
  },
  {
   "cell_type": "code",
   "execution_count": null,
   "metadata": {
    "colab": {
     "base_uri": "https://localhost:8080/",
     "height": 73
    },
    "colab_type": "code",
    "executionInfo": {
     "elapsed": 626,
     "status": "ok",
     "timestamp": 1537513717830,
     "user": {
      "displayName": "swkim김승환",
      "photoUrl": "https://lh3.googleusercontent.com/a/default-user=s128",
      "userId": "115402777621836123714"
     },
     "user_tz": -540
    },
    "id": "wHNjcr6SmOTF",
    "outputId": "6acd730f-b4a9-463c-dfe3-11d952cf752a"
   },
   "outputs": [],
   "source": [
    "import numpy as np\n",
    "a = np.diag(np.arange(3))\n",
    "a"
   ]
  },
  {
   "cell_type": "code",
   "execution_count": null,
   "metadata": {
    "colab": {
     "base_uri": "https://localhost:8080/",
     "height": 73
    },
    "colab_type": "code",
    "executionInfo": {
     "elapsed": 668,
     "status": "ok",
     "timestamp": 1537513729679,
     "user": {
      "displayName": "swkim김승환",
      "photoUrl": "https://lh3.googleusercontent.com/a/default-user=s128",
      "userId": "115402777621836123714"
     },
     "user_tz": -540
    },
    "id": "4pADhCCHmOTH",
    "outputId": "215ea19f-7648-4a9f-d29b-e2f7fd03d973"
   },
   "outputs": [],
   "source": [
    "a[2, 1] = 10\n",
    "a[2]\n",
    "a"
   ]
  },
  {
   "cell_type": "code",
   "execution_count": null,
   "metadata": {
    "colab": {
     "base_uri": "https://localhost:8080/",
     "height": 55
    },
    "colab_type": "code",
    "executionInfo": {
     "elapsed": 622,
     "status": "ok",
     "timestamp": 1537513737545,
     "user": {
      "displayName": "swkim김승환",
      "photoUrl": "https://lh3.googleusercontent.com/a/default-user=s128",
      "userId": "115402777621836123714"
     },
     "user_tz": -540
    },
    "id": "tuysNNdemOTJ",
    "outputId": "c487cd79-02be-4d62-b4fa-368dd81879d7"
   },
   "outputs": [],
   "source": [
    "a[:2] # It is same as a[0:2] (row indexing)"
   ]
  },
  {
   "cell_type": "code",
   "execution_count": null,
   "metadata": {
    "colab": {
     "base_uri": "https://localhost:8080/",
     "height": 55
    },
    "colab_type": "code",
    "executionInfo": {
     "elapsed": 741,
     "status": "ok",
     "timestamp": 1537513752595,
     "user": {
      "displayName": "swkim김승환",
      "photoUrl": "https://lh3.googleusercontent.com/a/default-user=s128",
      "userId": "115402777621836123714"
     },
     "user_tz": -540
    },
    "id": "1vphRFzNmOTL",
    "outputId": "e6659b25-5fb3-4406-92a7-6052b882fc61"
   },
   "outputs": [],
   "source": [
    "a[::2]"
   ]
  },
  {
   "cell_type": "code",
   "execution_count": null,
   "metadata": {
    "colab": {
     "base_uri": "https://localhost:8080/",
     "height": 73
    },
    "colab_type": "code",
    "executionInfo": {
     "elapsed": 690,
     "status": "ok",
     "timestamp": 1537513812197,
     "user": {
      "displayName": "swkim김승환",
      "photoUrl": "https://lh3.googleusercontent.com/a/default-user=s128",
      "userId": "115402777621836123714"
     },
     "user_tz": -540
    },
    "id": "MaRBF1fRmOTN",
    "outputId": "5e80e985-6fb3-4843-b433-ab11e2f5b22f"
   },
   "outputs": [],
   "source": [
    "a[:,:2]"
   ]
  },
  {
   "cell_type": "code",
   "execution_count": null,
   "metadata": {
    "colab": {
     "base_uri": "https://localhost:8080/",
     "height": 36
    },
    "colab_type": "code",
    "executionInfo": {
     "elapsed": 872,
     "status": "ok",
     "timestamp": 1537513816706,
     "user": {
      "displayName": "swkim김승환",
      "photoUrl": "https://lh3.googleusercontent.com/a/default-user=s128",
      "userId": "115402777621836123714"
     },
     "user_tz": -540
    },
    "id": "tOoRczY1mOTO",
    "outputId": "855c105f-5d04-4ded-d497-4ddaa176814c"
   },
   "outputs": [],
   "source": [
    "np.arange(6)"
   ]
  },
  {
   "cell_type": "code",
   "execution_count": null,
   "metadata": {
    "colab": {
     "base_uri": "https://localhost:8080/",
     "height": 55
    },
    "colab_type": "code",
    "executionInfo": {
     "elapsed": 705,
     "status": "ok",
     "timestamp": 1537513907786,
     "user": {
      "displayName": "swkim김승환",
      "photoUrl": "https://lh3.googleusercontent.com/a/default-user=s128",
      "userId": "115402777621836123714"
     },
     "user_tz": -540
    },
    "id": "OGsZ6VIImOTT",
    "outputId": "57b088d5-64b3-432a-a238-14a54784cfb6"
   },
   "outputs": [],
   "source": [
    "x = np.arange(0, 51, 10)\n",
    "print(x.shape, x)\n"
   ]
  },
  {
   "cell_type": "code",
   "execution_count": null,
   "metadata": {
    "colab": {
     "base_uri": "https://localhost:8080/",
     "height": 148
    },
    "colab_type": "code",
    "executionInfo": {
     "elapsed": 998,
     "status": "ok",
     "timestamp": 1537513950788,
     "user": {
      "displayName": "swkim김승환",
      "photoUrl": "https://lh3.googleusercontent.com/a/default-user=s128",
      "userId": "115402777621836123714"
     },
     "user_tz": -540
    },
    "id": "SlxujCnR-ITJ",
    "outputId": "c049922a-7f48-42e7-e51b-6d20f0ba3daa"
   },
   "outputs": [],
   "source": [
    "print(x[:, np.newaxis])\n",
    "print(x[:, np.newaxis].shape)\n"
   ]
  },
  {
   "cell_type": "code",
   "execution_count": null,
   "metadata": {
    "colab": {
     "base_uri": "https://localhost:8080/",
     "height": 129
    },
    "colab_type": "code",
    "executionInfo": {
     "elapsed": 715,
     "status": "ok",
     "timestamp": 1537514087037,
     "user": {
      "displayName": "swkim김승환",
      "photoUrl": "https://lh3.googleusercontent.com/a/default-user=s128",
      "userId": "115402777621836123714"
     },
     "user_tz": -540
    },
    "id": "c2R57Cz9-tto",
    "outputId": "6685ead2-f2bd-4612-b4f3-0fb9c3e0e32d"
   },
   "outputs": [],
   "source": [
    "x.reshape(6,1)"
   ]
  },
  {
   "cell_type": "markdown",
   "metadata": {
    "colab_type": "text",
    "id": "xpO6_id1mOT8"
   },
   "source": [
    "### <font color='blue'> Matrix Operation </font>  "
   ]
  },
  {
   "cell_type": "code",
   "execution_count": null,
   "metadata": {
    "colab": {
     "base_uri": "https://localhost:8080/",
     "height": 35
    },
    "colab_type": "code",
    "executionInfo": {
     "elapsed": 577,
     "status": "ok",
     "timestamp": 1536249697973,
     "user": {
      "displayName": "swkim김승환",
      "photoUrl": "https://lh3.googleusercontent.com/a/default-user=s128",
      "userId": "115402777621836123714"
     },
     "user_tz": -540
    },
    "id": "o6sBhCaGmOT8",
    "outputId": "07d33899-51f7-4ca9-b587-c1b69ea67e0c"
   },
   "outputs": [],
   "source": [
    "a = np.array([1, 2, 3, 4])\n",
    "a + 1 # 원소 단위 합"
   ]
  },
  {
   "cell_type": "code",
   "execution_count": null,
   "metadata": {
    "colab": {
     "base_uri": "https://localhost:8080/",
     "height": 35
    },
    "colab_type": "code",
    "executionInfo": {
     "elapsed": 740,
     "status": "ok",
     "timestamp": 1536249699656,
     "user": {
      "displayName": "swkim김승환",
      "photoUrl": "https://lh3.googleusercontent.com/a/default-user=s128",
      "userId": "115402777621836123714"
     },
     "user_tz": -540
    },
    "id": "Z1y7jPMXmOT-",
    "outputId": "55e56e10-5fb6-44de-9ea9-d38c33e5e7b4"
   },
   "outputs": [],
   "source": [
    "2**a # 원소 단위 연산"
   ]
  },
  {
   "cell_type": "code",
   "execution_count": null,
   "metadata": {
    "colab": {},
    "colab_type": "code",
    "id": "SuMAsSTTmOUA",
    "outputId": "08900a24-b9ca-491d-f128-e4c7ba3feb06"
   },
   "outputs": [],
   "source": [
    "b = np.ones(4) + 1\n",
    "b # 원소 단위 연산"
   ]
  },
  {
   "cell_type": "code",
   "execution_count": null,
   "metadata": {
    "colab": {},
    "colab_type": "code",
    "id": "mrQCtur1mOUE",
    "outputId": "6a48d1dc-0e26-4ee3-8643-0f504fa8d9e9"
   },
   "outputs": [],
   "source": [
    "a * b # 원소 단위 연산"
   ]
  },
  {
   "cell_type": "code",
   "execution_count": null,
   "metadata": {
    "colab": {},
    "colab_type": "code",
    "id": "n9oS9xVvmOUG",
    "outputId": "26b64741-68b7-47d5-9cd5-f57e90d8be71"
   },
   "outputs": [],
   "source": [
    "c = np.ones((3, 3))\n",
    "print(c)\n",
    "print(c*c) # 원소 단위 연산"
   ]
  },
  {
   "cell_type": "code",
   "execution_count": null,
   "metadata": {
    "colab": {},
    "colab_type": "code",
    "id": "CDfjdfcumOUH",
    "outputId": "0c276d3a-25d5-4a25-b2c2-89228a65af6e"
   },
   "outputs": [],
   "source": [
    "c.dot(c) # 행렬연산"
   ]
  },
  {
   "cell_type": "code",
   "execution_count": null,
   "metadata": {
    "colab": {},
    "colab_type": "code",
    "id": "0t5w6bhmmOUI",
    "outputId": "7aa90f7d-63f5-4029-d085-8e15ee98c4d7"
   },
   "outputs": [],
   "source": [
    "a = np.array([1, 2, 3, 4])\n",
    "b = np.array([4, 2, 2, 4])\n",
    "a == b"
   ]
  },
  {
   "cell_type": "code",
   "execution_count": null,
   "metadata": {
    "colab": {},
    "colab_type": "code",
    "id": "K6FYCvUvmOUI",
    "outputId": "f124c042-eae8-417d-ba60-608347e3e4e7"
   },
   "outputs": [],
   "source": [
    "a > b"
   ]
  },
  {
   "cell_type": "code",
   "execution_count": null,
   "metadata": {
    "colab": {},
    "colab_type": "code",
    "id": "tvxaQKbZmOUK",
    "outputId": "ce54343c-d0ec-450b-c93f-5d588ad0e00d"
   },
   "outputs": [],
   "source": [
    "a = np.array([1, 1, 0, 0], dtype=bool)\n",
    "b = np.array([1, 0, 1, 0], dtype=bool)   \n",
    "np.logical_or(a, b)"
   ]
  },
  {
   "cell_type": "code",
   "execution_count": null,
   "metadata": {
    "colab": {},
    "colab_type": "code",
    "id": "dgGSSEXFmOUL",
    "outputId": "69b2239e-d912-4b9d-8390-d552ed514742"
   },
   "outputs": [],
   "source": [
    "np.logical_and(a, b)"
   ]
  },
  {
   "cell_type": "code",
   "execution_count": null,
   "metadata": {
    "colab": {},
    "colab_type": "code",
    "id": "7UxGy0-fmOUM",
    "outputId": "13d08628-87c8-43e0-ef64-b142fcba5a2b"
   },
   "outputs": [],
   "source": [
    "a = np.array([1, 2, 3, 4])\n",
    "np.log(a)"
   ]
  },
  {
   "cell_type": "code",
   "execution_count": null,
   "metadata": {
    "colab": {},
    "colab_type": "code",
    "id": "VKUZNH-RmOUN",
    "outputId": "37db6d10-2c3d-4e87-c03e-ee6de9f5e7d6"
   },
   "outputs": [],
   "source": [
    "a = np.triu(np.ones((3, 3)), 1) # 상삼각행렬\n",
    "a"
   ]
  },
  {
   "cell_type": "code",
   "execution_count": null,
   "metadata": {
    "colab": {},
    "colab_type": "code",
    "id": "SQUhqMesmOUQ",
    "outputId": "b3159e54-8e56-4d6a-e071-05f917f426d1"
   },
   "outputs": [],
   "source": [
    "a.T"
   ]
  },
  {
   "cell_type": "code",
   "execution_count": null,
   "metadata": {
    "colab": {},
    "colab_type": "code",
    "id": "_NHFzKxjmOUR"
   },
   "outputs": [],
   "source": [
    "a += a.T"
   ]
  },
  {
   "cell_type": "code",
   "execution_count": null,
   "metadata": {
    "colab": {},
    "colab_type": "code",
    "id": "aJvRhHMxmOUR",
    "outputId": "73e06875-2e92-41ab-bb89-e47ccc7e53e1"
   },
   "outputs": [],
   "source": [
    "a"
   ]
  },
  {
   "cell_type": "code",
   "execution_count": null,
   "metadata": {
    "colab": {},
    "colab_type": "code",
    "id": "a39e_xeNmOUT",
    "outputId": "87a23576-c787-4357-8fc5-b074463e4c0a"
   },
   "outputs": [],
   "source": [
    "x = np.array([1, 2, 3, 4])\n",
    "np.sum(x)"
   ]
  },
  {
   "cell_type": "code",
   "execution_count": null,
   "metadata": {
    "colab": {},
    "colab_type": "code",
    "id": "CkTpGIIQmOUU",
    "outputId": "d720cea5-e402-409a-864e-5b9124db45ba"
   },
   "outputs": [],
   "source": [
    "x.sum()"
   ]
  },
  {
   "cell_type": "code",
   "execution_count": null,
   "metadata": {
    "colab": {
     "base_uri": "https://localhost:8080/",
     "height": 55
    },
    "colab_type": "code",
    "executionInfo": {
     "elapsed": 708,
     "status": "ok",
     "timestamp": 1537518002970,
     "user": {
      "displayName": "swkim김승환",
      "photoUrl": "https://lh3.googleusercontent.com/a/default-user=s128",
      "userId": "115402777621836123714"
     },
     "user_tz": -540
    },
    "id": "DzR_rEqWmOUV",
    "outputId": "2ca557e9-eb74-47dc-9fec-3f9dcab1141d"
   },
   "outputs": [],
   "source": [
    "x = np.array([[1, 1], [2, 2]])\n",
    "x"
   ]
  },
  {
   "cell_type": "code",
   "execution_count": null,
   "metadata": {
    "colab": {},
    "colab_type": "code",
    "id": "DtYx_cytmOUW",
    "outputId": "da3f3850-e9ea-4a86-da11-6f08d7f847f7"
   },
   "outputs": [],
   "source": [
    "x.sum(axis=0) # column sum"
   ]
  },
  {
   "cell_type": "code",
   "execution_count": null,
   "metadata": {
    "colab": {},
    "colab_type": "code",
    "id": "gOZsI2E7mOUY",
    "outputId": "4fe6b92e-2522-46cc-ccd1-fee325e8666f"
   },
   "outputs": [],
   "source": [
    "x.sum(axis=1) # row sum"
   ]
  },
  {
   "cell_type": "code",
   "execution_count": null,
   "metadata": {
    "colab": {
     "base_uri": "https://localhost:8080/",
     "height": 36
    },
    "colab_type": "code",
    "executionInfo": {
     "elapsed": 618,
     "status": "ok",
     "timestamp": 1537518006997,
     "user": {
      "displayName": "swkim김승환",
      "photoUrl": "https://lh3.googleusercontent.com/a/default-user=s128",
      "userId": "115402777621836123714"
     },
     "user_tz": -540
    },
    "id": "84Rpe-SiNpu3",
    "outputId": "dc35606e-f560-4ee1-92cc-1036ce222fc8"
   },
   "outputs": [],
   "source": [
    "x.sum()"
   ]
  },
  {
   "cell_type": "code",
   "execution_count": null,
   "metadata": {
    "colab": {},
    "colab_type": "code",
    "id": "vJHKFICDmOUf",
    "outputId": "522094b4-a1da-4bf4-887b-82050299670b"
   },
   "outputs": [],
   "source": [
    "x = np.array([1, 2, 3, 1])\n",
    "y = np.array([[1, 2, 3], [5, 6, 1]])\n",
    "x.mean()"
   ]
  },
  {
   "cell_type": "code",
   "execution_count": null,
   "metadata": {
    "colab": {},
    "colab_type": "code",
    "id": "eldILbfNmOUg",
    "outputId": "8dfe1159-aee3-4f9a-f872-a000a8f9894c"
   },
   "outputs": [],
   "source": [
    "np.median(x)"
   ]
  },
  {
   "cell_type": "code",
   "execution_count": null,
   "metadata": {
    "colab": {},
    "colab_type": "code",
    "id": "bsEt6-v_mOUi",
    "outputId": "82c34f8f-5eb9-4d14-8a80-f5c97baab4ce"
   },
   "outputs": [],
   "source": [
    "np.median(y, axis=0)"
   ]
  },
  {
   "cell_type": "code",
   "execution_count": null,
   "metadata": {
    "colab": {},
    "colab_type": "code",
    "id": "FX-L4MJbmOUj",
    "outputId": "6897f42e-749b-4018-e496-6e9f985002c8"
   },
   "outputs": [],
   "source": [
    "np.median(y, axis=1)"
   ]
  },
  {
   "cell_type": "code",
   "execution_count": null,
   "metadata": {
    "colab": {},
    "colab_type": "code",
    "id": "LhuLWxXPmOUm",
    "outputId": "679e5ee3-8df1-4570-bf9f-b197e1ed4c04"
   },
   "outputs": [],
   "source": [
    "y.shape"
   ]
  },
  {
   "cell_type": "code",
   "execution_count": null,
   "metadata": {
    "colab": {},
    "colab_type": "code",
    "id": "j2ual_k6mOUo",
    "outputId": "cf8765c4-d371-4b03-fd5c-2373170a5a9c"
   },
   "outputs": [],
   "source": [
    "y"
   ]
  },
  {
   "cell_type": "code",
   "execution_count": null,
   "metadata": {
    "colab": {},
    "colab_type": "code",
    "id": "IMGLd7gTmOUp",
    "outputId": "7ae1364f-499e-4220-8975-9f81fa8ed894"
   },
   "outputs": [],
   "source": [
    "x.std() # 모집단 표준편차"
   ]
  },
  {
   "cell_type": "code",
   "execution_count": null,
   "metadata": {
    "colab": {},
    "colab_type": "code",
    "id": "QyapgeZ0mOUq",
    "outputId": "916c6296-f11f-44e2-bff7-e451d0f87937"
   },
   "outputs": [],
   "source": [
    "x"
   ]
  },
  {
   "cell_type": "code",
   "execution_count": null,
   "metadata": {
    "colab": {},
    "colab_type": "code",
    "id": "ZZv4EX5KmOUs",
    "outputId": "a0e90028-ebdd-4696-bd96-296f91a5a254"
   },
   "outputs": [],
   "source": [
    "x - x.mean()"
   ]
  },
  {
   "cell_type": "code",
   "execution_count": null,
   "metadata": {
    "colab": {},
    "colab_type": "code",
    "id": "faGx7kSLmOUu",
    "outputId": "893bafa4-c58a-483f-84f8-aa72f5101f90"
   },
   "outputs": [],
   "source": [
    "np.sqrt(np.sum((x - x.mean())**2)/(len(x)))"
   ]
  },
  {
   "cell_type": "markdown",
   "metadata": {
    "colab_type": "text",
    "id": "jB47HvY6mOVF"
   },
   "source": [
    "### <font color='blue'> Array shape Manipulation </font>  "
   ]
  },
  {
   "cell_type": "code",
   "execution_count": null,
   "metadata": {
    "colab": {
     "base_uri": "https://localhost:8080/",
     "height": 55
    },
    "colab_type": "code",
    "executionInfo": {
     "elapsed": 623,
     "status": "ok",
     "timestamp": 1538121310979,
     "user": {
      "displayName": "swkim김승환",
      "photoUrl": "",
      "userId": "01255046753553274360"
     },
     "user_tz": -540
    },
    "id": "pRyU6JSImOVG",
    "outputId": "65d3d7d3-d402-4e18-a017-aadadc2a78b3"
   },
   "outputs": [],
   "source": [
    "a = np.array([[1, 2, 3,],[4, 5, 6]])\n",
    "a"
   ]
  },
  {
   "cell_type": "code",
   "execution_count": null,
   "metadata": {
    "colab": {
     "base_uri": "https://localhost:8080/",
     "height": 34
    },
    "colab_type": "code",
    "executionInfo": {
     "elapsed": 545,
     "status": "ok",
     "timestamp": 1538039411168,
     "user": {
      "displayName": "swkim김승환",
      "photoUrl": "",
      "userId": "01255046753553274360"
     },
     "user_tz": -540
    },
    "id": "_Paz1MPwmOVG",
    "outputId": "4b8a1052-e99c-40d7-d6ba-4fedefe3e89e"
   },
   "outputs": [],
   "source": [
    "a.shape"
   ]
  },
  {
   "cell_type": "code",
   "execution_count": null,
   "metadata": {
    "colab": {
     "base_uri": "https://localhost:8080/",
     "height": 36
    },
    "colab_type": "code",
    "executionInfo": {
     "elapsed": 589,
     "status": "ok",
     "timestamp": 1538121326132,
     "user": {
      "displayName": "swkim김승환",
      "photoUrl": "",
      "userId": "01255046753553274360"
     },
     "user_tz": -540
    },
    "id": "vdaDgtzkmOVJ",
    "outputId": "383532d9-8a40-4963-c894-cd766ffab709"
   },
   "outputs": [],
   "source": [
    "# Flatten\n",
    "a = a.ravel()\n",
    "print(a)"
   ]
  },
  {
   "cell_type": "code",
   "execution_count": null,
   "metadata": {
    "colab": {
     "base_uri": "https://localhost:8080/",
     "height": 36
    },
    "colab_type": "code",
    "executionInfo": {
     "elapsed": 866,
     "status": "ok",
     "timestamp": 1538121352098,
     "user": {
      "displayName": "swkim김승환",
      "photoUrl": "",
      "userId": "01255046753553274360"
     },
     "user_tz": -540
    },
    "id": "muCVs-V3LSYG",
    "outputId": "c9325a56-6ca0-4015-9de9-b40b49f0ca63"
   },
   "outputs": [],
   "source": [
    "print(a.shape)"
   ]
  },
  {
   "cell_type": "code",
   "execution_count": null,
   "metadata": {
    "colab": {
     "base_uri": "https://localhost:8080/",
     "height": 55
    },
    "colab_type": "code",
    "executionInfo": {
     "elapsed": 825,
     "status": "ok",
     "timestamp": 1538121417951,
     "user": {
      "displayName": "swkim김승환",
      "photoUrl": "",
      "userId": "01255046753553274360"
     },
     "user_tz": -540
    },
    "id": "p-MbAko1mOVK",
    "outputId": "c1224b68-1cce-4873-c74c-74277c88ba5d"
   },
   "outputs": [],
   "source": [
    "a.reshape(2,3)"
   ]
  },
  {
   "cell_type": "code",
   "execution_count": null,
   "metadata": {
    "colab": {
     "base_uri": "https://localhost:8080/",
     "height": 34
    },
    "colab_type": "code",
    "executionInfo": {
     "elapsed": 581,
     "status": "ok",
     "timestamp": 1538039602432,
     "user": {
      "displayName": "swkim김승환",
      "photoUrl": "",
      "userId": "01255046753553274360"
     },
     "user_tz": -540
    },
    "id": "JUBGDbQ-mOVL",
    "outputId": "880e1e86-45d3-4fc3-9f89-3d366e73cd45"
   },
   "outputs": [],
   "source": [
    "z = np.array([1, 2, 3]) # shape (3,) \n",
    "z.shape "
   ]
  },
  {
   "cell_type": "code",
   "execution_count": null,
   "metadata": {
    "colab": {
     "base_uri": "https://localhost:8080/",
     "height": 34
    },
    "colab_type": "code",
    "executionInfo": {
     "elapsed": 563,
     "status": "ok",
     "timestamp": 1538039604312,
     "user": {
      "displayName": "swkim김승환",
      "photoUrl": "",
      "userId": "01255046753553274360"
     },
     "user_tz": -540
    },
    "id": "5l6YNf6_mOVN",
    "outputId": "615ea995-a768-4d4a-bac9-03424d983cf8"
   },
   "outputs": [],
   "source": [
    "z"
   ]
  },
  {
   "cell_type": "code",
   "execution_count": null,
   "metadata": {
    "colab": {},
    "colab_type": "code",
    "id": "j3VZhkDhmOVO"
   },
   "outputs": [],
   "source": [
    "z1 = z[:, np.newaxis] # add new axis"
   ]
  },
  {
   "cell_type": "code",
   "execution_count": null,
   "metadata": {
    "colab": {
     "base_uri": "https://localhost:8080/",
     "height": 34
    },
    "colab_type": "code",
    "executionInfo": {
     "elapsed": 547,
     "status": "ok",
     "timestamp": 1538039607895,
     "user": {
      "displayName": "swkim김승환",
      "photoUrl": "",
      "userId": "01255046753553274360"
     },
     "user_tz": -540
    },
    "id": "yX2y8XTtmOVO",
    "outputId": "bb100ea3-922d-464f-bfad-e03fccd62618"
   },
   "outputs": [],
   "source": [
    "z1.shape"
   ]
  },
  {
   "cell_type": "code",
   "execution_count": null,
   "metadata": {
    "colab": {},
    "colab_type": "code",
    "id": "_7MhvByTmOVP"
   },
   "outputs": [],
   "source": [
    "z2 = z1[:,np.newaxis]"
   ]
  },
  {
   "cell_type": "code",
   "execution_count": null,
   "metadata": {
    "colab": {
     "base_uri": "https://localhost:8080/",
     "height": 34
    },
    "colab_type": "code",
    "executionInfo": {
     "elapsed": 549,
     "status": "ok",
     "timestamp": 1538039612112,
     "user": {
      "displayName": "swkim김승환",
      "photoUrl": "",
      "userId": "01255046753553274360"
     },
     "user_tz": -540
    },
    "id": "3bJCG0IzmOVP",
    "outputId": "4369de1e-2b5b-4fbb-8ee2-9323f208e44f"
   },
   "outputs": [],
   "source": [
    "z2.shape"
   ]
  },
  {
   "cell_type": "code",
   "execution_count": null,
   "metadata": {
    "colab": {
     "base_uri": "https://localhost:8080/",
     "height": 105
    },
    "colab_type": "code",
    "executionInfo": {
     "elapsed": 578,
     "status": "ok",
     "timestamp": 1538039614796,
     "user": {
      "displayName": "swkim김승환",
      "photoUrl": "",
      "userId": "01255046753553274360"
     },
     "user_tz": -540
    },
    "id": "6WB_17V_mOVR",
    "outputId": "2711c949-68b2-4d4f-caac-78ec8f0e9770"
   },
   "outputs": [],
   "source": [
    "z2"
   ]
  },
  {
   "cell_type": "code",
   "execution_count": null,
   "metadata": {
    "colab": {
     "base_uri": "https://localhost:8080/",
     "height": 34
    },
    "colab_type": "code",
    "executionInfo": {
     "elapsed": 546,
     "status": "ok",
     "timestamp": 1538039619129,
     "user": {
      "displayName": "swkim김승환",
      "photoUrl": "",
      "userId": "01255046753553274360"
     },
     "user_tz": -540
    },
    "id": "WWT3TI8ImOVS",
    "outputId": "54bc8852-b6ca-4695-b812-b12999cd94af"
   },
   "outputs": [],
   "source": [
    "z1 = z[np.newaxis,:]\n",
    "z1"
   ]
  },
  {
   "cell_type": "code",
   "execution_count": null,
   "metadata": {
    "colab": {
     "base_uri": "https://localhost:8080/",
     "height": 34
    },
    "colab_type": "code",
    "executionInfo": {
     "elapsed": 552,
     "status": "ok",
     "timestamp": 1538039627305,
     "user": {
      "displayName": "swkim김승환",
      "photoUrl": "",
      "userId": "01255046753553274360"
     },
     "user_tz": -540
    },
    "id": "A51-ea89mOVT",
    "outputId": "0efdcee1-965b-4bf0-c597-a899189e5543"
   },
   "outputs": [],
   "source": [
    "z1.shape"
   ]
  },
  {
   "cell_type": "code",
   "execution_count": null,
   "metadata": {
    "colab": {},
    "colab_type": "code",
    "id": "9KKrPL0PmOVU"
   },
   "outputs": [],
   "source": [
    " a = np.arange(4*3*2)"
   ]
  },
  {
   "cell_type": "code",
   "execution_count": null,
   "metadata": {
    "colab": {
     "base_uri": "https://localhost:8080/",
     "height": 52
    },
    "colab_type": "code",
    "executionInfo": {
     "elapsed": 571,
     "status": "ok",
     "timestamp": 1538039652828,
     "user": {
      "displayName": "swkim김승환",
      "photoUrl": "",
      "userId": "01255046753553274360"
     },
     "user_tz": -540
    },
    "id": "UK2c-D8umOVU",
    "outputId": "d4e3b539-69d6-46f1-96d1-7818155ce4bc"
   },
   "outputs": [],
   "source": [
    "a"
   ]
  },
  {
   "cell_type": "code",
   "execution_count": null,
   "metadata": {
    "colab": {
     "base_uri": "https://localhost:8080/",
     "height": 281
    },
    "colab_type": "code",
    "executionInfo": {
     "elapsed": 547,
     "status": "ok",
     "timestamp": 1538039657365,
     "user": {
      "displayName": "swkim김승환",
      "photoUrl": "",
      "userId": "01255046753553274360"
     },
     "user_tz": -540
    },
    "id": "6Ge7MlKimOVW",
    "outputId": "6ade7241-7718-4bcb-eb07-a9fa447aa2aa"
   },
   "outputs": [],
   "source": [
    "a = a.reshape(4,3,2)\n",
    "a"
   ]
  },
  {
   "cell_type": "code",
   "execution_count": null,
   "metadata": {
    "colab": {
     "base_uri": "https://localhost:8080/",
     "height": 140
    },
    "colab_type": "code",
    "executionInfo": {
     "elapsed": 492,
     "status": "ok",
     "timestamp": 1538039663426,
     "user": {
      "displayName": "swkim김승환",
      "photoUrl": "",
      "userId": "01255046753553274360"
     },
     "user_tz": -540
    },
    "id": "vxte9CBfmOVY",
    "outputId": "a7c337df-8079-491f-a1bc-bd6a5a1f2023"
   },
   "outputs": [],
   "source": [
    "b = a.T\n",
    "b"
   ]
  },
  {
   "cell_type": "markdown",
   "metadata": {
    "colab_type": "text",
    "id": "sQh2kT4hmOVZ"
   },
   "source": [
    "### <font color='blue'> Array Sorting </font>  "
   ]
  },
  {
   "cell_type": "code",
   "execution_count": null,
   "metadata": {
    "colab": {
     "base_uri": "https://localhost:8080/",
     "height": 55
    },
    "colab_type": "code",
    "executionInfo": {
     "elapsed": 639,
     "status": "ok",
     "timestamp": 1538121459350,
     "user": {
      "displayName": "swkim김승환",
      "photoUrl": "",
      "userId": "01255046753553274360"
     },
     "user_tz": -540
    },
    "id": "aZumd6TgmOVZ",
    "outputId": "f8800c24-6f4e-4e49-ccf1-1c50c4dc9370"
   },
   "outputs": [],
   "source": [
    "a = np.array([[4, 3, 5], [1, 2, 1]])\n",
    "b = np.sort(a)\n",
    "b"
   ]
  },
  {
   "cell_type": "code",
   "execution_count": null,
   "metadata": {
    "colab": {
     "base_uri": "https://localhost:8080/",
     "height": 36
    },
    "colab_type": "code",
    "executionInfo": {
     "elapsed": 708,
     "status": "ok",
     "timestamp": 1538121478566,
     "user": {
      "displayName": "swkim김승환",
      "photoUrl": "",
      "userId": "01255046753553274360"
     },
     "user_tz": -540
    },
    "id": "JcZQ7-SgmOVa",
    "outputId": "4103fa1d-6f94-45b8-a8cc-384bd53782d0"
   },
   "outputs": [],
   "source": [
    "a = np.array([4, 3, 1, 2])\n",
    "j = np.argsort(a)\n",
    "j\n",
    "\n",
    "# 1 is the smallest, and the position is the 2."
   ]
  },
  {
   "cell_type": "code",
   "execution_count": null,
   "metadata": {
    "colab": {
     "base_uri": "https://localhost:8080/",
     "height": 34
    },
    "colab_type": "code",
    "executionInfo": {
     "elapsed": 593,
     "status": "ok",
     "timestamp": 1538039804175,
     "user": {
      "displayName": "swkim김승환",
      "photoUrl": "",
      "userId": "01255046753553274360"
     },
     "user_tz": -540
    },
    "id": "P0CO8_jomOVa",
    "outputId": "69144893-094d-49be-8f61-a2b1f190c1c1"
   },
   "outputs": [],
   "source": [
    "a[j]"
   ]
  },
  {
   "cell_type": "markdown",
   "metadata": {
    "colab_type": "text",
    "id": "1TkGN10KmOVb"
   },
   "source": [
    "### <font color='blue'> Data type </font> "
   ]
  },
  {
   "cell_type": "code",
   "execution_count": null,
   "metadata": {
    "colab": {},
    "colab_type": "code",
    "id": "3jc1r9ydmOVb",
    "outputId": "380cad99-65a9-44fe-c359-d9b2bb50b305"
   },
   "outputs": [],
   "source": [
    "np.array([1, 2, 3]) + 1.5"
   ]
  },
  {
   "cell_type": "code",
   "execution_count": null,
   "metadata": {
    "colab": {
     "base_uri": "https://localhost:8080/",
     "height": 36
    },
    "colab_type": "code",
    "executionInfo": {
     "elapsed": 613,
     "status": "ok",
     "timestamp": 1538121590596,
     "user": {
      "displayName": "swkim김승환",
      "photoUrl": "",
      "userId": "01255046753553274360"
     },
     "user_tz": -540
    },
    "id": "tr7R90tfmOVb",
    "outputId": "e3595380-f3be-4985-c53b-eaab17325649"
   },
   "outputs": [],
   "source": [
    "a = np.array([1, 2, 3])\n",
    "a.dtype"
   ]
  },
  {
   "cell_type": "code",
   "execution_count": null,
   "metadata": {
    "colab": {
     "base_uri": "https://localhost:8080/",
     "height": 36
    },
    "colab_type": "code",
    "executionInfo": {
     "elapsed": 589,
     "status": "ok",
     "timestamp": 1538121604359,
     "user": {
      "displayName": "swkim김승환",
      "photoUrl": "",
      "userId": "01255046753553274360"
     },
     "user_tz": -540
    },
    "id": "JDLtuEMlmOVc",
    "outputId": "44be50a6-41dd-4df4-fa13-39bf294ff37b"
   },
   "outputs": [],
   "source": [
    "a[0] = 1.9\n",
    "a"
   ]
  },
  {
   "cell_type": "code",
   "execution_count": null,
   "metadata": {
    "colab": {
     "base_uri": "https://localhost:8080/",
     "height": 36
    },
    "colab_type": "code",
    "executionInfo": {
     "elapsed": 654,
     "status": "ok",
     "timestamp": 1538121641697,
     "user": {
      "displayName": "swkim김승환",
      "photoUrl": "",
      "userId": "01255046753553274360"
     },
     "user_tz": -540
    },
    "id": "45fOHk96mOVc",
    "outputId": "4fb547dc-8134-4150-cb05-93beb31f15a6"
   },
   "outputs": [],
   "source": [
    "a = np.array([1.7, 1.2, 1.6])\n",
    "b = a.astype(int) # <-- truncates to integer\n",
    "b"
   ]
  },
  {
   "cell_type": "code",
   "execution_count": null,
   "metadata": {
    "colab": {
     "base_uri": "https://localhost:8080/",
     "height": 36
    },
    "colab_type": "code",
    "executionInfo": {
     "elapsed": 653,
     "status": "ok",
     "timestamp": 1538121744943,
     "user": {
      "displayName": "swkim김승환",
      "photoUrl": "",
      "userId": "01255046753553274360"
     },
     "user_tz": -540
    },
    "id": "LOumOOh-mOVd",
    "outputId": "41b77451-3a37-4647-9349-7fac7a5f31fe"
   },
   "outputs": [],
   "source": [
    "np.iinfo(np.uint32).max, 2**32 - 1"
   ]
  },
  {
   "cell_type": "code",
   "execution_count": null,
   "metadata": {
    "colab": {},
    "colab_type": "code",
    "id": "5_RLXl9pmOVe",
    "outputId": "5ed8b9a8-c44a-4b6e-ec48-18e30048da10"
   },
   "outputs": [],
   "source": [
    "np.iinfo(np.int64).max, 2**63 - 1"
   ]
  },
  {
   "cell_type": "code",
   "execution_count": null,
   "metadata": {
    "colab": {
     "base_uri": "https://localhost:8080/",
     "height": 36
    },
    "colab_type": "code",
    "executionInfo": {
     "elapsed": 656,
     "status": "ok",
     "timestamp": 1538121991419,
     "user": {
      "displayName": "swkim김승환",
      "photoUrl": "",
      "userId": "01255046753553274360"
     },
     "user_tz": -540
    },
    "id": "jchqQVYPmOVg",
    "outputId": "a09cb9f9-19b9-41b9-c7d9-7b8177c78cc2"
   },
   "outputs": [],
   "source": [
    "np.float32(1e-8) + np.float32(1) == 1"
   ]
  },
  {
   "cell_type": "code",
   "execution_count": null,
   "metadata": {
    "colab": {
     "base_uri": "https://localhost:8080/",
     "height": 36
    },
    "colab_type": "code",
    "executionInfo": {
     "elapsed": 577,
     "status": "ok",
     "timestamp": 1538122395272,
     "user": {
      "displayName": "swkim김승환",
      "photoUrl": "",
      "userId": "01255046753553274360"
     },
     "user_tz": -540
    },
    "id": "sjrmArvTmOVh",
    "outputId": "87e72ab5-8d53-4c01-c0c0-56d90b7d8232"
   },
   "outputs": [],
   "source": [
    "np.float64(1e-8) + np.float64(1) == 1"
   ]
  },
  {
   "cell_type": "markdown",
   "metadata": {},
   "source": [
    "### <font color='red'> 실습 #1:  사진도 행렬이다.</font> \n",
    "* 아래의 사진을 90도 회전 시켜보자.\n",
    "* 컬러 사진은 (Width, Height, Color) 차원의 행렬이다."
   ]
  },
  {
   "cell_type": "code",
   "execution_count": 3,
   "metadata": {},
   "outputs": [],
   "source": [
    "import matplotlib.pyplot as plt\n",
    "dirName = 'D:/NaverCloud/Lecture/통계교육원/파이썬통계/data/'\n",
    "img = plt.imread(dirName+'Oops.jpg')"
   ]
  },
  {
   "cell_type": "code",
   "execution_count": 4,
   "metadata": {},
   "outputs": [
    {
     "data": {
      "text/plain": [
       "<matplotlib.image.AxesImage at 0x167975e3978>"
      ]
     },
     "execution_count": 4,
     "metadata": {},
     "output_type": "execute_result"
    },
    {
     "data": {
      "image/png": "[encoded data removed]",
      "text/plain": [
       "<Figure size 432x288 with 1 Axes>"
      ]
     },
     "metadata": {
      "needs_background": "light"
     },
     "output_type": "display_data"
    }
   ],
   "source": [
    "plt.imshow(img)"
   ]
  },
  {
   "cell_type": "code",
   "execution_count": 6,
   "metadata": {},
   "outputs": [
    {
     "data": {
      "text/plain": [
       "(220, 229, 3)"
      ]
     },
     "execution_count": 6,
     "metadata": {},
     "output_type": "execute_result"
    }
   ],
   "source": [
    "img.shape"
   ]
  },
  {
   "cell_type": "code",
   "execution_count": 7,
   "metadata": {},
   "outputs": [
    {
     "data": {
      "image/png": "[encoded data removed]",
      "text/plain": [
       "<Figure size 432x288 with 1 Axes>"
      ]
     },
     "metadata": {
      "needs_background": "light"
     },
     "output_type": "display_data"
    }
   ],
   "source": [
    "r_img = img[:,:,0]\n",
    "g_img = img[:,:,1]\n",
    "b_img = img[:,:,2]\n",
    "\n",
    "width = img.shape[0]\n",
    "height = img.shape[1]\n",
    "imgNew = np.zeros((height, width, 3), dtype='i')\n",
    "\n",
    "imgNew[:,:,0] = r_img.T \n",
    "imgNew[:,:,1] = g_img.T\n",
    "imgNew[:,:,2] = b_img.T\n",
    "\n",
    "plt.imshow(imgNew)\n",
    "plt.show()"
   ]
  },
  {
   "cell_type": "markdown",
   "metadata": {},
   "source": [
    "### <font color='red'> 실습 #2:  컬러 사진을 흑백사진으로 ... </font> \n",
    "\n",
    "* R, G, B 값을 평균해서 color 차원을 없애면 흑백이미지가 됨\n",
    "* 가중평균을 해야 자연스러움 (0.21 R + 0.72 G + 0.07 B)\n",
    "\n"
   ]
  },
  {
   "cell_type": "code",
   "execution_count": 5,
   "metadata": {},
   "outputs": [
    {
     "data": {
      "image/png": "[encoded data removed]",
      "text/plain": [
       "<Figure size 432x288 with 1 Axes>"
      ]
     },
     "metadata": {
      "needs_background": "light"
     },
     "output_type": "display_data"
    }
   ],
   "source": [
    "r_img = img[:,:,0]\n",
    "g_img = img[:,:,1]\n",
    "b_img = img[:,:,2]\n",
    "\n",
    "imgNew = 0.21 * r_img + 0.72 * g_img + 0.07 * b_img\n",
    "plt.imshow(imgNew, cmap='gray')\n",
    "plt.show()"
   ]
  },
  {
   "cell_type": "markdown",
   "metadata": {},
   "source": [
    "### <font color='blue'> <div style=\"text-align: center\">End of Chapter </font>  "
   ]
  }
 ],
 "metadata": {
  "colab": {
   "collapsed_sections": [
    "egtl3U5nmOVy"
   ],
   "name": "comStat1(Ch3_Numpy).ipynb",
   "provenance": [],
   "version": "0.3.2"
  },
  "kernelspec": {
   "display_name": "Python 3",
   "language": "python",
   "name": "python3"
  },
  "language_info": {
   "codemirror_mode": {
    "name": "ipython",
    "version": 3
   },
   "file_extension": ".py",
   "mimetype": "text/x-python",
   "name": "python",
   "nbconvert_exporter": "python",
   "pygments_lexer": "ipython3",
   "version": "3.7.3"
  }
 },
 "nbformat": 4,
 "nbformat_minor": 1
}
