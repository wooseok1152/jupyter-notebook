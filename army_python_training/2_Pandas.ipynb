{
 "cells": [
  {
   "cell_type": "markdown",
   "metadata": {
    "colab_type": "text",
    "id": "2jsu_5-puZoE"
   },
   "source": [
    "# <font color='blue'><div style=\"text-align: center\">Pandas</font>"
   ]
  },
  {
   "cell_type": "markdown",
   "metadata": {
    "colab_type": "text",
    "id": "yyznYiixuZoF"
   },
   "source": [
    "### <font color='blue'> The pandas data-frame </font>\n",
    "* 넘파이는 다차원 변수를 배열형태로 저장하고 효과적으로 다룰 수 있다.\n",
    "* 판다스는 엑셀형태의 쉬트와 같이 통계자료를 저장하는 라이브러리다.\n",
    "* 이 세상의 대부분의 자료는 엑셀 쉬트처럼 생겼는데 행렬 원소로 보는 것보다 기존 통계소프트웨어처럼 처리하는 방식이다.\n",
    "* 통계처리는 대부분 판다스로 끝난다. 하지만, 판다스로 처리가 힘든 것은 넘파이나 기존 파이썬 언어의 도움을 받아 처리가 가능하다.\n",
    "* 판다스는 Series객체의 집합으로 이루어져 있어 DataFrame <-> Series <-> numpy <-> List 로 자유자재로 형을 변환할 수 있다.\n"
   ]
  },
  {
   "cell_type": "code",
   "execution_count": 2,
   "metadata": {
    "colab": {
     "base_uri": "https://localhost:8080/",
     "height": 125
    },
    "colab_type": "code",
    "executionInfo": {
     "elapsed": 30798,
     "status": "ok",
     "timestamp": 1544685822194,
     "user": {
      "displayName": "swkim김승환",
      "photoUrl": "",
      "userId": "01255046753553274360"
     },
     "user_tz": -540
    },
    "id": "5I-7Fk7jupgQ",
    "outputId": "0ff8b263-e742-42ea-a4ce-33516157155c"
   },
   "outputs": [],
   "source": [
    "import pandas as pd\n",
    "import matplotlib.pyplot as plt\n",
    "import numpy as np\n",
    "\n",
    "# 아래는 이미 알고 있는 리스트다. \n",
    "nameList = ['John', 'Matt', 'Sara', 'Jim', 'Ashley']\n",
    "ids = [ 23, 34, 83, 86, 12]\n",
    "balance = [10.2, 84.3, 72.9, 27.1, 223.1]"
   ]
  },
  {
   "cell_type": "markdown",
   "metadata": {},
   "source": [
    "### <font color='blue'> 리스트로 데이터프레임 만들기 </font>  "
   ]
  },
  {
   "cell_type": "code",
   "execution_count": null,
   "metadata": {},
   "outputs": [],
   "source": [
    "# 아래는 위의 리스트를 딕셔너리로 묶어 데이터프레임으로 변환하는 예다.\n",
    "\n",
    "dic = {'ids': ids, 'names': nameList, 'bal':balance}\n",
    "\n",
    "users = pd.DataFrame(dic)\n",
    "print (users)"
   ]
  },
  {
   "cell_type": "code",
   "execution_count": null,
   "metadata": {},
   "outputs": [],
   "source": [
    "# 데이터프레임에서 시리즈만 추출하는 예제임\n",
    "\n",
    "print(users['ids'])\n",
    "print(users.ids)\n"
   ]
  },
  {
   "cell_type": "code",
   "execution_count": null,
   "metadata": {},
   "outputs": [],
   "source": [
    "# 시리즈를 생성할 수도 있다.\n",
    "\n",
    "s = pd.Series([10,20,30,40,50], index=[0,1,2,3,4])\n",
    "s"
   ]
  },
  {
   "cell_type": "code",
   "execution_count": null,
   "metadata": {},
   "outputs": [],
   "source": [
    "# 시리즈를 데이터 프레임에 추가해 보자.\n",
    "users['s'] = s\n",
    "users"
   ]
  },
  {
   "cell_type": "code",
   "execution_count": null,
   "metadata": {},
   "outputs": [],
   "source": [
    "# 레코드를 추가해 보자.\n",
    "users.index = users.index + 1  # shifting index\n",
    "users.loc[6] = [13, 'Paul', 24.7, 60]  # adding a row\n",
    "users = users.sort_index()  # sorting by index\n",
    "users"
   ]
  },
  {
   "cell_type": "markdown",
   "metadata": {},
   "source": [
    "### <font color='blue'> CSV 파일로 데이터프레임 만들기 </font>  "
   ]
  },
  {
   "cell_type": "code",
   "execution_count": 3,
   "metadata": {},
   "outputs": [
    {
     "name": "stdout",
     "output_type": "stream",
     "text": [
      "        name sex  vars\n",
      "0       Mary   F  7065\n",
      "1       Anna   F  2604\n",
      "2       Emma   F  2003\n",
      "3  Elizabeth   F  1939\n",
      "4     Woodie   M  1234\n"
     ]
    }
   ],
   "source": [
    "filename = 'D:/NaverCloud/Lecture/통계교육원/파이썬통계/data/yob1880.csv'\n",
    "names = pd.read_csv(filename, header = None)\n",
    "names.columns = ['name','sex', 'vars']\n",
    "print (names.head()) "
   ]
  },
  {
   "cell_type": "markdown",
   "metadata": {},
   "source": [
    "### <font color='blue'> 엑셀 파일로 데이터프레임 만들기 </font>   "
   ]
  },
  {
   "cell_type": "code",
   "execution_count": 5,
   "metadata": {},
   "outputs": [
    {
     "name": "stdout",
     "output_type": "stream",
     "text": [
      "        name  sex  vars\n",
      "0       Mary    F  7065\n",
      "1       Anna    F  2604\n",
      "2       Emma    F  2003\n",
      "3  Elizabeth    F  1939\n"
     ]
    }
   ],
   "source": [
    "df = pd.read_excel('D:/NaverCloud/Lecture/통계교육원/파이썬통계/data/yob1880.xlsx', header = None)\n",
    "df.columns = ['name','sex', 'vars']\n",
    "print (df.head())"
   ]
  },
  {
   "cell_type": "markdown",
   "metadata": {},
   "source": [
    "### <font color='blue'> 데이터 프레임 나누기 </font>    "
   ]
  },
  {
   "cell_type": "code",
   "execution_count": null,
   "metadata": {},
   "outputs": [],
   "source": [
    "# 행번호로 나누기\n",
    "\n",
    "print (names.iloc[0])"
   ]
  },
  {
   "cell_type": "code",
   "execution_count": null,
   "metadata": {},
   "outputs": [],
   "source": [
    "subData = names.iloc[0:2]\n",
    "subData"
   ]
  },
  {
   "cell_type": "code",
   "execution_count": null,
   "metadata": {},
   "outputs": [],
   "source": [
    "# 행과 열 번호로 나누기\n",
    "\n",
    "names.iloc[:,[2,1,0]]"
   ]
  },
  {
   "cell_type": "code",
   "execution_count": null,
   "metadata": {},
   "outputs": [],
   "source": [
    "names['vars']"
   ]
  },
  {
   "cell_type": "code",
   "execution_count": null,
   "metadata": {},
   "outputs": [],
   "source": [
    "print(names)"
   ]
  },
  {
   "cell_type": "code",
   "execution_count": null,
   "metadata": {},
   "outputs": [],
   "source": [
    "print(names.iloc[0:2,0:2])"
   ]
  },
  {
   "cell_type": "markdown",
   "metadata": {},
   "source": [
    "### <font color='blue'> 데이터프레임에서 Row 삭제 </font>     "
   ]
  },
  {
   "cell_type": "code",
   "execution_count": null,
   "metadata": {},
   "outputs": [],
   "source": [
    "users = pd.DataFrame({'names': nameList, 'bal':balance}, index=ids)\n",
    "users"
   ]
  },
  {
   "cell_type": "code",
   "execution_count": null,
   "metadata": {},
   "outputs": [],
   "source": [
    "new_users = users.copy()\n",
    "new_users"
   ]
  },
  {
   "cell_type": "code",
   "execution_count": null,
   "metadata": {},
   "outputs": [],
   "source": [
    "new_users = new_users.drop(83)\n",
    "new_users"
   ]
  },
  {
   "cell_type": "markdown",
   "metadata": {},
   "source": [
    "### <font color='blue'> 데이터프레임에서 column 삭제 </font>  "
   ]
  },
  {
   "cell_type": "code",
   "execution_count": null,
   "metadata": {},
   "outputs": [],
   "source": [
    "new_users = users.drop('bal', axis=1)\n",
    "new_users"
   ]
  },
  {
   "cell_type": "markdown",
   "metadata": {},
   "source": [
    "### <font color='blue'> 데이터프레임 조건으로 drop하기 </font>  "
   ]
  },
  {
   "cell_type": "code",
   "execution_count": null,
   "metadata": {},
   "outputs": [],
   "source": [
    "tmp = users.bal > 30.0\n",
    "tmp"
   ]
  },
  {
   "cell_type": "markdown",
   "metadata": {},
   "source": [
    "### <font color='blue'> 데이터프레임 조건으로 Filter하기 </font> "
   ]
  },
  {
   "cell_type": "code",
   "execution_count": null,
   "metadata": {},
   "outputs": [],
   "source": [
    "names[names.sex == 'F']"
   ]
  },
  {
   "cell_type": "markdown",
   "metadata": {},
   "source": [
    "### <font color='blue'> 데이터프레임 소트 </font>   "
   ]
  },
  {
   "cell_type": "code",
   "execution_count": null,
   "metadata": {},
   "outputs": [],
   "source": [
    "names.sort_values([\"name\"], ascending=[False])"
   ]
  },
  {
   "cell_type": "code",
   "execution_count": 7,
   "metadata": {},
   "outputs": [
    {
     "data": {
      "text/html": [
       "<div>\n",
       "<style scoped>\n",
       "    .dataframe tbody tr th:only-of-type {\n",
       "        vertical-align: middle;\n",
       "    }\n",
       "\n",
       "    .dataframe tbody tr th {\n",
       "        vertical-align: top;\n",
       "    }\n",
       "\n",
       "    .dataframe thead th {\n",
       "        text-align: right;\n",
       "    }\n",
       "</style>\n",
       "<table border=\"1\" class=\"dataframe\">\n",
       "  <thead>\n",
       "    <tr style=\"text-align: right;\">\n",
       "      <th></th>\n",
       "      <th>Ozone</th>\n",
       "      <th>Solar.R</th>\n",
       "      <th>Wind</th>\n",
       "      <th>Temp</th>\n",
       "      <th>Month</th>\n",
       "      <th>Day</th>\n",
       "    </tr>\n",
       "  </thead>\n",
       "  <tbody>\n",
       "    <tr>\n",
       "      <th>0</th>\n",
       "      <td>41.0</td>\n",
       "      <td>190.0</td>\n",
       "      <td>7.4</td>\n",
       "      <td>67</td>\n",
       "      <td>5</td>\n",
       "      <td>1</td>\n",
       "    </tr>\n",
       "    <tr>\n",
       "      <th>1</th>\n",
       "      <td>36.0</td>\n",
       "      <td>118.0</td>\n",
       "      <td>8.0</td>\n",
       "      <td>72</td>\n",
       "      <td>5</td>\n",
       "      <td>2</td>\n",
       "    </tr>\n",
       "    <tr>\n",
       "      <th>2</th>\n",
       "      <td>12.0</td>\n",
       "      <td>149.0</td>\n",
       "      <td>12.6</td>\n",
       "      <td>74</td>\n",
       "      <td>5</td>\n",
       "      <td>3</td>\n",
       "    </tr>\n",
       "    <tr>\n",
       "      <th>3</th>\n",
       "      <td>18.0</td>\n",
       "      <td>313.0</td>\n",
       "      <td>11.5</td>\n",
       "      <td>62</td>\n",
       "      <td>5</td>\n",
       "      <td>4</td>\n",
       "    </tr>\n",
       "    <tr>\n",
       "      <th>4</th>\n",
       "      <td>NaN</td>\n",
       "      <td>NaN</td>\n",
       "      <td>14.3</td>\n",
       "      <td>56</td>\n",
       "      <td>5</td>\n",
       "      <td>5</td>\n",
       "    </tr>\n",
       "    <tr>\n",
       "      <th>5</th>\n",
       "      <td>28.0</td>\n",
       "      <td>NaN</td>\n",
       "      <td>14.9</td>\n",
       "      <td>66</td>\n",
       "      <td>5</td>\n",
       "      <td>6</td>\n",
       "    </tr>\n",
       "    <tr>\n",
       "      <th>6</th>\n",
       "      <td>23.0</td>\n",
       "      <td>299.0</td>\n",
       "      <td>8.6</td>\n",
       "      <td>65</td>\n",
       "      <td>5</td>\n",
       "      <td>7</td>\n",
       "    </tr>\n",
       "    <tr>\n",
       "      <th>7</th>\n",
       "      <td>19.0</td>\n",
       "      <td>99.0</td>\n",
       "      <td>13.8</td>\n",
       "      <td>59</td>\n",
       "      <td>5</td>\n",
       "      <td>8</td>\n",
       "    </tr>\n",
       "    <tr>\n",
       "      <th>8</th>\n",
       "      <td>8.0</td>\n",
       "      <td>19.0</td>\n",
       "      <td>20.1</td>\n",
       "      <td>61</td>\n",
       "      <td>5</td>\n",
       "      <td>9</td>\n",
       "    </tr>\n",
       "    <tr>\n",
       "      <th>9</th>\n",
       "      <td>NaN</td>\n",
       "      <td>194.0</td>\n",
       "      <td>8.6</td>\n",
       "      <td>69</td>\n",
       "      <td>5</td>\n",
       "      <td>10</td>\n",
       "    </tr>\n",
       "  </tbody>\n",
       "</table>\n",
       "</div>"
      ],
      "text/plain": [
       "   Ozone  Solar.R  Wind  Temp  Month  Day\n",
       "0   41.0    190.0   7.4    67      5    1\n",
       "1   36.0    118.0   8.0    72      5    2\n",
       "2   12.0    149.0  12.6    74      5    3\n",
       "3   18.0    313.0  11.5    62      5    4\n",
       "4    NaN      NaN  14.3    56      5    5\n",
       "5   28.0      NaN  14.9    66      5    6\n",
       "6   23.0    299.0   8.6    65      5    7\n",
       "7   19.0     99.0  13.8    59      5    8\n",
       "8    8.0     19.0  20.1    61      5    9\n",
       "9    NaN    194.0   8.6    69      5   10"
      ]
     },
     "execution_count": 7,
     "metadata": {},
     "output_type": "execute_result"
    }
   ],
   "source": [
    "fileName = 'D:/NaverCloud/Lecture/통계교육원/파이썬통계/data/hw1_data.csv'\n",
    "data = pd.read_csv(fileName)\n",
    "data"
   ]
  },
  {
   "cell_type": "code",
   "execution_count": null,
   "metadata": {},
   "outputs": [],
   "source": [
    "data = data.dropna()"
   ]
  },
  {
   "cell_type": "code",
   "execution_count": null,
   "metadata": {},
   "outputs": [],
   "source": [
    "data.describe()"
   ]
  },
  {
   "cell_type": "code",
   "execution_count": null,
   "metadata": {},
   "outputs": [],
   "source": [
    "# 연산하기 (화씨 -> 섭씨로)\n",
    "\n",
    "data['Temp'] = (data['Temp'] - 32) / 1.8\n",
    "data"
   ]
  },
  {
   "cell_type": "code",
   "execution_count": null,
   "metadata": {},
   "outputs": [],
   "source": [
    "data['Month'].value_counts()"
   ]
  },
  {
   "cell_type": "code",
   "execution_count": null,
   "metadata": {},
   "outputs": [],
   "source": [
    "data['Ozone'][data['Ozone'] < 15 ] = 15\n",
    "data"
   ]
  },
  {
   "cell_type": "markdown",
   "metadata": {},
   "source": [
    "### <font color='blue'> 데이터프레임 Merge </font>  "
   ]
  },
  {
   "cell_type": "code",
   "execution_count": null,
   "metadata": {},
   "outputs": [],
   "source": [
    "import pandas as pd\n",
    "\n",
    "df1 = pd.DataFrame({'id':['A','B','C'],'val1':[20,21,34]})\n",
    "df2 = pd.DataFrame({'id':['C','D','E'],'val2':[55,44,11]})\n",
    "\n",
    "df_inner = pd.merge(df1, df2, how='inner', on='id')\n",
    "df_inner"
   ]
  },
  {
   "cell_type": "code",
   "execution_count": null,
   "metadata": {},
   "outputs": [],
   "source": [
    "df_outer = pd.merge(df1, df2, how='outer', on='id')\n",
    "df_outer"
   ]
  },
  {
   "cell_type": "code",
   "execution_count": null,
   "metadata": {},
   "outputs": [],
   "source": [
    "df_left = pd.merge(df1, df2, how='left', on='id')\n",
    "df_left"
   ]
  },
  {
   "cell_type": "code",
   "execution_count": null,
   "metadata": {},
   "outputs": [],
   "source": [
    "df_right = pd.merge(df1, df2, how='right', on='id')\n",
    "df_right"
   ]
  },
  {
   "cell_type": "markdown",
   "metadata": {},
   "source": [
    "### <font color='blue'> 데이터프레임 Concatenate </font>   "
   ]
  },
  {
   "cell_type": "code",
   "execution_count": null,
   "metadata": {},
   "outputs": [],
   "source": [
    "import pandas as pd\n",
    "\n",
    "# create fake data\n",
    "df1 = pd.DataFrame({'id':[6,7,8]})\n",
    "df2 = pd.DataFrame({'id':[9,10,11]})\n",
    "\n",
    "# glue the dataframes together\n",
    "df = pd.concat([df1,df2])\n",
    "df"
   ]
  },
  {
   "cell_type": "markdown",
   "metadata": {},
   "source": [
    "### <font color='blue'> 데이터프레임 저장관리 </font> "
   ]
  },
  {
   "cell_type": "code",
   "execution_count": null,
   "metadata": {},
   "outputs": [],
   "source": [
    "import pickle\n",
    "df.to_pickle('df.pkl')\n",
    "del df"
   ]
  },
  {
   "cell_type": "code",
   "execution_count": null,
   "metadata": {
    "scrolled": true
   },
   "outputs": [],
   "source": [
    "df"
   ]
  },
  {
   "cell_type": "code",
   "execution_count": null,
   "metadata": {},
   "outputs": [],
   "source": [
    "f = open('df.pkl','rb')\n",
    "df = pickle.load(f)\n",
    "df"
   ]
  },
  {
   "cell_type": "markdown",
   "metadata": {},
   "source": [
    "### <font color='red'> 실습 #1: 판다스 부트캠프</font> \n",
    "\n",
    "* PandasBootcamp.csv는 \"date\",\"num\",\"num2\",\"str\",\"str2\" 의 변수가 있는 자료다.\n",
    "* 아래의 미션을 수행하시오."
   ]
  },
  {
   "cell_type": "code",
   "execution_count": 8,
   "metadata": {},
   "outputs": [
    {
     "data": {
      "text/html": [
       "<div>\n",
       "<style scoped>\n",
       "    .dataframe tbody tr th:only-of-type {\n",
       "        vertical-align: middle;\n",
       "    }\n",
       "\n",
       "    .dataframe tbody tr th {\n",
       "        vertical-align: top;\n",
       "    }\n",
       "\n",
       "    .dataframe thead th {\n",
       "        text-align: right;\n",
       "    }\n",
       "</style>\n",
       "<table border=\"1\" class=\"dataframe\">\n",
       "  <thead>\n",
       "    <tr style=\"text-align: right;\">\n",
       "      <th></th>\n",
       "      <th>date</th>\n",
       "      <th>num</th>\n",
       "      <th>num2</th>\n",
       "      <th>str</th>\n",
       "      <th>str2</th>\n",
       "    </tr>\n",
       "  </thead>\n",
       "  <tbody>\n",
       "    <tr>\n",
       "      <th>0</th>\n",
       "      <td>2014-02-06</td>\n",
       "      <td>410</td>\n",
       "      <td>302.792029</td>\n",
       "      <td>girl</td>\n",
       "      <td>green</td>\n",
       "    </tr>\n",
       "    <tr>\n",
       "      <th>1</th>\n",
       "      <td>2014-02-07</td>\n",
       "      <td>457</td>\n",
       "      <td>697.175828</td>\n",
       "      <td>boy</td>\n",
       "      <td>yellow</td>\n",
       "    </tr>\n",
       "    <tr>\n",
       "      <th>2</th>\n",
       "      <td>2014-02-18</td>\n",
       "      <td>392</td>\n",
       "      <td>324.299927</td>\n",
       "      <td>boy</td>\n",
       "      <td>yellow</td>\n",
       "    </tr>\n",
       "    <tr>\n",
       "      <th>3</th>\n",
       "      <td>2014-03-05</td>\n",
       "      <td>685</td>\n",
       "      <td>25.789894</td>\n",
       "      <td>girl</td>\n",
       "      <td>blue</td>\n",
       "    </tr>\n",
       "    <tr>\n",
       "      <th>4</th>\n",
       "      <td>2014-03-31</td>\n",
       "      <td>991</td>\n",
       "      <td>919.491320</td>\n",
       "      <td>boy</td>\n",
       "      <td>red</td>\n",
       "    </tr>\n",
       "  </tbody>\n",
       "</table>\n",
       "</div>"
      ],
      "text/plain": [
       "         date  num        num2   str    str2\n",
       "0  2014-02-06  410  302.792029  girl   green\n",
       "1  2014-02-07  457  697.175828   boy  yellow\n",
       "2  2014-02-18  392  324.299927   boy  yellow\n",
       "3  2014-03-05  685   25.789894  girl    blue\n",
       "4  2014-03-31  991  919.491320   boy     red"
      ]
     },
     "execution_count": 8,
     "metadata": {},
     "output_type": "execute_result"
    }
   ],
   "source": [
    "# CSV 파일을 읽어 exData라는 데이터프레임으로 저장하세요.\n",
    "\n",
    "filename = 'D:/NaverCloud/Lecture/통계교육원/파이썬통계/data/PandasBootcamp.csv'\n",
    "exData = pd.read_csv(filename)\n",
    "exData.head()"
   ]
  },
  {
   "cell_type": "code",
   "execution_count": null,
   "metadata": {},
   "outputs": [],
   "source": [
    "# num의 최소, 최대, 평균값은 얼마입니까?\n",
    "# str 과 str2에는 어떤 범주가 있고, 각 범주별 비율은 얼마인가요?\n",
    "\n",
    "print(exData['num'].describe())\n",
    "print()\n",
    "print(exData['str'].value_counts())\n",
    "print()\n",
    "print(exData['str2'].value_counts())"
   ]
  },
  {
   "cell_type": "code",
   "execution_count": null,
   "metadata": {},
   "outputs": [],
   "source": [
    "def value_proportion(pSeries):\n",
    "    _tmp = pSeries.value_counts().to_dict()\n",
    "    n = sum(list(_tmp.values()))\n",
    "    retDic = {}\n",
    "    for key, value in _tmp.items():\n",
    "        retDic[key] = value / n\n",
    "    return retDic\n",
    "\n",
    "print(value_proportion(exData['str']))\n",
    "print(value_proportion(exData['str2']))"
   ]
  },
  {
   "cell_type": "code",
   "execution_count": null,
   "metadata": {},
   "outputs": [],
   "source": [
    "# str 별 num의 합계를 구하시오\n",
    "# str2별 num2의 평균을 구하시오.\n",
    "\n",
    "groupby_str = exData.groupby('str') \n",
    "print(groupby_str['num'].sum())\n",
    "\n",
    "groupby_str2 = exData.groupby('str2') \n",
    "print(groupby_str['num2'].mean())"
   ]
  },
  {
   "cell_type": "code",
   "execution_count": null,
   "metadata": {},
   "outputs": [],
   "source": [
    "# str과 str2의 교차표를 만들어보세요\n",
    "\n",
    "pd.crosstab(exData.str, exData.str2, margins=True)"
   ]
  },
  {
   "cell_type": "markdown",
   "metadata": {},
   "source": [
    "### <font color='blue'> 유용한 시각화 예제 </font>    "
   ]
  },
  {
   "cell_type": "code",
   "execution_count": null,
   "metadata": {},
   "outputs": [],
   "source": [
    "import matplotlib.pyplot as plt\n",
    "\n",
    "# 시계 반대 방향의 순서로 그린다.\n",
    "\n",
    "labels = 'Frogs', 'Hogs', 'Dogs', 'Logs'\n",
    "sizes = [15, 30, 45, 10]\n",
    "explode = (0, 0.1, 0, 0)  # 두번째 파이를 바깥으로 돌출 시킨다. \n",
    "\n",
    "fig1, ax1 = plt.subplots()\n",
    "ax1.pie(sizes, explode=explode, labels=labels, autopct='%1.1f%%',\n",
    "        shadow=True, startangle=90)\n",
    "ax1.axis('equal')  # Equal aspect ratio ensures that pie is drawn as a circle.\n",
    "\n",
    "plt.show()"
   ]
  },
  {
   "cell_type": "code",
   "execution_count": null,
   "metadata": {},
   "outputs": [],
   "source": [
    "\"\"\"\n",
    "Simple demo of a scatter plot.\n",
    "\"\"\"\n",
    "import numpy as np\n",
    "import matplotlib.pyplot as plt\n",
    "\n",
    "\n",
    "N = 50\n",
    "x = np.random.rand(N)\n",
    "y = np.random.rand(N)\n",
    "colors = np.random.rand(N)\n",
    "area = np.pi * (15 * np.random.rand(N))**2  # 0 to 15 point radii\n",
    "\n",
    "plt.scatter(x, y, s=area, c=colors, alpha=0.5)\n",
    "plt.show()"
   ]
  },
  {
   "cell_type": "code",
   "execution_count": null,
   "metadata": {},
   "outputs": [],
   "source": [
    "import matplotlib.pyplot as plt\n",
    "import numpy as np\n",
    "\n",
    "# Random test data\n",
    "np.random.seed(123)\n",
    "all_data = [np.random.normal(0, std, 100) for std in range(1, 4)]\n",
    "\n",
    "fig, axes = plt.subplots(nrows=1, ncols=2, figsize=(9, 4))\n",
    "\n",
    "# rectangular box plot\n",
    "bplot1 = axes[0].boxplot(all_data,\n",
    "                         vert=True,   # vertical box aligmnent\n",
    "                         patch_artist=True)   # fill with color\n",
    "\n",
    "# notch shape box plot\n",
    "bplot2 = axes[1].boxplot(all_data,\n",
    "                         notch=True,  # notch shape\n",
    "                         vert=True,   # vertical box aligmnent\n",
    "                         patch_artist=True)   # fill with color\n",
    "\n",
    "# fill with colors\n",
    "colors = ['pink', 'lightblue', 'lightgreen']\n",
    "for bplot in (bplot1, bplot2):\n",
    "    for patch, color in zip(bplot['boxes'], colors):\n",
    "        patch.set_facecolor(color)\n",
    "\n",
    "# adding horizontal grid lines\n",
    "for ax in axes:\n",
    "    ax.yaxis.grid(True)\n",
    "    ax.set_xticks([y+1 for y in range(len(all_data))], )\n",
    "    ax.set_xlabel('xlabel')\n",
    "    ax.set_ylabel('ylabel')\n",
    "\n",
    "# add x-tick labels\n",
    "plt.setp(axes, xticks=[y+1 for y in range(len(all_data))],\n",
    "         xticklabels=['x1', 'x2', 'x3', 'x4'])\n",
    "\n",
    "plt.show()\n"
   ]
  },
  {
   "cell_type": "markdown",
   "metadata": {
    "colab_type": "text",
    "id": "1Eh4CDD3woky"
   },
   "source": [
    "### <font color='blue'> <div style=\"text-align: center\">End of Chapter </font>  "
   ]
  }
 ],
 "metadata": {
  "colab": {
   "collapsed_sections": [
    "-xPcVurCuZpH"
   ],
   "name": "comStat3(Ch15_Statistics).ipynb",
   "provenance": [],
   "version": "0.3.2"
  },
  "kernelspec": {
   "display_name": "Python 3",
   "language": "python",
   "name": "python3"
  },
  "language_info": {
   "codemirror_mode": {
    "name": "ipython",
    "version": 3
   },
   "file_extension": ".py",
   "mimetype": "text/x-python",
   "name": "python",
   "nbconvert_exporter": "python",
   "pygments_lexer": "ipython3",
   "version": "3.7.3"
  }
 },
 "nbformat": 4,
 "nbformat_minor": 1
}
