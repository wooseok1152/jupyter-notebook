{
 "cells": [
  {
   "cell_type": "markdown",
   "metadata": {
    "colab_type": "text",
    "id": "eMGatuO1VO03"
   },
   "source": [
    "# <font color='blue'><div style=\"text-align: center\">\n",
    "##  파이썬 통계 분석\n",
    "### 김승환(swkim4610@inha.ac.kr)</font> \n",
    "\n",
    "![python](https://drive.google.com/uc?id=11wXRGm_3nie_jFDW90MVUeBszAR8Gc7a)\n",
    "\n",
    "### <font color='blue'> 파이썬의 특징 </font>\n",
    "\n",
    "* #### 방대한 라이브러리: \n",
    "    파이썬은 방대한 량의 라이브러리를 가지고 있음. 라이브러리는 오픈소스로 전세계에서 협동해서 개발함 <br>\n",
    "    레고처럼 이미 만들어진 블럭을 잘 연결하면 프로그램이 완성됨 \n",
    "    \n",
    "* #### 배우기 쉽다.\n",
    "    전문적 프로그래머가 아닌 경우, 복잡한 프로그램 개발이 어렵다. 파이썬은 컴퓨터 구조를 잘 몰라도 사용이 가능함\n",
    "    인터프리터 언어이기 때문에 한줄 한줄 실행해서 결과 혹은 에러를 출력하기 때문에 디버깅이 용이하다.\n",
    "    하지만, 인터프리터 언어의 단점인 실행속도는 느림\n",
    "    \n",
    "* #### 프로그램 가독성 \n",
    "    오픈소스 시대에 남의 프로그램을 보고, 내 프로그램을 남에게 보여줘야 하는 일이 많은데 다른 언어에 비해 프로그램을 읽고 의미를 파악하는 것이 용이함\n",
    "    \n",
    "* #### 효율성\n",
    "    파이썬으로 개발할 경우, 개발 속도가 획기적으로 단축됨. 또한, 고수준의 파이썬 언어를 사용할 경우, 속도 역시 빠르게 할 수 있음\n",
    "    \n",
    "* #### functional 언어\n",
    "    파이썬은 모든 것이 객체이고, 모든 것이 함수라고 볼 수 있음\n",
    "    함수는 일종의 블랙박스 구조로 입력과 출력만 이해하면 누구나 사용할 수 있음(예: log(3) =?)\n",
    "    파이썬은 객체 지향 언어임\n",
    "    \n",
    "* #### R과 비교\n",
    "    파이썬은 프로그래밍언어이고 R은 통계소프트웨어이기 때문에 비교할 수 없는 문제임\n",
    "    R은 정형 데이터와 같이 통계소프트웨어가 처리할 수 있는 정도를 처리하는 것이 효과적이고, 파이썬은 모든 것이 다 가능함\n",
    "    R은 자바언어와 결합하여 단점을 보완할 수 있음 \n",
    "\n",
    "###  <font color='blue'> 파이썬 2, 파이썬 3 </font>\n",
    "    강의에서는 파이썬 3를 사용할 것임\n",
    "\n",
    "### <font color='blue'> 파이썬 설치</font>\n",
    "     1. Local PC 설치: 아나콘다 Python 3.7 version  https://www.anaconda.com/download/\n",
    "     2. 파이썬 설치 없이 구글 클라우드: google colab \n",
    "\n",
    "### <font color='blue'> anaconda prompt </font>\n",
    "  (base) C:\\Users\\scsc>python\n",
    "   Python 3.6.5 |Anaconda, Inc.| (default, Mar 29 2018, 13:32:41) <br>[MSC v.1900 64 bit (AMD64)] on win32\n",
    "   Type \"help\", \"copyright\", \"credits\" or \"license\" for more information.<br><br>\n",
    "    >>> print \"hello world\" <br>\n",
    "        hello world <br>\n",
    "    >>> exit() <br>\n",
    "      \n",
    "### <font color='blue'> python IDE(Integrated Development Environment)</font>\n",
    "    1. jupyter notebook\n",
    "    2. pycharm https://www.jetbrains.com/pycharm/ (디버깅이 용이함)\n",
    "\n",
    "### 파이썬으로 할 수 있는 것과 없는 것\n",
    "    1. 설치 배포판을 만드는 경우는 적절치 않음\n",
    "    2. 파이썬은 데이터를 다루는 과학기술 계산 프로그램에 적합함\n",
    "    2. 매우 열악한 컴퓨팅 환경(엣지 컴퓨터 등)에서는 사용할 수 없음\n",
    "    3. 하드웨어 제어용으로는 불가능함\n",
    "    4. 실무에서는 C, JAVA 등 다른 언어의 보조수단으로 많이 사용됨(API 서버 활용)\n",
    "    \n",
    "### 주피터 노트북에서 많이 사용하는 키\n",
    "  * SHIFT + ENTER 키: 현재 셀을 실행\n",
    "  * ESC, B 키: 주피터 노트북에 셀을 below에 삽입\n",
    "  * ESC, A 키: 주피터 노트북에 셀을 above에 삽입\n",
    "  * ESC, D 키: 주피터 노트북에 현재 셀을 delete\n",
    "  * ESC, M: 현재 셀을 마크다운 셀로 변경(현재 셀이 마크다운 셀임)\n",
    "  * ESC, Y: 현재 셀을 파이썬 셀로 변경(현재 셀이 마크다운 셀임)\n",
    "  * 나머지는 차차 해가면서 ..."
   ]
  },
  {
   "cell_type": "code",
   "execution_count": 1,
   "metadata": {
    "colab": {
     "base_uri": "https://localhost:8080/",
     "height": 34
    },
    "colab_type": "code",
    "executionInfo": {
     "elapsed": 690,
     "status": "ok",
     "timestamp": 1534215092249,
     "user": {
      "displayName": "김승환",
      "photoUrl": "//lh3.googleusercontent.com/-bIwSv0Nfj9E/AAAAAAAAAAI/AAAAAAAAAH0/Zj1PLbJCjmQ/s50-c-k-no/photo.jpg",
      "userId": "100312159433143570925"
     },
     "user_tz": -540
    },
    "id": "z8b8d4w5VO04",
    "outputId": "dfeec51a-2763-494e-c9b3-eb81b9653c58"
   },
   "outputs": [
    {
     "name": "stdout",
     "output_type": "stream",
     "text": [
      "hello? python~\n"
     ]
    }
   ],
   "source": [
    "# 파이썬과 인사하기\n",
    "\n",
    "print(\"hello? python~\")"
   ]
  },
  {
   "cell_type": "code",
   "execution_count": 2,
   "metadata": {
    "colab": {
     "base_uri": "https://localhost:8080/",
     "height": 34
    },
    "colab_type": "code",
    "executionInfo": {
     "elapsed": 567,
     "status": "ok",
     "timestamp": 1534215097161,
     "user": {
      "displayName": "김승환",
      "photoUrl": "//lh3.googleusercontent.com/-bIwSv0Nfj9E/AAAAAAAAAAI/AAAAAAAAAH0/Zj1PLbJCjmQ/s50-c-k-no/photo.jpg",
      "userId": "100312159433143570925"
     },
     "user_tz": -540
    },
    "id": "659dDve6VO08",
    "outputId": "cc312d7d-59da-438e-c9fd-d6f6970c51c6"
   },
   "outputs": [
    {
     "name": "stdout",
     "output_type": "stream",
     "text": [
      "10 12.5\n"
     ]
    }
   ],
   "source": [
    "# 수에는 정수, 실수가 있다. 실수는 1.0E-6 과 같은 형식으로 표현이 가능함\n",
    "x = 10\n",
    "y = 12.5\n",
    "print(x, y)"
   ]
  },
  {
   "cell_type": "code",
   "execution_count": 3,
   "metadata": {
    "colab": {
     "base_uri": "https://localhost:8080/",
     "height": 34
    },
    "colab_type": "code",
    "executionInfo": {
     "elapsed": 579,
     "status": "ok",
     "timestamp": 1534215098852,
     "user": {
      "displayName": "김승환",
      "photoUrl": "//lh3.googleusercontent.com/-bIwSv0Nfj9E/AAAAAAAAAAI/AAAAAAAAAH0/Zj1PLbJCjmQ/s50-c-k-no/photo.jpg",
      "userId": "100312159433143570925"
     },
     "user_tz": -540
    },
    "id": "6sL_l4_0VO0-",
    "outputId": "5b4a31ab-80a5-41b4-8d01-1c74095cd444"
   },
   "outputs": [
    {
     "name": "stdout",
     "output_type": "stream",
     "text": [
      "22.5\n"
     ]
    }
   ],
   "source": [
    "z = x + y \n",
    "print(z)"
   ]
  },
  {
   "cell_type": "code",
   "execution_count": 4,
   "metadata": {
    "colab": {
     "base_uri": "https://localhost:8080/",
     "height": 34
    },
    "colab_type": "code",
    "executionInfo": {
     "elapsed": 807,
     "status": "ok",
     "timestamp": 1534215100369,
     "user": {
      "displayName": "김승환",
      "photoUrl": "//lh3.googleusercontent.com/-bIwSv0Nfj9E/AAAAAAAAAAI/AAAAAAAAAH0/Zj1PLbJCjmQ/s50-c-k-no/photo.jpg",
      "userId": "100312159433143570925"
     },
     "user_tz": -540
    },
    "id": "-zKnCMPxVO1A",
    "outputId": "a6c50d23-a1cf-4e41-fdef-58a7cdc82fe4"
   },
   "outputs": [
    {
     "data": {
      "text/plain": [
       "int"
      ]
     },
     "execution_count": 4,
     "metadata": {},
     "output_type": "execute_result"
    }
   ],
   "source": [
    "# 변수의 타입은 숫자의 경우, int, float가 있음\n",
    "\n",
    "a = 3\n",
    "b = 2 * a\n",
    "type(b)"
   ]
  },
  {
   "cell_type": "markdown",
   "metadata": {},
   "source": [
    "### <font color='blue'> 변수(variable) </font> \n",
    "\n",
    "* 변수는 값이 저장되는 메모리 주소에 대응하는 식별자를 말한다.\n",
    "* a = 3 은 3이란 값을 물리적 메모리 공간에 저장하고 그 주소와 a를 매핑하여 수를 찾을 수 있다.\n",
    "* 일반적으로 변수명은 아래의 규칙을 사용한다.\n",
    "  * 예약어는 사용할 수 없다. (사용 못하는 변수명: int, for, print, sum 등)\n",
    "  * 변수명은 문자로 시작하고, 문자와 숫자를 혼용할 수 있다. 특수문자, 한글은 사용할 수 없다.\n",
    "  * a, b, c 등의 변수명은 적절치 못하다.(의미를 모르므로)\n",
    "  * item, colors, n_items, nItems 등이 좋은 변수명이다.\n",
    "  "
   ]
  },
  {
   "cell_type": "code",
   "execution_count": 5,
   "metadata": {
    "colab": {
     "base_uri": "https://localhost:8080/",
     "height": 34
    },
    "colab_type": "code",
    "executionInfo": {
     "elapsed": 603,
     "status": "ok",
     "timestamp": 1534215103243,
     "user": {
      "displayName": "김승환",
      "photoUrl": "//lh3.googleusercontent.com/-bIwSv0Nfj9E/AAAAAAAAAAI/AAAAAAAAAH0/Zj1PLbJCjmQ/s50-c-k-no/photo.jpg",
      "userId": "100312159433143570925"
     },
     "user_tz": -540
    },
    "id": "RjqgCw3rVO1D",
    "outputId": "5d8fb455-ca8c-4e2f-a078-9eb7b6d7b6a7"
   },
   "outputs": [
    {
     "name": "stdout",
     "output_type": "stream",
     "text": [
      "I'd like to learn python\n"
     ]
    },
    {
     "data": {
      "text/plain": [
       "(str, str)"
      ]
     },
     "execution_count": 5,
     "metadata": {},
     "output_type": "execute_result"
    }
   ],
   "source": [
    "# 문자열은 '', \"\" 로 표현한다.\n",
    "b = 'hello'\n",
    "c = \"hello\"\n",
    "d = \"I'd like to learn python\"\n",
    "print(d)\n",
    "type(b), type(c)"
   ]
  },
  {
   "cell_type": "code",
   "execution_count": 6,
   "metadata": {
    "colab": {
     "base_uri": "https://localhost:8080/",
     "height": 34
    },
    "colab_type": "code",
    "executionInfo": {
     "elapsed": 597,
     "status": "ok",
     "timestamp": 1534215105273,
     "user": {
      "displayName": "김승환",
      "photoUrl": "//lh3.googleusercontent.com/-bIwSv0Nfj9E/AAAAAAAAAAI/AAAAAAAAAH0/Zj1PLbJCjmQ/s50-c-k-no/photo.jpg",
      "userId": "100312159433143570925"
     },
     "user_tz": -540
    },
    "id": "h8qtoPrAVO1F",
    "outputId": "68a7fc8c-401b-4e21-ef8a-409cc575ac96"
   },
   "outputs": [
    {
     "data": {
      "text/plain": [
       "'hellohello'"
      ]
     },
     "execution_count": 6,
     "metadata": {},
     "output_type": "execute_result"
    }
   ],
   "source": [
    "b+b"
   ]
  },
  {
   "cell_type": "code",
   "execution_count": 7,
   "metadata": {
    "colab": {
     "base_uri": "https://localhost:8080/",
     "height": 34
    },
    "colab_type": "code",
    "executionInfo": {
     "elapsed": 573,
     "status": "ok",
     "timestamp": 1534215106963,
     "user": {
      "displayName": "김승환",
      "photoUrl": "//lh3.googleusercontent.com/-bIwSv0Nfj9E/AAAAAAAAAAI/AAAAAAAAAH0/Zj1PLbJCjmQ/s50-c-k-no/photo.jpg",
      "userId": "100312159433143570925"
     },
     "user_tz": -540
    },
    "id": "YdP2GbefVO1H",
    "outputId": "fcffa141-3d6d-458c-bb67-d240d641116b"
   },
   "outputs": [
    {
     "data": {
      "text/plain": [
       "'hellohello'"
      ]
     },
     "execution_count": 7,
     "metadata": {},
     "output_type": "execute_result"
    }
   ],
   "source": [
    "2*b"
   ]
  },
  {
   "cell_type": "code",
   "execution_count": 8,
   "metadata": {
    "colab": {
     "base_uri": "https://localhost:8080/",
     "height": 34
    },
    "colab_type": "code",
    "executionInfo": {
     "elapsed": 606,
     "status": "ok",
     "timestamp": 1534215108961,
     "user": {
      "displayName": "김승환",
      "photoUrl": "//lh3.googleusercontent.com/-bIwSv0Nfj9E/AAAAAAAAAAI/AAAAAAAAAH0/Zj1PLbJCjmQ/s50-c-k-no/photo.jpg",
      "userId": "100312159433143570925"
     },
     "user_tz": -540
    },
    "id": "33kirtsdVO1J",
    "outputId": "2ed178fb-b839-49f1-dbbc-1deb5ed2af24"
   },
   "outputs": [
    {
     "data": {
      "text/plain": [
       "float"
      ]
     },
     "execution_count": 8,
     "metadata": {},
     "output_type": "execute_result"
    }
   ],
   "source": [
    "type(y)"
   ]
  },
  {
   "cell_type": "code",
   "execution_count": 9,
   "metadata": {
    "colab": {
     "base_uri": "https://localhost:8080/",
     "height": 34
    },
    "colab_type": "code",
    "executionInfo": {
     "elapsed": 741,
     "status": "ok",
     "timestamp": 1534215121354,
     "user": {
      "displayName": "김승환",
      "photoUrl": "//lh3.googleusercontent.com/-bIwSv0Nfj9E/AAAAAAAAAAI/AAAAAAAAAH0/Zj1PLbJCjmQ/s50-c-k-no/photo.jpg",
      "userId": "100312159433143570925"
     },
     "user_tz": -540
    },
    "id": "zEhCYG3yVO1O",
    "outputId": "bd29702e-e13c-4196-ce02-4d6a1224b452"
   },
   "outputs": [
    {
     "name": "stdout",
     "output_type": "stream",
     "text": [
      "False\n"
     ]
    }
   ],
   "source": [
    "# Boolean: True, False 두개만 존재하는 자료구조\n",
    "\n",
    "test = (3 > 4)\n",
    "print(test)"
   ]
  },
  {
   "cell_type": "code",
   "execution_count": 10,
   "metadata": {
    "colab": {
     "base_uri": "https://localhost:8080/",
     "height": 34
    },
    "colab_type": "code",
    "executionInfo": {
     "elapsed": 566,
     "status": "ok",
     "timestamp": 1534215122845,
     "user": {
      "displayName": "김승환",
      "photoUrl": "//lh3.googleusercontent.com/-bIwSv0Nfj9E/AAAAAAAAAAI/AAAAAAAAAH0/Zj1PLbJCjmQ/s50-c-k-no/photo.jpg",
      "userId": "100312159433143570925"
     },
     "user_tz": -540
    },
    "id": "W7cflyFuVO1S",
    "outputId": "c49821a2-bb47-4da9-dbfb-14a1475c3218"
   },
   "outputs": [
    {
     "data": {
      "text/plain": [
       "bool"
      ]
     },
     "execution_count": 10,
     "metadata": {},
     "output_type": "execute_result"
    }
   ],
   "source": [
    "type(test)"
   ]
  },
  {
   "cell_type": "code",
   "execution_count": 11,
   "metadata": {
    "colab": {
     "base_uri": "https://localhost:8080/",
     "height": 34
    },
    "colab_type": "code",
    "executionInfo": {
     "elapsed": 567,
     "status": "ok",
     "timestamp": 1534215124536,
     "user": {
      "displayName": "김승환",
      "photoUrl": "//lh3.googleusercontent.com/-bIwSv0Nfj9E/AAAAAAAAAAI/AAAAAAAAAH0/Zj1PLbJCjmQ/s50-c-k-no/photo.jpg",
      "userId": "100312159433143570925"
     },
     "user_tz": -540
    },
    "id": "caU9JDt3VO1V",
    "outputId": "2fffa903-26b6-4aa8-cb50-e00159d2e845"
   },
   "outputs": [
    {
     "data": {
      "text/plain": [
       "1024"
      ]
     },
     "execution_count": 11,
     "metadata": {},
     "output_type": "execute_result"
    }
   ],
   "source": [
    "2**10"
   ]
  },
  {
   "cell_type": "code",
   "execution_count": 12,
   "metadata": {
    "colab": {
     "base_uri": "https://localhost:8080/",
     "height": 34
    },
    "colab_type": "code",
    "executionInfo": {
     "elapsed": 568,
     "status": "ok",
     "timestamp": 1534215126009,
     "user": {
      "displayName": "김승환",
      "photoUrl": "//lh3.googleusercontent.com/-bIwSv0Nfj9E/AAAAAAAAAAI/AAAAAAAAAH0/Zj1PLbJCjmQ/s50-c-k-no/photo.jpg",
      "userId": "100312159433143570925"
     },
     "user_tz": -540
    },
    "id": "QNW9do14VO1Y",
    "outputId": "0903daf4-914d-4d55-fe84-828249c97a4b"
   },
   "outputs": [
    {
     "data": {
      "text/plain": [
       "2"
      ]
     },
     "execution_count": 12,
     "metadata": {},
     "output_type": "execute_result"
    }
   ],
   "source": [
    "8 % 3"
   ]
  },
  {
   "cell_type": "markdown",
   "metadata": {
    "colab_type": "text",
    "id": "3RAn4eFaVO1b"
   },
   "source": [
    "일반적으로 정수와 정수의 연산은 결과가 정수로 리턴되는데 파이썬 3의 나눗셈은 실수로 리턴된다."
   ]
  },
  {
   "cell_type": "code",
   "execution_count": 13,
   "metadata": {
    "colab": {
     "base_uri": "https://localhost:8080/",
     "height": 34
    },
    "colab_type": "code",
    "executionInfo": {
     "elapsed": 653,
     "status": "ok",
     "timestamp": 1534215134642,
     "user": {
      "displayName": "김승환",
      "photoUrl": "//lh3.googleusercontent.com/-bIwSv0Nfj9E/AAAAAAAAAAI/AAAAAAAAAH0/Zj1PLbJCjmQ/s50-c-k-no/photo.jpg",
      "userId": "100312159433143570925"
     },
     "user_tz": -540
    },
    "id": "4uDrm9RQVO1c",
    "outputId": "643e4623-18a7-4212-cfe1-5e85b19ae07d"
   },
   "outputs": [
    {
     "data": {
      "text/plain": [
       "1.5"
      ]
     },
     "execution_count": 13,
     "metadata": {},
     "output_type": "execute_result"
    }
   ],
   "source": [
    "3 / 2"
   ]
  },
  {
   "cell_type": "markdown",
   "metadata": {
    "colab_type": "text",
    "id": "yv9W3WqlVO1h"
   },
   "source": [
    "만약, 다른 언어들처럼 정수/정수를 정수로 리턴받고 싶다면 아래와 같이 연산한다."
   ]
  },
  {
   "cell_type": "code",
   "execution_count": 14,
   "metadata": {
    "colab": {
     "base_uri": "https://localhost:8080/",
     "height": 34
    },
    "colab_type": "code",
    "executionInfo": {
     "elapsed": 586,
     "status": "ok",
     "timestamp": 1534215162875,
     "user": {
      "displayName": "김승환",
      "photoUrl": "//lh3.googleusercontent.com/-bIwSv0Nfj9E/AAAAAAAAAAI/AAAAAAAAAH0/Zj1PLbJCjmQ/s50-c-k-no/photo.jpg",
      "userId": "100312159433143570925"
     },
     "user_tz": -540
    },
    "id": "NmF53eB_VO1i",
    "outputId": "edf4af36-ad50-45b2-d3b8-31da93759cae"
   },
   "outputs": [
    {
     "data": {
      "text/plain": [
       "1"
      ]
     },
     "execution_count": 14,
     "metadata": {},
     "output_type": "execute_result"
    }
   ],
   "source": [
    "3 // 2"
   ]
  },
  {
   "cell_type": "markdown",
   "metadata": {},
   "source": [
    "## <font color='red'> 실습 #1:  mile과 Km 단위 변환</font> "
   ]
  },
  {
   "cell_type": "code",
   "execution_count": 15,
   "metadata": {},
   "outputs": [],
   "source": [
    "x = 80 # 마일\n",
    "# y = ???? km로 바꿔보세요"
   ]
  },
  {
   "cell_type": "code",
   "execution_count": 16,
   "metadata": {},
   "outputs": [
    {
     "data": {
      "text/plain": [
       "2"
      ]
     },
     "execution_count": 16,
     "metadata": {},
     "output_type": "execute_result"
    }
   ],
   "source": [
    "x = 1\n",
    "x = x + 1\n",
    "x"
   ]
  },
  {
   "cell_type": "code",
   "execution_count": 17,
   "metadata": {},
   "outputs": [
    {
     "data": {
      "text/plain": [
       "2"
      ]
     },
     "execution_count": 17,
     "metadata": {},
     "output_type": "execute_result"
    }
   ],
   "source": [
    "x = 1\n",
    "x += 1\n",
    "x"
   ]
  },
  {
   "cell_type": "code",
   "execution_count": 18,
   "metadata": {},
   "outputs": [
    {
     "data": {
      "text/plain": [
       "7"
      ]
     },
     "execution_count": 18,
     "metadata": {},
     "output_type": "execute_result"
    }
   ],
   "source": [
    "1 + 2 * 3 # 연산자 우선 순위는 우리가 알고 있는 것과 같음"
   ]
  },
  {
   "cell_type": "code",
   "execution_count": 19,
   "metadata": {},
   "outputs": [
    {
     "ename": "ZeroDivisionError",
     "evalue": "division by zero",
     "output_type": "error",
     "traceback": [
      "\u001b[1;31m---------------------------------------------------------------------------\u001b[0m",
      "\u001b[1;31mZeroDivisionError\u001b[0m                         Traceback (most recent call last)",
      "\u001b[1;32m<ipython-input-19-514936153616>\u001b[0m in \u001b[0;36m<module>\u001b[1;34m\u001b[0m\n\u001b[0;32m      1\u001b[0m \u001b[0mx\u001b[0m \u001b[1;33m=\u001b[0m \u001b[1;36m1\u001b[0m\u001b[1;33m\u001b[0m\u001b[1;33m\u001b[0m\u001b[0m\n\u001b[0;32m      2\u001b[0m \u001b[0my\u001b[0m \u001b[1;33m=\u001b[0m \u001b[1;36m0\u001b[0m\u001b[1;33m\u001b[0m\u001b[1;33m\u001b[0m\u001b[0m\n\u001b[1;32m----> 3\u001b[1;33m \u001b[0mx\u001b[0m \u001b[1;33m/\u001b[0m \u001b[0my\u001b[0m\u001b[1;33m\u001b[0m\u001b[1;33m\u001b[0m\u001b[0m\n\u001b[0m",
      "\u001b[1;31mZeroDivisionError\u001b[0m: division by zero"
     ]
    }
   ],
   "source": [
    "x = 1\n",
    "y = 0\n",
    "x / y"
   ]
  },
  {
   "cell_type": "markdown",
   "metadata": {},
   "source": [
    "## <font color='red'> 실습 #2:  초를 분과 초로 바꾸기 </font> "
   ]
  },
  {
   "cell_type": "code",
   "execution_count": 20,
   "metadata": {},
   "outputs": [],
   "source": [
    "# 345초를 분과 초로 바꾸기\n"
   ]
  },
  {
   "cell_type": "markdown",
   "metadata": {
    "colab_type": "text",
    "id": "7-DN1tOnVO1l"
   },
   "source": [
    "### <font color='blue'> List </font>\n",
    "리스트는 파이썬에서 가장 많이 사용하는 자료구조다."
   ]
  },
  {
   "cell_type": "code",
   "execution_count": 21,
   "metadata": {
    "colab": {
     "base_uri": "https://localhost:8080/",
     "height": 34
    },
    "colab_type": "code",
    "executionInfo": {
     "elapsed": 567,
     "status": "ok",
     "timestamp": 1534215171010,
     "user": {
      "displayName": "김승환",
      "photoUrl": "//lh3.googleusercontent.com/-bIwSv0Nfj9E/AAAAAAAAAAI/AAAAAAAAAH0/Zj1PLbJCjmQ/s50-c-k-no/photo.jpg",
      "userId": "100312159433143570925"
     },
     "user_tz": -540
    },
    "id": "PxY-Y-9cVO1m",
    "outputId": "5f71b533-8da4-426f-ccee-e6b6f5737e24"
   },
   "outputs": [
    {
     "data": {
      "text/plain": [
       "list"
      ]
     },
     "execution_count": 21,
     "metadata": {},
     "output_type": "execute_result"
    }
   ],
   "source": [
    "colors = ['red', 'blue', 'green', 'black', 'white']\n",
    "type(colors)"
   ]
  },
  {
   "cell_type": "code",
   "execution_count": 22,
   "metadata": {
    "colab": {},
    "colab_type": "code",
    "id": "A1GtRkUGVO1o",
    "outputId": "184f8a0b-4659-4cb8-9d24-6b6e2bd2d640"
   },
   "outputs": [
    {
     "data": {
      "text/plain": [
       "'red'"
      ]
     },
     "execution_count": 22,
     "metadata": {},
     "output_type": "execute_result"
    }
   ],
   "source": [
    "colors[0]"
   ]
  },
  {
   "cell_type": "code",
   "execution_count": 23,
   "metadata": {
    "colab": {},
    "colab_type": "code",
    "id": "L1MVsVVXVO1r",
    "outputId": "6de5fb15-b608-46b0-b4d6-8ed55b3fe7d2"
   },
   "outputs": [
    {
     "data": {
      "text/plain": [
       "'white'"
      ]
     },
     "execution_count": 23,
     "metadata": {},
     "output_type": "execute_result"
    }
   ],
   "source": [
    "colors[-1]"
   ]
  },
  {
   "cell_type": "code",
   "execution_count": 24,
   "metadata": {
    "colab": {},
    "colab_type": "code",
    "id": "7xhDYVSWVO1u",
    "outputId": "cbc78eda-1412-4ea6-a46e-a72f96d99f74"
   },
   "outputs": [
    {
     "data": {
      "text/plain": [
       "['blue', 'green']"
      ]
     },
     "execution_count": 24,
     "metadata": {},
     "output_type": "execute_result"
    }
   ],
   "source": [
    "colors[1:3]"
   ]
  },
  {
   "cell_type": "code",
   "execution_count": 25,
   "metadata": {
    "colab": {},
    "colab_type": "code",
    "id": "5Xj6HCGAVO1w",
    "outputId": "304a750d-be8e-45b1-c147-11bf3233e8be"
   },
   "outputs": [
    {
     "data": {
      "text/plain": [
       "str"
      ]
     },
     "execution_count": 25,
     "metadata": {},
     "output_type": "execute_result"
    }
   ],
   "source": [
    "type(colors[0])"
   ]
  },
  {
   "cell_type": "code",
   "execution_count": 26,
   "metadata": {
    "colab": {},
    "colab_type": "code",
    "id": "tz7fgIy5VO1y",
    "outputId": "d5d798b6-d7a2-4709-ae87-bf8f6cf81b58"
   },
   "outputs": [
    {
     "data": {
      "text/plain": [
       "list"
      ]
     },
     "execution_count": 26,
     "metadata": {},
     "output_type": "execute_result"
    }
   ],
   "source": [
    "type(colors[1:3])"
   ]
  },
  {
   "cell_type": "code",
   "execution_count": 27,
   "metadata": {
    "colab": {},
    "colab_type": "code",
    "id": "Ll91-Vr5VO11",
    "outputId": "ea403f9a-093d-4b70-8b62-f32ea510b260"
   },
   "outputs": [
    {
     "data": {
      "text/plain": [
       "['black', 'white']"
      ]
     },
     "execution_count": 27,
     "metadata": {},
     "output_type": "execute_result"
    }
   ],
   "source": [
    "colors[3:]"
   ]
  },
  {
   "cell_type": "code",
   "execution_count": 28,
   "metadata": {
    "colab": {},
    "colab_type": "code",
    "id": "mqhLMT_9VO17",
    "outputId": "fc0d869a-fc48-46b5-e1c8-a1c289aa885c"
   },
   "outputs": [
    {
     "data": {
      "text/plain": [
       "['red', 'blue', 'green']"
      ]
     },
     "execution_count": 28,
     "metadata": {},
     "output_type": "execute_result"
    }
   ],
   "source": [
    "colors[:3]"
   ]
  },
  {
   "cell_type": "code",
   "execution_count": 29,
   "metadata": {
    "colab": {},
    "colab_type": "code",
    "id": "K5otKcUNVO19"
   },
   "outputs": [],
   "source": [
    "colors[0] = 'yellow'"
   ]
  },
  {
   "cell_type": "code",
   "execution_count": 30,
   "metadata": {
    "colab": {},
    "colab_type": "code",
    "id": "HhIoFn3SVO2A",
    "outputId": "1c9470a1-cc06-4ba4-af27-ca4b2cbc56da"
   },
   "outputs": [
    {
     "data": {
      "text/plain": [
       "['yellow', 'blue', 'green', 'black', 'white']"
      ]
     },
     "execution_count": 30,
     "metadata": {},
     "output_type": "execute_result"
    }
   ],
   "source": [
    "colors"
   ]
  },
  {
   "cell_type": "code",
   "execution_count": 31,
   "metadata": {
    "colab": {},
    "colab_type": "code",
    "id": "6Fx6Zs7bVO2D"
   },
   "outputs": [],
   "source": [
    "colors.append('pink')"
   ]
  },
  {
   "cell_type": "code",
   "execution_count": 32,
   "metadata": {
    "colab": {},
    "colab_type": "code",
    "id": "7ZE3KG5QVO2F",
    "outputId": "fbca6c6b-e9e7-4de3-8aa2-982dbd4e17bf"
   },
   "outputs": [
    {
     "data": {
      "text/plain": [
       "['yellow', 'blue', 'green', 'black', 'white', 'pink']"
      ]
     },
     "execution_count": 32,
     "metadata": {},
     "output_type": "execute_result"
    }
   ],
   "source": [
    "colors"
   ]
  },
  {
   "cell_type": "code",
   "execution_count": 33,
   "metadata": {
    "colab": {},
    "colab_type": "code",
    "id": "VYllVxBhVO2H",
    "outputId": "c3ed0e5b-0dd5-46a1-822f-b1066ded9575"
   },
   "outputs": [
    {
     "data": {
      "text/plain": [
       "'pink'"
      ]
     },
     "execution_count": 33,
     "metadata": {},
     "output_type": "execute_result"
    }
   ],
   "source": [
    "colors.pop()"
   ]
  },
  {
   "cell_type": "code",
   "execution_count": 34,
   "metadata": {
    "colab": {},
    "colab_type": "code",
    "id": "kpKg2uSlVO2L",
    "outputId": "e4581a99-0e2c-46d7-9517-b578830653a7"
   },
   "outputs": [
    {
     "data": {
      "text/plain": [
       "['yellow', 'blue', 'green', 'black', 'white']"
      ]
     },
     "execution_count": 34,
     "metadata": {},
     "output_type": "execute_result"
    }
   ],
   "source": [
    "colors"
   ]
  },
  {
   "cell_type": "code",
   "execution_count": 35,
   "metadata": {
    "colab": {},
    "colab_type": "code",
    "id": "QyctSDPrVO2Q"
   },
   "outputs": [],
   "source": [
    "colors.append(['pink', 'purple'])"
   ]
  },
  {
   "cell_type": "code",
   "execution_count": 36,
   "metadata": {
    "colab": {},
    "colab_type": "code",
    "id": "MRyzcdIsVO2U",
    "outputId": "02439fdc-478b-4df1-ea21-9e86c49ba3b1"
   },
   "outputs": [
    {
     "data": {
      "text/plain": [
       "['yellow',\n",
       " 'blue',\n",
       " 'green',\n",
       " 'black',\n",
       " 'white',\n",
       " ['pink', 'purple'],\n",
       " 'pink',\n",
       " 'purple']"
      ]
     },
     "execution_count": 36,
     "metadata": {},
     "output_type": "execute_result"
    }
   ],
   "source": [
    "# 리스트 안에 리스트가 들어갔다. 이것을 원한 것이 아니라면 ...\n",
    "colors.extend(['pink', 'purple'])\n",
    "colors"
   ]
  },
  {
   "cell_type": "code",
   "execution_count": 37,
   "metadata": {},
   "outputs": [
    {
     "data": {
      "text/plain": [
       "['yellow', 'blue', 'green', 'black', 'white', 'pink', 'purple']"
      ]
     },
     "execution_count": 37,
     "metadata": {},
     "output_type": "execute_result"
    }
   ],
   "source": [
    "del colors[-3]\n",
    "colors"
   ]
  },
  {
   "cell_type": "code",
   "execution_count": 38,
   "metadata": {
    "colab": {},
    "colab_type": "code",
    "id": "AzSk8la6VO2Z",
    "outputId": "dac394ea-b786-405a-b4af-3ae1c54c972c"
   },
   "outputs": [
    {
     "data": {
      "text/plain": [
       "'pink'"
      ]
     },
     "execution_count": 38,
     "metadata": {},
     "output_type": "execute_result"
    }
   ],
   "source": [
    "colors[-2]"
   ]
  },
  {
   "cell_type": "code",
   "execution_count": 39,
   "metadata": {
    "colab": {},
    "colab_type": "code",
    "id": "PqUiX5tsVO2c"
   },
   "outputs": [],
   "source": [
    "reverseColors = colors[::-1]"
   ]
  },
  {
   "cell_type": "code",
   "execution_count": 40,
   "metadata": {
    "colab": {},
    "colab_type": "code",
    "id": "R5hpSZ2hVO2g",
    "outputId": "b3c404db-4d67-4ae0-9927-01a241ce886e"
   },
   "outputs": [
    {
     "name": "stdout",
     "output_type": "stream",
     "text": [
      "['purple', 'pink', 'white', 'black', 'green', 'blue', 'yellow']\n"
     ]
    }
   ],
   "source": [
    "print(reverseColors)"
   ]
  },
  {
   "cell_type": "code",
   "execution_count": 41,
   "metadata": {
    "colab": {},
    "colab_type": "code",
    "id": "ENLImCYlVO2j",
    "outputId": "d045d7b3-914c-41fd-86eb-071d6a83345d"
   },
   "outputs": [
    {
     "data": {
      "text/plain": [
       "['yellow',\n",
       " 'blue',\n",
       " 'green',\n",
       " 'black',\n",
       " 'white',\n",
       " 'pink',\n",
       " 'purple',\n",
       " 'purple',\n",
       " 'pink',\n",
       " 'white',\n",
       " 'black',\n",
       " 'green',\n",
       " 'blue',\n",
       " 'yellow']"
      ]
     },
     "execution_count": 41,
     "metadata": {},
     "output_type": "execute_result"
    }
   ],
   "source": [
    "colors + reverseColors"
   ]
  },
  {
   "cell_type": "code",
   "execution_count": 42,
   "metadata": {
    "colab": {},
    "colab_type": "code",
    "id": "xL17SkqvVO2n",
    "outputId": "833536dc-9dcc-47e1-b4e4-7df8d22b32e1"
   },
   "outputs": [
    {
     "data": {
      "text/plain": [
       "['black', 'blue', 'green', 'pink', 'purple', 'white', 'yellow']"
      ]
     },
     "execution_count": 42,
     "metadata": {},
     "output_type": "execute_result"
    }
   ],
   "source": [
    "sorted(colors) # new object"
   ]
  },
  {
   "cell_type": "code",
   "execution_count": 43,
   "metadata": {
    "colab": {},
    "colab_type": "code",
    "id": "5FxGDM9AVO2r"
   },
   "outputs": [],
   "source": [
    "colors.sort() # in-place "
   ]
  },
  {
   "cell_type": "code",
   "execution_count": 44,
   "metadata": {
    "colab": {},
    "colab_type": "code",
    "id": "XYi8EGa4VO2t",
    "outputId": "70a08184-565b-4fc7-b2cf-3e70caadc072"
   },
   "outputs": [
    {
     "data": {
      "text/plain": [
       "['black', 'blue', 'green', 'pink', 'purple', 'white', 'yellow']"
      ]
     },
     "execution_count": 44,
     "metadata": {},
     "output_type": "execute_result"
    }
   ],
   "source": [
    "colors"
   ]
  },
  {
   "cell_type": "code",
   "execution_count": 45,
   "metadata": {},
   "outputs": [
    {
     "data": {
      "text/plain": [
       "15000"
      ]
     },
     "execution_count": 45,
     "metadata": {},
     "output_type": "execute_result"
    }
   ],
   "source": [
    "sales = [1000, 2000, 3000, 4000, 5000]\n",
    "sum(sales)"
   ]
  },
  {
   "cell_type": "code",
   "execution_count": 46,
   "metadata": {},
   "outputs": [
    {
     "data": {
      "text/plain": [
       "3000.0"
      ]
     },
     "execution_count": 46,
     "metadata": {},
     "output_type": "execute_result"
    }
   ],
   "source": [
    "avg = sum(sales) / len(sales)\n",
    "avg"
   ]
  },
  {
   "cell_type": "code",
   "execution_count": 47,
   "metadata": {},
   "outputs": [
    {
     "name": "stdout",
     "output_type": "stream",
     "text": [
      "1000 5000\n"
     ]
    }
   ],
   "source": [
    "print(min(sales), max(sales))"
   ]
  },
  {
   "cell_type": "code",
   "execution_count": 48,
   "metadata": {},
   "outputs": [
    {
     "data": {
      "text/plain": [
       "[0, 1, 2, 3, 4, 5, 6, 7, 8, 9]"
      ]
     },
     "execution_count": 48,
     "metadata": {},
     "output_type": "execute_result"
    }
   ],
   "source": [
    "a = list(range(10))\n",
    "a"
   ]
  },
  {
   "cell_type": "code",
   "execution_count": 49,
   "metadata": {},
   "outputs": [
    {
     "data": {
      "text/plain": [
       "[1, 3, 5, 7, 9]"
      ]
     },
     "execution_count": 49,
     "metadata": {},
     "output_type": "execute_result"
    }
   ],
   "source": [
    "b = list(range(1, 11, 2))\n",
    "b"
   ]
  },
  {
   "cell_type": "markdown",
   "metadata": {
    "colab_type": "text",
    "id": "ImijTyNPVO26"
   },
   "source": [
    "### <font color='blue'> string</font>"
   ]
  },
  {
   "cell_type": "code",
   "execution_count": 50,
   "metadata": {
    "colab": {},
    "colab_type": "code",
    "id": "LddEYPZWVO26",
    "outputId": "d2c6459c-3585-459a-cadf-5b69acdef971"
   },
   "outputs": [
    {
     "data": {
      "text/plain": [
       "'lo,'"
      ]
     },
     "execution_count": 50,
     "metadata": {},
     "output_type": "execute_result"
    }
   ],
   "source": [
    "a = \"hello, world~\"\n",
    "a[3:6]"
   ]
  },
  {
   "cell_type": "code",
   "execution_count": 51,
   "metadata": {
    "colab": {},
    "colab_type": "code",
    "id": "7RZKmvAKVO2_",
    "outputId": "4f9cd173-0a10-42a1-abfa-900a4cb88b56"
   },
   "outputs": [
    {
     "data": {
      "text/plain": [
       "'lo o'"
      ]
     },
     "execution_count": 51,
     "metadata": {},
     "output_type": "execute_result"
    }
   ],
   "source": [
    "a[2:10:2] # Syntax: a[start:stop:step]"
   ]
  },
  {
   "cell_type": "code",
   "execution_count": 52,
   "metadata": {
    "colab": {},
    "colab_type": "code",
    "id": "k4N8y3GJVO3A",
    "outputId": "2907203f-100b-4587-a1b8-5025e5c42c15"
   },
   "outputs": [
    {
     "data": {
      "text/plain": [
       "'hl r~'"
      ]
     },
     "execution_count": 52,
     "metadata": {},
     "output_type": "execute_result"
    }
   ],
   "source": [
    "a[::3] # 0, 3, 6, 9, ... 번째를 선택한다."
   ]
  },
  {
   "cell_type": "code",
   "execution_count": 53,
   "metadata": {
    "colab": {},
    "colab_type": "code",
    "id": "ZJ9e-TmkVO3D",
    "outputId": "b79e4365-9bd4-439f-a3e2-c884e2b4ad1a"
   },
   "outputs": [
    {
     "ename": "TypeError",
     "evalue": "'str' object does not support item assignment",
     "output_type": "error",
     "traceback": [
      "\u001b[1;31m---------------------------------------------------------------------------\u001b[0m",
      "\u001b[1;31mTypeError\u001b[0m                                 Traceback (most recent call last)",
      "\u001b[1;32m<ipython-input-53-513f1aa20d0a>\u001b[0m in \u001b[0;36m<module>\u001b[1;34m\u001b[0m\n\u001b[1;32m----> 1\u001b[1;33m \u001b[0ma\u001b[0m\u001b[1;33m[\u001b[0m\u001b[1;36m2\u001b[0m\u001b[1;33m]\u001b[0m \u001b[1;33m=\u001b[0m \u001b[1;34m'z'\u001b[0m \u001b[1;31m# error ...\u001b[0m\u001b[1;33m\u001b[0m\u001b[1;33m\u001b[0m\u001b[0m\n\u001b[0m\u001b[0;32m      2\u001b[0m \u001b[0mprint\u001b[0m\u001b[1;33m(\u001b[0m\u001b[0ma\u001b[0m\u001b[1;33m)\u001b[0m\u001b[1;33m\u001b[0m\u001b[1;33m\u001b[0m\u001b[0m\n",
      "\u001b[1;31mTypeError\u001b[0m: 'str' object does not support item assignment"
     ]
    }
   ],
   "source": [
    "a[2] = 'z' # error ...\n",
    "print(a)"
   ]
  },
  {
   "cell_type": "code",
   "execution_count": 54,
   "metadata": {
    "colab": {},
    "colab_type": "code",
    "id": "etkoMeFOVO3G",
    "outputId": "917cb2da-5642-4567-b00e-dc4e8b07a964"
   },
   "outputs": [
    {
     "data": {
      "text/plain": [
       "'hezlo, world~'"
      ]
     },
     "execution_count": 54,
     "metadata": {},
     "output_type": "execute_result"
    }
   ],
   "source": [
    "a.replace('l','z', 1)"
   ]
  },
  {
   "cell_type": "code",
   "execution_count": 55,
   "metadata": {
    "colab": {},
    "colab_type": "code",
    "id": "VlZLsgbCVO3H",
    "outputId": "9e1b9c8b-b72c-4cf9-db3e-4884f4d253ff"
   },
   "outputs": [
    {
     "data": {
      "text/plain": [
       "'hezzo, worzd~'"
      ]
     },
     "execution_count": 55,
     "metadata": {},
     "output_type": "execute_result"
    }
   ],
   "source": [
    "a.replace('l','z')"
   ]
  },
  {
   "cell_type": "code",
   "execution_count": 56,
   "metadata": {},
   "outputs": [
    {
     "data": {
      "text/plain": [
       "'Hello, world~'"
      ]
     },
     "execution_count": 56,
     "metadata": {},
     "output_type": "execute_result"
    }
   ],
   "source": [
    "a.capitalize() # 문자열의 첫글자를 대문자로 바꿈"
   ]
  },
  {
   "cell_type": "code",
   "execution_count": 57,
   "metadata": {},
   "outputs": [
    {
     "data": {
      "text/plain": [
       "3"
      ]
     },
     "execution_count": 57,
     "metadata": {},
     "output_type": "execute_result"
    }
   ],
   "source": [
    "a.count('l') # 특정 문자열이 몇개 있는지를 알려줌"
   ]
  },
  {
   "cell_type": "code",
   "execution_count": 58,
   "metadata": {},
   "outputs": [
    {
     "data": {
      "text/plain": [
       "2"
      ]
     },
     "execution_count": 58,
     "metadata": {},
     "output_type": "execute_result"
    }
   ],
   "source": [
    "a.find('l') # 특정 문자열의 위치를 알려줌, 없으면 -1을 리턴함"
   ]
  },
  {
   "cell_type": "code",
   "execution_count": 59,
   "metadata": {},
   "outputs": [
    {
     "data": {
      "text/plain": [
       "True"
      ]
     },
     "execution_count": 59,
     "metadata": {},
     "output_type": "execute_result"
    }
   ],
   "source": [
    "'1234'.isdecimal()"
   ]
  },
  {
   "cell_type": "code",
   "execution_count": 60,
   "metadata": {},
   "outputs": [
    {
     "data": {
      "text/plain": [
       "True"
      ]
     },
     "execution_count": 60,
     "metadata": {},
     "output_type": "execute_result"
    }
   ],
   "source": [
    "'1234'.isnumeric()"
   ]
  },
  {
   "cell_type": "code",
   "execution_count": 61,
   "metadata": {},
   "outputs": [
    {
     "data": {
      "text/plain": [
       "False"
      ]
     },
     "execution_count": 61,
     "metadata": {},
     "output_type": "execute_result"
    }
   ],
   "source": [
    "'abcd'.isupper()"
   ]
  },
  {
   "cell_type": "code",
   "execution_count": 62,
   "metadata": {},
   "outputs": [
    {
     "data": {
      "text/plain": [
       "True"
      ]
     },
     "execution_count": 62,
     "metadata": {},
     "output_type": "execute_result"
    }
   ],
   "source": [
    "'abcd'.islower()"
   ]
  },
  {
   "cell_type": "code",
   "execution_count": 63,
   "metadata": {},
   "outputs": [
    {
     "data": {
      "text/plain": [
       "'ABCD'"
      ]
     },
     "execution_count": 63,
     "metadata": {},
     "output_type": "execute_result"
    }
   ],
   "source": [
    "'abcd'.upper()"
   ]
  },
  {
   "cell_type": "markdown",
   "metadata": {
    "colab_type": "text",
    "id": "XfPy3ZNrVO3K"
   },
   "source": [
    "### <font color='blue'> Dictionary</font>\n",
    "* 딕셔너리는 key: value로 이루어진 자료구조다.\n",
    "* 리스트는 색인이 없으므로 순차적으로 검색해야 하지만, 딕셔너리는 키가 존재하므로 검색이 빠르다.\n",
    "* 파이썬에서는 함수를 많이 사용하는데 리스트, 딕셔너리 등으로 리턴받을 때, 자료구조를 모르면 그 값을 사용할 수 없음"
   ]
  },
  {
   "cell_type": "code",
   "execution_count": 64,
   "metadata": {},
   "outputs": [
    {
     "data": {
      "text/plain": [
       "{'a': 1, 'b': 2, 'c': 3}"
      ]
     },
     "execution_count": 64,
     "metadata": {},
     "output_type": "execute_result"
    }
   ],
   "source": [
    "dic = {}\n",
    "dic['a'] = 1\n",
    "dic['b'] = 2\n",
    "dic['c'] = 3\n",
    "dic"
   ]
  },
  {
   "cell_type": "code",
   "execution_count": 65,
   "metadata": {},
   "outputs": [
    {
     "name": "stdout",
     "output_type": "stream",
     "text": [
      "1\n"
     ]
    }
   ],
   "source": [
    "print(dic['a'])"
   ]
  },
  {
   "cell_type": "code",
   "execution_count": 66,
   "metadata": {
    "colab": {},
    "colab_type": "code",
    "id": "aq7eShTOVO3K"
   },
   "outputs": [],
   "source": [
    "tel = {'emmanuelle': 5752, 'sebastian': 5578}"
   ]
  },
  {
   "cell_type": "code",
   "execution_count": 67,
   "metadata": {
    "colab": {},
    "colab_type": "code",
    "id": "Gkbh4fqiVO3L",
    "outputId": "78bfc7e2-638f-413c-c59d-e7149a6def39"
   },
   "outputs": [
    {
     "name": "stdout",
     "output_type": "stream",
     "text": [
      "5752\n"
     ]
    }
   ],
   "source": [
    "print(tel['emmanuelle'])"
   ]
  },
  {
   "cell_type": "code",
   "execution_count": 68,
   "metadata": {
    "colab": {},
    "colab_type": "code",
    "id": "5HP9Uy0-VO3O",
    "outputId": "0ef32a9e-923c-4711-9dcb-e06d46d9d63b"
   },
   "outputs": [
    {
     "name": "stdout",
     "output_type": "stream",
     "text": [
      "{'emmanuelle': 5752, 'sebastian': 5578, 'francis': 5915}\n"
     ]
    }
   ],
   "source": [
    "tel['francis'] = 5915\n",
    "print(tel)"
   ]
  },
  {
   "cell_type": "code",
   "execution_count": 69,
   "metadata": {
    "colab": {},
    "colab_type": "code",
    "id": "RisFe7z6VO3P",
    "outputId": "a7764b93-1ca3-4c24-da88-b66a51aa652b"
   },
   "outputs": [
    {
     "data": {
      "text/plain": [
       "['emmanuelle', 'sebastian', 'francis']"
      ]
     },
     "execution_count": 69,
     "metadata": {},
     "output_type": "execute_result"
    }
   ],
   "source": [
    "list(tel.keys())"
   ]
  },
  {
   "cell_type": "code",
   "execution_count": 70,
   "metadata": {
    "colab": {},
    "colab_type": "code",
    "id": "pDJDHbAgVO3R",
    "outputId": "ace0df8c-58f8-4d3b-ed7e-cb409905a2d9"
   },
   "outputs": [
    {
     "data": {
      "text/plain": [
       "[5752, 5578, 5915]"
      ]
     },
     "execution_count": 70,
     "metadata": {},
     "output_type": "execute_result"
    }
   ],
   "source": [
    "list(tel.values())"
   ]
  },
  {
   "cell_type": "code",
   "execution_count": 71,
   "metadata": {
    "colab": {},
    "colab_type": "code",
    "id": "ZnVoc_dOVO3S",
    "outputId": "b9f36fc7-2281-4574-ea44-c5bd5450d0a2"
   },
   "outputs": [
    {
     "data": {
      "text/plain": [
       "True"
      ]
     },
     "execution_count": 71,
     "metadata": {},
     "output_type": "execute_result"
    }
   ],
   "source": [
    "'francis' in tel"
   ]
  },
  {
   "cell_type": "code",
   "execution_count": 72,
   "metadata": {},
   "outputs": [
    {
     "name": "stdout",
     "output_type": "stream",
     "text": [
      "emmanuelle 5752\n",
      "sebastian 5578\n",
      "francis 5915\n"
     ]
    }
   ],
   "source": [
    "for key, value in tel.items():\n",
    "    print(key, value)"
   ]
  },
  {
   "cell_type": "markdown",
   "metadata": {
    "colab_type": "text",
    "id": "eHbRXvCkVO3T"
   },
   "source": [
    "### <font color='blue'> tuple </font>\n",
    "* 튜플은 원소를 바꿀 수 없는 리스트다.\n",
    "* 함수에서 튜플로 리턴하는 경우가 많다."
   ]
  },
  {
   "cell_type": "code",
   "execution_count": 73,
   "metadata": {
    "colab": {},
    "colab_type": "code",
    "id": "Bh1r8VErVO3T",
    "outputId": "c0929ec6-df27-409d-a8cb-4ee246ed45b4"
   },
   "outputs": [
    {
     "data": {
      "text/plain": [
       "12345"
      ]
     },
     "execution_count": 73,
     "metadata": {},
     "output_type": "execute_result"
    }
   ],
   "source": [
    "t = 12345, 54321, 'hello!'\n",
    "t[0]"
   ]
  },
  {
   "cell_type": "code",
   "execution_count": 74,
   "metadata": {
    "colab": {},
    "colab_type": "code",
    "id": "2vlEABBEVO3W",
    "outputId": "fd48009f-aa0c-4fab-dbb2-3f8c14b0fe10"
   },
   "outputs": [
    {
     "data": {
      "text/plain": [
       "(12345, 54321, 'hello!')"
      ]
     },
     "execution_count": 74,
     "metadata": {},
     "output_type": "execute_result"
    }
   ],
   "source": [
    "t"
   ]
  },
  {
   "cell_type": "code",
   "execution_count": 75,
   "metadata": {
    "colab": {},
    "colab_type": "code",
    "id": "05qNvEbiVO3X"
   },
   "outputs": [],
   "source": [
    "u = (0,2)"
   ]
  },
  {
   "cell_type": "code",
   "execution_count": 76,
   "metadata": {
    "colab": {},
    "colab_type": "code",
    "id": "zB46NzOTVO3Y",
    "outputId": "bbbbe73b-ef98-4ee2-e5d0-5eec92357b87"
   },
   "outputs": [
    {
     "data": {
      "text/plain": [
       "(0, 2)"
      ]
     },
     "execution_count": 76,
     "metadata": {},
     "output_type": "execute_result"
    }
   ],
   "source": [
    "u"
   ]
  },
  {
   "cell_type": "markdown",
   "metadata": {
    "colab_type": "text",
    "id": "_Rl5VlXyVO3a"
   },
   "source": [
    "### <font color='blue'> Set</font> \n",
    "* 집합 자료구조다. 집합은 순서가 없기 때문에 인덱스를 사용할 수 없고, 중복이 허용되지 않는다.\n",
    "* 주로 unique한 리스트를 만들기 위해 사용함\n",
    "* 리스트 안에 중복이 있는지를 검사할 떄도 사용함"
   ]
  },
  {
   "cell_type": "code",
   "execution_count": 77,
   "metadata": {
    "colab": {},
    "colab_type": "code",
    "id": "bPsVghfsVO3a"
   },
   "outputs": [],
   "source": [
    "s = set(('a', 'b', 'c', 'a'))"
   ]
  },
  {
   "cell_type": "code",
   "execution_count": 78,
   "metadata": {
    "colab": {},
    "colab_type": "code",
    "id": "0psNu311VO3b",
    "outputId": "793bd842-7151-45ec-e6d9-5996fd20de67"
   },
   "outputs": [
    {
     "data": {
      "text/plain": [
       "{'a', 'b', 'c'}"
      ]
     },
     "execution_count": 78,
     "metadata": {},
     "output_type": "execute_result"
    }
   ],
   "source": [
    "s"
   ]
  },
  {
   "cell_type": "code",
   "execution_count": 79,
   "metadata": {
    "colab": {},
    "colab_type": "code",
    "id": "_KEK8KvgVO3d",
    "outputId": "755ed637-e372-4fe3-ab83-16c831789fc3"
   },
   "outputs": [
    {
     "data": {
      "text/plain": [
       "{'c'}"
      ]
     },
     "execution_count": 79,
     "metadata": {},
     "output_type": "execute_result"
    }
   ],
   "source": [
    "s.difference(('a', 'b'))"
   ]
  },
  {
   "cell_type": "code",
   "execution_count": 80,
   "metadata": {},
   "outputs": [
    {
     "data": {
      "text/plain": [
       "{'a', 'b', 'c', 'd', 'e'}"
      ]
     },
     "execution_count": 80,
     "metadata": {},
     "output_type": "execute_result"
    }
   ],
   "source": [
    "s.union(('d','e'))"
   ]
  },
  {
   "cell_type": "code",
   "execution_count": 81,
   "metadata": {},
   "outputs": [
    {
     "data": {
      "text/plain": [
       "False"
      ]
     },
     "execution_count": 81,
     "metadata": {},
     "output_type": "execute_result"
    }
   ],
   "source": [
    "a = [1, 2, 3, 4, 1]\n",
    "len(a) == len(set(a))"
   ]
  },
  {
   "cell_type": "markdown",
   "metadata": {
    "colab_type": "text",
    "id": "foGHPAPJVO3f"
   },
   "source": [
    "### <font color='blue'> if statement </font> "
   ]
  },
  {
   "cell_type": "code",
   "execution_count": 82,
   "metadata": {
    "colab": {},
    "colab_type": "code",
    "id": "5_wjvoj6VO3f",
    "outputId": "48a3ff27-b21a-4679-9973-14f8045a8d62"
   },
   "outputs": [
    {
     "name": "stdout",
     "output_type": "stream",
     "text": [
      "2\n"
     ]
    }
   ],
   "source": [
    "a = 2\n",
    "if a == 1:\n",
    "    print(1) # 들여쓰기가 중요함\n",
    "elif a == 2:\n",
    "    print(2)\n",
    "else:\n",
    "    print('A lot') "
   ]
  },
  {
   "cell_type": "code",
   "execution_count": 83,
   "metadata": {},
   "outputs": [
    {
     "name": "stdout",
     "output_type": "stream",
     "text": [
      "A\n"
     ]
    }
   ],
   "source": [
    "# 학점 계산기\n",
    "\n",
    "score = 99\n",
    "\n",
    "if score > 90:\n",
    "    grade = 'A'\n",
    "elif score > 80:\n",
    "    grade = 'B'\n",
    "elif score > 70:\n",
    "    grade = 'C'\n",
    "elif score > 60:\n",
    "    grade = 'D'\n",
    "else:\n",
    "    grade = 'F'\n",
    "\n",
    "print(grade)"
   ]
  },
  {
   "cell_type": "markdown",
   "metadata": {
    "colab_type": "text",
    "id": "YhTNhXI8VO3h"
   },
   "source": [
    "### <font color='blue'> for statement </font> "
   ]
  },
  {
   "cell_type": "code",
   "execution_count": 84,
   "metadata": {
    "colab": {},
    "colab_type": "code",
    "id": "qxQcrXyzVO3h",
    "outputId": "9fcf5816-5fd9-4e6b-b539-c0c29cefc68b"
   },
   "outputs": [
    {
     "name": "stdout",
     "output_type": "stream",
     "text": [
      "0\n",
      "1\n",
      "2\n",
      "3\n"
     ]
    }
   ],
   "source": [
    "for i in range(4):\n",
    "    print(i)"
   ]
  },
  {
   "cell_type": "code",
   "execution_count": 85,
   "metadata": {
    "colab": {},
    "colab_type": "code",
    "id": "HMnOUuBuVO3k",
    "outputId": "73547b2a-5847-4059-f617-f24dcd560b09"
   },
   "outputs": [
    {
     "name": "stdout",
     "output_type": "stream",
     "text": [
      "5050\n"
     ]
    }
   ],
   "source": [
    "summ = 0\n",
    "for i in range(101):\n",
    "    summ += i\n",
    "print(summ)    "
   ]
  },
  {
   "cell_type": "markdown",
   "metadata": {},
   "source": [
    "## <font color='red'> 실습 #3:  1에서 100까지 홀수만 더하기 </font> "
   ]
  },
  {
   "cell_type": "code",
   "execution_count": 123,
   "metadata": {},
   "outputs": [
    {
     "name": "stdout",
     "output_type": "stream",
     "text": [
      "2500\n"
     ]
    }
   ],
   "source": [
    "# 1 부터 100까지 홀수만 더하는 프로그램을 만들어 봅시다.\n",
    "\n",
    "summ = 0\n",
    "for i in range(101):\n",
    "    if i % 2 == 1:\n",
    "        summ += i\n",
    "print(summ) "
   ]
  },
  {
   "cell_type": "code",
   "execution_count": 87,
   "metadata": {
    "colab": {},
    "colab_type": "code",
    "id": "7W6sIRL5VO3m",
    "outputId": "4770b497-74ac-4422-d306-301f8d4e12d4"
   },
   "outputs": [
    {
     "name": "stdout",
     "output_type": "stream",
     "text": [
      "python is cool\n",
      "python is powerful\n",
      "python is readable\n"
     ]
    }
   ],
   "source": [
    "for word in ('cool', 'powerful', 'readable'):\n",
    "    print(\"python is %s\" % word)"
   ]
  },
  {
   "cell_type": "code",
   "execution_count": 88,
   "metadata": {},
   "outputs": [
    {
     "name": "stdout",
     "output_type": "stream",
     "text": [
      "Key: a has value: 1 \n",
      "Key: b has value: 1.2 \n",
      "Key: c has value: 3 \n"
     ]
    }
   ],
   "source": [
    "d = {'a': 1, 'b':1.2, 'c':3}\n",
    "for key, val in sorted(d.items()):\n",
    "    print('Key: %s has value: %s ' % (key, val))"
   ]
  },
  {
   "cell_type": "code",
   "execution_count": 129,
   "metadata": {},
   "outputs": [
    {
     "name": "stdout",
     "output_type": "stream",
     "text": [
      "77 번 만에 찾았다~~~\n"
     ]
    }
   ],
   "source": [
    "#  Hi-Low Game: x(1~100 사이 정수)를 모른다고 가정하고 x의 값을 맞춰 봅시다. 가장 빠른 방법은 무엇인가요?\n",
    "\n",
    "x = 77\n",
    "\n",
    "a = 1\n",
    "b = 100\n",
    "\n",
    "for i in range(a,b+1):\n",
    "    if i == x:\n",
    "        print(\"%d 번 만에 찾았다~~~\" % i)\n",
    "        break # break 가 없다면 ...\n"
   ]
  },
  {
   "cell_type": "markdown",
   "metadata": {},
   "source": [
    "## <font color='red'> 실습 #4:  High-Low 게임 </font> "
   ]
  },
  {
   "cell_type": "code",
   "execution_count": 130,
   "metadata": {},
   "outputs": [
    {
     "name": "stdout",
     "output_type": "stream",
     "text": [
      "7 번 만에 찾았다~~~\n"
     ]
    }
   ],
   "source": [
    "# 효율적인 방법: a=1, b = 100의 범위에서 중간값 guess = (a+b)//2 을 구하고 \n",
    "# 이 값이 x 면 끝내고 x 보다 크면 b = guess 로 바꿈, x보다 작으면 a = guess로 바꿈\n",
    "# 위의 과정을 찾을 때 까지 반복 ...\n",
    "\n",
    "x = 77\n",
    "\n",
    "a = 1\n",
    "b = 100\n",
    "cnt= 1\n",
    "for i in range(100):\n",
    "    guess = (a + b) // 2\n",
    "    if guess == x:\n",
    "        print(\"%d 번 만에 찾았다~~~\" % cnt)\n",
    "        break\n",
    "    elif guess > x:\n",
    "        b = guess\n",
    "        cnt += 1\n",
    "    else:\n",
    "        a = guess \n",
    "        cnt += 1"
   ]
  },
  {
   "cell_type": "markdown",
   "metadata": {
    "colab_type": "text",
    "id": "M72UDSR5VO3n"
   },
   "source": [
    "### <font color='blue'> while </font> "
   ]
  },
  {
   "cell_type": "code",
   "execution_count": 91,
   "metadata": {
    "colab": {
     "base_uri": "https://localhost:8080/",
     "height": 34
    },
    "colab_type": "code",
    "executionInfo": {
     "elapsed": 749,
     "status": "ok",
     "timestamp": 1557904808556,
     "user": {
      "displayName": "swkim김승환",
      "photoUrl": "",
      "userId": "01255046753553274360"
     },
     "user_tz": -540
    },
    "id": "IYIXd8OBVO3o",
    "outputId": "8c633d24-f334-4f6f-a3cc-9fcadc1beb5d"
   },
   "outputs": [
    {
     "name": "stdout",
     "output_type": "stream",
     "text": [
      "5050\n"
     ]
    }
   ],
   "source": [
    "summ = 0\n",
    "i = 1\n",
    "while i <= 100:\n",
    "    summ += i\n",
    "    i += 1\n",
    "print(summ)"
   ]
  },
  {
   "cell_type": "code",
   "execution_count": 92,
   "metadata": {
    "colab": {
     "base_uri": "https://localhost:8080/",
     "height": 169
    },
    "colab_type": "code",
    "executionInfo": {
     "elapsed": 593,
     "status": "error",
     "timestamp": 1557904824577,
     "user": {
      "displayName": "swkim김승환",
      "photoUrl": "",
      "userId": "01255046753553274360"
     },
     "user_tz": -540
    },
    "id": "yAuq-Wz1XOn0",
    "outputId": "47ca454e-fd7e-4e24-ff34-213c48542148"
   },
   "outputs": [
    {
     "data": {
      "text/plain": [
       "5050"
      ]
     },
     "execution_count": 92,
     "metadata": {},
     "output_type": "execute_result"
    }
   ],
   "source": [
    "sum(range(1,101))"
   ]
  },
  {
   "cell_type": "code",
   "execution_count": 135,
   "metadata": {},
   "outputs": [
    {
     "name": "stdout",
     "output_type": "stream",
     "text": [
      "7 번 만에 찾았다~~~\n"
     ]
    }
   ],
   "source": [
    "# 하이로우 게임을 while 문을 이용하여 해결해 봅시다.\n",
    "\n",
    "x = 77\n",
    "\n",
    "a = 1\n",
    "b = 100\n",
    "cnt= 0\n",
    "guess = 0\n",
    "\n",
    "while guess != x:\n",
    "    guess = (a + b) // 2\n",
    "    if guess > x:\n",
    "        b = guess\n",
    "    else:\n",
    "        a = guess \n",
    "    cnt += 1\n",
    "\n",
    "print(\"%d 번 만에 찾았다~~~\" % cnt)\n"
   ]
  },
  {
   "cell_type": "markdown",
   "metadata": {},
   "source": [
    "## <font color='red'> 실습 #5: 리스트에서 최대값, 최소값 구하기 </font> "
   ]
  },
  {
   "cell_type": "code",
   "execution_count": 137,
   "metadata": {},
   "outputs": [
    {
     "name": "stdout",
     "output_type": "stream",
     "text": [
      "2 9\n"
     ]
    }
   ],
   "source": [
    "x = [5,2,7,9,3,6]\n",
    "# 최대값은?, 최소값은?\n",
    "\n",
    "xmin = x[0]\n",
    "for i in range(1, len(x)):\n",
    "    if x[i] < xmin:\n",
    "        xmin = x[i]\n",
    "xmax = x[0]\n",
    "for i in range(1, len(x)):\n",
    "    if x[i] > xmax:\n",
    "        xmax = x[i]\n",
    "print(xmin, xmax)"
   ]
  },
  {
   "cell_type": "markdown",
   "metadata": {
    "colab_type": "text",
    "id": "vuv0RWQRVO32"
   },
   "source": [
    "### <font color='blue'> function </font> "
   ]
  },
  {
   "cell_type": "code",
   "execution_count": 95,
   "metadata": {
    "colab": {},
    "colab_type": "code",
    "id": "ma1licRAVO33"
   },
   "outputs": [],
   "source": [
    "def disk_area(radius):\n",
    "    return 3.14 * radius * radius"
   ]
  },
  {
   "cell_type": "code",
   "execution_count": 96,
   "metadata": {
    "colab": {},
    "colab_type": "code",
    "id": "EFY-iMsqVO34",
    "outputId": "ff8a21f2-a17c-47b0-db50-6b1fe2d0ff7b"
   },
   "outputs": [
    {
     "data": {
      "text/plain": [
       "7.0649999999999995"
      ]
     },
     "execution_count": 96,
     "metadata": {},
     "output_type": "execute_result"
    }
   ],
   "source": [
    "disk_area(1.5)"
   ]
  },
  {
   "cell_type": "code",
   "execution_count": 97,
   "metadata": {
    "colab": {},
    "colab_type": "code",
    "id": "8ErL_YZRVO35",
    "outputId": "47f0a392-4501-4dca-e391-8adbd344b8d7"
   },
   "outputs": [
    {
     "name": "stdout",
     "output_type": "stream",
     "text": [
      "4\n",
      "6\n"
     ]
    }
   ],
   "source": [
    "def double_it(x=2):   # default value of x is 2\n",
    "    return x * 2\n",
    "\n",
    "print(double_it())\n",
    "print(double_it(3))"
   ]
  },
  {
   "cell_type": "code",
   "execution_count": 98,
   "metadata": {},
   "outputs": [
    {
     "name": "stdout",
     "output_type": "stream",
     "text": [
      "python is cool\n",
      "[1, 2, 3, 4]\n"
     ]
    }
   ],
   "source": [
    "# 리턴이 없는 함수도 있음\n",
    "def printIt(string):\n",
    "    print(string)\n",
    "printIt(\"python is cool\")\n",
    "\n",
    "def listAppend(x):\n",
    "    x.append(4)\n",
    "    \n",
    "x = [1,2,3]\n",
    "listAppend(x)\n",
    "print(x)"
   ]
  },
  {
   "cell_type": "code",
   "execution_count": 99,
   "metadata": {
    "colab": {},
    "colab_type": "code",
    "id": "OLlKV74vVO37"
   },
   "outputs": [],
   "source": [
    "rhyme = 'one fish, two fish, red fish, blue fish'.split()"
   ]
  },
  {
   "cell_type": "code",
   "execution_count": 100,
   "metadata": {
    "colab": {},
    "colab_type": "code",
    "id": "1mibGgOxVO38",
    "outputId": "7af82c42-6423-4df3-f218-648eba96f0ce"
   },
   "outputs": [
    {
     "name": "stdout",
     "output_type": "stream",
     "text": [
      "['one', 'fish,', 'two', 'fish,', 'red', 'fish,', 'blue', 'fish']\n"
     ]
    }
   ],
   "source": [
    "print(rhyme)"
   ]
  },
  {
   "cell_type": "markdown",
   "metadata": {},
   "source": [
    "### <font color='red'> 실습 #6: 리스트에서 최소,평균, 최대값을 리턴해 주는 함수 만들기 </font> \n",
    "    "
   ]
  },
  {
   "cell_type": "code",
   "execution_count": 138,
   "metadata": {},
   "outputs": [
    {
     "data": {
      "text/plain": [
       "(2, 5.333333333333333, 9)"
      ]
     },
     "execution_count": 138,
     "metadata": {},
     "output_type": "execute_result"
    }
   ],
   "source": [
    "def summary(x):\n",
    "    return min(x), sum(x)/len(x), max(x)\n",
    "    \n",
    "x = [5,2,7,9,3,6]\n",
    "summary(x)"
   ]
  },
  {
   "cell_type": "markdown",
   "metadata": {
    "colab_type": "text",
    "id": "txq5FID1VO3-"
   },
   "source": [
    "### <font color='blue'> Passing by value </font> \n",
    "* Passing by value는 함수와 값을 주고 받는 방법임\n",
    "* 파이썬은 모든 변수가 객체로 되어 있음\n",
    "\n",
    "![id](https://drive.google.com/uc?id=1fKQsHmU6W5L18N2ke9ymJjL9Z5o-QmXx)"
   ]
  },
  {
   "cell_type": "code",
   "execution_count": 101,
   "metadata": {},
   "outputs": [
    {
     "name": "stdout",
     "output_type": "stream",
     "text": [
      "140730188608336 1\n",
      "140730188608336 1\n"
     ]
    }
   ],
   "source": [
    "def callTest(a):\n",
    "    print (id(a), a)\n",
    "\n",
    "a = 1\n",
    "print(id(a), a)\n",
    "callTest(a)"
   ]
  },
  {
   "cell_type": "code",
   "execution_count": 102,
   "metadata": {},
   "outputs": [
    {
     "name": "stdout",
     "output_type": "stream",
     "text": [
      "140730188608336 1\n",
      "140730188608368 2\n"
     ]
    }
   ],
   "source": [
    "def callTest(a):\n",
    "    a = 2\n",
    "    print (id(a), a) # 새로운 a가 생성됨\n",
    "\n",
    "a = 1\n",
    "print(id(a), a)\n",
    "callTest(a)"
   ]
  },
  {
   "cell_type": "code",
   "execution_count": 103,
   "metadata": {
    "colab": {},
    "colab_type": "code",
    "id": "Y3gMPatSVO3_"
   },
   "outputs": [],
   "source": [
    "def try_to_modify(a, b, c):\n",
    "    a = 23\n",
    "    b.append(42)\n",
    "    c = [99]\n",
    "    print(a, b, c)"
   ]
  },
  {
   "cell_type": "code",
   "execution_count": 104,
   "metadata": {
    "colab": {
     "base_uri": "https://localhost:8080/",
     "height": 69
    },
    "colab_type": "code",
    "executionInfo": {
     "elapsed": 763,
     "status": "ok",
     "timestamp": 1536908664821,
     "user": {
      "displayName": "swkim김승환",
      "photoUrl": "https://lh3.googleusercontent.com/a/default-user=s128",
      "userId": "115402777621836123714"
     },
     "user_tz": -540
    },
    "id": "aV4zj63fVO3_",
    "outputId": "9eaba469-3306-468c-ce27-08277dc7ba51"
   },
   "outputs": [
    {
     "name": "stdout",
     "output_type": "stream",
     "text": [
      "23 [99, 42] [99]\n",
      "77 [99, 42] [28]\n"
     ]
    }
   ],
   "source": [
    "a = 77     \n",
    "b = [99]   \n",
    "c = [28]\n",
    "try_to_modify(a, b, c)\n",
    "print(a, b, c)\n",
    "# b"
   ]
  },
  {
   "cell_type": "markdown",
   "metadata": {
    "colab_type": "text",
    "id": "RTPXvc-mVO4B"
   },
   "source": [
    "### <font color='blue'> Global variable </font>  "
   ]
  },
  {
   "cell_type": "code",
   "execution_count": 105,
   "metadata": {
    "colab": {
     "base_uri": "https://localhost:8080/",
     "height": 34
    },
    "colab_type": "code",
    "executionInfo": {
     "elapsed": 624,
     "status": "ok",
     "timestamp": 1536907004943,
     "user": {
      "displayName": "swkim김승환",
      "photoUrl": "https://lh3.googleusercontent.com/a/default-user=s128",
      "userId": "115402777621836123714"
     },
     "user_tz": -540
    },
    "id": "2ZxpIf4aVO4B",
    "outputId": "69f3c824-7470-42df-fa96-54e8695332b2"
   },
   "outputs": [
    {
     "name": "stdout",
     "output_type": "stream",
     "text": [
      "15\n",
      "15\n"
     ]
    }
   ],
   "source": [
    "# Oops: 함수 바깥에서 생성된 변수가 함수 안에서 사용할 수 있음(매우 주의 필요)\n",
    "x = 5\n",
    "def addx(y):\n",
    "    return x+y\n",
    "print(addx(10))\n",
    "\n",
    "# 아래와 같은 프로그래밍이 바람직함\n",
    "x = 5\n",
    "def addx(x, y):\n",
    "    return x+y\n",
    "print(addx(x, 10))"
   ]
  },
  {
   "cell_type": "markdown",
   "metadata": {
    "colab_type": "text",
    "id": "zZREsP_7VO4B"
   },
   "source": [
    "![Oops](https://drive.google.com/uc?id=16Ovcj8GiG0VYMPzG0Vc0W3cAiDNmOw_Z)"
   ]
  },
  {
   "cell_type": "code",
   "execution_count": 106,
   "metadata": {
    "colab": {
     "base_uri": "https://localhost:8080/",
     "height": 52
    },
    "colab_type": "code",
    "executionInfo": {
     "elapsed": 691,
     "status": "ok",
     "timestamp": 1536907161201,
     "user": {
      "displayName": "swkim김승환",
      "photoUrl": "https://lh3.googleusercontent.com/a/default-user=s128",
      "userId": "115402777621836123714"
     },
     "user_tz": -540
    },
    "id": "5yOJ1T0iVO4C",
    "outputId": "00c57b03-43ec-4b08-dfb7-b7c2f52393ce"
   },
   "outputs": [
    {
     "name": "stdout",
     "output_type": "stream",
     "text": [
      "x is 10\n"
     ]
    },
    {
     "data": {
      "text/plain": [
       "5"
      ]
     },
     "execution_count": 106,
     "metadata": {},
     "output_type": "execute_result"
    }
   ],
   "source": [
    "#del x\n",
    "def setx(y):\n",
    "    x = y\n",
    "    print('x is %d' % x)\n",
    "setx(10)\n",
    "x"
   ]
  },
  {
   "cell_type": "code",
   "execution_count": 107,
   "metadata": {
    "colab": {},
    "colab_type": "code",
    "id": "Zx00weOOVO4D",
    "outputId": "5638c97e-97f0-41eb-f924-fcf8847c1dab"
   },
   "outputs": [
    {
     "name": "stdout",
     "output_type": "stream",
     "text": [
      "x is 10\n"
     ]
    },
    {
     "data": {
      "text/plain": [
       "10"
      ]
     },
     "execution_count": 107,
     "metadata": {},
     "output_type": "execute_result"
    }
   ],
   "source": [
    "def setx(y):\n",
    "    global x\n",
    "    x = y\n",
    "    print('x is %d' % x)\n",
    "setx(10)\n",
    "x"
   ]
  },
  {
   "cell_type": "markdown",
   "metadata": {},
   "source": [
    "### <font color='blue'> import </font>  "
   ]
  },
  {
   "cell_type": "code",
   "execution_count": 108,
   "metadata": {
    "colab": {
     "base_uri": "https://localhost:8080/",
     "height": 174
    },
    "colab_type": "code",
    "executionInfo": {
     "elapsed": 678,
     "status": "ok",
     "timestamp": 1536907586464,
     "user": {
      "displayName": "swkim김승환",
      "photoUrl": "https://lh3.googleusercontent.com/a/default-user=s128",
      "userId": "115402777621836123714"
     },
     "user_tz": -540
    },
    "id": "mBQKNwS9VO4H",
    "outputId": "a5172ae4-1024-4479-8144-b51a23f4df25"
   },
   "outputs": [
    {
     "ename": "NameError",
     "evalue": "name 'sqrt' is not defined",
     "output_type": "error",
     "traceback": [
      "\u001b[1;31m---------------------------------------------------------------------------\u001b[0m",
      "\u001b[1;31mNameError\u001b[0m                                 Traceback (most recent call last)",
      "\u001b[1;32m<ipython-input-108-bfd34a41e075>\u001b[0m in \u001b[0;36m<module>\u001b[1;34m\u001b[0m\n\u001b[1;32m----> 1\u001b[1;33m \u001b[0mprint\u001b[0m\u001b[1;33m(\u001b[0m\u001b[0msqrt\u001b[0m\u001b[1;33m(\u001b[0m\u001b[1;36m3\u001b[0m\u001b[1;33m)\u001b[0m\u001b[1;33m)\u001b[0m\u001b[1;33m\u001b[0m\u001b[1;33m\u001b[0m\u001b[0m\n\u001b[0m",
      "\u001b[1;31mNameError\u001b[0m: name 'sqrt' is not defined"
     ]
    }
   ],
   "source": [
    "print(sqrt(3))"
   ]
  },
  {
   "cell_type": "code",
   "execution_count": 109,
   "metadata": {},
   "outputs": [
    {
     "name": "stdout",
     "output_type": "stream",
     "text": [
      "1.7320508075688772\n"
     ]
    }
   ],
   "source": [
    "import math\n",
    "print(math.sqrt(3))"
   ]
  },
  {
   "cell_type": "markdown",
   "metadata": {
    "colab_type": "text",
    "id": "-0oW9CugVO4M"
   },
   "source": [
    "### <font color='blue'> file I/O </font>  "
   ]
  },
  {
   "cell_type": "code",
   "execution_count": 110,
   "metadata": {
    "colab": {},
    "colab_type": "code",
    "id": "UYq63-W-VO4M"
   },
   "outputs": [],
   "source": [
    "f = open('workfile', 'w') # opens the workfile file\n",
    "type(f)\n",
    "f.write('This is a test \\nand another test')\n",
    "f.close()"
   ]
  },
  {
   "cell_type": "code",
   "execution_count": 1,
   "metadata": {
    "colab": {
     "base_uri": "https://localhost:8080/",
     "height": 34
    },
    "colab_type": "code",
    "executionInfo": {
     "elapsed": 2222,
     "status": "ok",
     "timestamp": 1557907418990,
     "user": {
      "displayName": "swkim김승환",
      "photoUrl": "",
      "userId": "01255046753553274360"
     },
     "user_tz": -540
    },
    "id": "apagwx59VO4O",
    "outputId": "8c89c460-f523-42a8-d673-9adc5c79aa63"
   },
   "outputs": [
    {
     "name": "stdout",
     "output_type": "stream",
     "text": [
      " D 드라이브의 볼륨: 새 볼륨\n",
      " 볼륨 일련 번호: B495-402B\n",
      "\n",
      " d:\\NaverCloud\\Lecture\\통계교육원\\파이썬통계 디렉터리\n",
      "\n",
      "2020-07-01  오후 09:42    <DIR>          .\n",
      "2020-07-01  오후 09:42    <DIR>          ..\n",
      "2020-07-01  오후 09:37    <DIR>          .ipynb_checkpoints\n",
      "2020-06-29  오후 04:46            81,023 0_python_basic.ipynb\n",
      "2020-06-09  오후 03:29            37,888 1. 맞춤형 육군본부 파이썬 통계분석 과정 운영계획(인하대_검토).hwp\n",
      "2019-06-12  오전 07:11            54,244 1_Numpy.ipynb\n",
      "2020-06-09  오후 03:14           135,680 2020년 제1기 파이썬 통계분석 과정 교육 안내.hwp\n",
      "2020-06-09  오후 03:14            66,560 2020년 제2기 파이썬 통계분석 과정 운영 계획.hwp\n",
      "2019-06-12  오전 07:11            17,017 2_Pandas.ipynb\n",
      "2019-06-12  오전 07:13            12,286 3_preprocess.ipynb\n",
      "2020-06-30  오후 11:26            40,229 4_회귀분석.ipynb\n",
      "2020-06-30  오후 08:09           333,974 5_의사결정나무.ipynb\n",
      "2020-07-01  오후 09:42    <DIR>          data\n",
      "2020-06-30  오후 08:16            68,405 Galton.jpg\n",
      "2020-06-30  오후 09:21            34,993 least_square.png\n",
      "2020-06-30  오후 09:23            30,293 least_square1.png\n",
      "2020-06-30  오후 10:07            30,357 multipleReg1.png\n",
      "2020-06-30  오후 10:07            13,024 multipleReg2.png\n",
      "2020-06-30  오후 09:31             7,967 notation1.png\n",
      "2020-06-30  오후 09:22            10,520 notation2.png\n",
      "2020-07-01  오후 09:39               555 Untitled.ipynb\n",
      "              17개 파일             975,015 바이트\n",
      "               4개 디렉터리  131,171,000,320 바이트 남음\n"
     ]
    }
   ],
   "source": [
    "!dir"
   ]
  },
  {
   "cell_type": "code",
   "execution_count": 112,
   "metadata": {
    "colab": {
     "base_uri": "https://localhost:8080/",
     "height": 52
    },
    "colab_type": "code",
    "executionInfo": {
     "elapsed": 2289,
     "status": "ok",
     "timestamp": 1557907427806,
     "user": {
      "displayName": "swkim김승환",
      "photoUrl": "",
      "userId": "01255046753553274360"
     },
     "user_tz": -540
    },
    "id": "evXGhSf4VO4P",
    "outputId": "bdf160a9-c2b0-41cd-d88f-bb35fb3bd283"
   },
   "outputs": [
    {
     "name": "stdout",
     "output_type": "stream",
     "text": [
      "This is a test \n",
      "and another test\n"
     ]
    }
   ],
   "source": [
    "!type workfile"
   ]
  },
  {
   "cell_type": "code",
   "execution_count": 113,
   "metadata": {
    "colab": {
     "base_uri": "https://localhost:8080/",
     "height": 69
    },
    "colab_type": "code",
    "executionInfo": {
     "elapsed": 718,
     "status": "ok",
     "timestamp": 1536907983986,
     "user": {
      "displayName": "swkim김승환",
      "photoUrl": "https://lh3.googleusercontent.com/a/default-user=s128",
      "userId": "115402777621836123714"
     },
     "user_tz": -540
    },
    "id": "HHBKBk6hVO4Q",
    "outputId": "3dfeb74c-a125-45ea-fadb-d98a53d38a76"
   },
   "outputs": [
    {
     "name": "stdout",
     "output_type": "stream",
     "text": [
      "This is a test \n",
      "\n",
      "and another test\n"
     ]
    }
   ],
   "source": [
    "f = open('workfile','r')\n",
    "for line in f:\n",
    "    print (line)\n",
    "f.close()"
   ]
  },
  {
   "cell_type": "code",
   "execution_count": 114,
   "metadata": {
    "colab": {
     "base_uri": "https://localhost:8080/",
     "height": 34
    },
    "colab_type": "code",
    "executionInfo": {
     "elapsed": 2135,
     "status": "ok",
     "timestamp": 1536908036378,
     "user": {
      "displayName": "swkim김승환",
      "photoUrl": "https://lh3.googleusercontent.com/a/default-user=s128",
      "userId": "115402777621836123714"
     },
     "user_tz": -540
    },
    "id": "WSYRk8MGVO4R",
    "outputId": "96d76b90-7b1d-480f-b908-aa161f7abb2e"
   },
   "outputs": [
    {
     "name": "stdout",
     "output_type": "stream",
     "text": [
      " D 드라이브의 볼륨: SSD\n",
      " 볼륨 일련 번호: 26D2-B071\n",
      "\n",
      " d:\\NaverCloud\\lecture\\KBCard 디렉터리\n",
      "\n",
      "2019-05-21  오후 03:31    <DIR>          .\n",
      "2019-05-21  오후 03:31    <DIR>          ..\n",
      "2019-05-21  오후 02:59    <DIR>          .ipynb_checkpoints\n",
      "2019-05-21  오후 03:31            65,227 0_python_basic-.학습자.ipynb\n",
      "2019-05-21  오후 02:41            53,616 1_Numpy-학습자.ipynb\n",
      "2019-05-19  오후 12:18            15,740 2_Pandas-학습자.ipynb\n",
      "2019-05-21  오후 03:27           134,638 3_preprocess-학습자.ipynb\n",
      "2019-05-21  오후 03:29    <DIR>          data\n",
      "2019-05-19  오전 11:45               780 df.pkl\n",
      "2019-05-21  오후 02:19    <DIR>          image\n",
      "2019-05-19  오후 12:21        78,677,606 KBCard_조교용.zip\n",
      "2019-05-19  오후 12:22        78,185,150 KBCard_학습자.zip\n",
      "2019-05-21  오후 03:32                22 test.pkl\n",
      "2019-05-21  오후 03:32                33 workfile\n",
      "               9개 파일         157,132,812 바이트\n",
      "               5개 디렉터리  295,693,565,952 바이트 남음\n"
     ]
    }
   ],
   "source": [
    "# pickle : object I/O\n",
    "import pickle\n",
    "a = [1, None, 'stan']\n",
    "pickle.dump(a, open('test.pkl','wb'))\n",
    "!dir"
   ]
  },
  {
   "cell_type": "code",
   "execution_count": 115,
   "metadata": {
    "colab": {
     "base_uri": "https://localhost:8080/",
     "height": 955
    },
    "colab_type": "code",
    "executionInfo": {
     "elapsed": 1865,
     "status": "error",
     "timestamp": 1536908044827,
     "user": {
      "displayName": "swkim김승환",
      "photoUrl": "https://lh3.googleusercontent.com/a/default-user=s128",
      "userId": "115402777621836123714"
     },
     "user_tz": -540
    },
    "id": "jHxZvzxsVO4S",
    "outputId": "a73d9fa8-f1e0-45f2-cb83-c29617de75d8"
   },
   "outputs": [
    {
     "name": "stdout",
     "output_type": "stream",
     "text": [
      "�\u0003]q\u0000(K\u0001NX\u0004\u0000\u0000\u0000stanq\u0001e.\n"
     ]
    }
   ],
   "source": [
    "!type test.pkl"
   ]
  },
  {
   "cell_type": "code",
   "execution_count": 116,
   "metadata": {
    "colab": {},
    "colab_type": "code",
    "id": "-4UO1utxVO4T"
   },
   "outputs": [],
   "source": [
    "del a"
   ]
  },
  {
   "cell_type": "code",
   "execution_count": 117,
   "metadata": {
    "colab": {
     "base_uri": "https://localhost:8080/",
     "height": 168
    },
    "colab_type": "code",
    "executionInfo": {
     "elapsed": 689,
     "status": "error",
     "timestamp": 1536908077303,
     "user": {
      "displayName": "swkim김승환",
      "photoUrl": "https://lh3.googleusercontent.com/a/default-user=s128",
      "userId": "115402777621836123714"
     },
     "user_tz": -540
    },
    "id": "RnG6PrfHVO4V",
    "outputId": "c29e5ade-ee2b-4a6c-feb2-200f8186ed4b"
   },
   "outputs": [
    {
     "ename": "NameError",
     "evalue": "name 'a' is not defined",
     "output_type": "error",
     "traceback": [
      "\u001b[1;31m---------------------------------------------------------------------------\u001b[0m",
      "\u001b[1;31mNameError\u001b[0m                                 Traceback (most recent call last)",
      "\u001b[1;32m<ipython-input-117-3f786850e387>\u001b[0m in \u001b[0;36m<module>\u001b[1;34m\u001b[0m\n\u001b[1;32m----> 1\u001b[1;33m \u001b[0ma\u001b[0m\u001b[1;33m\u001b[0m\u001b[1;33m\u001b[0m\u001b[0m\n\u001b[0m",
      "\u001b[1;31mNameError\u001b[0m: name 'a' is not defined"
     ]
    }
   ],
   "source": [
    "a"
   ]
  },
  {
   "cell_type": "code",
   "execution_count": 118,
   "metadata": {
    "colab": {},
    "colab_type": "code",
    "id": "xOcMufgPVO4X"
   },
   "outputs": [],
   "source": [
    "a = pickle.load(open(\"test.pkl\", \"rb\"))"
   ]
  },
  {
   "cell_type": "code",
   "execution_count": 119,
   "metadata": {
    "colab": {
     "base_uri": "https://localhost:8080/",
     "height": 34
    },
    "colab_type": "code",
    "executionInfo": {
     "elapsed": 670,
     "status": "ok",
     "timestamp": 1536908095835,
     "user": {
      "displayName": "swkim김승환",
      "photoUrl": "https://lh3.googleusercontent.com/a/default-user=s128",
      "userId": "115402777621836123714"
     },
     "user_tz": -540
    },
    "id": "sd9jqPh6VO4Y",
    "outputId": "55328a03-c10b-423e-932f-7ff1a984b0cf"
   },
   "outputs": [
    {
     "data": {
      "text/plain": [
       "[1, None, 'stan']"
      ]
     },
     "execution_count": 119,
     "metadata": {},
     "output_type": "execute_result"
    }
   ],
   "source": [
    "a"
   ]
  },
  {
   "cell_type": "markdown",
   "metadata": {},
   "source": [
    "### <font color='blue'> CSV 파일 읽기 </font>  "
   ]
  },
  {
   "cell_type": "code",
   "execution_count": 3,
   "metadata": {},
   "outputs": [
    {
     "name": "stdout",
     "output_type": "stream",
     "text": [
      "['a47d27ef46aaf9d211e331a25cbabae71f1b62a1cb4bfe8ac438a2a1211e28c0', '2', '29']\n",
      "['b33f989c5e129d6180bfaf19ad57d5bada37334c27af268ca4e465eaed1a6924', '1', '23']\n",
      "['4547a8c4d5212482506c5cbb1d3dcf364657803588e5edd6b15372ecb84d4648', '2', '53']\n",
      "['0d897fd33b2dab36a401a95feb1bc3ab5252408bba7dfd4387657b5ad8197112', '1', '47']\n",
      "['da9e2820fd551f123f8c778ede371da02b806b8e1b0a901629aeadd05ba4e1ef', '1', '32']\n",
      "['e4041057d4f3b4fe28ac7fa037bd88477e3cb642512c8f00512d6229cd37cf83', '2', '30']\n",
      "['08a3bd28e475b0e3edc46aef95c521e8e6502ae6bab3e48d710e08f990f82ca5', '1', '45']\n",
      "['75beba997f5bb1f35758b20b9e930bb4883f1b4173f5d75c62aeebf56edc728d', '2', '17']\n",
      "['33ce881b07030a7940b1b6e9577bc42eec0854952b3a767670a99fb28a07c019', '1', '40']\n",
      "['51baae5dc9825871ea42c709445578299bd21759ca2418cba37adf275b716e48', '1', '31']\n"
     ]
    }
   ],
   "source": [
    "import csv\n",
    "dirName = 'D:/NaverCloud/Lecture/통계교육원/파이썬통계/data/'\n",
    "\n",
    "f = open(dirName+'Demo.csv', 'r')\n",
    "\n",
    "i = 0\n",
    "for line in csv.reader(f):\n",
    "    if i < 10:\n",
    "        print(line)\n",
    "    i += 1\n",
    "\n",
    "f.close()\n"
   ]
  },
  {
   "cell_type": "code",
   "execution_count": 4,
   "metadata": {},
   "outputs": [
    {
     "name": "stdout",
     "output_type": "stream",
     "text": [
      "34.11380272216507\n"
     ]
    }
   ],
   "source": [
    "ages = []\n",
    "f = open(dirName+'Demo.csv', 'r')\n",
    "for line in csv.reader(f):\n",
    "    ages.append(int(line[2]))\n",
    "\n",
    "print(sum(ages) / len(ages))\n",
    "f.close()\n"
   ]
  },
  {
   "cell_type": "code",
   "execution_count": 5,
   "metadata": {},
   "outputs": [
    {
     "name": "stdout",
     "output_type": "stream",
     "text": [
      "101096\n"
     ]
    }
   ],
   "source": [
    "# 고객수 구하기\n",
    "\n",
    "custID = []\n",
    "f = open(dirName+'Demo.csv', 'r')\n",
    "for line in csv.reader(f):\n",
    "    custID.append(line[0])\n",
    "print(len(custID))\n",
    "\n",
    "f.close()"
   ]
  },
  {
   "cell_type": "markdown",
   "metadata": {},
   "source": [
    "### <font color='red'> 실습 #7:  20, 30, 40, 50, 60 대 이상 비율 구하기 </font> "
   ]
  },
  {
   "cell_type": "code",
   "execution_count": 6,
   "metadata": {},
   "outputs": [
    {
     "name": "stdout",
     "output_type": "stream",
     "text": [
      "37684 33142 21233 7416 1621\n"
     ]
    }
   ],
   "source": [
    "f = open(dirName+'Demo.csv', 'r')\n",
    "\n",
    "f20 = 0\n",
    "f30 = 0\n",
    "f40 = 0\n",
    "f50 = 0\n",
    "f60 = 0\n",
    "\n",
    "for line in csv.reader(f):\n",
    "    if int(line[2]) < 30:\n",
    "        f20 += 1\n",
    "    elif int(line[2]) < 40:\n",
    "        f30 += 1\n",
    "    elif int(line[2]) < 50:\n",
    "        f40 += 1\n",
    "    elif int(line[2]) < 60:\n",
    "        f50 += 1\n",
    "    elif int(line[2]) >= 60:\n",
    "        f60 += 1\n",
    "        \n",
    "print(f20,f30, f40, f50, f60)\n"
   ]
  },
  {
   "cell_type": "markdown",
   "metadata": {
    "colab_type": "text",
    "id": "HkmAzjvpVO4f"
   },
   "source": [
    "### <font color='blue'> <div style=\"text-align: center\">End of Chapter </font>  "
   ]
  }
 ],
 "metadata": {
  "colab": {
   "collapsed_sections": [],
   "name": "comStat0(python).ipynb",
   "provenance": [],
   "version": "0.3.2"
  },
  "kernelspec": {
   "display_name": "Python 3",
   "language": "python",
   "name": "python3"
  },
  "language_info": {
   "codemirror_mode": {
    "name": "ipython",
    "version": 3
   },
   "file_extension": ".py",
   "mimetype": "text/x-python",
   "name": "python",
   "nbconvert_exporter": "python",
   "pygments_lexer": "ipython3",
   "version": "3.7.3"
  }
 },
 "nbformat": 4,
 "nbformat_minor": 1
}
