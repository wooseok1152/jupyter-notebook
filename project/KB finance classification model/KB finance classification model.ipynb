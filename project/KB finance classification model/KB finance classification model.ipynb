{
 "cells": [
  {
   "cell_type": "code",
   "execution_count": 16,
   "metadata": {},
   "outputs": [],
   "source": [
    "# 각 모델에 들어갈 데이터 불러오기\n",
    "import os\n",
    "\n",
    "trainData_directory = os.listdir(\"./trainData\")\n",
    "\n",
    "x_train_data_for_machine_0 = np.load(\"./trainData/trainDataForMachine_0_trainX.npy\")\n",
    "y_train_data_for_machine_0 = np.load(\"./trainData/trainDataForMachine_0_trainY.npy\")\n",
    "\n",
    "x_train_data_for_machine_1 = np.load(\"./trainData/trainDataForMachine_1_trainX.npy\")\n",
    "y_train_data_for_machine_1 = np.load(\"./trainData/trainDataForMachine_1_trainY.npy\")\n",
    "\n",
    "x_train_data_for_machine_2 = np.load(\"./trainData/trainDataForMachine_2_trainX.npy\")\n",
    "y_train_data_for_machine_2 = np.load(\"./trainData/trainDataForMachine_2_trainY.npy\")\n",
    "\n",
    "x_train_data_for_machine_3 = np.load(\"./trainData/trainDataForMachine_3_trainX.npy\")\n",
    "y_train_data_for_machine_3 = np.load(\"./trainData/trainDataForMachine_3_trainY.npy\")\n",
    "\n",
    "x_train_data_for_machine_4 = np.load(\"./trainData/trainDataForMachine_4_trainX.npy\")\n",
    "y_train_data_for_machine_4 = np.load(\"./trainData/trainDataForMachine_4_trainY.npy\")\n",
    "\n",
    "x_train_data_for_machine_5 = np.load(\"./trainData/trainDataForMachine_5_trainX.npy\")\n",
    "y_train_data_for_machine_5 = np.load(\"./trainData/trainDataForMachine_5_trainY.npy\")\n",
    "\n",
    "x_train_data_for_machine_6 = np.load(\"./trainData/trainDataForMachine_6_trainX.npy\")\n",
    "y_train_data_for_machine_6 = np.load(\"./trainData/trainDataForMachine_6_trainY.npy\")\n",
    "\n",
    "x_train_data_for_machine_7 = np.load(\"./trainData/trainDataForMachine_7_trainX.npy\")\n",
    "y_train_data_for_machine_7 = np.load(\"./trainData/trainDataForMachine_7_trainY.npy\")\n",
    "\n",
    "x_train_data_for_machine_8 = np.load(\"./trainData/trainDataForMachine_8_trainX.npy\")\n",
    "y_train_data_for_machine_8 = np.load(\"./trainData/trainDataForMachine_8_trainY.npy\")\n",
    "\n",
    "x_train_data_for_machine_9 = np.load(\"./trainData/trainDataForMachine_9_trainX.npy\")\n",
    "y_train_data_for_machine_9 = np.load(\"./trainData/trainDataForMachine_9_trainY.npy\")\n",
    "\n",
    "x_train_data_for_machine_10 = np.load(\"./trainData/trainDataForMachine_10_trainX.npy\")\n",
    "y_train_data_for_machine_10 = np.load(\"./trainData/trainDataForMachine_10_trainY.npy\")\n",
    "\n",
    "x_train_data_for_machine_11 = np.load(\"./trainData/trainDataForMachine_11_trainX.npy\")\n",
    "y_train_data_for_machine_11 = np.load(\"./trainData/trainDataForMachine_11_trainY.npy\")\n",
    "\n",
    "x_train_data_for_machine_12 = np.load(\"./trainData/trainDataForMachine_12_trainX.npy\")\n",
    "y_train_data_for_machine_12 = np.load(\"./trainData/trainDataForMachine_12_trainY.npy\")\n",
    "\n",
    "x_train_data_for_machine_13 = np.load(\"./trainData/trainDataForMachine_13_trainX.npy\")\n",
    "y_train_data_for_machine_13 = np.load(\"./trainData/trainDataForMachine_13_trainY.npy\")\n",
    "\n",
    "x_train_data_for_machine_14 = np.load(\"./trainData/trainDataForMachine_14_trainX.npy\")\n",
    "y_train_data_for_machine_14= np.load(\"./trainData/trainDataForMachine_14_trainY.npy\")"
   ]
  },
  {
   "cell_type": "code",
   "execution_count": 20,
   "metadata": {},
   "outputs": [],
   "source": [
    "# models_data 디렉토리에 각 model에 대한 data 디렉토리 생성\n",
    "for i in range(15):\n",
    "    \n",
    "    os.mkdir(\"./models_data/model_\" + str(i) + \"_data\")"
   ]
  },
  {
   "cell_type": "code",
   "execution_count": 36,
   "metadata": {},
   "outputs": [],
   "source": [
    "# 각 models_data 디렉토리에 train, validation, test 디렉토리 생성\n",
    "models_data = os.listdir(\"./models_data\")\n",
    "\n",
    "for i in range(15):\n",
    "    \n",
    "    os.mkdir(\"./models_data/model_\" + str(i) + \"_data/train\")\n",
    "    os.mkdir(\"./models_data/model_\" + str(i) + \"_data/validation\")\n",
    "    os.mkdir(\"./models_data/model_\" + str(i) + \"_data/test\")"
   ]
  },
  {
   "cell_type": "code",
   "execution_count": 30,
   "metadata": {},
   "outputs": [
    {
     "data": {
      "text/plain": [
       "array([[ 0.06989083,  0.06092715,  0.0642939 , ...,  3.        ,\n",
       "         4.        ,  7.        ],\n",
       "       [ 0.0730357 ,  0.0588818 ,  0.06548306, ...,  0.        ,\n",
       "         6.        ,  9.        ],\n",
       "       [ 0.07772125,  0.07234752,  0.07501018, ...,  1.        ,\n",
       "         2.        ,  8.        ],\n",
       "       ...,\n",
       "       [ 0.07358396,  0.06534227,  0.07379519, ...,  2.        ,\n",
       "         2.        , 12.        ],\n",
       "       [ 0.07215327,  0.0618084 ,  0.06448681, ...,  2.        ,\n",
       "        10.        , 18.        ],\n",
       "       [ 0.07664855,  0.06588202,  0.07189421, ...,  3.        ,\n",
       "         7.        , 11.        ]])"
      ]
     },
     "execution_count": 30,
     "metadata": {},
     "output_type": "execute_result"
    }
   ],
   "source": []
  },
  {
   "cell_type": "code",
   "execution_count": null,
   "metadata": {},
   "outputs": [],
   "source": []
  }
 ],
 "metadata": {
  "kernelspec": {
   "display_name": "Python 3",
   "language": "python",
   "name": "python3"
  },
  "language_info": {
   "codemirror_mode": {
    "name": "ipython",
    "version": 3
   },
   "file_extension": ".py",
   "mimetype": "text/x-python",
   "name": "python",
   "nbconvert_exporter": "python",
   "pygments_lexer": "ipython3",
   "version": "3.7.1"
  }
 },
 "nbformat": 4,
 "nbformat_minor": 2
}
